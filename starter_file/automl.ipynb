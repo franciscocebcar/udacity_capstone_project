{
 "cells": [
  {
   "cell_type": "markdown",
   "metadata": {},
   "source": [
    "# Automated ML"
   ]
  },
  {
   "cell_type": "code",
   "execution_count": 1,
   "metadata": {},
   "outputs": [
    {
     "name": "stdout",
     "output_type": "stream",
     "text": [
      "Requirement already up-to-date: azureml-sdk[automl,explain] in /anaconda/envs/azureml_py36/lib/python3.6/site-packages (1.33.0)\n",
      "Requirement already satisfied, skipping upgrade: azureml-train~=1.33.0 in /anaconda/envs/azureml_py36/lib/python3.6/site-packages (from azureml-sdk[automl,explain]) (1.33.0)\n",
      "Requirement already satisfied, skipping upgrade: azureml-train-automl-client~=1.33.0 in /anaconda/envs/azureml_py36/lib/python3.6/site-packages (from azureml-sdk[automl,explain]) (1.33.0)\n",
      "Requirement already satisfied, skipping upgrade: azureml-dataset-runtime[fuse]~=1.33.0 in /anaconda/envs/azureml_py36/lib/python3.6/site-packages (from azureml-sdk[automl,explain]) (1.33.0)\n",
      "Requirement already satisfied, skipping upgrade: azureml-core~=1.33.0 in /anaconda/envs/azureml_py36/lib/python3.6/site-packages (from azureml-sdk[automl,explain]) (1.33.0)\n",
      "Requirement already satisfied, skipping upgrade: azureml-pipeline~=1.33.0 in /anaconda/envs/azureml_py36/lib/python3.6/site-packages (from azureml-sdk[automl,explain]) (1.33.0)\n",
      "Requirement already satisfied, skipping upgrade: azureml-train-automl~=1.33.0; extra == \"automl\" in /anaconda/envs/azureml_py36/lib/python3.6/site-packages (from azureml-sdk[automl,explain]) (1.33.0)\n",
      "Requirement already satisfied, skipping upgrade: azureml-explain-model~=1.33.0; extra == \"explain\" in /anaconda/envs/azureml_py36/lib/python3.6/site-packages (from azureml-sdk[automl,explain]) (1.33.0)\n",
      "Requirement already satisfied, skipping upgrade: azureml-train-core~=1.33.0 in /anaconda/envs/azureml_py36/lib/python3.6/site-packages (from azureml-train~=1.33.0->azureml-sdk[automl,explain]) (1.33.0)\n",
      "Requirement already satisfied, skipping upgrade: azureml-telemetry~=1.33.0 in /anaconda/envs/azureml_py36/lib/python3.6/site-packages (from azureml-train-automl-client~=1.33.0->azureml-sdk[automl,explain]) (1.33.0)\n",
      "Requirement already satisfied, skipping upgrade: azureml-automl-core~=1.33.0 in /anaconda/envs/azureml_py36/lib/python3.6/site-packages (from azureml-train-automl-client~=1.33.0->azureml-sdk[automl,explain]) (1.33.0)\n",
      "Requirement already satisfied, skipping upgrade: numpy!=1.19.3; sys_platform == \"linux\" in /anaconda/envs/azureml_py36/lib/python3.6/site-packages (from azureml-dataset-runtime[fuse]~=1.33.0->azureml-sdk[automl,explain]) (1.18.5)\n",
      "Requirement already satisfied, skipping upgrade: azureml-dataprep<2.21.0a,>=2.20.0a in /anaconda/envs/azureml_py36/lib/python3.6/site-packages (from azureml-dataset-runtime[fuse]~=1.33.0->azureml-sdk[automl,explain]) (2.20.1)\n",
      "Requirement already satisfied, skipping upgrade: pyarrow<4.0.0,>=0.17.0 in /anaconda/envs/azureml_py36/lib/python3.6/site-packages (from azureml-dataset-runtime[fuse]~=1.33.0->azureml-sdk[automl,explain]) (3.0.0)\n",
      "Requirement already satisfied, skipping upgrade: fusepy<4.0.0,>=3.0.1; extra == \"fuse\" in /anaconda/envs/azureml_py36/lib/python3.6/site-packages (from azureml-dataset-runtime[fuse]~=1.33.0->azureml-sdk[automl,explain]) (3.0.1)\n",
      "Requirement already satisfied, skipping upgrade: PyJWT<3.0.0 in /anaconda/envs/azureml_py36/lib/python3.6/site-packages (from azureml-core~=1.33.0->azureml-sdk[automl,explain]) (2.1.0)\n",
      "Requirement already satisfied, skipping upgrade: azure-mgmt-containerregistry>=2.0.0 in /anaconda/envs/azureml_py36/lib/python3.6/site-packages (from azureml-core~=1.33.0->azureml-sdk[automl,explain]) (8.1.0)\n",
      "Requirement already satisfied, skipping upgrade: azure-graphrbac<1.0.0,>=0.40.0 in /anaconda/envs/azureml_py36/lib/python3.6/site-packages (from azureml-core~=1.33.0->azureml-sdk[automl,explain]) (0.61.1)\n",
      "Requirement already satisfied, skipping upgrade: urllib3<=1.26.5,>=1.23 in /anaconda/envs/azureml_py36/lib/python3.6/site-packages (from azureml-core~=1.33.0->azureml-sdk[automl,explain]) (1.25.11)\n",
      "Requirement already satisfied, skipping upgrade: ruamel.yaml<0.17.5,>=0.15.35 in /anaconda/envs/azureml_py36/lib/python3.6/site-packages (from azureml-core~=1.33.0->azureml-sdk[automl,explain]) (0.17.4)\n",
      "Requirement already satisfied, skipping upgrade: docker<5.0.0 in /anaconda/envs/azureml_py36/lib/python3.6/site-packages (from azureml-core~=1.33.0->azureml-sdk[automl,explain]) (4.4.4)\n",
      "Requirement already satisfied, skipping upgrade: jmespath<1.0.0 in /anaconda/envs/azureml_py36/lib/python3.6/site-packages (from azureml-core~=1.33.0->azureml-sdk[automl,explain]) (0.10.0)\n",
      "Requirement already satisfied, skipping upgrade: azure-mgmt-authorization<1.0.0,>=0.40.0 in /anaconda/envs/azureml_py36/lib/python3.6/site-packages (from azureml-core~=1.33.0->azureml-sdk[automl,explain]) (0.61.0)\n",
      "Requirement already satisfied, skipping upgrade: requests<3.0.0,>=2.19.1 in /anaconda/envs/azureml_py36/lib/python3.6/site-packages (from azureml-core~=1.33.0->azureml-sdk[automl,explain]) (2.26.0)\n",
      "Requirement already satisfied, skipping upgrade: azure-mgmt-resource<15.0.0,>=1.2.1 in /anaconda/envs/azureml_py36/lib/python3.6/site-packages (from azureml-core~=1.33.0->azureml-sdk[automl,explain]) (13.0.0)\n",
      "Requirement already satisfied, skipping upgrade: msrest<1.0.0,>=0.5.1 in /anaconda/envs/azureml_py36/lib/python3.6/site-packages (from azureml-core~=1.33.0->azureml-sdk[automl,explain]) (0.6.21)\n",
      "Requirement already satisfied, skipping upgrade: adal<=1.2.7,>=1.2.0 in /anaconda/envs/azureml_py36/lib/python3.6/site-packages (from azureml-core~=1.33.0->azureml-sdk[automl,explain]) (1.2.7)\n",
      "Requirement already satisfied, skipping upgrade: azure-mgmt-storage<16.0.0,>=1.5.0 in /anaconda/envs/azureml_py36/lib/python3.6/site-packages (from azureml-core~=1.33.0->azureml-sdk[automl,explain]) (11.2.0)\n",
      "Requirement already satisfied, skipping upgrade: msrestazure<=0.6.4,>=0.4.33 in /anaconda/envs/azureml_py36/lib/python3.6/site-packages (from azureml-core~=1.33.0->azureml-sdk[automl,explain]) (0.6.4)\n",
      "Requirement already satisfied, skipping upgrade: backports.tempfile in /anaconda/envs/azureml_py36/lib/python3.6/site-packages (from azureml-core~=1.33.0->azureml-sdk[automl,explain]) (1.0)\n",
      "Requirement already satisfied, skipping upgrade: SecretStorage<4.0.0 in /anaconda/envs/azureml_py36/lib/python3.6/site-packages (from azureml-core~=1.33.0->azureml-sdk[automl,explain]) (3.3.1)\n",
      "Requirement already satisfied, skipping upgrade: ndg-httpsclient<=0.5.1 in /anaconda/envs/azureml_py36/lib/python3.6/site-packages (from azureml-core~=1.33.0->azureml-sdk[automl,explain]) (0.5.1)\n",
      "Requirement already satisfied, skipping upgrade: cryptography!=1.9,!=2.0.*,!=2.1.*,!=2.2.*,<4.0.0 in /anaconda/envs/azureml_py36/lib/python3.6/site-packages (from azureml-core~=1.33.0->azureml-sdk[automl,explain]) (3.4.7)\n",
      "Requirement already satisfied, skipping upgrade: azure-common<2.0.0,>=1.1.12 in /anaconda/envs/azureml_py36/lib/python3.6/site-packages (from azureml-core~=1.33.0->azureml-sdk[automl,explain]) (1.1.27)\n",
      "Requirement already satisfied, skipping upgrade: azure-mgmt-keyvault<10.0.0,>=0.40.0 in /anaconda/envs/azureml_py36/lib/python3.6/site-packages (from azureml-core~=1.33.0->azureml-sdk[automl,explain]) (9.0.0)\n",
      "Requirement already satisfied, skipping upgrade: pathspec<1.0.0 in /anaconda/envs/azureml_py36/lib/python3.6/site-packages (from azureml-core~=1.33.0->azureml-sdk[automl,explain]) (0.9.0)\n",
      "Requirement already satisfied, skipping upgrade: contextlib2<1.0.0 in /anaconda/envs/azureml_py36/lib/python3.6/site-packages (from azureml-core~=1.33.0->azureml-sdk[automl,explain]) (0.6.0.post1)\n",
      "Requirement already satisfied, skipping upgrade: pyopenssl<21.0.0 in /anaconda/envs/azureml_py36/lib/python3.6/site-packages (from azureml-core~=1.33.0->azureml-sdk[automl,explain]) (20.0.1)\n",
      "Requirement already satisfied, skipping upgrade: pytz in /anaconda/envs/azureml_py36/lib/python3.6/site-packages (from azureml-core~=1.33.0->azureml-sdk[automl,explain]) (2021.1)\n",
      "Requirement already satisfied, skipping upgrade: python-dateutil<3.0.0,>=2.7.3 in /anaconda/envs/azureml_py36/lib/python3.6/site-packages (from azureml-core~=1.33.0->azureml-sdk[automl,explain]) (2.8.2)\n",
      "Requirement already satisfied, skipping upgrade: jsonpickle<3.0.0 in /anaconda/envs/azureml_py36/lib/python3.6/site-packages (from azureml-core~=1.33.0->azureml-sdk[automl,explain]) (2.0.0)\n",
      "Requirement already satisfied, skipping upgrade: azureml-pipeline-core~=1.33.0 in /anaconda/envs/azureml_py36/lib/python3.6/site-packages (from azureml-pipeline~=1.33.0->azureml-sdk[automl,explain]) (1.33.0)\n",
      "Requirement already satisfied, skipping upgrade: azureml-pipeline-steps~=1.33.0 in /anaconda/envs/azureml_py36/lib/python3.6/site-packages (from azureml-pipeline~=1.33.0->azureml-sdk[automl,explain]) (1.33.0)\n",
      "Requirement already satisfied, skipping upgrade: azureml-automl-runtime~=1.33.0 in /anaconda/envs/azureml_py36/lib/python3.6/site-packages (from azureml-train-automl~=1.33.0; extra == \"automl\"->azureml-sdk[automl,explain]) (1.33.0)\n",
      "Requirement already satisfied, skipping upgrade: azureml-train-automl-runtime~=1.33.0 in /anaconda/envs/azureml_py36/lib/python3.6/site-packages (from azureml-train-automl~=1.33.0; extra == \"automl\"->azureml-sdk[automl,explain]) (1.33.0)\n",
      "Requirement already satisfied, skipping upgrade: azureml-interpret~=1.33.0 in /anaconda/envs/azureml_py36/lib/python3.6/site-packages (from azureml-explain-model~=1.33.0; extra == \"explain\"->azureml-sdk[automl,explain]) (1.33.0)\n",
      "Requirement already satisfied, skipping upgrade: azureml-train-restclients-hyperdrive~=1.33.0 in /anaconda/envs/azureml_py36/lib/python3.6/site-packages (from azureml-train-core~=1.33.0->azureml-train~=1.33.0->azureml-sdk[automl,explain]) (1.33.0)\n",
      "Requirement already satisfied, skipping upgrade: applicationinsights in /anaconda/envs/azureml_py36/lib/python3.6/site-packages (from azureml-telemetry~=1.33.0->azureml-train-automl-client~=1.33.0->azureml-sdk[automl,explain]) (0.11.10)\n",
      "Requirement already satisfied, skipping upgrade: dotnetcore2<3.0.0,>=2.1.14 in /anaconda/envs/azureml_py36/lib/python3.6/site-packages (from azureml-dataprep<2.21.0a,>=2.20.0a->azureml-dataset-runtime[fuse]~=1.33.0->azureml-sdk[automl,explain]) (2.1.21)\n",
      "Requirement already satisfied, skipping upgrade: azureml-dataprep-rslex<1.19.0a,>=1.18.0dev0 in /anaconda/envs/azureml_py36/lib/python3.6/site-packages (from azureml-dataprep<2.21.0a,>=2.20.0a->azureml-dataset-runtime[fuse]~=1.33.0->azureml-sdk[automl,explain]) (1.18.0)\n",
      "Requirement already satisfied, skipping upgrade: azureml-dataprep-native<39.0.0,>=38.0.0 in /anaconda/envs/azureml_py36/lib/python3.6/site-packages (from azureml-dataprep<2.21.0a,>=2.20.0a->azureml-dataset-runtime[fuse]~=1.33.0->azureml-sdk[automl,explain]) (38.0.0)\n",
      "Requirement already satisfied, skipping upgrade: cloudpickle<2.0.0,>=1.1.0 in /anaconda/envs/azureml_py36/lib/python3.6/site-packages (from azureml-dataprep<2.21.0a,>=2.20.0a->azureml-dataset-runtime[fuse]~=1.33.0->azureml-sdk[automl,explain]) (1.6.0)\n",
      "Requirement already satisfied, skipping upgrade: azure-identity<1.5.0,>=1.2.0 in /anaconda/envs/azureml_py36/lib/python3.6/site-packages (from azureml-dataprep<2.21.0a,>=2.20.0a->azureml-dataset-runtime[fuse]~=1.33.0->azureml-sdk[automl,explain]) (1.4.1)\n",
      "Requirement already satisfied, skipping upgrade: azure-mgmt-core<2.0.0,>=1.2.0 in /anaconda/envs/azureml_py36/lib/python3.6/site-packages (from azure-mgmt-containerregistry>=2.0.0->azureml-core~=1.33.0->azureml-sdk[automl,explain]) (1.3.0)\n",
      "Requirement already satisfied, skipping upgrade: ruamel.yaml.clib>=0.1.2; platform_python_implementation == \"CPython\" and python_version < \"3.10\" in /anaconda/envs/azureml_py36/lib/python3.6/site-packages (from ruamel.yaml<0.17.5,>=0.15.35->azureml-core~=1.33.0->azureml-sdk[automl,explain]) (0.2.6)\n",
      "Requirement already satisfied, skipping upgrade: six>=1.4.0 in /anaconda/envs/azureml_py36/lib/python3.6/site-packages (from docker<5.0.0->azureml-core~=1.33.0->azureml-sdk[automl,explain]) (1.16.0)\n",
      "Requirement already satisfied, skipping upgrade: websocket-client>=0.32.0 in /anaconda/envs/azureml_py36/lib/python3.6/site-packages (from docker<5.0.0->azureml-core~=1.33.0->azureml-sdk[automl,explain]) (1.1.0)\n",
      "Requirement already satisfied, skipping upgrade: idna<4,>=2.5; python_version >= \"3\" in /anaconda/envs/azureml_py36/lib/python3.6/site-packages (from requests<3.0.0,>=2.19.1->azureml-core~=1.33.0->azureml-sdk[automl,explain]) (3.2)\n",
      "Requirement already satisfied, skipping upgrade: charset-normalizer~=2.0.0; python_version >= \"3\" in /anaconda/envs/azureml_py36/lib/python3.6/site-packages (from requests<3.0.0,>=2.19.1->azureml-core~=1.33.0->azureml-sdk[automl,explain]) (2.0.3)\n",
      "Requirement already satisfied, skipping upgrade: certifi>=2017.4.17 in /anaconda/envs/azureml_py36/lib/python3.6/site-packages (from requests<3.0.0,>=2.19.1->azureml-core~=1.33.0->azureml-sdk[automl,explain]) (2021.5.30)\n",
      "Requirement already satisfied, skipping upgrade: requests-oauthlib>=0.5.0 in /anaconda/envs/azureml_py36/lib/python3.6/site-packages (from msrest<1.0.0,>=0.5.1->azureml-core~=1.33.0->azureml-sdk[automl,explain]) (1.3.0)\n",
      "Requirement already satisfied, skipping upgrade: isodate>=0.6.0 in /anaconda/envs/azureml_py36/lib/python3.6/site-packages (from msrest<1.0.0,>=0.5.1->azureml-core~=1.33.0->azureml-sdk[automl,explain]) (0.6.0)\n",
      "Requirement already satisfied, skipping upgrade: backports.weakref in /anaconda/envs/azureml_py36/lib/python3.6/site-packages (from backports.tempfile->azureml-core~=1.33.0->azureml-sdk[automl,explain]) (1.0.post1)\n",
      "Requirement already satisfied, skipping upgrade: jeepney>=0.6 in /anaconda/envs/azureml_py36/lib/python3.6/site-packages (from SecretStorage<4.0.0->azureml-core~=1.33.0->azureml-sdk[automl,explain]) (0.7.1)\n",
      "Requirement already satisfied, skipping upgrade: pyasn1>=0.1.1 in /anaconda/envs/azureml_py36/lib/python3.6/site-packages (from ndg-httpsclient<=0.5.1->azureml-core~=1.33.0->azureml-sdk[automl,explain]) (0.4.8)\n",
      "Requirement already satisfied, skipping upgrade: cffi>=1.12 in /anaconda/envs/azureml_py36/lib/python3.6/site-packages (from cryptography!=1.9,!=2.0.*,!=2.1.*,!=2.2.*,<4.0.0->azureml-core~=1.33.0->azureml-sdk[automl,explain]) (1.14.6)\n",
      "Requirement already satisfied, skipping upgrade: importlib-metadata; python_version < \"3.8\" in /anaconda/envs/azureml_py36/lib/python3.6/site-packages (from jsonpickle<3.0.0->azureml-core~=1.33.0->azureml-sdk[automl,explain]) (4.6.1)\n",
      "Requirement already satisfied, skipping upgrade: boto3<=1.15.18 in /anaconda/envs/azureml_py36/lib/python3.6/site-packages (from azureml-automl-runtime~=1.33.0->azureml-train-automl~=1.33.0; extra == \"automl\"->azureml-sdk[automl,explain]) (1.15.18)\n",
      "Requirement already satisfied, skipping upgrade: dill<0.4.0,>=0.2.8 in /anaconda/envs/azureml_py36/lib/python3.6/site-packages (from azureml-automl-runtime~=1.33.0->azureml-train-automl~=1.33.0; extra == \"automl\"->azureml-sdk[automl,explain]) (0.3.4)\n",
      "Requirement already satisfied, skipping upgrade: pmdarima==1.1.1 in /anaconda/envs/azureml_py36/lib/python3.6/site-packages (from azureml-automl-runtime~=1.33.0->azureml-train-automl~=1.33.0; extra == \"automl\"->azureml-sdk[automl,explain]) (1.1.1)\n",
      "Requirement already satisfied, skipping upgrade: smart-open<=1.9.0 in /anaconda/envs/azureml_py36/lib/python3.6/site-packages (from azureml-automl-runtime~=1.33.0->azureml-train-automl~=1.33.0; extra == \"automl\"->azureml-sdk[automl,explain]) (1.9.0)\n",
      "Collecting pandas<1.0.0,>=0.21.0\n",
      "  Downloading pandas-0.25.3-cp36-cp36m-manylinux1_x86_64.whl (10.4 MB)\n",
      "\u001b[K     |████████████████████████████████| 10.4 MB 6.1 MB/s eta 0:00:01\n",
      "\u001b[?25hRequirement already satisfied, skipping upgrade: botocore<=1.18.18 in /anaconda/envs/azureml_py36/lib/python3.6/site-packages (from azureml-automl-runtime~=1.33.0->azureml-train-automl~=1.33.0; extra == \"automl\"->azureml-sdk[automl,explain]) (1.18.18)\n",
      "Requirement already satisfied, skipping upgrade: lightgbm<=2.3.0,>=2.0.11 in /anaconda/envs/azureml_py36/lib/python3.6/site-packages (from azureml-automl-runtime~=1.33.0->azureml-train-automl~=1.33.0; extra == \"automl\"->azureml-sdk[automl,explain]) (2.3.0)\n",
      "Requirement already satisfied, skipping upgrade: keras2onnx<=1.6.0,>=1.4.0 in /anaconda/envs/azureml_py36/lib/python3.6/site-packages (from azureml-automl-runtime~=1.33.0->azureml-train-automl~=1.33.0; extra == \"automl\"->azureml-sdk[automl,explain]) (1.6.0)\n",
      "Requirement already satisfied, skipping upgrade: onnxconverter-common<=1.6.0,>=1.4.2 in /anaconda/envs/azureml_py36/lib/python3.6/site-packages (from azureml-automl-runtime~=1.33.0->azureml-train-automl~=1.33.0; extra == \"automl\"->azureml-sdk[automl,explain]) (1.6.0)\n",
      "Requirement already satisfied, skipping upgrade: psutil<6.0.0,>=5.2.2 in /anaconda/envs/azureml_py36/lib/python3.6/site-packages (from azureml-automl-runtime~=1.33.0->azureml-train-automl~=1.33.0; extra == \"automl\"->azureml-sdk[automl,explain]) (5.8.0)\n",
      "Collecting scikit-learn<0.23.0,>=0.19.0\n",
      "  Downloading scikit_learn-0.22.2.post1-cp36-cp36m-manylinux1_x86_64.whl (7.1 MB)\n",
      "\u001b[K     |████████████████████████████████| 7.1 MB 49.3 MB/s eta 0:00:01\n",
      "\u001b[?25hRequirement already satisfied, skipping upgrade: scipy<=1.5.2,>=1.0.0 in /anaconda/envs/azureml_py36/lib/python3.6/site-packages (from azureml-automl-runtime~=1.33.0->azureml-train-automl~=1.33.0; extra == \"automl\"->azureml-sdk[automl,explain]) (1.5.2)\n",
      "Requirement already satisfied, skipping upgrade: nimbusml<=1.8.0,>=1.7.1 in /anaconda/envs/azureml_py36/lib/python3.6/site-packages (from azureml-automl-runtime~=1.33.0->azureml-train-automl~=1.33.0; extra == \"automl\"->azureml-sdk[automl,explain]) (1.8.0)\n",
      "Requirement already satisfied, skipping upgrade: onnxruntime<=1.8.0,>=1.3.0 in /anaconda/envs/azureml_py36/lib/python3.6/site-packages (from azureml-automl-runtime~=1.33.0->azureml-train-automl~=1.33.0; extra == \"automl\"->azureml-sdk[automl,explain]) (1.8.0)\n",
      "Requirement already satisfied, skipping upgrade: onnx<=1.7.0,>=1.6.0 in /anaconda/envs/azureml_py36/lib/python3.6/site-packages (from azureml-automl-runtime~=1.33.0->azureml-train-automl~=1.33.0; extra == \"automl\"->azureml-sdk[automl,explain]) (1.7.0)\n",
      "Requirement already satisfied, skipping upgrade: sklearn-pandas<=1.7.0,>=1.4.0 in /anaconda/envs/azureml_py36/lib/python3.6/site-packages (from azureml-automl-runtime~=1.33.0->azureml-train-automl~=1.33.0; extra == \"automl\"->azureml-sdk[automl,explain]) (1.7.0)\n",
      "Requirement already satisfied, skipping upgrade: gensim<3.9.0 in /anaconda/envs/azureml_py36/lib/python3.6/site-packages (from azureml-automl-runtime~=1.33.0->azureml-train-automl~=1.33.0; extra == \"automl\"->azureml-sdk[automl,explain]) (3.8.3)\n",
      "Requirement already satisfied, skipping upgrade: skl2onnx==1.4.9 in /anaconda/envs/azureml_py36/lib/python3.6/site-packages (from azureml-automl-runtime~=1.33.0->azureml-train-automl~=1.33.0; extra == \"automl\"->azureml-sdk[automl,explain]) (1.4.9)\n",
      "Requirement already satisfied, skipping upgrade: statsmodels<=0.10.2,>=0.9.0 in /anaconda/envs/azureml_py36/lib/python3.6/site-packages (from azureml-automl-runtime~=1.33.0->azureml-train-automl~=1.33.0; extra == \"automl\"->azureml-sdk[automl,explain]) (0.10.2)\n",
      "Requirement already satisfied, skipping upgrade: onnxmltools==1.4.1 in /anaconda/envs/azureml_py36/lib/python3.6/site-packages (from azureml-automl-runtime~=1.33.0->azureml-train-automl~=1.33.0; extra == \"automl\"->azureml-sdk[automl,explain]) (1.4.1)\n",
      "Requirement already satisfied, skipping upgrade: joblib==0.14.1 in /anaconda/envs/azureml_py36/lib/python3.6/site-packages (from azureml-automl-runtime~=1.33.0->azureml-train-automl~=1.33.0; extra == \"automl\"->azureml-sdk[automl,explain]) (0.14.1)\n",
      "Requirement already satisfied, skipping upgrade: azure-storage-queue~=12.1 in /anaconda/envs/azureml_py36/lib/python3.6/site-packages (from azureml-train-automl-runtime~=1.33.0->azureml-train-automl~=1.33.0; extra == \"automl\"->azureml-sdk[automl,explain]) (12.1.6)\n",
      "Requirement already satisfied, skipping upgrade: azureml-defaults~=1.33.0 in /anaconda/envs/azureml_py36/lib/python3.6/site-packages (from azureml-train-automl-runtime~=1.33.0->azureml-train-automl~=1.33.0; extra == \"automl\"->azureml-sdk[automl,explain]) (1.33.0)\n",
      "Requirement already satisfied, skipping upgrade: distributed<=2.30.1 in /anaconda/envs/azureml_py36/lib/python3.6/site-packages (from azureml-train-automl-runtime~=1.33.0->azureml-train-automl~=1.33.0; extra == \"automl\"->azureml-sdk[automl,explain]) (2.30.1)\n",
      "Requirement already satisfied, skipping upgrade: dask[complete]<=2.30.0 in /anaconda/envs/azureml_py36/lib/python3.6/site-packages (from azureml-train-automl-runtime~=1.33.0->azureml-train-automl~=1.33.0; extra == \"automl\"->azureml-sdk[automl,explain]) (2.30.0)\n",
      "Requirement already satisfied, skipping upgrade: jinja2<=2.11.2 in /anaconda/envs/azureml_py36/lib/python3.6/site-packages (from azureml-train-automl-runtime~=1.33.0->azureml-train-automl~=1.33.0; extra == \"automl\"->azureml-sdk[automl,explain]) (2.11.2)\n",
      "Requirement already satisfied, skipping upgrade: interpret-community==0.19.* in /anaconda/envs/azureml_py36/lib/python3.6/site-packages (from azureml-interpret~=1.33.0->azureml-explain-model~=1.33.0; extra == \"explain\"->azureml-sdk[automl,explain]) (0.19.1)\n",
      "Requirement already satisfied, skipping upgrade: distro>=1.2.0 in /anaconda/envs/azureml_py36/lib/python3.6/site-packages (from dotnetcore2<3.0.0,>=2.1.14->azureml-dataprep<2.21.0a,>=2.20.0a->azureml-dataset-runtime[fuse]~=1.33.0->azureml-sdk[automl,explain]) (1.5.0)\n",
      "Requirement already satisfied, skipping upgrade: msal-extensions~=0.2.2 in /anaconda/envs/azureml_py36/lib/python3.6/site-packages (from azure-identity<1.5.0,>=1.2.0->azureml-dataprep<2.21.0a,>=2.20.0a->azureml-dataset-runtime[fuse]~=1.33.0->azureml-sdk[automl,explain]) (0.2.2)\n",
      "Requirement already satisfied, skipping upgrade: azure-core<2.0.0,>=1.0.0 in /anaconda/envs/azureml_py36/lib/python3.6/site-packages (from azure-identity<1.5.0,>=1.2.0->azureml-dataprep<2.21.0a,>=2.20.0a->azureml-dataset-runtime[fuse]~=1.33.0->azureml-sdk[automl,explain]) (1.16.0)\n",
      "Requirement already satisfied, skipping upgrade: msal<2.0.0,>=1.3.0 in /anaconda/envs/azureml_py36/lib/python3.6/site-packages (from azure-identity<1.5.0,>=1.2.0->azureml-dataprep<2.21.0a,>=2.20.0a->azureml-dataset-runtime[fuse]~=1.33.0->azureml-sdk[automl,explain]) (1.13.0)\n",
      "Requirement already satisfied, skipping upgrade: oauthlib>=3.0.0 in /anaconda/envs/azureml_py36/lib/python3.6/site-packages (from requests-oauthlib>=0.5.0->msrest<1.0.0,>=0.5.1->azureml-core~=1.33.0->azureml-sdk[automl,explain]) (3.1.1)\n",
      "Requirement already satisfied, skipping upgrade: pycparser in /anaconda/envs/azureml_py36/lib/python3.6/site-packages (from cffi>=1.12->cryptography!=1.9,!=2.0.*,!=2.1.*,!=2.2.*,<4.0.0->azureml-core~=1.33.0->azureml-sdk[automl,explain]) (2.20)\n",
      "Requirement already satisfied, skipping upgrade: zipp>=0.5 in /anaconda/envs/azureml_py36/lib/python3.6/site-packages (from importlib-metadata; python_version < \"3.8\"->jsonpickle<3.0.0->azureml-core~=1.33.0->azureml-sdk[automl,explain]) (3.5.0)\n",
      "Requirement already satisfied, skipping upgrade: typing-extensions>=3.6.4; python_version < \"3.8\" in /anaconda/envs/azureml_py36/lib/python3.6/site-packages (from importlib-metadata; python_version < \"3.8\"->jsonpickle<3.0.0->azureml-core~=1.33.0->azureml-sdk[automl,explain]) (3.10.0.0)\n",
      "Requirement already satisfied, skipping upgrade: s3transfer<0.4.0,>=0.3.0 in /anaconda/envs/azureml_py36/lib/python3.6/site-packages (from boto3<=1.15.18->azureml-automl-runtime~=1.33.0->azureml-train-automl~=1.33.0; extra == \"automl\"->azureml-sdk[automl,explain]) (0.3.7)\n",
      "Requirement already satisfied, skipping upgrade: Cython>=0.29 in /anaconda/envs/azureml_py36/lib/python3.6/site-packages (from pmdarima==1.1.1->azureml-automl-runtime~=1.33.0->azureml-train-automl~=1.33.0; extra == \"automl\"->azureml-sdk[automl,explain]) (0.29.24)\n",
      "Requirement already satisfied, skipping upgrade: boto>=2.32 in /anaconda/envs/azureml_py36/lib/python3.6/site-packages (from smart-open<=1.9.0->azureml-automl-runtime~=1.33.0->azureml-train-automl~=1.33.0; extra == \"automl\"->azureml-sdk[automl,explain]) (2.49.0)\n",
      "Requirement already satisfied, skipping upgrade: protobuf in /anaconda/envs/azureml_py36/lib/python3.6/site-packages (from keras2onnx<=1.6.0,>=1.4.0->azureml-automl-runtime~=1.33.0->azureml-train-automl~=1.33.0; extra == \"automl\"->azureml-sdk[automl,explain]) (3.17.3)\n",
      "Requirement already satisfied, skipping upgrade: fire in /anaconda/envs/azureml_py36/lib/python3.6/site-packages (from keras2onnx<=1.6.0,>=1.4.0->azureml-automl-runtime~=1.33.0->azureml-train-automl~=1.33.0; extra == \"automl\"->azureml-sdk[automl,explain]) (0.4.0)\n",
      "Requirement already satisfied, skipping upgrade: flatbuffers in /anaconda/envs/azureml_py36/lib/python3.6/site-packages (from onnxruntime<=1.8.0,>=1.3.0->azureml-automl-runtime~=1.33.0->azureml-train-automl~=1.33.0; extra == \"automl\"->azureml-sdk[automl,explain]) (2.0)\n",
      "Requirement already satisfied, skipping upgrade: patsy>=0.4.0 in /anaconda/envs/azureml_py36/lib/python3.6/site-packages (from statsmodels<=0.10.2,>=0.9.0->azureml-automl-runtime~=1.33.0->azureml-train-automl~=1.33.0; extra == \"automl\"->azureml-sdk[automl,explain]) (0.5.1)\n",
      "Requirement already satisfied, skipping upgrade: json-logging-py==0.2 in /anaconda/envs/azureml_py36/lib/python3.6/site-packages (from azureml-defaults~=1.33.0->azureml-train-automl-runtime~=1.33.0->azureml-train-automl~=1.33.0; extra == \"automl\"->azureml-sdk[automl,explain]) (0.2)\n",
      "Requirement already satisfied, skipping upgrade: gunicorn==20.1.0 in /anaconda/envs/azureml_py36/lib/python3.6/site-packages (from azureml-defaults~=1.33.0->azureml-train-automl-runtime~=1.33.0->azureml-train-automl~=1.33.0; extra == \"automl\"->azureml-sdk[automl,explain]) (20.1.0)\n",
      "Requirement already satisfied, skipping upgrade: opencensus-ext-azure==1.0.8 in /anaconda/envs/azureml_py36/lib/python3.6/site-packages (from azureml-defaults~=1.33.0->azureml-train-automl-runtime~=1.33.0->azureml-train-automl~=1.33.0; extra == \"automl\"->azureml-sdk[automl,explain]) (1.0.8)\n",
      "Requirement already satisfied, skipping upgrade: flask==1.0.3 in /anaconda/envs/azureml_py36/lib/python3.6/site-packages (from azureml-defaults~=1.33.0->azureml-train-automl-runtime~=1.33.0->azureml-train-automl~=1.33.0; extra == \"automl\"->azureml-sdk[automl,explain]) (1.0.3)\n",
      "Requirement already satisfied, skipping upgrade: configparser==3.7.4 in /anaconda/envs/azureml_py36/lib/python3.6/site-packages (from azureml-defaults~=1.33.0->azureml-train-automl-runtime~=1.33.0->azureml-train-automl~=1.33.0; extra == \"automl\"->azureml-sdk[automl,explain]) (3.7.4)\n",
      "Requirement already satisfied, skipping upgrade: werkzeug<=1.0.1,>=0.16.1 in /anaconda/envs/azureml_py36/lib/python3.6/site-packages (from azureml-defaults~=1.33.0->azureml-train-automl-runtime~=1.33.0->azureml-train-automl~=1.33.0; extra == \"automl\"->azureml-sdk[automl,explain]) (1.0.1)\n",
      "Requirement already satisfied, skipping upgrade: pyyaml in /anaconda/envs/azureml_py36/lib/python3.6/site-packages (from distributed<=2.30.1->azureml-train-automl-runtime~=1.33.0->azureml-train-automl~=1.33.0; extra == \"automl\"->azureml-sdk[automl,explain]) (5.4.1)\n",
      "Requirement already satisfied, skipping upgrade: setuptools in /anaconda/envs/azureml_py36/lib/python3.6/site-packages (from distributed<=2.30.1->azureml-train-automl-runtime~=1.33.0->azureml-train-automl~=1.33.0; extra == \"automl\"->azureml-sdk[automl,explain]) (50.3.0)\n",
      "Requirement already satisfied, skipping upgrade: zict>=0.1.3 in /anaconda/envs/azureml_py36/lib/python3.6/site-packages (from distributed<=2.30.1->azureml-train-automl-runtime~=1.33.0->azureml-train-automl~=1.33.0; extra == \"automl\"->azureml-sdk[automl,explain]) (2.0.0)\n",
      "Requirement already satisfied, skipping upgrade: msgpack>=0.6.0 in /anaconda/envs/azureml_py36/lib/python3.6/site-packages (from distributed<=2.30.1->azureml-train-automl-runtime~=1.33.0->azureml-train-automl~=1.33.0; extra == \"automl\"->azureml-sdk[automl,explain]) (1.0.2)\n",
      "Requirement already satisfied, skipping upgrade: click>=6.6 in /anaconda/envs/azureml_py36/lib/python3.6/site-packages (from distributed<=2.30.1->azureml-train-automl-runtime~=1.33.0->azureml-train-automl~=1.33.0; extra == \"automl\"->azureml-sdk[automl,explain]) (8.0.1)\n",
      "Requirement already satisfied, skipping upgrade: contextvars; python_version < \"3.7\" in /anaconda/envs/azureml_py36/lib/python3.6/site-packages (from distributed<=2.30.1->azureml-train-automl-runtime~=1.33.0->azureml-train-automl~=1.33.0; extra == \"automl\"->azureml-sdk[automl,explain]) (2.4)\n",
      "Requirement already satisfied, skipping upgrade: sortedcontainers!=2.0.0,!=2.0.1 in /anaconda/envs/azureml_py36/lib/python3.6/site-packages (from distributed<=2.30.1->azureml-train-automl-runtime~=1.33.0->azureml-train-automl~=1.33.0; extra == \"automl\"->azureml-sdk[automl,explain]) (2.4.0)\n",
      "Requirement already satisfied, skipping upgrade: tornado>=5; python_version < \"3.8\" in /anaconda/envs/azureml_py36/lib/python3.6/site-packages (from distributed<=2.30.1->azureml-train-automl-runtime~=1.33.0->azureml-train-automl~=1.33.0; extra == \"automl\"->azureml-sdk[automl,explain]) (6.1)\n",
      "Requirement already satisfied, skipping upgrade: tblib>=1.6.0 in /anaconda/envs/azureml_py36/lib/python3.6/site-packages (from distributed<=2.30.1->azureml-train-automl-runtime~=1.33.0->azureml-train-automl~=1.33.0; extra == \"automl\"->azureml-sdk[automl,explain]) (1.7.0)\n",
      "Requirement already satisfied, skipping upgrade: toolz>=0.8.2 in /anaconda/envs/azureml_py36/lib/python3.6/site-packages (from distributed<=2.30.1->azureml-train-automl-runtime~=1.33.0->azureml-train-automl~=1.33.0; extra == \"automl\"->azureml-sdk[automl,explain]) (0.11.1)\n",
      "Requirement already satisfied, skipping upgrade: bokeh!=2.0.0,>=1.0.0; extra == \"complete\" in /anaconda/envs/azureml_py36/lib/python3.6/site-packages (from dask[complete]<=2.30.0->azureml-train-automl-runtime~=1.33.0->azureml-train-automl~=1.33.0; extra == \"automl\"->azureml-sdk[automl,explain]) (2.3.3)\n",
      "Requirement already satisfied, skipping upgrade: fsspec>=0.6.0; extra == \"complete\" in /anaconda/envs/azureml_py36/lib/python3.6/site-packages (from dask[complete]<=2.30.0->azureml-train-automl-runtime~=1.33.0->azureml-train-automl~=1.33.0; extra == \"automl\"->azureml-sdk[automl,explain]) (2021.7.0)\n",
      "Requirement already satisfied, skipping upgrade: partd>=0.3.10; extra == \"complete\" in /anaconda/envs/azureml_py36/lib/python3.6/site-packages (from dask[complete]<=2.30.0->azureml-train-automl-runtime~=1.33.0->azureml-train-automl~=1.33.0; extra == \"automl\"->azureml-sdk[automl,explain]) (1.2.0)\n",
      "Requirement already satisfied, skipping upgrade: MarkupSafe>=0.23 in /anaconda/envs/azureml_py36/lib/python3.6/site-packages (from jinja2<=2.11.2->azureml-train-automl-runtime~=1.33.0->azureml-train-automl~=1.33.0; extra == \"automl\"->azureml-sdk[automl,explain]) (2.0.1)\n",
      "Requirement already satisfied, skipping upgrade: packaging in /anaconda/envs/azureml_py36/lib/python3.6/site-packages (from interpret-community==0.19.*->azureml-interpret~=1.33.0->azureml-explain-model~=1.33.0; extra == \"explain\"->azureml-sdk[automl,explain]) (21.0)\n",
      "Requirement already satisfied, skipping upgrade: interpret-core[required]<=0.2.5,>=0.1.20 in /anaconda/envs/azureml_py36/lib/python3.6/site-packages (from interpret-community==0.19.*->azureml-interpret~=1.33.0->azureml-explain-model~=1.33.0; extra == \"explain\"->azureml-sdk[automl,explain]) (0.2.5)\n",
      "Requirement already satisfied, skipping upgrade: shap<=0.39.0,>=0.20.0 in /anaconda/envs/azureml_py36/lib/python3.6/site-packages (from interpret-community==0.19.*->azureml-interpret~=1.33.0->azureml-explain-model~=1.33.0; extra == \"explain\"->azureml-sdk[automl,explain]) (0.39.0)\n",
      "Requirement already satisfied, skipping upgrade: portalocker~=1.0; platform_system != \"Windows\" in /anaconda/envs/azureml_py36/lib/python3.6/site-packages (from msal-extensions~=0.2.2->azure-identity<1.5.0,>=1.2.0->azureml-dataprep<2.21.0a,>=2.20.0a->azureml-dataset-runtime[fuse]~=1.33.0->azureml-sdk[automl,explain]) (1.7.1)\n",
      "Requirement already satisfied, skipping upgrade: termcolor in /anaconda/envs/azureml_py36/lib/python3.6/site-packages (from fire->keras2onnx<=1.6.0,>=1.4.0->azureml-automl-runtime~=1.33.0->azureml-train-automl~=1.33.0; extra == \"automl\"->azureml-sdk[automl,explain]) (1.1.0)\n",
      "Requirement already satisfied, skipping upgrade: opencensus<1.0.0,>=0.7.13 in /anaconda/envs/azureml_py36/lib/python3.6/site-packages (from opencensus-ext-azure==1.0.8->azureml-defaults~=1.33.0->azureml-train-automl-runtime~=1.33.0->azureml-train-automl~=1.33.0; extra == \"automl\"->azureml-sdk[automl,explain]) (0.7.13)\n",
      "Requirement already satisfied, skipping upgrade: itsdangerous>=0.24 in /anaconda/envs/azureml_py36/lib/python3.6/site-packages (from flask==1.0.3->azureml-defaults~=1.33.0->azureml-train-automl-runtime~=1.33.0->azureml-train-automl~=1.33.0; extra == \"automl\"->azureml-sdk[automl,explain]) (2.0.1)\n",
      "Requirement already satisfied, skipping upgrade: heapdict in /anaconda/envs/azureml_py36/lib/python3.6/site-packages (from zict>=0.1.3->distributed<=2.30.1->azureml-train-automl-runtime~=1.33.0->azureml-train-automl~=1.33.0; extra == \"automl\"->azureml-sdk[automl,explain]) (1.0.1)\n",
      "Requirement already satisfied, skipping upgrade: immutables>=0.9 in /anaconda/envs/azureml_py36/lib/python3.6/site-packages (from contextvars; python_version < \"3.7\"->distributed<=2.30.1->azureml-train-automl-runtime~=1.33.0->azureml-train-automl~=1.33.0; extra == \"automl\"->azureml-sdk[automl,explain]) (0.15)\n",
      "Requirement already satisfied, skipping upgrade: pillow>=7.1.0 in /anaconda/envs/azureml_py36/lib/python3.6/site-packages (from bokeh!=2.0.0,>=1.0.0; extra == \"complete\"->dask[complete]<=2.30.0->azureml-train-automl-runtime~=1.33.0->azureml-train-automl~=1.33.0; extra == \"automl\"->azureml-sdk[automl,explain]) (8.0.0)\n",
      "Requirement already satisfied, skipping upgrade: locket in /anaconda/envs/azureml_py36/lib/python3.6/site-packages (from partd>=0.3.10; extra == \"complete\"->dask[complete]<=2.30.0->azureml-train-automl-runtime~=1.33.0->azureml-train-automl~=1.33.0; extra == \"automl\"->azureml-sdk[automl,explain]) (0.2.1)\n",
      "Requirement already satisfied, skipping upgrade: pyparsing>=2.0.2 in /anaconda/envs/azureml_py36/lib/python3.6/site-packages (from packaging->interpret-community==0.19.*->azureml-interpret~=1.33.0->azureml-explain-model~=1.33.0; extra == \"explain\"->azureml-sdk[automl,explain]) (2.4.7)\n",
      "Requirement already satisfied, skipping upgrade: slicer==0.0.7 in /anaconda/envs/azureml_py36/lib/python3.6/site-packages (from shap<=0.39.0,>=0.20.0->interpret-community==0.19.*->azureml-interpret~=1.33.0->azureml-explain-model~=1.33.0; extra == \"explain\"->azureml-sdk[automl,explain]) (0.0.7)\n",
      "Requirement already satisfied, skipping upgrade: numba in /anaconda/envs/azureml_py36/lib/python3.6/site-packages (from shap<=0.39.0,>=0.20.0->interpret-community==0.19.*->azureml-interpret~=1.33.0->azureml-explain-model~=1.33.0; extra == \"explain\"->azureml-sdk[automl,explain]) (0.53.1)\n",
      "Requirement already satisfied, skipping upgrade: tqdm>4.25.0 in /anaconda/envs/azureml_py36/lib/python3.6/site-packages (from shap<=0.39.0,>=0.20.0->interpret-community==0.19.*->azureml-interpret~=1.33.0->azureml-explain-model~=1.33.0; extra == \"explain\"->azureml-sdk[automl,explain]) (4.61.2)\n",
      "Requirement already satisfied, skipping upgrade: google-api-core<2.0.0,>=1.0.0 in /anaconda/envs/azureml_py36/lib/python3.6/site-packages (from opencensus<1.0.0,>=0.7.13->opencensus-ext-azure==1.0.8->azureml-defaults~=1.33.0->azureml-train-automl-runtime~=1.33.0->azureml-train-automl~=1.33.0; extra == \"automl\"->azureml-sdk[automl,explain]) (1.31.1)\n",
      "Requirement already satisfied, skipping upgrade: opencensus-context==0.1.2 in /anaconda/envs/azureml_py36/lib/python3.6/site-packages (from opencensus<1.0.0,>=0.7.13->opencensus-ext-azure==1.0.8->azureml-defaults~=1.33.0->azureml-train-automl-runtime~=1.33.0->azureml-train-automl~=1.33.0; extra == \"automl\"->azureml-sdk[automl,explain]) (0.1.2)\n",
      "Requirement already satisfied, skipping upgrade: llvmlite<0.37,>=0.36.0rc1 in /anaconda/envs/azureml_py36/lib/python3.6/site-packages (from numba->shap<=0.39.0,>=0.20.0->interpret-community==0.19.*->azureml-interpret~=1.33.0->azureml-explain-model~=1.33.0; extra == \"explain\"->azureml-sdk[automl,explain]) (0.36.0)\n",
      "Requirement already satisfied, skipping upgrade: google-auth<2.0dev,>=1.25.0 in /anaconda/envs/azureml_py36/lib/python3.6/site-packages (from google-api-core<2.0.0,>=1.0.0->opencensus<1.0.0,>=0.7.13->opencensus-ext-azure==1.0.8->azureml-defaults~=1.33.0->azureml-train-automl-runtime~=1.33.0->azureml-train-automl~=1.33.0; extra == \"automl\"->azureml-sdk[automl,explain]) (1.34.0)\n",
      "Requirement already satisfied, skipping upgrade: googleapis-common-protos<2.0dev,>=1.6.0 in /anaconda/envs/azureml_py36/lib/python3.6/site-packages (from google-api-core<2.0.0,>=1.0.0->opencensus<1.0.0,>=0.7.13->opencensus-ext-azure==1.0.8->azureml-defaults~=1.33.0->azureml-train-automl-runtime~=1.33.0->azureml-train-automl~=1.33.0; extra == \"automl\"->azureml-sdk[automl,explain]) (1.53.0)\n",
      "Requirement already satisfied, skipping upgrade: rsa<5,>=3.1.4; python_version >= \"3.6\" in /anaconda/envs/azureml_py36/lib/python3.6/site-packages (from google-auth<2.0dev,>=1.25.0->google-api-core<2.0.0,>=1.0.0->opencensus<1.0.0,>=0.7.13->opencensus-ext-azure==1.0.8->azureml-defaults~=1.33.0->azureml-train-automl-runtime~=1.33.0->azureml-train-automl~=1.33.0; extra == \"automl\"->azureml-sdk[automl,explain]) (4.7.2)\n",
      "Requirement already satisfied, skipping upgrade: cachetools<5.0,>=2.0.0 in /anaconda/envs/azureml_py36/lib/python3.6/site-packages (from google-auth<2.0dev,>=1.25.0->google-api-core<2.0.0,>=1.0.0->opencensus<1.0.0,>=0.7.13->opencensus-ext-azure==1.0.8->azureml-defaults~=1.33.0->azureml-train-automl-runtime~=1.33.0->azureml-train-automl~=1.33.0; extra == \"automl\"->azureml-sdk[automl,explain]) (4.2.2)\n",
      "Requirement already satisfied, skipping upgrade: pyasn1-modules>=0.2.1 in /anaconda/envs/azureml_py36/lib/python3.6/site-packages (from google-auth<2.0dev,>=1.25.0->google-api-core<2.0.0,>=1.0.0->opencensus<1.0.0,>=0.7.13->opencensus-ext-azure==1.0.8->azureml-defaults~=1.33.0->azureml-train-automl-runtime~=1.33.0->azureml-train-automl~=1.33.0; extra == \"automl\"->azureml-sdk[automl,explain]) (0.2.8)\n",
      "\u001b[31mERROR: torch-tb-profiler 0.2.1 has requirement pandas>=1.0.0, but you'll have pandas 0.25.3 which is incompatible.\u001b[0m\n",
      "\u001b[31mERROR: raiwidgets 0.7.0 has requirement jinja2==2.11.3, but you'll have jinja2 2.11.2 which is incompatible.\u001b[0m\n",
      "\u001b[31mERROR: datasets 1.8.0 has requirement tqdm<4.50.0,>=4.27, but you'll have tqdm 4.61.2 which is incompatible.\u001b[0m\n",
      "\u001b[31mERROR: azureml-responsibleai 1.33.0 has requirement responsibleai~=0.9.1, but you'll have responsibleai 0.7.0 which is incompatible.\u001b[0m\n",
      "\u001b[31mERROR: azureml-opendatasets 1.33.0 has requirement scipy<=1.4.1,>=1.0.0, but you'll have scipy 1.5.2 which is incompatible.\u001b[0m\n",
      "\u001b[31mERROR: autokeras 1.0.15 has requirement tensorflow>=2.3.0, but you'll have tensorflow 2.1.0 which is incompatible.\u001b[0m\n",
      "Installing collected packages: pandas, scikit-learn\n",
      "  Attempting uninstall: pandas\n",
      "    Found existing installation: pandas 1.1.5\n",
      "    Uninstalling pandas-1.1.5:\n",
      "      Successfully uninstalled pandas-1.1.5\n",
      "  Attempting uninstall: scikit-learn\n",
      "    Found existing installation: scikit-learn 0.24.2\n",
      "    Uninstalling scikit-learn-0.24.2:\n",
      "      Successfully uninstalled scikit-learn-0.24.2\n",
      "Successfully installed pandas-0.25.3 scikit-learn-0.22.2.post1\n"
     ]
    }
   ],
   "source": [
    "!pip install --upgrade azureml-sdk[explain,automl]"
   ]
  },
  {
   "cell_type": "code",
   "execution_count": 2,
   "metadata": {
    "gather": {
     "logged": 1598423888013
    },
    "jupyter": {
     "outputs_hidden": false,
     "source_hidden": false
    },
    "nteract": {
     "transient": {
      "deleting": false
     }
    }
   },
   "outputs": [
    {
     "name": "stdout",
     "output_type": "stream",
     "text": [
      "SDK version: 1.33.0\n"
     ]
    }
   ],
   "source": [
    "import logging\n",
    "import os\n",
    "import csv\n",
    "\n",
    "from matplotlib import pyplot as plt\n",
    "import numpy as np\n",
    "import pandas as pd\n",
    "from sklearn import datasets\n",
    "import pkg_resources\n",
    "\n",
    "import azureml.core\n",
    "from azureml.core.experiment import Experiment\n",
    "from azureml.core.workspace import Workspace\n",
    "from azureml.train.automl import AutoMLConfig\n",
    "from azureml.core.dataset import Dataset\n",
    "from azureml.data.datapath import DataPath\n",
    "\n",
    "from azureml.pipeline.steps import AutoMLStep\n",
    "\n",
    "# Check core SDK version number\n",
    "print(\"SDK version:\", azureml.core.VERSION)"
   ]
  },
  {
   "cell_type": "markdown",
   "metadata": {},
   "source": [
    "## Dataset\n",
    "\n",
    "### Overview\n",
    "For this Capstone project I will be using a dataset from Kaggle to predict the water potability based on a few technical metrics such as pH, hardness, solids, chloramines, sulfate, trihalomethanes, etc.\n",
    "This is a classification exercise where the potability (target variable) can take the value of 1 for potable and 0 for not potable."
   ]
  },
  {
   "cell_type": "code",
   "execution_count": 3,
   "metadata": {
    "gather": {
     "logged": 1598423890461
    },
    "jupyter": {
     "outputs_hidden": false,
     "source_hidden": false
    },
    "nteract": {
     "transient": {
      "deleting": false
     }
    }
   },
   "outputs": [],
   "source": [
    "ws = Workspace.from_config()\n",
    "# choose a name for experiment\n",
    "experiment_name = 'automl_h2o_potability'\n",
    "project_folder = \"automl_h2o_potability\"\n",
    "\n",
    "experiment=Experiment(ws, experiment_name)"
   ]
  },
  {
   "cell_type": "code",
   "execution_count": 4,
   "metadata": {
    "scrolled": false
   },
   "outputs": [
    {
     "name": "stdout",
     "output_type": "stream",
     "text": [
      "Creating and registering dataset in Workspace\n",
      "Uploading an estimated of 1 files\n",
      "Uploading data/water_potability.csv\n",
      "Uploaded data/water_potability.csv, 1 files out of an estimated total of 1\n",
      "Uploaded 1 files\n"
     ]
    },
    {
     "data": {
      "text/html": [
       "<div>\n",
       "<style scoped>\n",
       "    .dataframe tbody tr th:only-of-type {\n",
       "        vertical-align: middle;\n",
       "    }\n",
       "\n",
       "    .dataframe tbody tr th {\n",
       "        vertical-align: top;\n",
       "    }\n",
       "\n",
       "    .dataframe thead th {\n",
       "        text-align: right;\n",
       "    }\n",
       "</style>\n",
       "<table border=\"1\" class=\"dataframe\">\n",
       "  <thead>\n",
       "    <tr style=\"text-align: right;\">\n",
       "      <th></th>\n",
       "      <th>ph</th>\n",
       "      <th>Hardness</th>\n",
       "      <th>Solids</th>\n",
       "      <th>Chloramines</th>\n",
       "      <th>Sulfate</th>\n",
       "      <th>Conductivity</th>\n",
       "      <th>Organic_carbon</th>\n",
       "      <th>Trihalomethanes</th>\n",
       "      <th>Turbidity</th>\n",
       "      <th>Potability</th>\n",
       "    </tr>\n",
       "  </thead>\n",
       "  <tbody>\n",
       "    <tr>\n",
       "      <th>count</th>\n",
       "      <td>2785.000000</td>\n",
       "      <td>3276.000000</td>\n",
       "      <td>3276.000000</td>\n",
       "      <td>3276.000000</td>\n",
       "      <td>2495.000000</td>\n",
       "      <td>3276.000000</td>\n",
       "      <td>3276.000000</td>\n",
       "      <td>3114.000000</td>\n",
       "      <td>3276.000000</td>\n",
       "      <td>3276.000000</td>\n",
       "    </tr>\n",
       "    <tr>\n",
       "      <th>mean</th>\n",
       "      <td>7.080795</td>\n",
       "      <td>196.369496</td>\n",
       "      <td>22014.092526</td>\n",
       "      <td>7.122277</td>\n",
       "      <td>333.775777</td>\n",
       "      <td>426.205111</td>\n",
       "      <td>14.284970</td>\n",
       "      <td>66.396293</td>\n",
       "      <td>3.966786</td>\n",
       "      <td>0.390110</td>\n",
       "    </tr>\n",
       "    <tr>\n",
       "      <th>std</th>\n",
       "      <td>1.594320</td>\n",
       "      <td>32.879761</td>\n",
       "      <td>8768.570828</td>\n",
       "      <td>1.583085</td>\n",
       "      <td>41.416840</td>\n",
       "      <td>80.824064</td>\n",
       "      <td>3.308162</td>\n",
       "      <td>16.175008</td>\n",
       "      <td>0.780382</td>\n",
       "      <td>0.487849</td>\n",
       "    </tr>\n",
       "    <tr>\n",
       "      <th>min</th>\n",
       "      <td>0.000000</td>\n",
       "      <td>47.432000</td>\n",
       "      <td>320.942611</td>\n",
       "      <td>0.352000</td>\n",
       "      <td>129.000000</td>\n",
       "      <td>181.483754</td>\n",
       "      <td>2.200000</td>\n",
       "      <td>0.738000</td>\n",
       "      <td>1.450000</td>\n",
       "      <td>0.000000</td>\n",
       "    </tr>\n",
       "    <tr>\n",
       "      <th>25%</th>\n",
       "      <td>6.093092</td>\n",
       "      <td>176.850538</td>\n",
       "      <td>15666.690297</td>\n",
       "      <td>6.127421</td>\n",
       "      <td>307.699498</td>\n",
       "      <td>365.734414</td>\n",
       "      <td>12.065801</td>\n",
       "      <td>55.844536</td>\n",
       "      <td>3.439711</td>\n",
       "      <td>0.000000</td>\n",
       "    </tr>\n",
       "    <tr>\n",
       "      <th>50%</th>\n",
       "      <td>7.036752</td>\n",
       "      <td>196.967627</td>\n",
       "      <td>20927.833607</td>\n",
       "      <td>7.130299</td>\n",
       "      <td>333.073546</td>\n",
       "      <td>421.884968</td>\n",
       "      <td>14.218338</td>\n",
       "      <td>66.622485</td>\n",
       "      <td>3.955028</td>\n",
       "      <td>0.000000</td>\n",
       "    </tr>\n",
       "    <tr>\n",
       "      <th>75%</th>\n",
       "      <td>8.062066</td>\n",
       "      <td>216.667456</td>\n",
       "      <td>27332.762127</td>\n",
       "      <td>8.114887</td>\n",
       "      <td>359.950170</td>\n",
       "      <td>481.792304</td>\n",
       "      <td>16.557652</td>\n",
       "      <td>77.337473</td>\n",
       "      <td>4.500320</td>\n",
       "      <td>1.000000</td>\n",
       "    </tr>\n",
       "    <tr>\n",
       "      <th>max</th>\n",
       "      <td>14.000000</td>\n",
       "      <td>323.124000</td>\n",
       "      <td>61227.196008</td>\n",
       "      <td>13.127000</td>\n",
       "      <td>481.030642</td>\n",
       "      <td>753.342620</td>\n",
       "      <td>28.300000</td>\n",
       "      <td>124.000000</td>\n",
       "      <td>6.739000</td>\n",
       "      <td>1.000000</td>\n",
       "    </tr>\n",
       "  </tbody>\n",
       "</table>\n",
       "</div>"
      ],
      "text/plain": [
       "                ph     Hardness        Solids  Chloramines      Sulfate  \\\n",
       "count  2785.000000  3276.000000   3276.000000  3276.000000  2495.000000   \n",
       "mean      7.080795   196.369496  22014.092526     7.122277   333.775777   \n",
       "std       1.594320    32.879761   8768.570828     1.583085    41.416840   \n",
       "min       0.000000    47.432000    320.942611     0.352000   129.000000   \n",
       "25%       6.093092   176.850538  15666.690297     6.127421   307.699498   \n",
       "50%       7.036752   196.967627  20927.833607     7.130299   333.073546   \n",
       "75%       8.062066   216.667456  27332.762127     8.114887   359.950170   \n",
       "max      14.000000   323.124000  61227.196008    13.127000   481.030642   \n",
       "\n",
       "       Conductivity  Organic_carbon  Trihalomethanes    Turbidity   Potability  \n",
       "count   3276.000000     3276.000000      3114.000000  3276.000000  3276.000000  \n",
       "mean     426.205111       14.284970        66.396293     3.966786     0.390110  \n",
       "std       80.824064        3.308162        16.175008     0.780382     0.487849  \n",
       "min      181.483754        2.200000         0.738000     1.450000     0.000000  \n",
       "25%      365.734414       12.065801        55.844536     3.439711     0.000000  \n",
       "50%      421.884968       14.218338        66.622485     3.955028     0.000000  \n",
       "75%      481.792304       16.557652        77.337473     4.500320     1.000000  \n",
       "max      753.342620       28.300000       124.000000     6.739000     1.000000  "
      ]
     },
     "execution_count": 4,
     "metadata": {},
     "output_type": "execute_result"
    }
   ],
   "source": [
    "# This cell will either retrieve or create/register the dataset if not already existent on the AzureML Workspace\n",
    "# For this code to work, the data should have been placed in a \"data\" folder alongside this Jupyter Notebook\n",
    "# The water_potability.csv file was downloaded from Kaggle\n",
    "found = False\n",
    "key = \"water_potability\"\n",
    "description_text = \"Water Potability Dataset from Kaggle\"\n",
    "\n",
    "if key in ws.datasets.keys(): \n",
    "        print(\"Dataset already registered!\")\n",
    "        found = True\n",
    "        dataset = ws.datasets[key] \n",
    "\n",
    "if not found:\n",
    "        # Create AML Dataset and register it into Workspace\n",
    "        print(\"Creating and registering dataset in Workspace\")\n",
    "        default_ds = ws.get_default_datastore()\n",
    "        default_ds.upload(src_dir=\"data\", target_path=\"data\")\n",
    "        dataset = Dataset.Tabular.from_delimited_files(default_ds.path(\"data/water_potability.csv\"))     \n",
    "        #Register Dataset in Workspace\n",
    "        dataset = dataset.register(workspace=ws,\n",
    "                                   name=key,\n",
    "                                   description=description_text)\n",
    "\n",
    "\n",
    "df = dataset.to_pandas_dataframe()\n",
    "df.describe()"
   ]
  },
  {
   "cell_type": "markdown",
   "metadata": {},
   "source": [
    "## Compute Configuration"
   ]
  },
  {
   "cell_type": "code",
   "execution_count": 5,
   "metadata": {},
   "outputs": [
    {
     "name": "stdout",
     "output_type": "stream",
     "text": [
      "InProgress......\n",
      "SucceededProvisioning operation finished, operation \"Succeeded\"\n",
      "Succeeded......................\n",
      "AmlCompute wait for completion finished\n",
      "\n",
      "Minimum number of nodes requested have been provisioned\n"
     ]
    }
   ],
   "source": [
    "from azureml.core.compute import AmlCompute\n",
    "from azureml.core.compute import ComputeTarget\n",
    "from azureml.core.compute_target import ComputeTargetException\n",
    "\n",
    "# NOTE: update the cluster name to match the existing cluster\n",
    "# Choose a name for your CPU cluster\n",
    "cluster_name = \"h2o-pred-cluster\"\n",
    "\n",
    "# Verify that cluster does not exist already\n",
    "try:\n",
    "    compute_target = ComputeTarget(workspace=ws, name=cluster_name)\n",
    "    print('Found existing cluster, use it.')\n",
    "except ComputeTargetException:\n",
    "    compute_config = AmlCompute.provisioning_configuration(vm_size='STANDARD_D2_V2',# for GPU, use \"STANDARD_NC6\"\n",
    "                                                           #vm_priority = 'lowpriority', # optional\n",
    "                                                           min_nodes=10, \n",
    "                                                           max_nodes=10)\n",
    "    compute_target = ComputeTarget.create(ws, cluster_name, compute_config)\n",
    "\n",
    "compute_target.wait_for_completion(show_output=True, min_node_count = 1, timeout_in_minutes = 10)"
   ]
  },
  {
   "cell_type": "markdown",
   "metadata": {},
   "source": [
    "## AutoML Configuration\n",
    "\n",
    "The next cell defines the configuraiton for the AutoML experiment.\n",
    "\n",
    "The primary metric selected is AUC_weighted since it's an imbalanced dataset.\n",
    "\n",
    "The maximum number of concurrent iterations is set to 9 since I provisioned a cluster with 10 nodes to speed up the process.\n",
    "\n",
    "This is a classification exercise, therefore the \"task\" parameter of the AutoMLConfig is set accordingly.\n",
    "The target column (label_column_name) is set to Potability."
   ]
  },
  {
   "cell_type": "code",
   "execution_count": 6,
   "metadata": {
    "gather": {
     "logged": 1598429217746
    },
    "jupyter": {
     "outputs_hidden": false,
     "source_hidden": false
    },
    "nteract": {
     "transient": {
      "deleting": false
     }
    }
   },
   "outputs": [],
   "source": [
    "automl_settings = {\n",
    "    \"experiment_timeout_minutes\": 60,\n",
    "    \"max_concurrent_iterations\": 9,\n",
    "    \"primary_metric\" : 'AUC_weighted'\n",
    "}\n",
    "\n",
    "automl_config = AutoMLConfig(compute_target=compute_target,\n",
    "                             task = \"classification\",\n",
    "                             training_data=dataset,\n",
    "                             label_column_name=\"Potability\",   \n",
    "                             path = project_folder,\n",
    "                             enable_early_stopping= True,\n",
    "                             featurization= 'auto',\n",
    "                             debug_log = \"automl_errors.log\",\n",
    "                             **automl_settings\n",
    "                            )"
   ]
  },
  {
   "cell_type": "code",
   "execution_count": 7,
   "metadata": {
    "gather": {
     "logged": 1598431107951
    },
    "jupyter": {
     "outputs_hidden": false,
     "source_hidden": false
    },
    "nteract": {
     "transient": {
      "deleting": false
     }
    }
   },
   "outputs": [
    {
     "name": "stdout",
     "output_type": "stream",
     "text": [
      "Submitting remote run.\n"
     ]
    },
    {
     "data": {
      "text/html": [
       "<table style=\"width:100%\"><tr><th>Experiment</th><th>Id</th><th>Type</th><th>Status</th><th>Details Page</th><th>Docs Page</th></tr><tr><td>automl_h2o_potability</td><td>AutoML_7e5dbc65-c4d9-453a-8134-1b990e99bce3</td><td>automl</td><td>NotStarted</td><td><a href=\"https://ml.azure.com/runs/AutoML_7e5dbc65-c4d9-453a-8134-1b990e99bce3?wsid=/subscriptions/61c5c3f0-6dc7-4ed9-a7f3-c704b20e3b30/resourcegroups/aml-quickstarts-155218/workspaces/quick-starts-ws-155218&amp;tid=660b3398-b80e-49d2-bc5b-ac1dc93b5254\" target=\"_blank\" rel=\"noopener\">Link to Azure Machine Learning studio</a></td><td><a href=\"https://docs.microsoft.com/en-us/python/api/overview/azure/ml/intro?view=azure-ml-py\" target=\"_blank\" rel=\"noopener\">Link to Documentation</a></td></tr></table>"
      ],
      "text/plain": [
       "<IPython.core.display.HTML object>"
      ]
     },
     "metadata": {},
     "output_type": "display_data"
    }
   ],
   "source": [
    "remote_run = experiment.submit(automl_config)"
   ]
  },
  {
   "cell_type": "markdown",
   "metadata": {},
   "source": [
    "## Run Details"
   ]
  },
  {
   "cell_type": "code",
   "execution_count": 8,
   "metadata": {
    "gather": {
     "logged": 1598431121770
    },
    "jupyter": {
     "outputs_hidden": false,
     "source_hidden": false
    },
    "nteract": {
     "transient": {
      "deleting": false
     }
    }
   },
   "outputs": [
    {
     "data": {
      "application/vnd.jupyter.widget-view+json": {
       "model_id": "87a018c020204fdd8635a56375f2544b",
       "version_major": 2,
       "version_minor": 0
      },
      "text/plain": [
       "_AutoMLWidget(widget_settings={'childWidgetDisplay': 'popup', 'send_telemetry': False, 'log_level': 'INFO', 's…"
      ]
     },
     "metadata": {},
     "output_type": "display_data"
    },
    {
     "data": {
      "application/aml.mini.widget.v1": "{\"status\": \"Completed\", \"workbench_run_details_uri\": \"https://ml.azure.com/runs/AutoML_7e5dbc65-c4d9-453a-8134-1b990e99bce3?wsid=/subscriptions/61c5c3f0-6dc7-4ed9-a7f3-c704b20e3b30/resourcegroups/aml-quickstarts-155218/workspaces/quick-starts-ws-155218&tid=660b3398-b80e-49d2-bc5b-ac1dc93b5254\", \"run_id\": \"AutoML_7e5dbc65-c4d9-453a-8134-1b990e99bce3\", \"run_properties\": {\"run_id\": \"AutoML_7e5dbc65-c4d9-453a-8134-1b990e99bce3\", \"created_utc\": \"2021-08-21T02:29:58.738165Z\", \"properties\": {\"num_iterations\": \"1000\", \"training_type\": \"TrainFull\", \"acquisition_function\": \"EI\", \"primary_metric\": \"AUC_weighted\", \"train_split\": \"0\", \"acquisition_parameter\": \"0\", \"num_cross_validation\": null, \"target\": \"h2o-pred-cluster\", \"AMLSettingsJsonString\": \"{\\\"path\\\":null,\\\"name\\\":\\\"automl_h2o_potability\\\",\\\"subscription_id\\\":\\\"61c5c3f0-6dc7-4ed9-a7f3-c704b20e3b30\\\",\\\"resource_group\\\":\\\"aml-quickstarts-155218\\\",\\\"workspace_name\\\":\\\"quick-starts-ws-155218\\\",\\\"region\\\":\\\"southcentralus\\\",\\\"compute_target\\\":\\\"h2o-pred-cluster\\\",\\\"spark_service\\\":null,\\\"azure_service\\\":\\\"remote\\\",\\\"many_models\\\":false,\\\"pipeline_fetch_max_batch_size\\\":1,\\\"enable_batch_run\\\":false,\\\"enable_run_restructure\\\":false,\\\"start_auxiliary_runs_before_parent_complete\\\":false,\\\"enable_code_generation\\\":false,\\\"iterations\\\":1000,\\\"primary_metric\\\":\\\"AUC_weighted\\\",\\\"task_type\\\":\\\"classification\\\",\\\"data_script\\\":null,\\\"test_size\\\":0.0,\\\"validation_size\\\":0.0,\\\"n_cross_validations\\\":null,\\\"y_min\\\":null,\\\"y_max\\\":null,\\\"num_classes\\\":null,\\\"featurization\\\":\\\"auto\\\",\\\"_ignore_package_version_incompatibilities\\\":false,\\\"is_timeseries\\\":false,\\\"max_cores_per_iteration\\\":1,\\\"max_concurrent_iterations\\\":9,\\\"iteration_timeout_minutes\\\":null,\\\"mem_in_mb\\\":null,\\\"enforce_time_on_windows\\\":false,\\\"experiment_timeout_minutes\\\":60,\\\"experiment_exit_score\\\":null,\\\"whitelist_models\\\":null,\\\"blacklist_algos\\\":[\\\"TensorFlowLinearClassifier\\\",\\\"TensorFlowDNN\\\"],\\\"supported_models\\\":[\\\"BernoulliNaiveBayes\\\",\\\"XGBoostClassifier\\\",\\\"ExtremeRandomTrees\\\",\\\"SGD\\\",\\\"MultinomialNaiveBayes\\\",\\\"AveragedPerceptronClassifier\\\",\\\"LinearSVM\\\",\\\"GradientBoosting\\\",\\\"TensorFlowDNN\\\",\\\"RandomForest\\\",\\\"TensorFlowLinearClassifier\\\",\\\"KNN\\\",\\\"DecisionTree\\\",\\\"LogisticRegression\\\",\\\"LightGBM\\\",\\\"SVM\\\"],\\\"private_models\\\":[],\\\"auto_blacklist\\\":true,\\\"blacklist_samples_reached\\\":false,\\\"exclude_nan_labels\\\":true,\\\"verbosity\\\":20,\\\"_debug_log\\\":\\\"azureml_automl.log\\\",\\\"show_warnings\\\":false,\\\"model_explainability\\\":true,\\\"service_url\\\":null,\\\"sdk_url\\\":null,\\\"sdk_packages\\\":null,\\\"enable_onnx_compatible_models\\\":false,\\\"enable_split_onnx_featurizer_estimator_models\\\":false,\\\"vm_type\\\":\\\"STANDARD_D2_V2\\\",\\\"telemetry_verbosity\\\":20,\\\"send_telemetry\\\":true,\\\"enable_dnn\\\":false,\\\"scenario\\\":\\\"SDK-1.13.0\\\",\\\"environment_label\\\":null,\\\"save_mlflow\\\":false,\\\"force_text_dnn\\\":false,\\\"enable_feature_sweeping\\\":true,\\\"enable_early_stopping\\\":true,\\\"early_stopping_n_iters\\\":10,\\\"metrics\\\":null,\\\"enable_metric_confidence\\\":false,\\\"enable_ensembling\\\":true,\\\"enable_stack_ensembling\\\":true,\\\"ensemble_iterations\\\":15,\\\"enable_tf\\\":false,\\\"enable_subsampling\\\":null,\\\"subsample_seed\\\":null,\\\"enable_nimbusml\\\":false,\\\"enable_streaming\\\":false,\\\"force_streaming\\\":false,\\\"track_child_runs\\\":true,\\\"allowed_private_models\\\":[],\\\"label_column_name\\\":\\\"Potability\\\",\\\"weight_column_name\\\":null,\\\"cv_split_column_names\\\":null,\\\"enable_local_managed\\\":false,\\\"_local_managed_run_id\\\":null,\\\"cost_mode\\\":1,\\\"lag_length\\\":0,\\\"metric_operation\\\":\\\"maximize\\\",\\\"preprocess\\\":true}\", \"DataPrepJsonString\": \"{\\\\\\\"training_data\\\\\\\": {\\\\\\\"datasetId\\\\\\\": \\\\\\\"11934366-ed38-4208-9565-5f0180bc4751\\\\\\\"}, \\\\\\\"datasets\\\\\\\": 0}\", \"EnableSubsampling\": null, \"runTemplate\": \"AutoML\", \"azureml.runsource\": \"automl\", \"display_task_type\": \"classification\", \"dependencies_versions\": \"{\\\"azureml-widgets\\\": \\\"1.33.0\\\", \\\"azureml-train\\\": \\\"1.33.0\\\", \\\"azureml-train-restclients-hyperdrive\\\": \\\"1.33.0\\\", \\\"azureml-train-core\\\": \\\"1.33.0\\\", \\\"azureml-train-automl\\\": \\\"1.33.0\\\", \\\"azureml-train-automl-runtime\\\": \\\"1.33.0\\\", \\\"azureml-train-automl-client\\\": \\\"1.33.0\\\", \\\"azureml-tensorboard\\\": \\\"1.33.0\\\", \\\"azureml-telemetry\\\": \\\"1.33.0\\\", \\\"azureml-sdk\\\": \\\"1.33.0\\\", \\\"azureml-samples\\\": \\\"0+unknown\\\", \\\"azureml-responsibleai\\\": \\\"1.33.0\\\", \\\"azureml-pipeline\\\": \\\"1.33.0\\\", \\\"azureml-pipeline-steps\\\": \\\"1.33.0\\\", \\\"azureml-pipeline-core\\\": \\\"1.33.0\\\", \\\"azureml-opendatasets\\\": \\\"1.33.0\\\", \\\"azureml-mlflow\\\": \\\"1.33.0\\\", \\\"azureml-interpret\\\": \\\"1.33.0\\\", \\\"azureml-explain-model\\\": \\\"1.33.0\\\", \\\"azureml-defaults\\\": \\\"1.33.0\\\", \\\"azureml-dataset-runtime\\\": \\\"1.33.0\\\", \\\"azureml-dataprep\\\": \\\"2.20.1\\\", \\\"azureml-dataprep-rslex\\\": \\\"1.18.0\\\", \\\"azureml-dataprep-native\\\": \\\"38.0.0\\\", \\\"azureml-datadrift\\\": \\\"1.33.0\\\", \\\"azureml-core\\\": \\\"1.33.0\\\", \\\"azureml-contrib-services\\\": \\\"1.33.0\\\", \\\"azureml-contrib-server\\\": \\\"1.33.0\\\", \\\"azureml-contrib-reinforcementlearning\\\": \\\"1.33.0\\\", \\\"azureml-contrib-pipeline-steps\\\": \\\"1.33.0\\\", \\\"azureml-contrib-notebook\\\": \\\"1.33.0\\\", \\\"azureml-contrib-fairness\\\": \\\"1.33.0\\\", \\\"azureml-contrib-dataset\\\": \\\"1.33.0\\\", \\\"azureml-cli-common\\\": \\\"1.33.0\\\", \\\"azureml-automl-runtime\\\": \\\"1.33.0\\\", \\\"azureml-automl-dnn-nlp\\\": \\\"1.33.0\\\", \\\"azureml-automl-core\\\": \\\"1.33.0\\\", \\\"azureml-accel-models\\\": \\\"1.33.0\\\"}\", \"_aml_system_scenario_identification\": \"Remote.Parent\", \"ClientType\": \"SDK\", \"environment_cpu_name\": \"AzureML-AutoML\", \"environment_cpu_label\": \"prod\", \"environment_gpu_name\": \"AzureML-AutoML-GPU\", \"environment_gpu_label\": \"prod\", \"root_attribution\": \"automl\", \"attribution\": \"AutoML\", \"Orchestrator\": \"AutoML\", \"CancelUri\": \"https://southcentralus.api.azureml.ms/jasmine/v1.0/subscriptions/61c5c3f0-6dc7-4ed9-a7f3-c704b20e3b30/resourceGroups/aml-quickstarts-155218/providers/Microsoft.MachineLearningServices/workspaces/quick-starts-ws-155218/experimentids/933cc5b3-a013-4bb3-8df6-77de63b3f043/cancel/AutoML_7e5dbc65-c4d9-453a-8134-1b990e99bce3\", \"ClientSdkVersion\": \"1.33.0\", \"snapshotId\": \"00000000-0000-0000-0000-000000000000\", \"SetupRunId\": \"AutoML_7e5dbc65-c4d9-453a-8134-1b990e99bce3_setup\", \"SetupRunContainerId\": \"dcid.AutoML_7e5dbc65-c4d9-453a-8134-1b990e99bce3_setup\", \"FeaturizationRunJsonPath\": \"featurizer_container.json\", \"FeaturizationRunId\": \"AutoML_7e5dbc65-c4d9-453a-8134-1b990e99bce3_featurize\", \"ProblemInfoJsonString\": \"{\\\"dataset_num_categorical\\\": 0, \\\"is_sparse\\\": false, \\\"subsampling\\\": false, \\\"has_extra_col\\\": true, \\\"dataset_classes\\\": 2, \\\"dataset_features\\\": 12, \\\"dataset_samples\\\": 3276, \\\"single_frequency_class_detected\\\": false}\", \"ModelExplainRunId\": \"AutoML_7e5dbc65-c4d9-453a-8134-1b990e99bce3_ModelExplain\"}, \"tags\": {\"model_explain_run\": \"best_run\", \"_aml_system_azureml.automlComponent\": \"AutoML\", \"pipeline_id\": \"\", \"score\": \"\", \"predicted_cost\": \"\", \"fit_time\": \"\", \"training_percent\": \"\", \"iteration\": \"\", \"run_preprocessor\": \"\", \"run_algorithm\": \"\", \"dynamic_whitelisting_iterations\": \"<25>;<30>;<34>;<39>;<45>;<50>;<55>;<60>;<64>;<65>;<73>;<80>;<85>;<86>;<94>;<98>;\", \"automl_best_child_run_id\": \"AutoML_7e5dbc65-c4d9-453a-8134-1b990e99bce3_103\", \"model_explain_best_run_child_id\": \"AutoML_7e5dbc65-c4d9-453a-8134-1b990e99bce3_103\"}, \"end_time_utc\": \"2021-08-21T02:53:33.216294Z\", \"status\": \"Completed\", \"log_files\": {}, \"log_groups\": [], \"run_duration\": \"0:23:34\", \"run_number\": \"1\", \"run_queued_details\": {\"status\": \"Completed\", \"details\": null}}, \"child_runs\": [{\"run_id\": \"AutoML_7e5dbc65-c4d9-453a-8134-1b990e99bce3_0\", \"run_number\": 5, \"metric\": null, \"status\": \"Completed\", \"run_type\": \"azureml.scriptrun\", \"training_percent\": \"100\", \"start_time\": \"2021-08-21T02:35:48.029574Z\", \"end_time\": \"2021-08-21T02:38:28.886658Z\", \"created_time\": \"2021-08-21T02:35:22.645213Z\", \"created_time_dt\": \"2021-08-21T02:35:22.645213Z\", \"duration\": \"0:03:06\", \"iteration\": \"0\", \"goal\": \"AUC_weighted_max\", \"run_name\": \"MaxAbsScaler, LightGBM\", \"run_properties\": \"copy=True\", \"primary_metric\": 0.65503923, \"best_metric\": 0.65503923}, {\"run_id\": \"AutoML_7e5dbc65-c4d9-453a-8134-1b990e99bce3_4\", \"run_number\": 6, \"metric\": null, \"status\": \"Completed\", \"run_type\": \"azureml.scriptrun\", \"training_percent\": \"100\", \"start_time\": \"2021-08-21T02:35:47.280173Z\", \"end_time\": \"2021-08-21T02:38:25.304913Z\", \"created_time\": \"2021-08-21T02:35:22.652026Z\", \"created_time_dt\": \"2021-08-21T02:35:22.652026Z\", \"duration\": \"0:03:02\", \"iteration\": \"4\", \"goal\": \"AUC_weighted_max\", \"run_name\": \"StandardScalerWrapper, LightGBM\", \"run_properties\": \"\\n    copy=True,\\n    with_mean=False,\\n    with_std=True\\n\", \"primary_metric\": 0.59396884, \"best_metric\": 0.65503923}, {\"run_id\": \"AutoML_7e5dbc65-c4d9-453a-8134-1b990e99bce3_7\", \"run_number\": 7, \"metric\": null, \"status\": \"Completed\", \"run_type\": \"azureml.scriptrun\", \"training_percent\": \"100\", \"start_time\": \"2021-08-21T02:35:46.865988Z\", \"end_time\": \"2021-08-21T02:38:28.848964Z\", \"created_time\": \"2021-08-21T02:35:22.666379Z\", \"created_time_dt\": \"2021-08-21T02:35:22.666379Z\", \"duration\": \"0:03:06\", \"iteration\": \"7\", \"goal\": \"AUC_weighted_max\", \"run_name\": \"SparseNormalizer, RandomForest\", \"run_properties\": \"copy=True, norm='l2'\", \"primary_metric\": 0.57878483, \"best_metric\": 0.65503923}, {\"run_id\": \"AutoML_7e5dbc65-c4d9-453a-8134-1b990e99bce3_3\", \"run_number\": 8, \"metric\": null, \"status\": \"Completed\", \"run_type\": \"azureml.scriptrun\", \"training_percent\": \"100\", \"start_time\": \"2021-08-21T02:35:47.278968Z\", \"end_time\": \"2021-08-21T02:38:25.445547Z\", \"created_time\": \"2021-08-21T02:35:22.677182Z\", \"created_time_dt\": \"2021-08-21T02:35:22.677182Z\", \"duration\": \"0:03:02\", \"iteration\": \"3\", \"goal\": \"AUC_weighted_max\", \"run_name\": \"MaxAbsScaler, RandomForest\", \"run_properties\": \"copy=True\", \"primary_metric\": 0.61637256, \"best_metric\": 0.65503923}, {\"run_id\": \"AutoML_7e5dbc65-c4d9-453a-8134-1b990e99bce3_8\", \"run_number\": 9, \"metric\": null, \"status\": \"Completed\", \"run_type\": \"azureml.scriptrun\", \"training_percent\": \"100\", \"start_time\": \"2021-08-21T02:35:47.141975Z\", \"end_time\": \"2021-08-21T02:38:26.078228Z\", \"created_time\": \"2021-08-21T02:35:22.687139Z\", \"created_time_dt\": \"2021-08-21T02:35:22.687139Z\", \"duration\": \"0:03:03\", \"iteration\": \"8\", \"goal\": \"AUC_weighted_max\", \"run_name\": \"RobustScaler, KNN\", \"run_properties\": \"copy=True, quantile_range=[25, 75], with_centering=False,\\n             with_scaling=True\", \"primary_metric\": 0.65008207, \"best_metric\": 0.65503923}, {\"run_id\": \"AutoML_7e5dbc65-c4d9-453a-8134-1b990e99bce3_5\", \"run_number\": 10, \"metric\": null, \"status\": \"Completed\", \"run_type\": \"azureml.scriptrun\", \"training_percent\": \"100\", \"start_time\": \"2021-08-21T02:35:44.328529Z\", \"end_time\": \"2021-08-21T02:36:25.488239Z\", \"created_time\": \"2021-08-21T02:35:22.694297Z\", \"created_time_dt\": \"2021-08-21T02:35:22.694297Z\", \"duration\": \"0:01:02\", \"iteration\": \"5\", \"goal\": \"AUC_weighted_max\", \"run_name\": \"StandardScalerWrapper, KNN\", \"run_properties\": \"\\n    copy=True,\\n    with_mean=True,\\n    with_std=False\\n\", \"primary_metric\": 0.50779797, \"best_metric\": 0.65503923}, {\"run_id\": \"AutoML_7e5dbc65-c4d9-453a-8134-1b990e99bce3_6\", \"run_number\": 11, \"metric\": null, \"status\": \"Completed\", \"run_type\": \"azureml.scriptrun\", \"training_percent\": \"100\", \"start_time\": \"2021-08-21T02:35:47.906369Z\", \"end_time\": \"2021-08-21T02:38:25.332257Z\", \"created_time\": \"2021-08-21T02:35:22.717014Z\", \"created_time_dt\": \"2021-08-21T02:35:22.717014Z\", \"duration\": \"0:03:02\", \"iteration\": \"6\", \"goal\": \"AUC_weighted_max\", \"run_name\": \"SparseNormalizer, XGBoostClassifier\", \"run_properties\": \"copy=True, norm='max'\", \"primary_metric\": 0.57586206, \"best_metric\": 0.65503923}, {\"run_id\": \"AutoML_7e5dbc65-c4d9-453a-8134-1b990e99bce3_2\", \"run_number\": 12, \"metric\": null, \"status\": \"Completed\", \"run_type\": \"azureml.scriptrun\", \"training_percent\": \"100\", \"start_time\": \"2021-08-21T02:35:47.867848Z\", \"end_time\": \"2021-08-21T02:38:26.011533Z\", \"created_time\": \"2021-08-21T02:35:22.683324Z\", \"created_time_dt\": \"2021-08-21T02:35:22.683324Z\", \"duration\": \"0:03:03\", \"iteration\": \"2\", \"goal\": \"AUC_weighted_max\", \"run_name\": \"MaxAbsScaler, ExtremeRandomTrees\", \"run_properties\": \"copy=True\", \"primary_metric\": 0.58445773, \"best_metric\": 0.65503923}, {\"run_id\": \"AutoML_7e5dbc65-c4d9-453a-8134-1b990e99bce3_1\", \"run_number\": 13, \"metric\": null, \"status\": \"Completed\", \"run_type\": \"azureml.scriptrun\", \"training_percent\": \"100\", \"start_time\": \"2021-08-21T02:35:47.288306Z\", \"end_time\": \"2021-08-21T02:38:25.783831Z\", \"created_time\": \"2021-08-21T02:35:22.686727Z\", \"created_time_dt\": \"2021-08-21T02:35:22.686727Z\", \"duration\": \"0:03:03\", \"iteration\": \"1\", \"goal\": \"AUC_weighted_max\", \"run_name\": \"MaxAbsScaler, XGBoostClassifier\", \"run_properties\": \"copy=True\", \"primary_metric\": 0.63382192, \"best_metric\": 0.65503923}, {\"run_id\": \"AutoML_7e5dbc65-c4d9-453a-8134-1b990e99bce3_9\", \"run_number\": 14, \"metric\": null, \"status\": \"Completed\", \"run_type\": \"azureml.scriptrun\", \"training_percent\": \"100\", \"start_time\": \"2021-08-21T02:36:49.282833Z\", \"end_time\": \"2021-08-21T02:37:31.593193Z\", \"created_time\": \"2021-08-21T02:36:29.686698Z\", \"created_time_dt\": \"2021-08-21T02:36:29.686698Z\", \"duration\": \"0:01:01\", \"iteration\": \"9\", \"goal\": \"AUC_weighted_max\", \"run_name\": \"MinMaxScaler, RandomForest\", \"run_properties\": \"copy=True, feature_range=(0, 1\", \"primary_metric\": 0.60804135, \"best_metric\": 0.65503923}, {\"run_id\": \"AutoML_7e5dbc65-c4d9-453a-8134-1b990e99bce3_10\", \"run_number\": 15, \"metric\": null, \"status\": \"Completed\", \"run_type\": \"azureml.scriptrun\", \"training_percent\": \"100\", \"start_time\": \"2021-08-21T02:37:53.426793Z\", \"end_time\": \"2021-08-21T02:38:37.906858Z\", \"created_time\": \"2021-08-21T02:37:35.757114Z\", \"created_time_dt\": \"2021-08-21T02:37:35.757114Z\", \"duration\": \"0:01:02\", \"iteration\": \"10\", \"goal\": \"AUC_weighted_max\", \"run_name\": \"StandardScalerWrapper, LogisticRegression\", \"run_properties\": \"\\n    copy=True,\\n    with_mean=True,\\n    with_std=True\\n\", \"primary_metric\": 0.49879939, \"best_metric\": 0.65503923}, {\"run_id\": \"AutoML_7e5dbc65-c4d9-453a-8134-1b990e99bce3_11\", \"run_number\": 16, \"metric\": null, \"status\": \"Completed\", \"run_type\": \"azureml.scriptrun\", \"training_percent\": \"100\", \"start_time\": \"2021-08-21T02:38:47.647986Z\", \"end_time\": \"2021-08-21T02:40:32.597008Z\", \"created_time\": \"2021-08-21T02:38:29.588232Z\", \"created_time_dt\": \"2021-08-21T02:38:29.588232Z\", \"duration\": \"0:02:03\", \"iteration\": \"11\", \"goal\": \"AUC_weighted_max\", \"run_name\": \"StandardScalerWrapper, SVM\", \"run_properties\": \"\\n    copy=True,\\n    with_mean=True,\\n    with_std=True\\n\", \"primary_metric\": 0.62516001, \"best_metric\": 0.65503923}, {\"run_id\": \"AutoML_7e5dbc65-c4d9-453a-8134-1b990e99bce3_12\", \"run_number\": 17, \"metric\": null, \"status\": \"Completed\", \"run_type\": \"azureml.scriptrun\", \"training_percent\": \"100\", \"start_time\": \"2021-08-21T02:38:46.637223Z\", \"end_time\": \"2021-08-21T02:39:32.823714Z\", \"created_time\": \"2021-08-21T02:38:29.610761Z\", \"created_time_dt\": \"2021-08-21T02:38:29.610761Z\", \"duration\": \"0:01:03\", \"iteration\": \"12\", \"goal\": \"AUC_weighted_max\", \"run_name\": \"StandardScalerWrapper, XGBoostClassifier\", \"run_properties\": \"\\n    copy=True,\\n    with_mean=False,\\n    with_std=False\\n\", \"primary_metric\": 0.57317411, \"best_metric\": 0.65503923}, {\"run_id\": \"AutoML_7e5dbc65-c4d9-453a-8134-1b990e99bce3_13\", \"run_number\": 18, \"metric\": null, \"status\": \"Completed\", \"run_type\": \"azureml.scriptrun\", \"training_percent\": \"100\", \"start_time\": \"2021-08-21T02:38:46.907982Z\", \"end_time\": \"2021-08-21T02:39:32.04941Z\", \"created_time\": \"2021-08-21T02:38:29.614165Z\", \"created_time_dt\": \"2021-08-21T02:38:29.614165Z\", \"duration\": \"0:01:02\", \"iteration\": \"13\", \"goal\": \"AUC_weighted_max\", \"run_name\": \"SparseNormalizer, KNN\", \"run_properties\": \"copy=True, norm='max'\", \"primary_metric\": 0.53775332, \"best_metric\": 0.65503923}, {\"run_id\": \"AutoML_7e5dbc65-c4d9-453a-8134-1b990e99bce3_14\", \"run_number\": 19, \"metric\": null, \"status\": \"Completed\", \"run_type\": \"azureml.scriptrun\", \"training_percent\": \"100\", \"start_time\": \"2021-08-21T02:38:56.840194Z\", \"end_time\": \"2021-08-21T02:40:38.110273Z\", \"created_time\": \"2021-08-21T02:38:36.259126Z\", \"created_time_dt\": \"2021-08-21T02:38:36.259126Z\", \"duration\": \"0:02:01\", \"iteration\": \"14\", \"goal\": \"AUC_weighted_max\", \"run_name\": \"RobustScaler, ExtremeRandomTrees\", \"run_properties\": \"copy=True, quantile_range=[10, 90], with_centering=True,\\n             with_scaling=False\", \"primary_metric\": 0.58336603, \"best_metric\": 0.65503923}, {\"run_id\": \"AutoML_7e5dbc65-c4d9-453a-8134-1b990e99bce3_15\", \"run_number\": 20, \"metric\": null, \"status\": \"Completed\", \"run_type\": \"azureml.scriptrun\", \"training_percent\": \"100\", \"start_time\": \"2021-08-21T02:38:56.963636Z\", \"end_time\": \"2021-08-21T02:39:38.187421Z\", \"created_time\": \"2021-08-21T02:38:36.264771Z\", \"created_time_dt\": \"2021-08-21T02:38:36.264771Z\", \"duration\": \"0:01:01\", \"iteration\": \"15\", \"goal\": \"AUC_weighted_max\", \"run_name\": \"SparseNormalizer, XGBoostClassifier\", \"run_properties\": \"copy=True, norm='max'\", \"primary_metric\": 0.58466324, \"best_metric\": 0.65503923}, {\"run_id\": \"AutoML_7e5dbc65-c4d9-453a-8134-1b990e99bce3_18\", \"run_number\": 21, \"metric\": null, \"status\": \"Completed\", \"run_type\": \"azureml.scriptrun\", \"training_percent\": \"100\", \"start_time\": \"2021-08-21T02:38:55.668981Z\", \"end_time\": \"2021-08-21T02:39:38.024578Z\", \"created_time\": \"2021-08-21T02:38:36.293964Z\", \"created_time_dt\": \"2021-08-21T02:38:36.293964Z\", \"duration\": \"0:01:01\", \"iteration\": \"18\", \"goal\": \"AUC_weighted_max\", \"run_name\": \"SparseNormalizer, LightGBM\", \"run_properties\": \"copy=True, norm='l1'\", \"primary_metric\": 0.56252712, \"best_metric\": 0.65503923}, {\"run_id\": \"AutoML_7e5dbc65-c4d9-453a-8134-1b990e99bce3_17\", \"run_number\": 22, \"metric\": null, \"status\": \"Completed\", \"run_type\": \"azureml.scriptrun\", \"training_percent\": \"100\", \"start_time\": \"2021-08-21T02:38:57.730124Z\", \"end_time\": \"2021-08-21T02:39:38.68651Z\", \"created_time\": \"2021-08-21T02:38:36.298087Z\", \"created_time_dt\": \"2021-08-21T02:38:36.298087Z\", \"duration\": \"0:01:02\", \"iteration\": \"17\", \"goal\": \"AUC_weighted_max\", \"run_name\": \"MinMaxScaler, ExtremeRandomTrees\", \"run_properties\": \"copy=True, feature_range=(0, 1\", \"primary_metric\": 0.64726889, \"best_metric\": 0.65503923}, {\"run_id\": \"AutoML_7e5dbc65-c4d9-453a-8134-1b990e99bce3_16\", \"run_number\": 23, \"metric\": null, \"status\": \"Completed\", \"run_type\": \"azureml.scriptrun\", \"training_percent\": \"100\", \"start_time\": \"2021-08-21T02:38:56.841519Z\", \"end_time\": \"2021-08-21T02:39:39.234489Z\", \"created_time\": \"2021-08-21T02:38:36.304696Z\", \"created_time_dt\": \"2021-08-21T02:38:36.304696Z\", \"duration\": \"0:01:02\", \"iteration\": \"16\", \"goal\": \"AUC_weighted_max\", \"run_name\": \"MinMaxScaler, ExtremeRandomTrees\", \"run_properties\": \"copy=True, feature_range=(0, 1\", \"primary_metric\": 0.62035437, \"best_metric\": 0.65503923}, {\"run_id\": \"AutoML_7e5dbc65-c4d9-453a-8134-1b990e99bce3_19\", \"run_number\": 24, \"metric\": null, \"status\": \"Completed\", \"run_type\": \"azureml.scriptrun\", \"training_percent\": \"100\", \"start_time\": \"2021-08-21T02:39:00.714555Z\", \"end_time\": \"2021-08-21T02:39:44.342523Z\", \"created_time\": \"2021-08-21T02:38:42.513569Z\", \"created_time_dt\": \"2021-08-21T02:38:42.513569Z\", \"duration\": \"0:01:01\", \"iteration\": \"19\", \"goal\": \"AUC_weighted_max\", \"run_name\": \"MaxAbsScaler, ExtremeRandomTrees\", \"run_properties\": \"copy=True\", \"primary_metric\": 0.60771978, \"best_metric\": 0.65503923}, {\"run_id\": \"AutoML_7e5dbc65-c4d9-453a-8134-1b990e99bce3_20\", \"run_number\": 25, \"metric\": null, \"status\": \"Completed\", \"run_type\": \"azureml.scriptrun\", \"training_percent\": \"100\", \"start_time\": \"2021-08-21T02:39:57.16852Z\", \"end_time\": \"2021-08-21T02:40:39.722346Z\", \"created_time\": \"2021-08-21T02:39:36.704027Z\", \"created_time_dt\": \"2021-08-21T02:39:36.704027Z\", \"duration\": \"0:01:03\", \"iteration\": \"20\", \"goal\": \"AUC_weighted_max\", \"run_name\": \"StandardScalerWrapper, XGBoostClassifier\", \"run_properties\": \"\\n    copy=True,\\n    with_mean=False,\\n    with_std=False\\n\", \"primary_metric\": 0.63641972, \"best_metric\": 0.65503923}, {\"run_id\": \"AutoML_7e5dbc65-c4d9-453a-8134-1b990e99bce3_21\", \"run_number\": 26, \"metric\": null, \"status\": \"Completed\", \"run_type\": \"azureml.scriptrun\", \"training_percent\": \"100\", \"start_time\": \"2021-08-21T02:40:00.211884Z\", \"end_time\": \"2021-08-21T02:40:45.229141Z\", \"created_time\": \"2021-08-21T02:39:42.887114Z\", \"created_time_dt\": \"2021-08-21T02:39:42.887114Z\", \"duration\": \"0:01:02\", \"iteration\": \"21\", \"goal\": \"AUC_weighted_max\", \"run_name\": \"StandardScalerWrapper, RandomForest\", \"run_properties\": \"\\n    copy=True,\\n    with_mean=False,\\n    with_std=False\\n\", \"primary_metric\": 0.65664983, \"best_metric\": 0.65664983}, {\"run_id\": \"AutoML_7e5dbc65-c4d9-453a-8134-1b990e99bce3_23\", \"run_number\": 27, \"metric\": null, \"status\": \"Completed\", \"run_type\": \"azureml.scriptrun\", \"training_percent\": \"100\", \"start_time\": \"2021-08-21T02:40:00.974773Z\", \"end_time\": \"2021-08-21T02:40:44.807184Z\", \"created_time\": \"2021-08-21T02:39:42.901698Z\", \"created_time_dt\": \"2021-08-21T02:39:42.901698Z\", \"duration\": \"0:01:01\", \"iteration\": \"23\", \"goal\": \"AUC_weighted_max\", \"run_name\": \"MaxAbsScaler, LogisticRegression\", \"run_properties\": \"copy=True\", \"primary_metric\": 0.49927092, \"best_metric\": 0.65664983}, {\"run_id\": \"AutoML_7e5dbc65-c4d9-453a-8134-1b990e99bce3_22\", \"run_number\": 28, \"metric\": null, \"status\": \"Completed\", \"run_type\": \"azureml.scriptrun\", \"training_percent\": \"100\", \"start_time\": \"2021-08-21T02:40:01.199142Z\", \"end_time\": \"2021-08-21T02:40:45.553062Z\", \"created_time\": \"2021-08-21T02:39:42.912252Z\", \"created_time_dt\": \"2021-08-21T02:39:42.912252Z\", \"duration\": \"0:01:02\", \"iteration\": \"22\", \"goal\": \"AUC_weighted_max\", \"run_name\": \"MaxAbsScaler, LightGBM\", \"run_properties\": \"copy=True\", \"primary_metric\": 0.63823277, \"best_metric\": 0.65664983}, {\"run_id\": \"AutoML_7e5dbc65-c4d9-453a-8134-1b990e99bce3_24\", \"run_number\": 29, \"metric\": null, \"status\": \"Completed\", \"run_type\": \"azureml.scriptrun\", \"training_percent\": \"100\", \"start_time\": \"2021-08-21T02:40:01.039202Z\", \"end_time\": \"2021-08-21T02:40:45.787763Z\", \"created_time\": \"2021-08-21T02:39:42.898477Z\", \"created_time_dt\": \"2021-08-21T02:39:42.898477Z\", \"duration\": \"0:01:02\", \"iteration\": \"24\", \"goal\": \"AUC_weighted_max\", \"run_name\": \"StandardScalerWrapper, ExtremeRandomTrees\", \"run_properties\": \"\\n    copy=True,\\n    with_mean=False,\\n    with_std=True\\n\", \"primary_metric\": 0.64427098, \"best_metric\": 0.65664983}, {\"run_id\": \"AutoML_7e5dbc65-c4d9-453a-8134-1b990e99bce3_26\", \"run_number\": 30, \"metric\": null, \"status\": \"Completed\", \"run_type\": \"azureml.scriptrun\", \"training_percent\": \"100\", \"start_time\": \"2021-08-21T02:40:11.0345Z\", \"end_time\": \"2021-08-21T02:40:52.960462Z\", \"created_time\": \"2021-08-21T02:39:50.666315Z\", \"created_time_dt\": \"2021-08-21T02:39:50.666315Z\", \"duration\": \"0:01:02\", \"iteration\": \"26\", \"goal\": \"AUC_weighted_max\", \"run_name\": \"StandardScalerWrapper, XGBoostClassifier\", \"run_properties\": \"\\n    copy=True,\\n    with_mean=False,\\n    with_std=False\\n\", \"primary_metric\": 0.65457486, \"best_metric\": 0.65664983}, {\"run_id\": \"AutoML_7e5dbc65-c4d9-453a-8134-1b990e99bce3_25\", \"run_number\": 31, \"metric\": null, \"status\": \"Completed\", \"run_type\": \"azureml.scriptrun\", \"training_percent\": \"100\", \"start_time\": \"2021-08-21T02:40:11.247229Z\", \"end_time\": \"2021-08-21T02:40:53.076174Z\", \"created_time\": \"2021-08-21T02:39:50.67314Z\", \"created_time_dt\": \"2021-08-21T02:39:50.67314Z\", \"duration\": \"0:01:02\", \"iteration\": \"25\", \"goal\": \"AUC_weighted_max\", \"run_name\": \"PCA, LightGBM\", \"run_properties\": \"copy=True, iterated_power='auto', n_components=0.7521052631578947,\\n    random_state=None, svd_solver='auto', tol=0.0, whiten=False\", \"primary_metric\": 0.50614272, \"best_metric\": 0.65664983}, {\"run_id\": \"AutoML_7e5dbc65-c4d9-453a-8134-1b990e99bce3_27\", \"run_number\": 32, \"metric\": null, \"status\": \"Completed\", \"run_type\": \"azureml.scriptrun\", \"training_percent\": \"100\", \"start_time\": \"2021-08-21T02:40:55.255406Z\", \"end_time\": \"2021-08-21T02:41:38.675481Z\", \"created_time\": \"2021-08-21T02:40:36.799716Z\", \"created_time_dt\": \"2021-08-21T02:40:36.799716Z\", \"duration\": \"0:01:01\", \"iteration\": \"27\", \"goal\": \"AUC_weighted_max\", \"run_name\": \"MaxAbsScaler, LogisticRegression\", \"run_properties\": \"copy=True\", \"primary_metric\": 0.49878289, \"best_metric\": 0.65664983}, {\"run_id\": \"AutoML_7e5dbc65-c4d9-453a-8134-1b990e99bce3_28\", \"run_number\": 33, \"metric\": null, \"status\": \"Completed\", \"run_type\": \"azureml.scriptrun\", \"training_percent\": \"100\", \"start_time\": \"2021-08-21T02:40:59.513883Z\", \"end_time\": \"2021-08-21T02:41:43.966263Z\", \"created_time\": \"2021-08-21T02:40:42.121461Z\", \"created_time_dt\": \"2021-08-21T02:40:42.121461Z\", \"duration\": \"0:01:01\", \"iteration\": \"28\", \"goal\": \"AUC_weighted_max\", \"run_name\": \"StandardScalerWrapper, XGBoostClassifier\", \"run_properties\": \"\\n    copy=True,\\n    with_mean=False,\\n    with_std=False\\n\", \"primary_metric\": 0.6486275, \"best_metric\": 0.65664983}, {\"run_id\": \"AutoML_7e5dbc65-c4d9-453a-8134-1b990e99bce3_29\", \"run_number\": 34, \"metric\": null, \"status\": \"Completed\", \"run_type\": \"azureml.scriptrun\", \"training_percent\": \"100\", \"start_time\": \"2021-08-21T02:41:09.295128Z\", \"end_time\": \"2021-08-21T02:41:50.283019Z\", \"created_time\": \"2021-08-21T02:40:48.3516Z\", \"created_time_dt\": \"2021-08-21T02:40:48.3516Z\", \"duration\": \"0:01:01\", \"iteration\": \"29\", \"goal\": \"AUC_weighted_max\", \"run_name\": \"StandardScalerWrapper, XGBoostClassifier\", \"run_properties\": \"\\n    copy=True,\\n    with_mean=False,\\n    with_std=False\\n\", \"primary_metric\": 0.65076166, \"best_metric\": 0.65664983}, {\"run_id\": \"AutoML_7e5dbc65-c4d9-453a-8134-1b990e99bce3_30\", \"run_number\": 35, \"metric\": null, \"status\": \"Completed\", \"run_type\": \"azureml.scriptrun\", \"training_percent\": \"100\", \"start_time\": \"2021-08-21T02:41:09.447236Z\", \"end_time\": \"2021-08-21T02:41:54.746957Z\", \"created_time\": \"2021-08-21T02:40:52.437623Z\", \"created_time_dt\": \"2021-08-21T02:40:52.437623Z\", \"duration\": \"0:01:02\", \"iteration\": \"30\", \"goal\": \"AUC_weighted_max\", \"run_name\": \"StandardScalerWrapper, RandomForest\", \"run_properties\": \"\\n    copy=True,\\n    with_mean=True,\\n    with_std=False\\n\", \"primary_metric\": 0.48323711, \"best_metric\": 0.65664983}, {\"run_id\": \"AutoML_7e5dbc65-c4d9-453a-8134-1b990e99bce3_32\", \"run_number\": 36, \"metric\": null, \"status\": \"Completed\", \"run_type\": \"azureml.scriptrun\", \"training_percent\": \"100\", \"start_time\": \"2021-08-21T02:41:09.447369Z\", \"end_time\": \"2021-08-21T02:42:54.745184Z\", \"created_time\": \"2021-08-21T02:40:52.458632Z\", \"created_time_dt\": \"2021-08-21T02:40:52.458632Z\", \"duration\": \"0:02:02\", \"iteration\": \"32\", \"goal\": \"AUC_weighted_max\", \"run_name\": \"RobustScaler, SVM\", \"run_properties\": \"copy=True, quantile_range=[10, 90], with_centering=False,\\n             with_scaling=True\", \"primary_metric\": 0.66522987, \"best_metric\": 0.66522987}, {\"run_id\": \"AutoML_7e5dbc65-c4d9-453a-8134-1b990e99bce3_33\", \"run_number\": 37, \"metric\": null, \"status\": \"Completed\", \"run_type\": \"azureml.scriptrun\", \"training_percent\": \"100\", \"start_time\": \"2021-08-21T02:41:09.337962Z\", \"end_time\": \"2021-08-21T02:42:54.630472Z\", \"created_time\": \"2021-08-21T02:40:52.469883Z\", \"created_time_dt\": \"2021-08-21T02:40:52.469883Z\", \"duration\": \"0:02:02\", \"iteration\": \"33\", \"goal\": \"AUC_weighted_max\", \"run_name\": \"RobustScaler, SVM\", \"run_properties\": \"copy=True, quantile_range=[10, 90], with_centering=False,\\n             with_scaling=True\", \"primary_metric\": 0.67008103, \"best_metric\": 0.67008103}, {\"run_id\": \"AutoML_7e5dbc65-c4d9-453a-8134-1b990e99bce3_31\", \"run_number\": 38, \"metric\": null, \"status\": \"Completed\", \"run_type\": \"azureml.scriptrun\", \"training_percent\": \"100\", \"start_time\": \"2021-08-21T02:41:11.596159Z\", \"end_time\": \"2021-08-21T02:41:54.446615Z\", \"created_time\": \"2021-08-21T02:40:52.500621Z\", \"created_time_dt\": \"2021-08-21T02:40:52.500621Z\", \"duration\": \"0:01:01\", \"iteration\": \"31\", \"goal\": \"AUC_weighted_max\", \"run_name\": \"StandardScalerWrapper, SVM\", \"run_properties\": \"\\n    copy=True,\\n    with_mean=False,\\n    with_std=True\\n\", \"primary_metric\": 0.6077754, \"best_metric\": 0.65664983}, {\"run_id\": \"AutoML_7e5dbc65-c4d9-453a-8134-1b990e99bce3_35\", \"run_number\": 39, \"metric\": null, \"status\": \"Completed\", \"run_type\": \"azureml.scriptrun\", \"training_percent\": \"100\", \"start_time\": \"2021-08-21T02:41:15.340486Z\", \"end_time\": \"2021-08-21T02:41:59.072655Z\", \"created_time\": \"2021-08-21T02:40:57.148932Z\", \"created_time_dt\": \"2021-08-21T02:40:57.148932Z\", \"duration\": \"0:01:01\", \"iteration\": \"35\", \"goal\": \"AUC_weighted_max\", \"run_name\": \"MinMaxScaler, LogisticRegression\", \"run_properties\": \"copy=True, feature_range=(0, 1\", \"primary_metric\": 0.49726807, \"best_metric\": 0.67008103}, {\"run_id\": \"AutoML_7e5dbc65-c4d9-453a-8134-1b990e99bce3_34\", \"run_number\": 40, \"metric\": null, \"status\": \"Completed\", \"run_type\": \"azureml.scriptrun\", \"training_percent\": \"100\", \"start_time\": \"2021-08-21T02:41:17.153053Z\", \"end_time\": \"2021-08-21T02:41:58.989614Z\", \"created_time\": \"2021-08-21T02:40:57.15517Z\", \"created_time_dt\": \"2021-08-21T02:40:57.15517Z\", \"duration\": \"0:01:01\", \"iteration\": \"34\", \"goal\": \"AUC_weighted_max\", \"run_name\": \"StandardScalerWrapper, RandomForest\", \"run_properties\": \"\\n    copy=True,\\n    with_mean=False,\\n    with_std=True\\n\", \"primary_metric\": 0.50677035, \"best_metric\": 0.67008103}, {\"run_id\": \"AutoML_7e5dbc65-c4d9-453a-8134-1b990e99bce3_36\", \"run_number\": 41, \"metric\": null, \"status\": \"Completed\", \"run_type\": \"azureml.scriptrun\", \"training_percent\": \"100\", \"start_time\": \"2021-08-21T02:41:58.519499Z\", \"end_time\": \"2021-08-21T02:42:42.588791Z\", \"created_time\": \"2021-08-21T02:41:40.653367Z\", \"created_time_dt\": \"2021-08-21T02:41:40.653367Z\", \"duration\": \"0:01:01\", \"iteration\": \"36\", \"goal\": \"AUC_weighted_max\", \"run_name\": \"StandardScalerWrapper, XGBoostClassifier\", \"run_properties\": \"\\n    copy=True,\\n    with_mean=False,\\n    with_std=False\\n\", \"primary_metric\": 0.64767777, \"best_metric\": 0.67008103}, {\"run_id\": \"AutoML_7e5dbc65-c4d9-453a-8134-1b990e99bce3_37\", \"run_number\": 42, \"metric\": null, \"status\": \"Completed\", \"run_type\": \"azureml.scriptrun\", \"training_percent\": \"100\", \"start_time\": \"2021-08-21T02:41:58.34732Z\", \"end_time\": \"2021-08-21T02:42:48.418126Z\", \"created_time\": \"2021-08-21T02:41:46.211785Z\", \"created_time_dt\": \"2021-08-21T02:41:46.211785Z\", \"duration\": \"0:01:02\", \"iteration\": \"37\", \"goal\": \"AUC_weighted_max\", \"run_name\": \"StandardScalerWrapper, RandomForest\", \"run_properties\": \"\\n    copy=True,\\n    with_mean=True,\\n    with_std=False\\n\", \"primary_metric\": 0.59366774, \"best_metric\": 0.67008103}, {\"run_id\": \"AutoML_7e5dbc65-c4d9-453a-8134-1b990e99bce3_38\", \"run_number\": 43, \"metric\": null, \"status\": \"Completed\", \"run_type\": \"azureml.scriptrun\", \"training_percent\": \"100\", \"start_time\": \"2021-08-21T02:42:12.420942Z\", \"end_time\": \"2021-08-21T02:42:54.306574Z\", \"created_time\": \"2021-08-21T02:41:52.141642Z\", \"created_time_dt\": \"2021-08-21T02:41:52.141642Z\", \"duration\": \"0:01:02\", \"iteration\": \"38\", \"goal\": \"AUC_weighted_max\", \"run_name\": \"StandardScalerWrapper, ExtremeRandomTrees\", \"run_properties\": \"\\n    copy=True,\\n    with_mean=True,\\n    with_std=True\\n\", \"primary_metric\": 0.57035001, \"best_metric\": 0.67008103}, {\"run_id\": \"AutoML_7e5dbc65-c4d9-453a-8134-1b990e99bce3_39\", \"run_number\": 44, \"metric\": null, \"status\": \"Completed\", \"run_type\": \"azureml.scriptrun\", \"training_percent\": \"100\", \"start_time\": \"2021-08-21T02:42:05.469037Z\", \"end_time\": \"2021-08-21T02:42:59.659839Z\", \"created_time\": \"2021-08-21T02:41:57.642659Z\", \"created_time_dt\": \"2021-08-21T02:41:57.642659Z\", \"duration\": \"0:01:02\", \"iteration\": \"39\", \"goal\": \"AUC_weighted_max\", \"run_name\": \"MinMaxScaler, RandomForest\", \"run_properties\": \"copy=True, feature_range=(0, 1\", \"primary_metric\": 0.53921052, \"best_metric\": 0.67008103}, {\"run_id\": \"AutoML_7e5dbc65-c4d9-453a-8134-1b990e99bce3_40\", \"run_number\": 45, \"metric\": null, \"status\": \"Completed\", \"run_type\": \"azureml.scriptrun\", \"training_percent\": \"100\", \"start_time\": \"2021-08-21T02:42:17.6528Z\", \"end_time\": \"2021-08-21T02:44:00.301343Z\", \"created_time\": \"2021-08-21T02:41:57.669358Z\", \"created_time_dt\": \"2021-08-21T02:41:57.669358Z\", \"duration\": \"0:02:02\", \"iteration\": \"40\", \"goal\": \"AUC_weighted_max\", \"run_name\": \"StandardScalerWrapper, SVM\", \"run_properties\": \"\\n    copy=True,\\n    with_mean=False,\\n    with_std=True\\n\", \"primary_metric\": 0.63184454, \"best_metric\": 0.67008103}, {\"run_id\": \"AutoML_7e5dbc65-c4d9-453a-8134-1b990e99bce3_42\", \"run_number\": 46, \"metric\": null, \"status\": \"Completed\", \"run_type\": \"azureml.scriptrun\", \"training_percent\": \"100\", \"start_time\": \"2021-08-21T02:42:18.56437Z\", \"end_time\": \"2021-08-21T02:43:02.997907Z\", \"created_time\": \"2021-08-21T02:42:01.076413Z\", \"created_time_dt\": \"2021-08-21T02:42:01.076413Z\", \"duration\": \"0:01:01\", \"iteration\": \"42\", \"goal\": \"AUC_weighted_max\", \"run_name\": \"MaxAbsScaler, LightGBM\", \"run_properties\": \"copy=True\", \"primary_metric\": 0.5992793, \"best_metric\": 0.67008103}, {\"run_id\": \"AutoML_7e5dbc65-c4d9-453a-8134-1b990e99bce3_41\", \"run_number\": 47, \"metric\": null, \"status\": \"Completed\", \"run_type\": \"azureml.scriptrun\", \"training_percent\": \"100\", \"start_time\": \"2021-08-21T02:42:18.598736Z\", \"end_time\": \"2021-08-21T02:43:03.938821Z\", \"created_time\": \"2021-08-21T02:42:01.079749Z\", \"created_time_dt\": \"2021-08-21T02:42:01.079749Z\", \"duration\": \"0:01:02\", \"iteration\": \"41\", \"goal\": \"AUC_weighted_max\", \"run_name\": \"MaxAbsScaler, LightGBM\", \"run_properties\": \"copy=True\", \"primary_metric\": 0.63084811, \"best_metric\": 0.67008103}, {\"run_id\": \"AutoML_7e5dbc65-c4d9-453a-8134-1b990e99bce3_43\", \"run_number\": 48, \"metric\": null, \"status\": \"Completed\", \"run_type\": \"azureml.scriptrun\", \"training_percent\": \"100\", \"start_time\": \"2021-08-21T02:42:56.587823Z\", \"end_time\": \"2021-08-21T02:43:46.511827Z\", \"created_time\": \"2021-08-21T02:42:44.419336Z\", \"created_time_dt\": \"2021-08-21T02:42:44.419336Z\", \"duration\": \"0:01:02\", \"iteration\": \"43\", \"goal\": \"AUC_weighted_max\", \"run_name\": \"MaxAbsScaler, ExtremeRandomTrees\", \"run_properties\": \"copy=True\", \"primary_metric\": 0.60840031, \"best_metric\": 0.67008103}, {\"run_id\": \"AutoML_7e5dbc65-c4d9-453a-8134-1b990e99bce3_44\", \"run_number\": 49, \"metric\": null, \"status\": \"Completed\", \"run_type\": \"azureml.scriptrun\", \"training_percent\": \"100\", \"start_time\": \"2021-08-21T02:43:08.714205Z\", \"end_time\": \"2021-08-21T02:43:52.750165Z\", \"created_time\": \"2021-08-21T02:42:50.282125Z\", \"created_time_dt\": \"2021-08-21T02:42:50.282125Z\", \"duration\": \"0:01:02\", \"iteration\": \"44\", \"goal\": \"AUC_weighted_max\", \"run_name\": \"MinMaxScaler, LightGBM\", \"run_properties\": \"copy=True, feature_range=(0, 1\", \"primary_metric\": 0.65020921, \"best_metric\": 0.67008103}, {\"run_id\": \"AutoML_7e5dbc65-c4d9-453a-8134-1b990e99bce3_45\", \"run_number\": 50, \"metric\": null, \"status\": \"Completed\", \"run_type\": \"azureml.scriptrun\", \"training_percent\": \"100\", \"start_time\": \"2021-08-21T02:43:15.666102Z\", \"end_time\": \"2021-08-21T02:44:00.058769Z\", \"created_time\": \"2021-08-21T02:42:57.438845Z\", \"created_time_dt\": \"2021-08-21T02:42:57.438845Z\", \"duration\": \"0:01:02\", \"iteration\": \"45\", \"goal\": \"AUC_weighted_max\", \"run_name\": \"PCA, SVM\", \"run_properties\": \"copy=True, iterated_power='auto', n_components=0.2573684210526316,\\n    random_state=None, svd_solver='auto', tol=0.0, whiten=True\", \"primary_metric\": 0.49174331, \"best_metric\": 0.67008103}, {\"run_id\": \"AutoML_7e5dbc65-c4d9-453a-8134-1b990e99bce3_46\", \"run_number\": 51, \"metric\": null, \"status\": \"Completed\", \"run_type\": \"azureml.scriptrun\", \"training_percent\": \"100\", \"start_time\": \"2021-08-21T02:43:15.839878Z\", \"end_time\": \"2021-08-21T02:44:00.691298Z\", \"created_time\": \"2021-08-21T02:42:57.454714Z\", \"created_time_dt\": \"2021-08-21T02:42:57.454714Z\", \"duration\": \"0:01:03\", \"iteration\": \"46\", \"goal\": \"AUC_weighted_max\", \"run_name\": \"MinMaxScaler, LightGBM\", \"run_properties\": \"copy=True, feature_range=(0, 1\", \"primary_metric\": 0.63686806, \"best_metric\": 0.67008103}, {\"run_id\": \"AutoML_7e5dbc65-c4d9-453a-8134-1b990e99bce3_47\", \"run_number\": 52, \"metric\": null, \"status\": \"Completed\", \"run_type\": \"azureml.scriptrun\", \"training_percent\": \"100\", \"start_time\": \"2021-08-21T02:43:18.768621Z\", \"end_time\": \"2021-08-21T02:44:03.421376Z\", \"created_time\": \"2021-08-21T02:43:01.359363Z\", \"created_time_dt\": \"2021-08-21T02:43:01.359363Z\", \"duration\": \"0:01:02\", \"iteration\": \"47\", \"goal\": \"AUC_weighted_max\", \"run_name\": \"StandardScalerWrapper, LightGBM\", \"run_properties\": \"\\n    copy=True,\\n    with_mean=True,\\n    with_std=True\\n\", \"primary_metric\": 0.65896652, \"best_metric\": 0.67008103}, {\"run_id\": \"AutoML_7e5dbc65-c4d9-453a-8134-1b990e99bce3_48\", \"run_number\": 53, \"metric\": null, \"status\": \"Completed\", \"run_type\": \"azureml.scriptrun\", \"training_percent\": \"100\", \"start_time\": \"2021-08-21T02:43:18.706345Z\", \"end_time\": \"2021-08-21T02:44:03.477146Z\", \"created_time\": \"2021-08-21T02:43:01.362575Z\", \"created_time_dt\": \"2021-08-21T02:43:01.362575Z\", \"duration\": \"0:01:02\", \"iteration\": \"48\", \"goal\": \"AUC_weighted_max\", \"run_name\": \"StandardScalerWrapper, XGBoostClassifier\", \"run_properties\": \"\\n    copy=True,\\n    with_mean=False,\\n    with_std=False\\n\", \"primary_metric\": 0.65405624, \"best_metric\": 0.67008103}, {\"run_id\": \"AutoML_7e5dbc65-c4d9-453a-8134-1b990e99bce3_49\", \"run_number\": 54, \"metric\": null, \"status\": \"Completed\", \"run_type\": \"azureml.scriptrun\", \"training_percent\": \"100\", \"start_time\": \"2021-08-21T02:43:24.833718Z\", \"end_time\": \"2021-08-21T02:44:07.296703Z\", \"created_time\": \"2021-08-21T02:43:04.82498Z\", \"created_time_dt\": \"2021-08-21T02:43:04.82498Z\", \"duration\": \"0:01:02\", \"iteration\": \"49\", \"goal\": \"AUC_weighted_max\", \"run_name\": \"StandardScalerWrapper, XGBoostClassifier\", \"run_properties\": \"\\n    copy=True,\\n    with_mean=False,\\n    with_std=False\\n\", \"primary_metric\": 0.65180527, \"best_metric\": 0.67008103}, {\"run_id\": \"AutoML_7e5dbc65-c4d9-453a-8134-1b990e99bce3_50\", \"run_number\": 55, \"metric\": null, \"status\": \"Completed\", \"run_type\": \"azureml.scriptrun\", \"training_percent\": \"100\", \"start_time\": \"2021-08-21T02:43:26.665804Z\", \"end_time\": \"2021-08-21T02:45:11.16048Z\", \"created_time\": \"2021-08-21T02:43:09.223292Z\", \"created_time_dt\": \"2021-08-21T02:43:09.223292Z\", \"duration\": \"0:02:01\", \"iteration\": \"50\", \"goal\": \"AUC_weighted_max\", \"run_name\": \"MinMaxScaler, SVM\", \"run_properties\": \"copy=True, feature_range=(0, 1\", \"primary_metric\": 0.51893656, \"best_metric\": 0.67008103}, {\"run_id\": \"AutoML_7e5dbc65-c4d9-453a-8134-1b990e99bce3_51\", \"run_number\": 56, \"metric\": null, \"status\": \"Completed\", \"run_type\": \"azureml.scriptrun\", \"training_percent\": \"100\", \"start_time\": \"2021-08-21T02:44:10.804721Z\", \"end_time\": \"2021-08-21T02:44:50.855363Z\", \"created_time\": \"2021-08-21T02:43:48.532972Z\", \"created_time_dt\": \"2021-08-21T02:43:48.532972Z\", \"duration\": \"0:01:02\", \"iteration\": \"51\", \"goal\": \"AUC_weighted_max\", \"run_name\": \"StandardScalerWrapper, XGBoostClassifier\", \"run_properties\": \"\\n    copy=True,\\n    with_mean=False,\\n    with_std=False\\n\", \"primary_metric\": 0.63468339, \"best_metric\": 0.67008103}, {\"run_id\": \"AutoML_7e5dbc65-c4d9-453a-8134-1b990e99bce3_52\", \"run_number\": 57, \"metric\": null, \"status\": \"Completed\", \"run_type\": \"azureml.scriptrun\", \"training_percent\": \"100\", \"start_time\": \"2021-08-21T02:44:11.876519Z\", \"end_time\": \"2021-08-21T02:44:56.699447Z\", \"created_time\": \"2021-08-21T02:43:54.704889Z\", \"created_time_dt\": \"2021-08-21T02:43:54.704889Z\", \"duration\": \"0:01:01\", \"iteration\": \"52\", \"goal\": \"AUC_weighted_max\", \"run_name\": \"StandardScalerWrapper, XGBoostClassifier\", \"run_properties\": \"\\n    copy=True,\\n    with_mean=False,\\n    with_std=False\\n\", \"primary_metric\": 0.64260269, \"best_metric\": 0.67008103}, {\"run_id\": \"AutoML_7e5dbc65-c4d9-453a-8134-1b990e99bce3_53\", \"run_number\": 58, \"metric\": null, \"status\": \"Canceled\", \"run_type\": \"azureml.scriptrun\", \"training_percent\": \"100\", \"start_time\": \"2021-08-21T02:44:21.944106Z\", \"end_time\": \"2021-08-21T02:45:56.872248Z\", \"created_time\": \"2021-08-21T02:44:02.524455Z\", \"created_time_dt\": \"2021-08-21T02:44:02.524455Z\", \"duration\": \"0:01:54\", \"iteration\": \"53\", \"goal\": \"AUC_weighted_max\", \"run_name\": \"StandardScalerWrapper, XGBoostClassifier\", \"run_properties\": \"\\n    copy=True,\\n    with_mean=False,\\n    with_std=False\\n\", \"primary_metric\": 0.65373089, \"best_metric\": 0.67008103}, {\"run_id\": \"AutoML_7e5dbc65-c4d9-453a-8134-1b990e99bce3_54\", \"run_number\": 59, \"metric\": null, \"status\": \"Completed\", \"run_type\": \"azureml.scriptrun\", \"training_percent\": \"100\", \"start_time\": \"2021-08-21T02:44:21.939195Z\", \"end_time\": \"2021-08-21T02:45:04.694815Z\", \"created_time\": \"2021-08-21T02:44:02.563439Z\", \"created_time_dt\": \"2021-08-21T02:44:02.563439Z\", \"duration\": \"0:01:02\", \"iteration\": \"54\", \"goal\": \"AUC_weighted_max\", \"run_name\": \"StandardScalerWrapper, XGBoostClassifier\", \"run_properties\": \"\\n    copy=True,\\n    with_mean=False,\\n    with_std=False\\n\", \"primary_metric\": 0.6561083, \"best_metric\": 0.67008103}, {\"run_id\": \"AutoML_7e5dbc65-c4d9-453a-8134-1b990e99bce3_55\", \"run_number\": 60, \"metric\": null, \"status\": \"Canceled\", \"run_type\": \"azureml.scriptrun\", \"training_percent\": \"100\", \"start_time\": \"2021-08-21T02:44:26.836631Z\", \"end_time\": \"2021-08-21T02:45:56.884028Z\", \"created_time\": \"2021-08-21T02:44:07.441656Z\", \"created_time_dt\": \"2021-08-21T02:44:07.441656Z\", \"duration\": \"0:01:49\", \"iteration\": \"55\", \"goal\": \"AUC_weighted_max\", \"run_name\": \"SparseNormalizer, SVM\", \"run_properties\": \"copy=True, norm='max'\", \"primary_metric\": 0.52105625, \"best_metric\": 0.67008103}, {\"run_id\": \"AutoML_7e5dbc65-c4d9-453a-8134-1b990e99bce3_57\", \"run_number\": 61, \"metric\": null, \"status\": \"Canceled\", \"run_type\": \"azureml.scriptrun\", \"training_percent\": \"100\", \"start_time\": \"2021-08-21T02:44:27.907064Z\", \"end_time\": \"2021-08-21T02:45:56.859143Z\", \"created_time\": \"2021-08-21T02:44:07.461897Z\", \"created_time_dt\": \"2021-08-21T02:44:07.461897Z\", \"duration\": \"0:01:49\", \"iteration\": \"57\", \"goal\": \"AUC_weighted_max\", \"run_name\": \"StandardScalerWrapper, XGBoostClassifier\", \"run_properties\": \"\\n    copy=True,\\n    with_mean=False,\\n    with_std=False\\n\", \"primary_metric\": 0.63978638, \"best_metric\": 0.67008103}, {\"run_id\": \"AutoML_7e5dbc65-c4d9-453a-8134-1b990e99bce3_56\", \"run_number\": 62, \"metric\": null, \"status\": \"Completed\", \"run_type\": \"azureml.scriptrun\", \"training_percent\": \"100\", \"start_time\": \"2021-08-21T02:44:26.932955Z\", \"end_time\": \"2021-08-21T02:45:09.45869Z\", \"created_time\": \"2021-08-21T02:44:07.465656Z\", \"created_time_dt\": \"2021-08-21T02:44:07.465656Z\", \"duration\": \"0:01:01\", \"iteration\": \"56\", \"goal\": \"AUC_weighted_max\", \"run_name\": \"StandardScalerWrapper, XGBoostClassifier\", \"run_properties\": \"\\n    copy=True,\\n    with_mean=False,\\n    with_std=False\\n\", \"primary_metric\": 0.66507213, \"best_metric\": 0.67008103}, {\"run_id\": \"AutoML_7e5dbc65-c4d9-453a-8134-1b990e99bce3_58\", \"run_number\": 63, \"metric\": null, \"status\": \"Canceled\", \"run_type\": \"azureml.scriptrun\", \"training_percent\": \"100\", \"start_time\": \"2021-08-21T02:44:27.06581Z\", \"end_time\": \"2021-08-21T02:45:56.891718Z\", \"created_time\": \"2021-08-21T02:44:10.638408Z\", \"created_time_dt\": \"2021-08-21T02:44:10.638408Z\", \"duration\": \"0:01:46\", \"iteration\": \"58\", \"goal\": \"AUC_weighted_max\", \"run_name\": \"StandardScalerWrapper, RandomForest\", \"run_properties\": \"\\n    copy=True,\\n    with_mean=False,\\n    with_std=False\\n\", \"primary_metric\": 0.65852385, \"best_metric\": 0.67008103}, {\"run_id\": \"AutoML_7e5dbc65-c4d9-453a-8134-1b990e99bce3_59\", \"run_number\": 64, \"metric\": null, \"status\": \"Completed\", \"run_type\": \"azureml.scriptrun\", \"training_percent\": \"100\", \"start_time\": \"2021-08-21T02:45:13.024992Z\", \"end_time\": \"2021-08-21T02:45:55.93344Z\", \"created_time\": \"2021-08-21T02:44:52.876523Z\", \"created_time_dt\": \"2021-08-21T02:44:52.876523Z\", \"duration\": \"0:01:03\", \"iteration\": \"59\", \"goal\": \"AUC_weighted_max\", \"run_name\": \"StandardScalerWrapper, XGBoostClassifier\", \"run_properties\": \"\\n    copy=True,\\n    with_mean=False,\\n    with_std=False\\n\", \"primary_metric\": 0.63395064, \"best_metric\": 0.67008103}, {\"run_id\": \"AutoML_7e5dbc65-c4d9-453a-8134-1b990e99bce3_60\", \"run_number\": 65, \"metric\": null, \"status\": \"Canceled\", \"run_type\": \"azureml.scriptrun\", \"training_percent\": \"100\", \"start_time\": \"2021-08-21T02:45:18.010894Z\", \"end_time\": \"2021-08-21T02:45:57.032047Z\", \"created_time\": \"2021-08-21T02:44:59.597991Z\", \"created_time_dt\": \"2021-08-21T02:44:59.597991Z\", \"duration\": \"0:00:57\", \"iteration\": \"60\", \"goal\": \"AUC_weighted_max\", \"run_name\": \"MinMaxScaler, SVM\", \"run_properties\": \"copy=True, feature_range=(0, 1\", \"primary_metric\": 0.49049234, \"best_metric\": 0.67008103}, {\"run_id\": \"AutoML_7e5dbc65-c4d9-453a-8134-1b990e99bce3_61\", \"run_number\": 66, \"metric\": null, \"status\": \"Canceled\", \"run_type\": \"azureml.scriptrun\", \"training_percent\": \"100\", \"start_time\": \"2021-08-21T02:45:27.09957Z\", \"end_time\": \"2021-08-21T02:45:57.017591Z\", \"created_time\": \"2021-08-21T02:45:06.612343Z\", \"created_time_dt\": \"2021-08-21T02:45:06.612343Z\", \"duration\": \"0:00:50\", \"iteration\": \"61\", \"goal\": \"AUC_weighted_max\", \"run_name\": \"StandardScalerWrapper, XGBoostClassifier\", \"run_properties\": \"\\n    copy=True,\\n    with_mean=False,\\n    with_std=False\\n\", \"primary_metric\": 0.67044825, \"best_metric\": 0.67044825}, {\"run_id\": \"AutoML_7e5dbc65-c4d9-453a-8134-1b990e99bce3_62\", \"run_number\": 67, \"metric\": null, \"status\": \"Canceled\", \"run_type\": \"azureml.scriptrun\", \"training_percent\": \"100\", \"start_time\": \"2021-08-21T02:45:29.316665Z\", \"end_time\": \"2021-08-21T02:45:57.190493Z\", \"created_time\": \"2021-08-21T02:45:11.324227Z\", \"created_time_dt\": \"2021-08-21T02:45:11.324227Z\", \"duration\": \"0:00:45\", \"iteration\": \"62\", \"goal\": \"AUC_weighted_max\", \"run_name\": \"StandardScalerWrapper, XGBoostClassifier\", \"run_properties\": \"\\n    copy=True,\\n    with_mean=False,\\n    with_std=False\\n\", \"primary_metric\": 0.65145385, \"best_metric\": 0.67044825}, {\"run_id\": \"AutoML_7e5dbc65-c4d9-453a-8134-1b990e99bce3_63\", \"run_number\": 68, \"metric\": null, \"status\": \"Canceled\", \"run_type\": \"azureml.scriptrun\", \"training_percent\": \"100\", \"start_time\": \"2021-08-21T02:45:32.090338Z\", \"end_time\": \"2021-08-21T02:45:57.055414Z\", \"created_time\": \"2021-08-21T02:45:14.082019Z\", \"created_time_dt\": \"2021-08-21T02:45:14.082019Z\", \"duration\": \"0:00:42\", \"iteration\": \"63\", \"goal\": \"AUC_weighted_max\", \"run_name\": \"StandardScalerWrapper, SVM\", \"run_properties\": \"\\n    copy=True,\\n    with_mean=True,\\n    with_std=True\\n\", \"primary_metric\": 0.65850821, \"best_metric\": 0.67044825}, {\"run_id\": \"AutoML_7e5dbc65-c4d9-453a-8134-1b990e99bce3_64\", \"run_number\": 69, \"metric\": null, \"status\": \"Completed\", \"run_type\": \"azureml.scriptrun\", \"training_percent\": \"100\", \"start_time\": \"2021-08-21T02:46:20.454837Z\", \"end_time\": \"2021-08-21T02:48:02.8487Z\", \"created_time\": \"2021-08-21T02:46:00.439072Z\", \"created_time_dt\": \"2021-08-21T02:46:00.439072Z\", \"duration\": \"0:02:02\", \"iteration\": \"64\", \"goal\": \"AUC_weighted_max\", \"run_name\": \"RobustScaler, SVM\", \"run_properties\": \"copy=True, quantile_range=[10, 90], with_centering=False,\\n             with_scaling=False\", \"primary_metric\": 0.51489177, \"best_metric\": 0.67044825}, {\"run_id\": \"AutoML_7e5dbc65-c4d9-453a-8134-1b990e99bce3_66\", \"run_number\": 70, \"metric\": null, \"status\": \"Completed\", \"run_type\": \"azureml.scriptrun\", \"training_percent\": \"100\", \"start_time\": \"2021-08-21T02:46:20.6612Z\", \"end_time\": \"2021-08-21T02:47:02.752717Z\", \"created_time\": \"2021-08-21T02:46:00.453381Z\", \"created_time_dt\": \"2021-08-21T02:46:00.453381Z\", \"duration\": \"0:01:02\", \"iteration\": \"66\", \"goal\": \"AUC_weighted_max\", \"run_name\": \"StandardScalerWrapper, XGBoostClassifier\", \"run_properties\": \"\\n    copy=True,\\n    with_mean=False,\\n    with_std=False\\n\", \"primary_metric\": 0.65379953, \"best_metric\": 0.67044825}, {\"run_id\": \"AutoML_7e5dbc65-c4d9-453a-8134-1b990e99bce3_70\", \"run_number\": 71, \"metric\": null, \"status\": \"Completed\", \"run_type\": \"azureml.scriptrun\", \"training_percent\": \"100\", \"start_time\": \"2021-08-21T02:46:19.611326Z\", \"end_time\": \"2021-08-21T02:47:03.541178Z\", \"created_time\": \"2021-08-21T02:46:00.463697Z\", \"created_time_dt\": \"2021-08-21T02:46:00.463697Z\", \"duration\": \"0:01:03\", \"iteration\": \"70\", \"goal\": \"AUC_weighted_max\", \"run_name\": \"RobustScaler, SVM\", \"run_properties\": \"copy=True, quantile_range=[25, 75], with_centering=False,\\n             with_scaling=True\", \"primary_metric\": 0.66790033, \"best_metric\": 0.67044825}, {\"run_id\": \"AutoML_7e5dbc65-c4d9-453a-8134-1b990e99bce3_68\", \"run_number\": 72, \"metric\": null, \"status\": \"Completed\", \"run_type\": \"azureml.scriptrun\", \"training_percent\": \"100\", \"start_time\": \"2021-08-21T02:46:20.539043Z\", \"end_time\": \"2021-08-21T02:47:02.710854Z\", \"created_time\": \"2021-08-21T02:46:00.469344Z\", \"created_time_dt\": \"2021-08-21T02:46:00.469344Z\", \"duration\": \"0:01:02\", \"iteration\": \"68\", \"goal\": \"AUC_weighted_max\", \"run_name\": \"MinMaxScaler, LightGBM\", \"run_properties\": \"copy=True, feature_range=(0, 1\", \"primary_metric\": 0.59164094, \"best_metric\": 0.67044825}, {\"run_id\": \"AutoML_7e5dbc65-c4d9-453a-8134-1b990e99bce3_72\", \"run_number\": 73, \"metric\": null, \"status\": \"Completed\", \"run_type\": \"azureml.scriptrun\", \"training_percent\": \"100\", \"start_time\": \"2021-08-21T02:46:20.497571Z\", \"end_time\": \"2021-08-21T02:47:02.78562Z\", \"created_time\": \"2021-08-21T02:46:00.4862Z\", \"created_time_dt\": \"2021-08-21T02:46:00.4862Z\", \"duration\": \"0:01:02\", \"iteration\": \"72\", \"goal\": \"AUC_weighted_max\", \"run_name\": \"StandardScalerWrapper, XGBoostClassifier\", \"run_properties\": \"\\n    copy=True,\\n    with_mean=False,\\n    with_std=False\\n\", \"primary_metric\": 0.61896259, \"best_metric\": 0.67044825}, {\"run_id\": \"AutoML_7e5dbc65-c4d9-453a-8134-1b990e99bce3_69\", \"run_number\": 74, \"metric\": null, \"status\": \"Completed\", \"run_type\": \"azureml.scriptrun\", \"training_percent\": \"100\", \"start_time\": \"2021-08-21T02:46:19.443487Z\", \"end_time\": \"2021-08-21T02:47:03.327485Z\", \"created_time\": \"2021-08-21T02:46:00.455716Z\", \"created_time_dt\": \"2021-08-21T02:46:00.455716Z\", \"duration\": \"0:01:02\", \"iteration\": \"69\", \"goal\": \"AUC_weighted_max\", \"run_name\": \"StandardScalerWrapper, XGBoostClassifier\", \"run_properties\": \"\\n    copy=True,\\n    with_mean=False,\\n    with_std=False\\n\", \"primary_metric\": 0.64586882, \"best_metric\": 0.67044825}, {\"run_id\": \"AutoML_7e5dbc65-c4d9-453a-8134-1b990e99bce3_67\", \"run_number\": 75, \"metric\": null, \"status\": \"Completed\", \"run_type\": \"azureml.scriptrun\", \"training_percent\": \"100\", \"start_time\": \"2021-08-21T02:46:25.292407Z\", \"end_time\": \"2021-08-21T02:48:05.416965Z\", \"created_time\": \"2021-08-21T02:46:00.456612Z\", \"created_time_dt\": \"2021-08-21T02:46:00.456612Z\", \"duration\": \"0:02:04\", \"iteration\": \"67\", \"goal\": \"AUC_weighted_max\", \"run_name\": \"StandardScalerWrapper, ExtremeRandomTrees\", \"run_properties\": \"\\n    copy=True,\\n    with_mean=False,\\n    with_std=True\\n\", \"primary_metric\": 0.61399616, \"best_metric\": 0.67044825}, {\"run_id\": \"AutoML_7e5dbc65-c4d9-453a-8134-1b990e99bce3_71\", \"run_number\": 76, \"metric\": null, \"status\": \"Completed\", \"run_type\": \"azureml.scriptrun\", \"training_percent\": \"100\", \"start_time\": \"2021-08-21T02:46:25.567796Z\", \"end_time\": \"2021-08-21T02:47:09.205849Z\", \"created_time\": \"2021-08-21T02:46:00.462452Z\", \"created_time_dt\": \"2021-08-21T02:46:00.462452Z\", \"duration\": \"0:01:08\", \"iteration\": \"71\", \"goal\": \"AUC_weighted_max\", \"run_name\": \"StandardScalerWrapper, XGBoostClassifier\", \"run_properties\": \"\\n    copy=True,\\n    with_mean=False,\\n    with_std=False\\n\", \"primary_metric\": 0.62929569, \"best_metric\": 0.67044825}, {\"run_id\": \"AutoML_7e5dbc65-c4d9-453a-8134-1b990e99bce3_65\", \"run_number\": 77, \"metric\": null, \"status\": \"Completed\", \"run_type\": \"azureml.scriptrun\", \"training_percent\": \"100\", \"start_time\": \"2021-08-21T02:46:35.365057Z\", \"end_time\": \"2021-08-21T02:48:18.255299Z\", \"created_time\": \"2021-08-21T02:46:00.45884Z\", \"created_time_dt\": \"2021-08-21T02:46:00.45884Z\", \"duration\": \"0:02:17\", \"iteration\": \"65\", \"goal\": \"AUC_weighted_max\", \"run_name\": \"StandardScalerWrapper, SVM\", \"run_properties\": \"\\n    copy=True,\\n    with_mean=True,\\n    with_std=False\\n\", \"primary_metric\": 0.5051798, \"best_metric\": 0.67044825}, {\"run_id\": \"AutoML_7e5dbc65-c4d9-453a-8134-1b990e99bce3_74\", \"run_number\": 78, \"metric\": null, \"status\": \"Completed\", \"run_type\": \"azureml.scriptrun\", \"training_percent\": \"100\", \"start_time\": \"2021-08-21T02:47:26.701449Z\", \"end_time\": \"2021-08-21T02:48:09.509328Z\", \"created_time\": \"2021-08-21T02:47:06.470219Z\", \"created_time_dt\": \"2021-08-21T02:47:06.470219Z\", \"duration\": \"0:01:03\", \"iteration\": \"74\", \"goal\": \"AUC_weighted_max\", \"run_name\": \"SparseNormalizer, XGBoostClassifier\", \"run_properties\": \"copy=True, norm='l1'\", \"primary_metric\": 0.57669396, \"best_metric\": 0.67044825}, {\"run_id\": \"AutoML_7e5dbc65-c4d9-453a-8134-1b990e99bce3_75\", \"run_number\": 79, \"metric\": null, \"status\": \"Canceled\", \"run_type\": \"azureml.scriptrun\", \"training_percent\": \"100\", \"start_time\": \"2021-08-21T02:47:26.7626Z\", \"end_time\": \"2021-08-21T02:49:07.954014Z\", \"created_time\": \"2021-08-21T02:47:06.496787Z\", \"created_time_dt\": \"2021-08-21T02:47:06.496787Z\", \"duration\": \"0:02:01\", \"iteration\": \"75\", \"goal\": \"AUC_weighted_max\", \"run_name\": \"RobustScaler, SVM\", \"run_properties\": \"copy=True, quantile_range=[25, 75], with_centering=False,\\n             with_scaling=True\", \"primary_metric\": 0.68103494, \"best_metric\": 0.68103494}, {\"run_id\": \"AutoML_7e5dbc65-c4d9-453a-8134-1b990e99bce3_73\", \"run_number\": 80, \"metric\": null, \"status\": \"Completed\", \"run_type\": \"azureml.scriptrun\", \"training_percent\": \"100\", \"start_time\": \"2021-08-21T02:47:26.290705Z\", \"end_time\": \"2021-08-21T02:48:09.375274Z\", \"created_time\": \"2021-08-21T02:47:06.472363Z\", \"created_time_dt\": \"2021-08-21T02:47:06.472363Z\", \"duration\": \"0:01:02\", \"iteration\": \"73\", \"goal\": \"AUC_weighted_max\", \"run_name\": \"StandardScalerWrapper, XGBoostClassifier\", \"run_properties\": \"\\n    copy=True,\\n    with_mean=False,\\n    with_std=False\\n\", \"primary_metric\": 0.62446043, \"best_metric\": 0.67044825}, {\"run_id\": \"AutoML_7e5dbc65-c4d9-453a-8134-1b990e99bce3_76\", \"run_number\": 81, \"metric\": null, \"status\": \"Completed\", \"run_type\": \"azureml.scriptrun\", \"training_percent\": \"100\", \"start_time\": \"2021-08-21T02:47:28.77691Z\", \"end_time\": \"2021-08-21T02:48:13.366702Z\", \"created_time\": \"2021-08-21T02:47:11.618404Z\", \"created_time_dt\": \"2021-08-21T02:47:11.618404Z\", \"duration\": \"0:01:01\", \"iteration\": \"76\", \"goal\": \"AUC_weighted_max\", \"run_name\": \"StandardScalerWrapper, XGBoostClassifier\", \"run_properties\": \"\\n    copy=True,\\n    with_mean=False,\\n    with_std=False\\n\", \"primary_metric\": 0.65508787, \"best_metric\": 0.68103494}, {\"run_id\": \"AutoML_7e5dbc65-c4d9-453a-8134-1b990e99bce3_77\", \"run_number\": 82, \"metric\": null, \"status\": \"Canceled\", \"run_type\": \"azureml.scriptrun\", \"training_percent\": \"100\", \"start_time\": \"2021-08-21T02:47:29.743875Z\", \"end_time\": \"2021-08-21T02:49:07.710121Z\", \"created_time\": \"2021-08-21T02:47:11.622867Z\", \"created_time_dt\": \"2021-08-21T02:47:11.622867Z\", \"duration\": \"0:01:56\", \"iteration\": \"77\", \"goal\": \"AUC_weighted_max\", \"run_name\": \"StandardScalerWrapper, SVM\", \"run_properties\": \"\\n    copy=True,\\n    with_mean=False,\\n    with_std=True\\n\", \"primary_metric\": 0.66863979, \"best_metric\": 0.68103494}, {\"run_id\": \"AutoML_7e5dbc65-c4d9-453a-8134-1b990e99bce3_78\", \"run_number\": 83, \"metric\": null, \"status\": \"Canceled\", \"run_type\": \"azureml.scriptrun\", \"training_percent\": \"100\", \"start_time\": \"2021-08-21T02:47:31.644235Z\", \"end_time\": \"2021-08-21T02:49:07.764337Z\", \"created_time\": \"2021-08-21T02:47:14.667373Z\", \"created_time_dt\": \"2021-08-21T02:47:14.667373Z\", \"duration\": \"0:01:53\", \"iteration\": \"78\", \"goal\": \"AUC_weighted_max\", \"run_name\": \"StandardScalerWrapper, XGBoostClassifier\", \"run_properties\": \"\\n    copy=True,\\n    with_mean=False,\\n    with_std=False\\n\", \"primary_metric\": 0.6439351, \"best_metric\": 0.68103494}, {\"run_id\": \"AutoML_7e5dbc65-c4d9-453a-8134-1b990e99bce3_79\", \"run_number\": 84, \"metric\": null, \"status\": \"Completed\", \"run_type\": \"azureml.scriptrun\", \"training_percent\": \"100\", \"start_time\": \"2021-08-21T02:48:24.933469Z\", \"end_time\": \"2021-08-21T02:49:06.870129Z\", \"created_time\": \"2021-08-21T02:48:04.727465Z\", \"created_time_dt\": \"2021-08-21T02:48:04.727465Z\", \"duration\": \"0:01:02\", \"iteration\": \"79\", \"goal\": \"AUC_weighted_max\", \"run_name\": \"StandardScalerWrapper, XGBoostClassifier\", \"run_properties\": \"\\n    copy=True,\\n    with_mean=False,\\n    with_std=False\\n\", \"primary_metric\": 0.65301056, \"best_metric\": 0.68103494}, {\"run_id\": \"AutoML_7e5dbc65-c4d9-453a-8134-1b990e99bce3_80\", \"run_number\": 85, \"metric\": null, \"status\": \"Canceled\", \"run_type\": \"azureml.scriptrun\", \"training_percent\": \"100\", \"start_time\": \"2021-08-21T02:48:29.086163Z\", \"end_time\": \"2021-08-21T02:49:07.780231Z\", \"created_time\": \"2021-08-21T02:48:08.708142Z\", \"created_time_dt\": \"2021-08-21T02:48:08.708142Z\", \"duration\": \"0:00:59\", \"iteration\": \"80\", \"goal\": \"AUC_weighted_max\", \"run_name\": \"StandardScalerWrapper, XGBoostClassifier\", \"run_properties\": \"\\n    copy=True,\\n    with_mean=False,\\n    with_std=False\\n\", \"primary_metric\": 0.65178624, \"best_metric\": 0.68103494}, {\"run_id\": \"AutoML_7e5dbc65-c4d9-453a-8134-1b990e99bce3_81\", \"run_number\": 86, \"metric\": null, \"status\": \"Canceled\", \"run_type\": \"azureml.scriptrun\", \"training_percent\": \"100\", \"start_time\": \"2021-08-21T02:48:31.106134Z\", \"end_time\": \"2021-08-21T02:49:07.788296Z\", \"created_time\": \"2021-08-21T02:48:12.204007Z\", \"created_time_dt\": \"2021-08-21T02:48:12.204007Z\", \"duration\": \"0:00:55\", \"iteration\": \"81\", \"goal\": \"AUC_weighted_max\", \"run_name\": \"StandardScalerWrapper, XGBoostClassifier\", \"run_properties\": \"\\n    copy=True,\\n    with_mean=False,\\n    with_std=False\\n\", \"primary_metric\": 0.6415149, \"best_metric\": 0.68103494}, {\"run_id\": \"AutoML_7e5dbc65-c4d9-453a-8134-1b990e99bce3_82\", \"run_number\": 87, \"metric\": null, \"status\": \"Canceled\", \"run_type\": \"azureml.scriptrun\", \"training_percent\": \"100\", \"start_time\": \"2021-08-21T02:48:24.80187Z\", \"end_time\": \"2021-08-21T02:49:07.79811Z\", \"created_time\": \"2021-08-21T02:48:13.259617Z\", \"created_time_dt\": \"2021-08-21T02:48:13.259617Z\", \"duration\": \"0:00:54\", \"iteration\": \"82\", \"goal\": \"AUC_weighted_max\", \"run_name\": \"StandardScalerWrapper, LightGBM\", \"run_properties\": \"\\n    copy=True,\\n    with_mean=False,\\n    with_std=True\\n\", \"primary_metric\": 0.63311331, \"best_metric\": 0.68103494}, {\"run_id\": \"AutoML_7e5dbc65-c4d9-453a-8134-1b990e99bce3_83\", \"run_number\": 88, \"metric\": null, \"status\": \"Canceled\", \"run_type\": \"azureml.scriptrun\", \"training_percent\": \"100\", \"start_time\": \"2021-08-21T02:48:34.479053Z\", \"end_time\": \"2021-08-21T02:49:07.847471Z\", \"created_time\": \"2021-08-21T02:48:16.645265Z\", \"created_time_dt\": \"2021-08-21T02:48:16.645265Z\", \"duration\": \"0:00:51\", \"iteration\": \"83\", \"goal\": \"AUC_weighted_max\", \"run_name\": \"StandardScalerWrapper, XGBoostClassifier\", \"run_properties\": \"\\n    copy=True,\\n    with_mean=False,\\n    with_std=False\\n\", \"primary_metric\": 0.64968738, \"best_metric\": 0.68103494}, {\"run_id\": \"AutoML_7e5dbc65-c4d9-453a-8134-1b990e99bce3_84\", \"run_number\": 89, \"metric\": null, \"status\": \"Canceled\", \"run_type\": \"azureml.scriptrun\", \"training_percent\": \"100\", \"start_time\": \"2021-08-21T02:48:29.166923Z\", \"end_time\": \"2021-08-21T02:49:07.763894Z\", \"created_time\": \"2021-08-21T02:48:20.128894Z\", \"created_time_dt\": \"2021-08-21T02:48:20.128894Z\", \"duration\": \"0:00:47\", \"iteration\": \"84\", \"goal\": \"AUC_weighted_max\", \"run_name\": \"StandardScalerWrapper, XGBoostClassifier\", \"run_properties\": \"\\n    copy=True,\\n    with_mean=False,\\n    with_std=False\\n\", \"primary_metric\": 0.65295746, \"best_metric\": 0.68103494}, {\"run_id\": \"AutoML_7e5dbc65-c4d9-453a-8134-1b990e99bce3_86\", \"run_number\": 90, \"metric\": null, \"status\": \"Completed\", \"run_type\": \"azureml.scriptrun\", \"training_percent\": \"100\", \"start_time\": \"2021-08-21T02:49:30.303978Z\", \"end_time\": \"2021-08-21T02:50:13.609286Z\", \"created_time\": \"2021-08-21T02:49:11.285558Z\", \"created_time_dt\": \"2021-08-21T02:49:11.285558Z\", \"duration\": \"0:01:02\", \"iteration\": \"86\", \"goal\": \"AUC_weighted_max\", \"run_name\": \"SparseNormalizer, XGBoostClassifier\", \"run_properties\": \"copy=True, norm='l2'\", \"primary_metric\": 0.58193403, \"best_metric\": 0.68103494}, {\"run_id\": \"AutoML_7e5dbc65-c4d9-453a-8134-1b990e99bce3_91\", \"run_number\": 91, \"metric\": null, \"status\": \"Completed\", \"run_type\": \"azureml.scriptrun\", \"training_percent\": \"100\", \"start_time\": \"2021-08-21T02:49:31.580962Z\", \"end_time\": \"2021-08-21T02:51:13.354789Z\", \"created_time\": \"2021-08-21T02:49:11.294499Z\", \"created_time_dt\": \"2021-08-21T02:49:11.294499Z\", \"duration\": \"0:02:02\", \"iteration\": \"91\", \"goal\": \"AUC_weighted_max\", \"run_name\": \"StandardScalerWrapper, SVM\", \"run_properties\": \"\\n    copy=True,\\n    with_mean=False,\\n    with_std=True\\n\", \"primary_metric\": 0.66514636, \"best_metric\": 0.68103494}, {\"run_id\": \"AutoML_7e5dbc65-c4d9-453a-8134-1b990e99bce3_92\", \"run_number\": 92, \"metric\": null, \"status\": \"Completed\", \"run_type\": \"azureml.scriptrun\", \"training_percent\": \"100\", \"start_time\": \"2021-08-21T02:49:31.277517Z\", \"end_time\": \"2021-08-21T02:50:13.370836Z\", \"created_time\": \"2021-08-21T02:49:11.296458Z\", \"created_time_dt\": \"2021-08-21T02:49:11.296458Z\", \"duration\": \"0:01:02\", \"iteration\": \"92\", \"goal\": \"AUC_weighted_max\", \"run_name\": \"SparseNormalizer, XGBoostClassifier\", \"run_properties\": \"copy=True, norm='l1'\", \"primary_metric\": 0.60227214, \"best_metric\": 0.68103494}, {\"run_id\": \"AutoML_7e5dbc65-c4d9-453a-8134-1b990e99bce3_90\", \"run_number\": 93, \"metric\": null, \"status\": \"Completed\", \"run_type\": \"azureml.scriptrun\", \"training_percent\": \"100\", \"start_time\": \"2021-08-21T02:49:31.432404Z\", \"end_time\": \"2021-08-21T02:51:13.599203Z\", \"created_time\": \"2021-08-21T02:49:11.311895Z\", \"created_time_dt\": \"2021-08-21T02:49:11.311895Z\", \"duration\": \"0:02:02\", \"iteration\": \"90\", \"goal\": \"AUC_weighted_max\", \"run_name\": \"StandardScalerWrapper, SVM\", \"run_properties\": \"\\n    copy=True,\\n    with_mean=True,\\n    with_std=True\\n\", \"primary_metric\": 0.64131064, \"best_metric\": 0.68103494}, {\"run_id\": \"AutoML_7e5dbc65-c4d9-453a-8134-1b990e99bce3_93\", \"run_number\": 94, \"metric\": null, \"status\": \"Completed\", \"run_type\": \"azureml.scriptrun\", \"training_percent\": \"100\", \"start_time\": \"2021-08-21T02:49:31.329223Z\", \"end_time\": \"2021-08-21T02:50:13.926749Z\", \"created_time\": \"2021-08-21T02:49:11.323554Z\", \"created_time_dt\": \"2021-08-21T02:49:11.323554Z\", \"duration\": \"0:01:02\", \"iteration\": \"93\", \"goal\": \"AUC_weighted_max\", \"run_name\": \"StandardScalerWrapper, XGBoostClassifier\", \"run_properties\": \"\\n    copy=True,\\n    with_mean=False,\\n    with_std=False\\n\", \"primary_metric\": 0.63799236, \"best_metric\": 0.68103494}, {\"run_id\": \"AutoML_7e5dbc65-c4d9-453a-8134-1b990e99bce3_87\", \"run_number\": 95, \"metric\": null, \"status\": \"Completed\", \"run_type\": \"azureml.scriptrun\", \"training_percent\": \"100\", \"start_time\": \"2021-08-21T02:49:23.64665Z\", \"end_time\": \"2021-08-21T02:51:13.494355Z\", \"created_time\": \"2021-08-21T02:49:11.331252Z\", \"created_time_dt\": \"2021-08-21T02:49:11.331252Z\", \"duration\": \"0:02:02\", \"iteration\": \"87\", \"goal\": \"AUC_weighted_max\", \"run_name\": \"StandardScalerWrapper, SVM\", \"run_properties\": \"\\n    copy=True,\\n    with_mean=True,\\n    with_std=True\\n\", \"primary_metric\": 0.64276126, \"best_metric\": 0.68103494}, {\"run_id\": \"AutoML_7e5dbc65-c4d9-453a-8134-1b990e99bce3_85\", \"run_number\": 96, \"metric\": null, \"status\": \"Completed\", \"run_type\": \"azureml.scriptrun\", \"training_percent\": \"100\", \"start_time\": \"2021-08-21T02:49:31.279297Z\", \"end_time\": \"2021-08-21T02:50:14.236074Z\", \"created_time\": \"2021-08-21T02:49:11.285716Z\", \"created_time_dt\": \"2021-08-21T02:49:11.285716Z\", \"duration\": \"0:01:02\", \"iteration\": \"85\", \"goal\": \"AUC_weighted_max\", \"run_name\": \"StandardScalerWrapper, XGBoostClassifier\", \"run_properties\": \"\\n    copy=True,\\n    with_mean=False,\\n    with_std=False\\n\", \"primary_metric\": 0.65222934, \"best_metric\": 0.68103494}, {\"run_id\": \"AutoML_7e5dbc65-c4d9-453a-8134-1b990e99bce3_89\", \"run_number\": 97, \"metric\": null, \"status\": \"Completed\", \"run_type\": \"azureml.scriptrun\", \"training_percent\": \"100\", \"start_time\": \"2021-08-21T02:49:31.222137Z\", \"end_time\": \"2021-08-21T02:51:16.173076Z\", \"created_time\": \"2021-08-21T02:49:11.296251Z\", \"created_time_dt\": \"2021-08-21T02:49:11.296251Z\", \"duration\": \"0:02:04\", \"iteration\": \"89\", \"goal\": \"AUC_weighted_max\", \"run_name\": \"StandardScalerWrapper, SVM\", \"run_properties\": \"\\n    copy=True,\\n    with_mean=True,\\n    with_std=True\\n\", \"primary_metric\": 0.64446054, \"best_metric\": 0.68103494}, {\"run_id\": \"AutoML_7e5dbc65-c4d9-453a-8134-1b990e99bce3_88\", \"run_number\": 98, \"metric\": null, \"status\": \"Completed\", \"run_type\": \"azureml.scriptrun\", \"training_percent\": \"100\", \"start_time\": \"2021-08-21T02:49:37.892935Z\", \"end_time\": \"2021-08-21T02:51:20.214906Z\", \"created_time\": \"2021-08-21T02:49:11.295951Z\", \"created_time_dt\": \"2021-08-21T02:49:11.295951Z\", \"duration\": \"0:02:08\", \"iteration\": \"88\", \"goal\": \"AUC_weighted_max\", \"run_name\": \"StandardScalerWrapper, SVM\", \"run_properties\": \"\\n    copy=True,\\n    with_mean=True,\\n    with_std=True\\n\", \"primary_metric\": 0.63811893, \"best_metric\": 0.68103494}, {\"run_id\": \"AutoML_7e5dbc65-c4d9-453a-8134-1b990e99bce3_94\", \"run_number\": 99, \"metric\": null, \"status\": \"Canceled\", \"run_type\": \"azureml.scriptrun\", \"training_percent\": \"100\", \"start_time\": \"2021-08-21T02:50:41.983546Z\", \"end_time\": \"2021-08-21T02:51:27.048095Z\", \"created_time\": \"2021-08-21T02:50:17.828399Z\", \"created_time_dt\": \"2021-08-21T02:50:17.828399Z\", \"duration\": \"0:01:09\", \"iteration\": \"94\", \"goal\": \"AUC_weighted_max\", \"run_name\": \"SparseNormalizer, SVM\", \"run_properties\": \"copy=True, norm='l2'\", \"primary_metric\": 0.48722153, \"best_metric\": 0.68103494}, {\"run_id\": \"AutoML_7e5dbc65-c4d9-453a-8134-1b990e99bce3_95\", \"run_number\": 100, \"metric\": null, \"status\": \"Completed\", \"run_type\": \"azureml.scriptrun\", \"training_percent\": \"100\", \"start_time\": \"2021-08-21T02:50:40.565654Z\", \"end_time\": \"2021-08-21T02:51:21.603212Z\", \"created_time\": \"2021-08-21T02:50:17.829327Z\", \"created_time_dt\": \"2021-08-21T02:50:17.829327Z\", \"duration\": \"0:01:03\", \"iteration\": \"95\", \"goal\": \"AUC_weighted_max\", \"run_name\": \"RobustScaler, KNN\", \"run_properties\": \"copy=True, quantile_range=[10, 90], with_centering=True,\\n             with_scaling=False\", \"primary_metric\": 0.51883321, \"best_metric\": 0.68103494}, {\"run_id\": \"AutoML_7e5dbc65-c4d9-453a-8134-1b990e99bce3_96\", \"run_number\": 101, \"metric\": null, \"status\": \"Completed\", \"run_type\": \"azureml.scriptrun\", \"training_percent\": \"100\", \"start_time\": \"2021-08-21T02:50:41.031151Z\", \"end_time\": \"2021-08-21T02:51:24.296324Z\", \"created_time\": \"2021-08-21T02:50:21.975582Z\", \"created_time_dt\": \"2021-08-21T02:50:21.975582Z\", \"duration\": \"0:01:02\", \"iteration\": \"96\", \"goal\": \"AUC_weighted_max\", \"run_name\": \"StandardScalerWrapper, XGBoostClassifier\", \"run_properties\": \"\\n    copy=True,\\n    with_mean=False,\\n    with_std=False\\n\", \"primary_metric\": 0.6447058, \"best_metric\": 0.68103494}, {\"run_id\": \"AutoML_7e5dbc65-c4d9-453a-8134-1b990e99bce3_97\", \"run_number\": 102, \"metric\": null, \"status\": \"Completed\", \"run_type\": \"azureml.scriptrun\", \"training_percent\": \"100\", \"start_time\": \"2021-08-21T02:50:40.395523Z\", \"end_time\": \"2021-08-21T02:51:23.782491Z\", \"created_time\": \"2021-08-21T02:50:21.984282Z\", \"created_time_dt\": \"2021-08-21T02:50:21.984282Z\", \"duration\": \"0:01:01\", \"iteration\": \"97\", \"goal\": \"AUC_weighted_max\", \"run_name\": \"StandardScalerWrapper, XGBoostClassifier\", \"run_properties\": \"\\n    copy=True,\\n    with_mean=False,\\n    with_std=False\\n\", \"primary_metric\": 0.65756721, \"best_metric\": 0.68103494}, {\"run_id\": \"AutoML_7e5dbc65-c4d9-453a-8134-1b990e99bce3_98\", \"run_number\": 103, \"metric\": null, \"status\": \"Canceled\", \"run_type\": \"azureml.scriptrun\", \"training_percent\": \"100\", \"start_time\": \"2021-08-21T02:51:16.693372Z\", \"end_time\": \"2021-08-21T02:51:27.121926Z\", \"created_time\": \"2021-08-21T02:51:16.693372Z\", \"created_time_dt\": \"2021-08-21T02:51:16.693372Z\", \"duration\": \"0:00:10\", \"iteration\": \"98\", \"goal\": null, \"run_name\": \"Canceled\", \"run_properties\": null}, {\"run_id\": \"AutoML_7e5dbc65-c4d9-453a-8134-1b990e99bce3_100\", \"run_number\": 104, \"metric\": null, \"status\": \"Canceled\", \"run_type\": \"azureml.scriptrun\", \"training_percent\": \"100\", \"start_time\": \"2021-08-21T02:51:16.713319Z\", \"end_time\": \"2021-08-21T02:51:26.978186Z\", \"created_time\": \"2021-08-21T02:51:16.713319Z\", \"created_time_dt\": \"2021-08-21T02:51:16.713319Z\", \"duration\": \"0:00:10\", \"iteration\": \"100\", \"goal\": null, \"run_name\": \"Canceled\", \"run_properties\": null}, {\"run_id\": \"AutoML_7e5dbc65-c4d9-453a-8134-1b990e99bce3_99\", \"run_number\": 105, \"metric\": null, \"status\": \"Canceled\", \"run_type\": \"azureml.scriptrun\", \"training_percent\": \"100\", \"start_time\": \"2021-08-21T02:51:16.736518Z\", \"end_time\": \"2021-08-21T02:51:27.052015Z\", \"created_time\": \"2021-08-21T02:51:16.736518Z\", \"created_time_dt\": \"2021-08-21T02:51:16.736518Z\", \"duration\": \"0:00:10\", \"iteration\": \"99\", \"goal\": null, \"run_name\": \"Canceled\", \"run_properties\": null}, {\"run_id\": \"AutoML_7e5dbc65-c4d9-453a-8134-1b990e99bce3_101\", \"run_number\": 106, \"metric\": null, \"status\": \"Canceled\", \"run_type\": \"azureml.scriptrun\", \"training_percent\": \"100\", \"start_time\": \"2021-08-21T02:51:20.017769Z\", \"end_time\": \"2021-08-21T02:51:27.088075Z\", \"created_time\": \"2021-08-21T02:51:20.017769Z\", \"created_time_dt\": \"2021-08-21T02:51:20.017769Z\", \"duration\": \"0:00:07\", \"iteration\": \"101\", \"goal\": null, \"run_name\": \"Canceled\", \"run_properties\": null}, {\"run_id\": \"AutoML_7e5dbc65-c4d9-453a-8134-1b990e99bce3_102\", \"run_number\": 107, \"metric\": null, \"status\": \"Canceled\", \"run_type\": \"azureml.scriptrun\", \"training_percent\": \"100\", \"start_time\": \"2021-08-21T02:51:23.449501Z\", \"end_time\": \"2021-08-21T02:51:27.124933Z\", \"created_time\": \"2021-08-21T02:51:23.449501Z\", \"created_time_dt\": \"2021-08-21T02:51:23.449501Z\", \"duration\": \"0:00:03\", \"iteration\": \"102\", \"goal\": null, \"run_name\": \"Canceled\", \"run_properties\": null}, {\"run_id\": \"AutoML_7e5dbc65-c4d9-453a-8134-1b990e99bce3_103\", \"run_number\": 108, \"metric\": null, \"status\": \"Completed\", \"run_type\": \"azureml.scriptrun\", \"training_percent\": \"100\", \"start_time\": \"2021-08-21T02:51:46.680895Z\", \"end_time\": \"2021-08-21T02:53:30.449997Z\", \"created_time\": \"2021-08-21T02:51:28.134437Z\", \"created_time_dt\": \"2021-08-21T02:51:28.134437Z\", \"duration\": \"0:02:02\", \"iteration\": \"103\", \"goal\": \"AUC_weighted_max\", \"run_name\": \"VotingEnsemble\", \"run_properties\": \"\\n    estimators=[('75', Pipeline(\\n        memory=None,\\n        steps=[('robustscaler', RobustScaler(\\n            copy=True,\\n            quantile_range=[25, 75],\\n            with_centering=False,\\n            with_scaling=True\\n        \", \"primary_metric\": 0.69623319, \"best_metric\": 0.69623319}, {\"run_id\": \"AutoML_7e5dbc65-c4d9-453a-8134-1b990e99bce3_104\", \"run_number\": 109, \"metric\": null, \"status\": \"Completed\", \"run_type\": \"azureml.scriptrun\", \"training_percent\": \"100\", \"start_time\": \"2021-08-21T02:51:47.713485Z\", \"end_time\": \"2021-08-21T02:53:30.793181Z\", \"created_time\": \"2021-08-21T02:51:28.162472Z\", \"created_time_dt\": \"2021-08-21T02:51:28.162472Z\", \"duration\": \"0:02:02\", \"iteration\": \"104\", \"goal\": \"AUC_weighted_max\", \"run_name\": \"StackEnsemble\", \"run_properties\": \"\\n    base_learners=[('75', Pipeline(\\n        memory=None,\\n        steps=[('robustscaler', RobustScaler(\\n            copy=True,\\n            quantile_range=[25, 75],\\n            with_centering=False,\\n            with_scaling=True\\n        \", \"primary_metric\": 0.69405115, \"best_metric\": 0.69623319}], \"children_metrics\": {\"categories\": [0], \"series\": {\"norm_macro_recall\": [{\"categories\": [\"0\", \"1\", \"2\", \"3\", \"4\", \"5\", \"6\", \"7\", \"8\", \"9\", \"10\", \"11\", \"12\", \"13\", \"14\", \"15\", \"16\", \"17\", \"18\", \"19\", \"20\", \"21\", \"22\", \"23\", \"24\", \"25\", \"26\", \"27\", \"28\", \"29\", \"30\", \"31\", \"32\", \"33\", \"34\", \"35\", \"36\", \"37\", \"38\", \"39\", \"40\", \"41\", \"42\", \"43\", \"44\", \"45\", \"46\", \"47\", \"48\", \"49\", \"50\", \"51\", \"52\", \"53\", \"54\", \"55\", \"56\", \"57\", \"58\", \"59\", \"60\", \"61\", \"62\", \"63\", \"64\", \"65\", \"66\", \"67\", \"68\", \"69\", \"70\", \"71\", \"72\", \"73\", \"74\", \"75\", \"76\", \"77\", \"78\", \"79\", \"80\", \"81\", \"82\", \"83\", \"84\", \"85\", \"86\", \"87\", \"88\", \"89\", \"90\", \"91\", \"92\", \"93\", \"94\", \"95\", \"96\", \"97\", \"103\", \"104\"], \"mode\": \"markers\", \"name\": \"norm_macro_recall\", \"stepped\": false, \"type\": \"scatter\", \"data\": [0.22030140436642567, 0.12901208670616082, 0.0057661756023926385, 0.10806620416730787, 0.04689592373854327, 0.03421477777641976, 0.09622414828357595, 0.08396826997737117, 0.1712773510836961, 0.08658644219974539, 0.0036563575374312465, 0.10794671138006688, 0.0872800957506612, 0.04308256147616252, 0.13218473487072235, 0.09719825423849993, 0.0670129231971257, 0.20819026906999535, 0.048993988955888135, 0.141394745129204, 0.16169833435210199, 0.18851654133777584, 0.13456060053509603, 0.0, 0.18703413372197, 0.002109073290296859, 0.18022212163025805, 0.0036563575374312465, 0.18552621871995165, 0.18128621035959416, 0.0, 0.12094225460097847, 0.146384892023152, 0.18386650467346546, 0.0, 0.0027937237350437925, 0.19257436334339015, 0.14485894670215896, 0.0888908871052992, 0.06087330533187959, 0.14582773018331427, 0.14102034191780288, 0.0495834064693789, 0.0837451323496113, 0.18177485541277036, 0.0, 0.1441251615721578, 0.19984594766471533, 0.20020540604874273, 0.146583256227395, 0.0, 0.16683002010785408, 0.1626948501244747, 0.21018715352649772, 0.17990979590215428, 0.0, 0.2117757417449826, 0.18438452258731197, 0.21262001254382779, 0.13278910355364806, 0.0, 0.2202383415706568, 0.19613645934551172, 0.1548906603205802, 0.0, 0.0, 0.17839769301650366, 0.13584625532475658, 0.019367634551527308, 0.1696440740665932, 0.1865683665118877, 0.17947557487001956, 0.1477995544891205, 0.14620100172027964, 0.07227955922296843, 0.17380462139011868, 0.19290384279798803, 0.176360534646174, 0.16934310135810252, 0.21039585595729107, 0.17636384765763582, 0.18127081589619856, 0.1386461631882816, 0.14664094740791342, 0.20692526582631307, 0.18238503278701432, 0.1005997704241098, 0.13794968842865188, 0.12925895717018684, 0.1368211366836364, 0.13231260686836296, 0.17002445570292105, 0.13064902645286355, 0.14614830854968094, 0.0, 0.03599320105455339, 0.1641617522226643, 0.21615067690194603, 0.19661551862355134, 0.23487612102118116]}, {\"categories\": [\"0\", \"1\", \"2\", \"3\", \"4\", \"5\", \"6\", \"7\", \"8\", \"9\", \"10\", \"11\", \"12\", \"13\", \"14\", \"15\", \"16\", \"17\", \"18\", \"19\", \"20\", \"21\", \"22\", \"23\", \"24\", \"25\", \"26\", \"27\", \"28\", \"29\", \"30\", \"31\", \"32\", \"33\", \"34\", \"35\", \"36\", \"37\", \"38\", \"39\", \"40\", \"41\", \"42\", \"43\", \"44\", \"45\", \"46\", \"47\", \"48\", \"49\", \"50\", \"51\", \"52\", \"53\", \"54\", \"55\", \"56\", \"57\", \"58\", \"59\", \"60\", \"61\", \"62\", \"63\", \"64\", \"65\", \"66\", \"67\", \"68\", \"69\", \"70\", \"71\", \"72\", \"73\", \"74\", \"75\", \"76\", \"77\", \"78\", \"79\", \"80\", \"81\", \"82\", \"83\", \"84\", \"85\", \"86\", \"87\", \"88\", \"89\", \"90\", \"91\", \"92\", \"93\", \"94\", \"95\", \"96\", \"97\", \"103\", \"104\"], \"mode\": \"lines\", \"name\": \"norm_macro_recall_max\", \"stepped\": true, \"type\": \"scatter\", \"data\": [0.22030140436642567, 0.22030140436642567, 0.22030140436642567, 0.22030140436642567, 0.22030140436642567, 0.22030140436642567, 0.22030140436642567, 0.22030140436642567, 0.22030140436642567, 0.22030140436642567, 0.22030140436642567, 0.22030140436642567, 0.22030140436642567, 0.22030140436642567, 0.22030140436642567, 0.22030140436642567, 0.22030140436642567, 0.22030140436642567, 0.22030140436642567, 0.22030140436642567, 0.22030140436642567, 0.22030140436642567, 0.22030140436642567, 0.22030140436642567, 0.22030140436642567, 0.22030140436642567, 0.22030140436642567, 0.22030140436642567, 0.22030140436642567, 0.22030140436642567, 0.22030140436642567, 0.22030140436642567, 0.22030140436642567, 0.22030140436642567, 0.22030140436642567, 0.22030140436642567, 0.22030140436642567, 0.22030140436642567, 0.22030140436642567, 0.22030140436642567, 0.22030140436642567, 0.22030140436642567, 0.22030140436642567, 0.22030140436642567, 0.22030140436642567, 0.22030140436642567, 0.22030140436642567, 0.22030140436642567, 0.22030140436642567, 0.22030140436642567, 0.22030140436642567, 0.22030140436642567, 0.22030140436642567, 0.22030140436642567, 0.22030140436642567, 0.22030140436642567, 0.22030140436642567, 0.22030140436642567, 0.22030140436642567, 0.22030140436642567, 0.22030140436642567, 0.22030140436642567, 0.22030140436642567, 0.22030140436642567, 0.22030140436642567, 0.22030140436642567, 0.22030140436642567, 0.22030140436642567, 0.22030140436642567, 0.22030140436642567, 0.22030140436642567, 0.22030140436642567, 0.22030140436642567, 0.22030140436642567, 0.22030140436642567, 0.22030140436642567, 0.22030140436642567, 0.22030140436642567, 0.22030140436642567, 0.22030140436642567, 0.22030140436642567, 0.22030140436642567, 0.22030140436642567, 0.22030140436642567, 0.22030140436642567, 0.22030140436642567, 0.22030140436642567, 0.22030140436642567, 0.22030140436642567, 0.22030140436642567, 0.22030140436642567, 0.22030140436642567, 0.22030140436642567, 0.22030140436642567, 0.22030140436642567, 0.22030140436642567, 0.22030140436642567, 0.22030140436642567, 0.22030140436642567, 0.23487612102118116]}], \"weighted_accuracy\": [{\"categories\": [\"0\", \"1\", \"2\", \"3\", \"4\", \"5\", \"6\", \"7\", \"8\", \"9\", \"10\", \"11\", \"12\", \"13\", \"14\", \"15\", \"16\", \"17\", \"18\", \"19\", \"20\", \"21\", \"22\", \"23\", \"24\", \"25\", \"26\", \"27\", \"28\", \"29\", \"30\", \"31\", \"32\", \"33\", \"34\", \"35\", \"36\", \"37\", \"38\", \"39\", \"40\", \"41\", \"42\", \"43\", \"44\", \"45\", \"46\", \"47\", \"48\", \"49\", \"50\", \"51\", \"52\", \"53\", \"54\", \"55\", \"56\", \"57\", \"58\", \"59\", \"60\", \"61\", \"62\", \"63\", \"64\", \"65\", \"66\", \"67\", \"68\", \"69\", \"70\", \"71\", \"72\", \"73\", \"74\", \"75\", \"76\", \"77\", \"78\", \"79\", \"80\", \"81\", \"82\", \"83\", \"84\", \"85\", \"86\", \"87\", \"88\", \"89\", \"90\", \"91\", \"92\", \"93\", \"94\", \"95\", \"96\", \"97\", \"103\", \"104\"], \"mode\": \"markers\", \"name\": \"weighted_accuracy\", \"stepped\": false, \"type\": \"scatter\", \"data\": [0.6958261684549919, 0.7023110034068857, 0.7109182561785469, 0.6977781558391684, 0.7004826419937779, 0.6713224401356469, 0.7007569125166525, 0.5893145133272767, 0.7151055132865748, 0.7045964555301193, 0.7089894517213727, 0.7158134122723702, 0.6763730524738841, 0.6277203198152504, 0.5965420665444437, 0.6700936731561914, 0.7216376337243909, 0.6418652399131299, 0.6995389985048382, 0.5964813481456241, 0.7049393413928278, 0.7137303844614368, 0.7055731373031465, 0.4909234366238368, 0.6275855688617434, 0.700464297822965, 0.7151294549587056, 0.7089894517213727, 0.7092515800711165, 0.694893988575182, 0.7094562687688871, 0.7250988933934543, 0.7176855256713859, 0.7222223430339061, 0.7094562687688871, 0.709361938496702, 0.6850873784962804, 0.5874239775679246, 0.5619666468383651, 0.5649926337247405, 0.7173903088876745, 0.7055772693324865, 0.7201937167834619, 0.7059199738234683, 0.6958408260263674, 0.7094562687688871, 0.7070804223493345, 0.7021464354375772, 0.6921442843678017, 0.7111807211528215, 0.7094562687688871, 0.7118973337406885, 0.7102712462485545, 0.6800552683100308, 0.7088783239822631, 0.7094562687688871, 0.6979425974233813, 0.6899874653269519, 0.6619963320435381, 0.7069785057918813, 0.7094562687688871, 0.7103908606456626, 0.681136250492302, 0.7202486622856252, 0.7094562687688871, 0.7094562687688871, 0.7200537295596915, 0.6101105158681868, 0.7106055569116814, 0.7158719808145807, 0.7250696308799115, 0.6689066931516555, 0.6856187465897702, 0.6810943134529568, 0.6679620760907339, 0.7233037327165448, 0.6936780696728064, 0.7209392761180672, 0.6985395075325395, 0.7096326417209001, 0.713409008621512, 0.6989386644107699, 0.7089912851122909, 0.7134837634159364, 0.6919920861095349, 0.7118426240147517, 0.683047867775254, 0.7202894323532097, 0.7172314033568193, 0.7184797800244659, 0.7181700040907993, 0.7203610197330869, 0.655470750363128, 0.7043686320055103, 0.7094562687688871, 0.6437553446665255, 0.6968147935598342, 0.6901291078374756, 0.7385634926529638, 0.7277094739176057]}, {\"categories\": [\"0\", \"1\", \"2\", \"3\", \"4\", \"5\", \"6\", \"7\", \"8\", \"9\", \"10\", \"11\", \"12\", \"13\", \"14\", \"15\", \"16\", \"17\", \"18\", \"19\", \"20\", \"21\", \"22\", \"23\", \"24\", \"25\", \"26\", \"27\", \"28\", \"29\", \"30\", \"31\", \"32\", \"33\", \"34\", \"35\", \"36\", \"37\", \"38\", \"39\", \"40\", \"41\", \"42\", \"43\", \"44\", \"45\", \"46\", \"47\", \"48\", \"49\", \"50\", \"51\", \"52\", \"53\", \"54\", \"55\", \"56\", \"57\", \"58\", \"59\", \"60\", \"61\", \"62\", \"63\", \"64\", \"65\", \"66\", \"67\", \"68\", \"69\", \"70\", \"71\", \"72\", \"73\", \"74\", \"75\", \"76\", \"77\", \"78\", \"79\", \"80\", \"81\", \"82\", \"83\", \"84\", \"85\", \"86\", \"87\", \"88\", \"89\", \"90\", \"91\", \"92\", \"93\", \"94\", \"95\", \"96\", \"97\", \"103\", \"104\"], \"mode\": \"lines\", \"name\": \"weighted_accuracy_max\", \"stepped\": true, \"type\": \"scatter\", \"data\": [0.6958261684549919, 0.7023110034068857, 0.7109182561785469, 0.7109182561785469, 0.7109182561785469, 0.7109182561785469, 0.7109182561785469, 0.7109182561785469, 0.7151055132865748, 0.7151055132865748, 0.7151055132865748, 0.7158134122723702, 0.7158134122723702, 0.7158134122723702, 0.7158134122723702, 0.7158134122723702, 0.7216376337243909, 0.7216376337243909, 0.7216376337243909, 0.7216376337243909, 0.7216376337243909, 0.7216376337243909, 0.7216376337243909, 0.7216376337243909, 0.7216376337243909, 0.7216376337243909, 0.7216376337243909, 0.7216376337243909, 0.7216376337243909, 0.7216376337243909, 0.7216376337243909, 0.7250988933934543, 0.7250988933934543, 0.7250988933934543, 0.7250988933934543, 0.7250988933934543, 0.7250988933934543, 0.7250988933934543, 0.7250988933934543, 0.7250988933934543, 0.7250988933934543, 0.7250988933934543, 0.7250988933934543, 0.7250988933934543, 0.7250988933934543, 0.7250988933934543, 0.7250988933934543, 0.7250988933934543, 0.7250988933934543, 0.7250988933934543, 0.7250988933934543, 0.7250988933934543, 0.7250988933934543, 0.7250988933934543, 0.7250988933934543, 0.7250988933934543, 0.7250988933934543, 0.7250988933934543, 0.7250988933934543, 0.7250988933934543, 0.7250988933934543, 0.7250988933934543, 0.7250988933934543, 0.7250988933934543, 0.7250988933934543, 0.7250988933934543, 0.7250988933934543, 0.7250988933934543, 0.7250988933934543, 0.7250988933934543, 0.7250988933934543, 0.7250988933934543, 0.7250988933934543, 0.7250988933934543, 0.7250988933934543, 0.7250988933934543, 0.7250988933934543, 0.7250988933934543, 0.7250988933934543, 0.7250988933934543, 0.7250988933934543, 0.7250988933934543, 0.7250988933934543, 0.7250988933934543, 0.7250988933934543, 0.7250988933934543, 0.7250988933934543, 0.7250988933934543, 0.7250988933934543, 0.7250988933934543, 0.7250988933934543, 0.7250988933934543, 0.7250988933934543, 0.7250988933934543, 0.7250988933934543, 0.7250988933934543, 0.7250988933934543, 0.7250988933934543, 0.7385634926529638, 0.7385634926529638]}], \"balanced_accuracy\": [{\"categories\": [\"0\", \"1\", \"2\", \"3\", \"4\", \"5\", \"6\", \"7\", \"8\", \"9\", \"10\", \"11\", \"12\", \"13\", \"14\", \"15\", \"16\", \"17\", \"18\", \"19\", \"20\", \"21\", \"22\", \"23\", \"24\", \"25\", \"26\", \"27\", \"28\", \"29\", \"30\", \"31\", \"32\", \"33\", \"34\", \"35\", \"36\", \"37\", \"38\", \"39\", \"40\", \"41\", \"42\", \"43\", \"44\", \"45\", \"46\", \"47\", \"48\", \"49\", \"50\", \"51\", \"52\", \"53\", \"54\", \"55\", \"56\", \"57\", \"58\", \"59\", \"60\", \"61\", \"62\", \"63\", \"64\", \"65\", \"66\", \"67\", \"68\", \"69\", \"70\", \"71\", \"72\", \"73\", \"74\", \"75\", \"76\", \"77\", \"78\", \"79\", \"80\", \"81\", \"82\", \"83\", \"84\", \"85\", \"86\", \"87\", \"88\", \"89\", \"90\", \"91\", \"92\", \"93\", \"94\", \"95\", \"96\", \"97\", \"103\", \"104\"], \"mode\": \"markers\", \"name\": \"balanced_accuracy\", \"stepped\": false, \"type\": \"scatter\", \"data\": [0.6101507021832128, 0.5645060433530804, 0.5028830878011963, 0.554033102083654, 0.5234479618692717, 0.51710738888821, 0.548112074141788, 0.5419841349886856, 0.585638675541848, 0.5432932210998728, 0.5018068030259085, 0.5539733556900335, 0.5436400478753306, 0.5215412807380813, 0.5660923674353612, 0.54859912711925, 0.5335064615985629, 0.6040951345349977, 0.5244969944779441, 0.570697372564602, 0.580849167176051, 0.5942582706688879, 0.567280300267548, 0.49071531204547125, 0.593517066860985, 0.5009745766251584, 0.5901110608151291, 0.5018068030259085, 0.5927631093599758, 0.590643105179797, 0.5, 0.5604711273004893, 0.5731924460115759, 0.5919332523367328, 0.5, 0.5013968618675219, 0.5962871816716951, 0.5724294733510795, 0.5444454435526497, 0.5304366526659398, 0.5729138650916572, 0.5705101709589014, 0.5247917032346895, 0.5418725661748057, 0.5908874277063852, 0.5, 0.572062580786079, 0.5999229738323577, 0.6001027030243713, 0.5732916281136975, 0.5, 0.583415010053927, 0.5813474250622374, 0.6050935767632488, 0.5899548979510771, 0.5, 0.6058878708724914, 0.592192261293656, 0.6063100062719139, 0.5663945517768241, 0.5, 0.6101191707853284, 0.5980682296727559, 0.5774453301602901, 0.5, 0.5, 0.5891988465082518, 0.5679231276623783, 0.5096838172757637, 0.5848220370332966, 0.5932841832559439, 0.5897377874350097, 0.5738997772445603, 0.5731005008601399, 0.5361397796114842, 0.5869023106950593, 0.596451921398994, 0.588180267323087, 0.5846715506790513, 0.6051979279786456, 0.588181923828818, 0.5906354079480993, 0.5693230815941407, 0.5733204737039567, 0.6034626329131566, 0.5911925163935071, 0.5502998852120549, 0.568974844214326, 0.5646294785850934, 0.5684105683418182, 0.5661563034341816, 0.5850122278514606, 0.5653245132264318, 0.5730741542748404, 0.5, 0.5179966005272767, 0.5820808761113322, 0.6080753384509731, 0.5983077593117757, 0.6174380605105906]}, {\"categories\": [\"0\", \"1\", \"2\", \"3\", \"4\", \"5\", \"6\", \"7\", \"8\", \"9\", \"10\", \"11\", \"12\", \"13\", \"14\", \"15\", \"16\", \"17\", \"18\", \"19\", \"20\", \"21\", \"22\", \"23\", \"24\", \"25\", \"26\", \"27\", \"28\", \"29\", \"30\", \"31\", \"32\", \"33\", \"34\", \"35\", \"36\", \"37\", \"38\", \"39\", \"40\", \"41\", \"42\", \"43\", \"44\", \"45\", \"46\", \"47\", \"48\", \"49\", \"50\", \"51\", \"52\", \"53\", \"54\", \"55\", \"56\", \"57\", \"58\", \"59\", \"60\", \"61\", \"62\", \"63\", \"64\", \"65\", \"66\", \"67\", \"68\", \"69\", \"70\", \"71\", \"72\", \"73\", \"74\", \"75\", \"76\", \"77\", \"78\", \"79\", \"80\", \"81\", \"82\", \"83\", \"84\", \"85\", \"86\", \"87\", \"88\", \"89\", \"90\", \"91\", \"92\", \"93\", \"94\", \"95\", \"96\", \"97\", \"103\", \"104\"], \"mode\": \"lines\", \"name\": \"balanced_accuracy_max\", \"stepped\": true, \"type\": \"scatter\", \"data\": [0.6101507021832128, 0.6101507021832128, 0.6101507021832128, 0.6101507021832128, 0.6101507021832128, 0.6101507021832128, 0.6101507021832128, 0.6101507021832128, 0.6101507021832128, 0.6101507021832128, 0.6101507021832128, 0.6101507021832128, 0.6101507021832128, 0.6101507021832128, 0.6101507021832128, 0.6101507021832128, 0.6101507021832128, 0.6101507021832128, 0.6101507021832128, 0.6101507021832128, 0.6101507021832128, 0.6101507021832128, 0.6101507021832128, 0.6101507021832128, 0.6101507021832128, 0.6101507021832128, 0.6101507021832128, 0.6101507021832128, 0.6101507021832128, 0.6101507021832128, 0.6101507021832128, 0.6101507021832128, 0.6101507021832128, 0.6101507021832128, 0.6101507021832128, 0.6101507021832128, 0.6101507021832128, 0.6101507021832128, 0.6101507021832128, 0.6101507021832128, 0.6101507021832128, 0.6101507021832128, 0.6101507021832128, 0.6101507021832128, 0.6101507021832128, 0.6101507021832128, 0.6101507021832128, 0.6101507021832128, 0.6101507021832128, 0.6101507021832128, 0.6101507021832128, 0.6101507021832128, 0.6101507021832128, 0.6101507021832128, 0.6101507021832128, 0.6101507021832128, 0.6101507021832128, 0.6101507021832128, 0.6101507021832128, 0.6101507021832128, 0.6101507021832128, 0.6101507021832128, 0.6101507021832128, 0.6101507021832128, 0.6101507021832128, 0.6101507021832128, 0.6101507021832128, 0.6101507021832128, 0.6101507021832128, 0.6101507021832128, 0.6101507021832128, 0.6101507021832128, 0.6101507021832128, 0.6101507021832128, 0.6101507021832128, 0.6101507021832128, 0.6101507021832128, 0.6101507021832128, 0.6101507021832128, 0.6101507021832128, 0.6101507021832128, 0.6101507021832128, 0.6101507021832128, 0.6101507021832128, 0.6101507021832128, 0.6101507021832128, 0.6101507021832128, 0.6101507021832128, 0.6101507021832128, 0.6101507021832128, 0.6101507021832128, 0.6101507021832128, 0.6101507021832128, 0.6101507021832128, 0.6101507021832128, 0.6101507021832128, 0.6101507021832128, 0.6101507021832128, 0.6101507021832128, 0.6174380605105906]}], \"average_precision_score_macro\": [{\"categories\": [\"0\", \"1\", \"2\", \"3\", \"4\", \"5\", \"6\", \"7\", \"8\", \"9\", \"10\", \"11\", \"12\", \"13\", \"14\", \"15\", \"16\", \"17\", \"18\", \"19\", \"20\", \"21\", \"22\", \"23\", \"24\", \"25\", \"26\", \"27\", \"28\", \"29\", \"30\", \"31\", \"32\", \"33\", \"34\", \"35\", \"36\", \"37\", \"38\", \"39\", \"40\", \"41\", \"42\", \"43\", \"44\", \"45\", \"46\", \"47\", \"48\", \"49\", \"50\", \"51\", \"52\", \"53\", \"54\", \"55\", \"56\", \"57\", \"58\", \"59\", \"60\", \"61\", \"62\", \"63\", \"64\", \"65\", \"66\", \"67\", \"68\", \"69\", \"70\", \"71\", \"72\", \"73\", \"74\", \"75\", \"76\", \"77\", \"78\", \"79\", \"80\", \"81\", \"82\", \"83\", \"84\", \"85\", \"86\", \"87\", \"88\", \"89\", \"90\", \"91\", \"92\", \"93\", \"94\", \"95\", \"96\", \"97\", \"103\", \"104\"], \"mode\": \"markers\", \"name\": \"average_precision_score_macro\", \"stepped\": false, \"type\": \"scatter\", \"data\": [0.656082191053424, 0.6321020275280067, 0.5814540826904954, 0.6134450944794015, 0.5803702122426805, 0.510323212494671, 0.5778640816400245, 0.579716806487062, 0.6499519277477555, 0.6041660088746541, 0.5123549746445658, 0.6148937508980957, 0.5682964797915905, 0.5383857974331508, 0.5788679255564523, 0.5813765492052048, 0.6189096328429984, 0.6499410540008781, 0.5623910284741038, 0.6084336013940423, 0.6338378647693409, 0.6491152219899782, 0.6342286964368101, 0.511198752532214, 0.6457339250223507, 0.5033414876353982, 0.6498690328922975, 0.5123513887791462, 0.6461797338778158, 0.649070990488232, 0.4923160180590314, 0.6110027955334952, 0.6573937751194424, 0.6651267415322906, 0.511283472830219, 0.5112287773114382, 0.6436183415232849, 0.5875784343492029, 0.5686744900116034, 0.5394232565639605, 0.6347682052380893, 0.6301292735591558, 0.5957831358767608, 0.6022116524440597, 0.6496163842519914, 0.4965686219394165, 0.6352537627388498, 0.653525646691934, 0.6504931906336785, 0.6475680879963079, 0.5156510702669478, 0.6308476303864902, 0.6432153912685318, 0.6481491052546737, 0.654238312143393, 0.5271977880313005, 0.6621201252155874, 0.6386471746110916, 0.6558855788127661, 0.6307132464431527, 0.4897250062911798, 0.6641972955255863, 0.6443507886808951, 0.6498106928260773, 0.5162245097956274, 0.5061270145055131, 0.6545282876510711, 0.6157697466445193, 0.5834706040719917, 0.6473093823067777, 0.6694403803120653, 0.629473612705237, 0.6225379985262104, 0.6239154303608566, 0.573911732938116, 0.6750479756683748, 0.6538187656933067, 0.663081708706954, 0.6415643293559857, 0.6539687372704994, 0.6503531407825459, 0.641054502699656, 0.6340379172119355, 0.6468368474552678, 0.6500734508375277, 0.6527502633267575, 0.5828598477998802, 0.6329777441757806, 0.6273053767467452, 0.6341764671138134, 0.6303849572947708, 0.6589986492302679, 0.5944525862219938, 0.6380982155107672, 0.4920421627906985, 0.5140562011721177, 0.6382879494504681, 0.6505365376011785, 0.6946416105841964, 0.6928909078471713]}, {\"categories\": [\"0\", \"1\", \"2\", \"3\", \"4\", \"5\", \"6\", \"7\", \"8\", \"9\", \"10\", \"11\", \"12\", \"13\", \"14\", \"15\", \"16\", \"17\", \"18\", \"19\", \"20\", \"21\", \"22\", \"23\", \"24\", \"25\", \"26\", \"27\", \"28\", \"29\", \"30\", \"31\", \"32\", \"33\", \"34\", \"35\", \"36\", \"37\", \"38\", \"39\", \"40\", \"41\", \"42\", \"43\", \"44\", \"45\", \"46\", \"47\", \"48\", \"49\", \"50\", \"51\", \"52\", \"53\", \"54\", \"55\", \"56\", \"57\", \"58\", \"59\", \"60\", \"61\", \"62\", \"63\", \"64\", \"65\", \"66\", \"67\", \"68\", \"69\", \"70\", \"71\", \"72\", \"73\", \"74\", \"75\", \"76\", \"77\", \"78\", \"79\", \"80\", \"81\", \"82\", \"83\", \"84\", \"85\", \"86\", \"87\", \"88\", \"89\", \"90\", \"91\", \"92\", \"93\", \"94\", \"95\", \"96\", \"97\", \"103\", \"104\"], \"mode\": \"lines\", \"name\": \"average_precision_score_macro_max\", \"stepped\": true, \"type\": \"scatter\", \"data\": [0.656082191053424, 0.656082191053424, 0.656082191053424, 0.656082191053424, 0.656082191053424, 0.656082191053424, 0.656082191053424, 0.656082191053424, 0.656082191053424, 0.656082191053424, 0.656082191053424, 0.656082191053424, 0.656082191053424, 0.656082191053424, 0.656082191053424, 0.656082191053424, 0.656082191053424, 0.656082191053424, 0.656082191053424, 0.656082191053424, 0.656082191053424, 0.656082191053424, 0.656082191053424, 0.656082191053424, 0.656082191053424, 0.656082191053424, 0.656082191053424, 0.656082191053424, 0.656082191053424, 0.656082191053424, 0.656082191053424, 0.656082191053424, 0.6573937751194424, 0.6651267415322906, 0.6651267415322906, 0.6651267415322906, 0.6651267415322906, 0.6651267415322906, 0.6651267415322906, 0.6651267415322906, 0.6651267415322906, 0.6651267415322906, 0.6651267415322906, 0.6651267415322906, 0.6651267415322906, 0.6651267415322906, 0.6651267415322906, 0.6651267415322906, 0.6651267415322906, 0.6651267415322906, 0.6651267415322906, 0.6651267415322906, 0.6651267415322906, 0.6651267415322906, 0.6651267415322906, 0.6651267415322906, 0.6651267415322906, 0.6651267415322906, 0.6651267415322906, 0.6651267415322906, 0.6651267415322906, 0.6651267415322906, 0.6651267415322906, 0.6651267415322906, 0.6651267415322906, 0.6651267415322906, 0.6651267415322906, 0.6651267415322906, 0.6651267415322906, 0.6651267415322906, 0.6694403803120653, 0.6694403803120653, 0.6694403803120653, 0.6694403803120653, 0.6694403803120653, 0.6750479756683748, 0.6750479756683748, 0.6750479756683748, 0.6750479756683748, 0.6750479756683748, 0.6750479756683748, 0.6750479756683748, 0.6750479756683748, 0.6750479756683748, 0.6750479756683748, 0.6750479756683748, 0.6750479756683748, 0.6750479756683748, 0.6750479756683748, 0.6750479756683748, 0.6750479756683748, 0.6750479756683748, 0.6750479756683748, 0.6750479756683748, 0.6750479756683748, 0.6750479756683748, 0.6750479756683748, 0.6750479756683748, 0.6946416105841964, 0.6946416105841964]}], \"average_precision_score_weighted\": [{\"categories\": [\"0\", \"1\", \"2\", \"3\", \"4\", \"5\", \"6\", \"7\", \"8\", \"9\", \"10\", \"11\", \"12\", \"13\", \"14\", \"15\", \"16\", \"17\", \"18\", \"19\", \"20\", \"21\", \"22\", \"23\", \"24\", \"25\", \"26\", \"27\", \"28\", \"29\", \"30\", \"31\", \"32\", \"33\", \"34\", \"35\", \"36\", \"37\", \"38\", \"39\", \"40\", \"41\", \"42\", \"43\", \"44\", \"45\", \"46\", \"47\", \"48\", \"49\", \"50\", \"51\", \"52\", \"53\", \"54\", \"55\", \"56\", \"57\", \"58\", \"59\", \"60\", \"61\", \"62\", \"63\", \"64\", \"65\", \"66\", \"67\", \"68\", \"69\", \"70\", \"71\", \"72\", \"73\", \"74\", \"75\", \"76\", \"77\", \"78\", \"79\", \"80\", \"81\", \"82\", \"83\", \"84\", \"85\", \"86\", \"87\", \"88\", \"89\", \"90\", \"91\", \"92\", \"93\", \"94\", \"95\", \"96\", \"97\", \"103\", \"104\"], \"mode\": \"markers\", \"name\": \"average_precision_score_weighted\", \"stepped\": false, \"type\": \"scatter\", \"data\": [0.6748075738376942, 0.6509771340389873, 0.6017205072492576, 0.6333238705631274, 0.6026348288331353, 0.5332276010448681, 0.597412469369896, 0.6006778124820621, 0.6671180849232335, 0.625551390041431, 0.5342581605501499, 0.6351224034544264, 0.5910011653485393, 0.5586010743687038, 0.5992195228645817, 0.6029042759970347, 0.6371199529622437, 0.6690227934027074, 0.5844830266597405, 0.6255436960007498, 0.6526974419329046, 0.6658225033839091, 0.6532481570699168, 0.5337654738670324, 0.6647054240664808, 0.5267239290129629, 0.6675222719191863, 0.534266939974093, 0.6633844117380511, 0.6677886718228404, 0.516115508994758, 0.6274837753036562, 0.6750891779556422, 0.6824844740880981, 0.535333532695846, 0.5334016306060559, 0.6624862148964733, 0.6089377061614405, 0.5890224926913558, 0.5625040749153064, 0.6513915715683568, 0.6492440637300493, 0.614116126369442, 0.6218739165580957, 0.6688524412790224, 0.5212397239104006, 0.6540289001379553, 0.6724041973127481, 0.6697207473535814, 0.6653247524911247, 0.5394321141785858, 0.6479438768984608, 0.661893874436438, 0.6672223155370379, 0.6729254750524584, 0.5467527022480141, 0.6806367380099286, 0.6570426205306619, 0.6747616741105853, 0.6500950981078558, 0.5138031046860038, 0.6816103412162274, 0.6638394942369449, 0.6696932644150134, 0.5388305611916521, 0.5281061721277576, 0.6723520246044744, 0.6342674919078286, 0.6030808427974231, 0.6644588021633498, 0.6863116582075364, 0.6489421605231015, 0.6426261271694176, 0.643937087065101, 0.5952294151623386, 0.6925892752337771, 0.6732927550172046, 0.6803791332208678, 0.6605968883880323, 0.6712632216074659, 0.668578898235482, 0.6588666956402881, 0.6527300223617458, 0.665808476630042, 0.668954845616489, 0.670286302632293, 0.6040652887139082, 0.6528903229731973, 0.6476036712699279, 0.6544585363099608, 0.6509241205581868, 0.6763550590164492, 0.6154123107384168, 0.6570094191388953, 0.5159605452822884, 0.5364149577924451, 0.6561439820302767, 0.6698233250781788, 0.711022403897596, 0.7093502585425971]}, {\"categories\": [\"0\", \"1\", \"2\", \"3\", \"4\", \"5\", \"6\", \"7\", \"8\", \"9\", \"10\", \"11\", \"12\", \"13\", \"14\", \"15\", \"16\", \"17\", \"18\", \"19\", \"20\", \"21\", \"22\", \"23\", \"24\", \"25\", \"26\", \"27\", \"28\", \"29\", \"30\", \"31\", \"32\", \"33\", \"34\", \"35\", \"36\", \"37\", \"38\", \"39\", \"40\", \"41\", \"42\", \"43\", \"44\", \"45\", \"46\", \"47\", \"48\", \"49\", \"50\", \"51\", \"52\", \"53\", \"54\", \"55\", \"56\", \"57\", \"58\", \"59\", \"60\", \"61\", \"62\", \"63\", \"64\", \"65\", \"66\", \"67\", \"68\", \"69\", \"70\", \"71\", \"72\", \"73\", \"74\", \"75\", \"76\", \"77\", \"78\", \"79\", \"80\", \"81\", \"82\", \"83\", \"84\", \"85\", \"86\", \"87\", \"88\", \"89\", \"90\", \"91\", \"92\", \"93\", \"94\", \"95\", \"96\", \"97\", \"103\", \"104\"], \"mode\": \"lines\", \"name\": \"average_precision_score_weighted_max\", \"stepped\": true, \"type\": \"scatter\", \"data\": [0.6748075738376942, 0.6748075738376942, 0.6748075738376942, 0.6748075738376942, 0.6748075738376942, 0.6748075738376942, 0.6748075738376942, 0.6748075738376942, 0.6748075738376942, 0.6748075738376942, 0.6748075738376942, 0.6748075738376942, 0.6748075738376942, 0.6748075738376942, 0.6748075738376942, 0.6748075738376942, 0.6748075738376942, 0.6748075738376942, 0.6748075738376942, 0.6748075738376942, 0.6748075738376942, 0.6748075738376942, 0.6748075738376942, 0.6748075738376942, 0.6748075738376942, 0.6748075738376942, 0.6748075738376942, 0.6748075738376942, 0.6748075738376942, 0.6748075738376942, 0.6748075738376942, 0.6748075738376942, 0.6750891779556422, 0.6824844740880981, 0.6824844740880981, 0.6824844740880981, 0.6824844740880981, 0.6824844740880981, 0.6824844740880981, 0.6824844740880981, 0.6824844740880981, 0.6824844740880981, 0.6824844740880981, 0.6824844740880981, 0.6824844740880981, 0.6824844740880981, 0.6824844740880981, 0.6824844740880981, 0.6824844740880981, 0.6824844740880981, 0.6824844740880981, 0.6824844740880981, 0.6824844740880981, 0.6824844740880981, 0.6824844740880981, 0.6824844740880981, 0.6824844740880981, 0.6824844740880981, 0.6824844740880981, 0.6824844740880981, 0.6824844740880981, 0.6824844740880981, 0.6824844740880981, 0.6824844740880981, 0.6824844740880981, 0.6824844740880981, 0.6824844740880981, 0.6824844740880981, 0.6824844740880981, 0.6824844740880981, 0.6863116582075364, 0.6863116582075364, 0.6863116582075364, 0.6863116582075364, 0.6863116582075364, 0.6925892752337771, 0.6925892752337771, 0.6925892752337771, 0.6925892752337771, 0.6925892752337771, 0.6925892752337771, 0.6925892752337771, 0.6925892752337771, 0.6925892752337771, 0.6925892752337771, 0.6925892752337771, 0.6925892752337771, 0.6925892752337771, 0.6925892752337771, 0.6925892752337771, 0.6925892752337771, 0.6925892752337771, 0.6925892752337771, 0.6925892752337771, 0.6925892752337771, 0.6925892752337771, 0.6925892752337771, 0.6925892752337771, 0.711022403897596, 0.711022403897596]}], \"f1_score_micro\": [{\"categories\": [\"0\", \"1\", \"2\", \"3\", \"4\", \"5\", \"6\", \"7\", \"8\", \"9\", \"10\", \"11\", \"12\", \"13\", \"14\", \"15\", \"16\", \"17\", \"18\", \"19\", \"20\", \"21\", \"22\", \"23\", \"24\", \"25\", \"26\", \"27\", \"28\", \"29\", \"30\", \"31\", \"32\", \"33\", \"34\", \"35\", \"36\", \"37\", \"38\", \"39\", \"40\", \"41\", \"42\", \"43\", \"44\", \"45\", \"46\", \"47\", \"48\", \"49\", \"50\", \"51\", \"52\", \"53\", \"54\", \"55\", \"56\", \"57\", \"58\", \"59\", \"60\", \"61\", \"62\", \"63\", \"64\", \"65\", \"66\", \"67\", \"68\", \"69\", \"70\", \"71\", \"72\", \"73\", \"74\", \"75\", \"76\", \"77\", \"78\", \"79\", \"80\", \"81\", \"82\", \"83\", \"84\", \"85\", \"86\", \"87\", \"88\", \"89\", \"90\", \"91\", \"92\", \"93\", \"94\", \"95\", \"96\", \"97\", \"103\", \"104\"], \"mode\": \"markers\", \"name\": \"f1_score_micro\", \"stepped\": false, \"type\": \"scatter\", \"data\": [0.6550671550671551, 0.6367521367521367, 0.6120268620268621, 0.6294261294261294, 0.6163003663003663, 0.597985347985348, 0.6282051282051282, 0.5668498168498168, 0.6535409035409036, 0.6278998778998779, 0.6105006105006106, 0.6388888888888888, 0.6132478632478633, 0.5772283272283273, 0.5821123321123322, 0.6123321123321124, 0.6321733821733821, 0.6239316239316239, 0.6163003663003663, 0.5842490842490843, 0.6459096459096458, 0.6568986568986569, 0.6398046398046399, 0.4908424908424909, 0.6114163614163615, 0.6056166056166057, 0.6556776556776557, 0.6105006105006106, 0.6538461538461539, 0.6452991452991453, 0.6098901098901099, 0.6468253968253969, 0.648962148962149, 0.6602564102564102, 0.6098901098901099, 0.6105006105006106, 0.6428571428571429, 0.5802808302808303, 0.5537240537240536, 0.5485347985347986, 0.6486568986568987, 0.6413308913308914, 0.6272893772893773, 0.6278998778998779, 0.645909645909646, 0.6098901098901099, 0.6428571428571428, 0.6535409035409036, 0.6483516483516484, 0.6456043956043956, 0.6098901098901099, 0.6507936507936507, 0.648962148962149, 0.6443833943833943, 0.6523199023199023, 0.6098901098901099, 0.6541514041514042, 0.6434676434676435, 0.6355311355311355, 0.6401098901098901, 0.6098901098901099, 0.6626984126984127, 0.6416361416361417, 0.6523199023199023, 0.6098901098901099, 0.6098901098901099, 0.6578144078144078, 0.5900488400488401, 0.6150793650793651, 0.6535409035409036, 0.6623931623931624, 0.6312576312576312, 0.6324786324786325, 0.6297313797313797, 0.6053113553113554, 0.6584249084249084, 0.6474358974358974, 0.6578144078144078, 0.6443833943833943, 0.6599511599511599, 0.6538461538461539, 0.6474358974358975, 0.6425518925518926, 0.6468253968253969, 0.6498778998778999, 0.6544566544566545, 0.61996336996337, 0.6483516483516483, 0.6446886446886446, 0.6471306471306472, 0.6459096459096458, 0.655982905982906, 0.6126373626373627, 0.6419413919413919, 0.6098901098901099, 0.583943833943834, 0.6422466422466423, 0.6510989010989011, 0.6718559218559218, 0.6752136752136751]}, {\"categories\": [\"0\", \"1\", \"2\", \"3\", \"4\", \"5\", \"6\", \"7\", \"8\", \"9\", \"10\", \"11\", \"12\", \"13\", \"14\", \"15\", \"16\", \"17\", \"18\", \"19\", \"20\", \"21\", \"22\", \"23\", \"24\", \"25\", \"26\", \"27\", \"28\", \"29\", \"30\", \"31\", \"32\", \"33\", \"34\", \"35\", \"36\", \"37\", \"38\", \"39\", \"40\", \"41\", \"42\", \"43\", \"44\", \"45\", \"46\", \"47\", \"48\", \"49\", \"50\", \"51\", \"52\", \"53\", \"54\", \"55\", \"56\", \"57\", \"58\", \"59\", \"60\", \"61\", \"62\", \"63\", \"64\", \"65\", \"66\", \"67\", \"68\", \"69\", \"70\", \"71\", \"72\", \"73\", \"74\", \"75\", \"76\", \"77\", \"78\", \"79\", \"80\", \"81\", \"82\", \"83\", \"84\", \"85\", \"86\", \"87\", \"88\", \"89\", \"90\", \"91\", \"92\", \"93\", \"94\", \"95\", \"96\", \"97\", \"103\", \"104\"], \"mode\": \"lines\", \"name\": \"f1_score_micro_max\", \"stepped\": true, \"type\": \"scatter\", \"data\": [0.6550671550671551, 0.6550671550671551, 0.6550671550671551, 0.6550671550671551, 0.6550671550671551, 0.6550671550671551, 0.6550671550671551, 0.6550671550671551, 0.6550671550671551, 0.6550671550671551, 0.6550671550671551, 0.6550671550671551, 0.6550671550671551, 0.6550671550671551, 0.6550671550671551, 0.6550671550671551, 0.6550671550671551, 0.6550671550671551, 0.6550671550671551, 0.6550671550671551, 0.6550671550671551, 0.6568986568986569, 0.6568986568986569, 0.6568986568986569, 0.6568986568986569, 0.6568986568986569, 0.6568986568986569, 0.6568986568986569, 0.6568986568986569, 0.6568986568986569, 0.6568986568986569, 0.6568986568986569, 0.6568986568986569, 0.6602564102564102, 0.6602564102564102, 0.6602564102564102, 0.6602564102564102, 0.6602564102564102, 0.6602564102564102, 0.6602564102564102, 0.6602564102564102, 0.6602564102564102, 0.6602564102564102, 0.6602564102564102, 0.6602564102564102, 0.6602564102564102, 0.6602564102564102, 0.6602564102564102, 0.6602564102564102, 0.6602564102564102, 0.6602564102564102, 0.6602564102564102, 0.6602564102564102, 0.6602564102564102, 0.6602564102564102, 0.6602564102564102, 0.6602564102564102, 0.6602564102564102, 0.6602564102564102, 0.6602564102564102, 0.6602564102564102, 0.6626984126984127, 0.6626984126984127, 0.6626984126984127, 0.6626984126984127, 0.6626984126984127, 0.6626984126984127, 0.6626984126984127, 0.6626984126984127, 0.6626984126984127, 0.6626984126984127, 0.6626984126984127, 0.6626984126984127, 0.6626984126984127, 0.6626984126984127, 0.6626984126984127, 0.6626984126984127, 0.6626984126984127, 0.6626984126984127, 0.6626984126984127, 0.6626984126984127, 0.6626984126984127, 0.6626984126984127, 0.6626984126984127, 0.6626984126984127, 0.6626984126984127, 0.6626984126984127, 0.6626984126984127, 0.6626984126984127, 0.6626984126984127, 0.6626984126984127, 0.6626984126984127, 0.6626984126984127, 0.6626984126984127, 0.6626984126984127, 0.6626984126984127, 0.6626984126984127, 0.6626984126984127, 0.6718559218559218, 0.6752136752136751]}], \"average_precision_score_micro\": [{\"categories\": [\"0\", \"1\", \"2\", \"3\", \"4\", \"5\", \"6\", \"7\", \"8\", \"9\", \"10\", \"11\", \"12\", \"13\", \"14\", \"15\", \"16\", \"17\", \"18\", \"19\", \"20\", \"21\", \"22\", \"23\", \"24\", \"25\", \"26\", \"27\", \"28\", \"29\", \"30\", \"31\", \"32\", \"33\", \"34\", \"35\", \"36\", \"37\", \"38\", \"39\", \"40\", \"41\", \"42\", \"43\", \"44\", \"45\", \"46\", \"47\", \"48\", \"49\", \"50\", \"51\", \"52\", \"53\", \"54\", \"55\", \"56\", \"57\", \"58\", \"59\", \"60\", \"61\", \"62\", \"63\", \"64\", \"65\", \"66\", \"67\", \"68\", \"69\", \"70\", \"71\", \"72\", \"73\", \"74\", \"75\", \"76\", \"77\", \"78\", \"79\", \"80\", \"81\", \"82\", \"83\", \"84\", \"85\", \"86\", \"87\", \"88\", \"89\", \"90\", \"91\", \"92\", \"93\", \"94\", \"95\", \"96\", \"97\", \"103\", \"104\"], \"mode\": \"markers\", \"name\": \"average_precision_score_micro\", \"stepped\": false, \"type\": \"scatter\", \"data\": [0.6920956383390799, 0.6777944405798203, 0.6296123051251706, 0.6588388654615903, 0.6361620491086889, 0.5810498277875303, 0.6298531117890026, 0.5989953708578005, 0.6850531211272838, 0.6512137347990911, 0.5844433165295176, 0.659066822456449, 0.6254311069496709, 0.5889724374621611, 0.5851405012169357, 0.6292684619409821, 0.6515981268334605, 0.6624255939852787, 0.6212111229300946, 0.6179905935253257, 0.675533251973952, 0.6858159279364466, 0.6748280906450298, 0.5105934317912534, 0.6546505468764819, 0.5816789248917922, 0.687881657212806, 0.5844715931654857, 0.6847638066897254, 0.6881343392842639, 0.5753178215983271, 0.6515850201728635, 0.6952543782564837, 0.7033761668008799, 0.590515186159296, 0.5843933623142298, 0.6810963648950742, 0.5939239282028085, 0.5763404477049253, 0.5416588749849925, 0.6751803589638324, 0.6739081032913665, 0.6337512210266089, 0.6468704599394421, 0.6888285176559105, 0.5817076601104082, 0.679745259439929, 0.691550410653511, 0.6882795732674175, 0.6862030544671271, 0.5935407657153209, 0.6697115752606718, 0.6851940334002293, 0.683223695225848, 0.6942504347798764, 0.5891276557443749, 0.6988640778488184, 0.6784790412520222, 0.6797917706764754, 0.6739824379096904, 0.5756515885249346, 0.6995806430882704, 0.6816889584636824, 0.6873395966367064, 0.5899307958966619, 0.5816261045505066, 0.6944500936481757, 0.6322511566233512, 0.6301940156465214, 0.6865098954168637, 0.7068831391223686, 0.6667633120951263, 0.6679210798933006, 0.6682824263565189, 0.627043454278404, 0.7095543744992624, 0.6917016128241816, 0.7011929947651735, 0.6833694804027011, 0.6925907418619314, 0.6909306967102449, 0.6822049147264629, 0.6764560017338663, 0.6890304566959111, 0.6865182427158172, 0.6917974115122908, 0.6338033430259321, 0.6740197245741931, 0.6698794493101046, 0.6750174764273943, 0.6730043754620442, 0.6970718499761966, 0.6377387259825303, 0.6816705376394872, 0.5764448688134898, 0.5766195346969752, 0.6777073749337408, 0.687464386793697, 0.7227142084659598, 0.722956936476681]}, {\"categories\": [\"0\", \"1\", \"2\", \"3\", \"4\", \"5\", \"6\", \"7\", \"8\", \"9\", \"10\", \"11\", \"12\", \"13\", \"14\", \"15\", \"16\", \"17\", \"18\", \"19\", \"20\", \"21\", \"22\", \"23\", \"24\", \"25\", \"26\", \"27\", \"28\", \"29\", \"30\", \"31\", \"32\", \"33\", \"34\", \"35\", \"36\", \"37\", \"38\", \"39\", \"40\", \"41\", \"42\", \"43\", \"44\", \"45\", \"46\", \"47\", \"48\", \"49\", \"50\", \"51\", \"52\", \"53\", \"54\", \"55\", \"56\", \"57\", \"58\", \"59\", \"60\", \"61\", \"62\", \"63\", \"64\", \"65\", \"66\", \"67\", \"68\", \"69\", \"70\", \"71\", \"72\", \"73\", \"74\", \"75\", \"76\", \"77\", \"78\", \"79\", \"80\", \"81\", \"82\", \"83\", \"84\", \"85\", \"86\", \"87\", \"88\", \"89\", \"90\", \"91\", \"92\", \"93\", \"94\", \"95\", \"96\", \"97\", \"103\", \"104\"], \"mode\": \"lines\", \"name\": \"average_precision_score_micro_max\", \"stepped\": true, \"type\": \"scatter\", \"data\": [0.6920956383390799, 0.6920956383390799, 0.6920956383390799, 0.6920956383390799, 0.6920956383390799, 0.6920956383390799, 0.6920956383390799, 0.6920956383390799, 0.6920956383390799, 0.6920956383390799, 0.6920956383390799, 0.6920956383390799, 0.6920956383390799, 0.6920956383390799, 0.6920956383390799, 0.6920956383390799, 0.6920956383390799, 0.6920956383390799, 0.6920956383390799, 0.6920956383390799, 0.6920956383390799, 0.6920956383390799, 0.6920956383390799, 0.6920956383390799, 0.6920956383390799, 0.6920956383390799, 0.6920956383390799, 0.6920956383390799, 0.6920956383390799, 0.6920956383390799, 0.6920956383390799, 0.6920956383390799, 0.6952543782564837, 0.7033761668008799, 0.7033761668008799, 0.7033761668008799, 0.7033761668008799, 0.7033761668008799, 0.7033761668008799, 0.7033761668008799, 0.7033761668008799, 0.7033761668008799, 0.7033761668008799, 0.7033761668008799, 0.7033761668008799, 0.7033761668008799, 0.7033761668008799, 0.7033761668008799, 0.7033761668008799, 0.7033761668008799, 0.7033761668008799, 0.7033761668008799, 0.7033761668008799, 0.7033761668008799, 0.7033761668008799, 0.7033761668008799, 0.7033761668008799, 0.7033761668008799, 0.7033761668008799, 0.7033761668008799, 0.7033761668008799, 0.7033761668008799, 0.7033761668008799, 0.7033761668008799, 0.7033761668008799, 0.7033761668008799, 0.7033761668008799, 0.7033761668008799, 0.7033761668008799, 0.7033761668008799, 0.7068831391223686, 0.7068831391223686, 0.7068831391223686, 0.7068831391223686, 0.7068831391223686, 0.7095543744992624, 0.7095543744992624, 0.7095543744992624, 0.7095543744992624, 0.7095543744992624, 0.7095543744992624, 0.7095543744992624, 0.7095543744992624, 0.7095543744992624, 0.7095543744992624, 0.7095543744992624, 0.7095543744992624, 0.7095543744992624, 0.7095543744992624, 0.7095543744992624, 0.7095543744992624, 0.7095543744992624, 0.7095543744992624, 0.7095543744992624, 0.7095543744992624, 0.7095543744992624, 0.7095543744992624, 0.7095543744992624, 0.7227142084659598, 0.722956936476681]}], \"AUC_macro\": [{\"categories\": [\"0\", \"1\", \"2\", \"3\", \"4\", \"5\", \"6\", \"7\", \"8\", \"9\", \"10\", \"11\", \"12\", \"13\", \"14\", \"15\", \"16\", \"17\", \"18\", \"19\", \"20\", \"21\", \"22\", \"23\", \"24\", \"25\", \"26\", \"27\", \"28\", \"29\", \"30\", \"31\", \"32\", \"33\", \"34\", \"35\", \"36\", \"37\", \"38\", \"39\", \"40\", \"41\", \"42\", \"43\", \"44\", \"45\", \"46\", \"47\", \"48\", \"49\", \"50\", \"51\", \"52\", \"53\", \"54\", \"55\", \"56\", \"57\", \"58\", \"59\", \"60\", \"61\", \"62\", \"63\", \"64\", \"65\", \"66\", \"67\", \"68\", \"69\", \"70\", \"71\", \"72\", \"73\", \"74\", \"75\", \"76\", \"77\", \"78\", \"79\", \"80\", \"81\", \"82\", \"83\", \"84\", \"85\", \"86\", \"87\", \"88\", \"89\", \"90\", \"91\", \"92\", \"93\", \"94\", \"95\", \"96\", \"97\", \"103\", \"104\"], \"mode\": \"markers\", \"name\": \"AUC_macro\", \"stepped\": false, \"type\": \"scatter\", \"data\": [0.6550392343162107, 0.633821923300241, 0.584457733564229, 0.6163725632899976, 0.5939688385032801, 0.5077979738731011, 0.5758621281270836, 0.5787848291084002, 0.6500820676701683, 0.6080413485081299, 0.49879938982437233, 0.6251600069377111, 0.5731741120120978, 0.5377533196815746, 0.5833660267222589, 0.5846632420664154, 0.6203543653560611, 0.6472688877710507, 0.5625271183563292, 0.6077197836507943, 0.6364197233713649, 0.6566498283176659, 0.6382327656915566, 0.4992709224187865, 0.644270977039029, 0.5061427221831788, 0.6545748633207163, 0.4987828880062408, 0.6486275013419089, 0.6507616567399318, 0.48323710551401805, 0.6077754035216288, 0.665229870869889, 0.6700810312171604, 0.5067703508800433, 0.49726807115449584, 0.6476777677740376, 0.5936677408670987, 0.5703500060580146, 0.5392105164827741, 0.6318445417113848, 0.6308481097887472, 0.5992793030480787, 0.6084003101783285, 0.650209207800606, 0.491743311161414, 0.636868062063613, 0.6589665150161755, 0.6540562414989628, 0.6518052719029174, 0.5189365588614958, 0.6346833926721235, 0.6426026892720366, 0.6537308852461458, 0.6561083045350934, 0.5210562499534364, 0.6650721336558926, 0.6397863834612104, 0.6585238465748235, 0.6339506383150848, 0.4904923424768198, 0.6704482549777699, 0.651453851704238, 0.6585082050393455, 0.5148917726115999, 0.5051798042607284, 0.6537995263440768, 0.6139961637554462, 0.5916409363862061, 0.645868821869385, 0.6679003256547592, 0.629295692051144, 0.6189625868226986, 0.6244604313712754, 0.5766939637776934, 0.6810349417239014, 0.6550878742654971, 0.6686397944855088, 0.6439351042570954, 0.6530105618659029, 0.6517862410793936, 0.6415148981198413, 0.6331133109801863, 0.6496873784915884, 0.6529574551891095, 0.6522293362475216, 0.581934031877243, 0.6427612614826465, 0.6381189277773858, 0.6444605429132985, 0.641310635195261, 0.6651463582844825, 0.6022721379869937, 0.6379923615884938, 0.4872215311653225, 0.5188332059935291, 0.6447057972847671, 0.6575672104951872, 0.6962331866820376, 0.6940511451761036]}, {\"categories\": [\"0\", \"1\", \"2\", \"3\", \"4\", \"5\", \"6\", \"7\", \"8\", \"9\", \"10\", \"11\", \"12\", \"13\", \"14\", \"15\", \"16\", \"17\", \"18\", \"19\", \"20\", \"21\", \"22\", \"23\", \"24\", \"25\", \"26\", \"27\", \"28\", \"29\", \"30\", \"31\", \"32\", \"33\", \"34\", \"35\", \"36\", \"37\", \"38\", \"39\", \"40\", \"41\", \"42\", \"43\", \"44\", \"45\", \"46\", \"47\", \"48\", \"49\", \"50\", \"51\", \"52\", \"53\", \"54\", \"55\", \"56\", \"57\", \"58\", \"59\", \"60\", \"61\", \"62\", \"63\", \"64\", \"65\", \"66\", \"67\", \"68\", \"69\", \"70\", \"71\", \"72\", \"73\", \"74\", \"75\", \"76\", \"77\", \"78\", \"79\", \"80\", \"81\", \"82\", \"83\", \"84\", \"85\", \"86\", \"87\", \"88\", \"89\", \"90\", \"91\", \"92\", \"93\", \"94\", \"95\", \"96\", \"97\", \"103\", \"104\"], \"mode\": \"lines\", \"name\": \"AUC_macro_max\", \"stepped\": true, \"type\": \"scatter\", \"data\": [0.6550392343162107, 0.6550392343162107, 0.6550392343162107, 0.6550392343162107, 0.6550392343162107, 0.6550392343162107, 0.6550392343162107, 0.6550392343162107, 0.6550392343162107, 0.6550392343162107, 0.6550392343162107, 0.6550392343162107, 0.6550392343162107, 0.6550392343162107, 0.6550392343162107, 0.6550392343162107, 0.6550392343162107, 0.6550392343162107, 0.6550392343162107, 0.6550392343162107, 0.6550392343162107, 0.6566498283176659, 0.6566498283176659, 0.6566498283176659, 0.6566498283176659, 0.6566498283176659, 0.6566498283176659, 0.6566498283176659, 0.6566498283176659, 0.6566498283176659, 0.6566498283176659, 0.6566498283176659, 0.665229870869889, 0.6700810312171604, 0.6700810312171604, 0.6700810312171604, 0.6700810312171604, 0.6700810312171604, 0.6700810312171604, 0.6700810312171604, 0.6700810312171604, 0.6700810312171604, 0.6700810312171604, 0.6700810312171604, 0.6700810312171604, 0.6700810312171604, 0.6700810312171604, 0.6700810312171604, 0.6700810312171604, 0.6700810312171604, 0.6700810312171604, 0.6700810312171604, 0.6700810312171604, 0.6700810312171604, 0.6700810312171604, 0.6700810312171604, 0.6700810312171604, 0.6700810312171604, 0.6700810312171604, 0.6700810312171604, 0.6700810312171604, 0.6704482549777699, 0.6704482549777699, 0.6704482549777699, 0.6704482549777699, 0.6704482549777699, 0.6704482549777699, 0.6704482549777699, 0.6704482549777699, 0.6704482549777699, 0.6704482549777699, 0.6704482549777699, 0.6704482549777699, 0.6704482549777699, 0.6704482549777699, 0.6810349417239014, 0.6810349417239014, 0.6810349417239014, 0.6810349417239014, 0.6810349417239014, 0.6810349417239014, 0.6810349417239014, 0.6810349417239014, 0.6810349417239014, 0.6810349417239014, 0.6810349417239014, 0.6810349417239014, 0.6810349417239014, 0.6810349417239014, 0.6810349417239014, 0.6810349417239014, 0.6810349417239014, 0.6810349417239014, 0.6810349417239014, 0.6810349417239014, 0.6810349417239014, 0.6810349417239014, 0.6810349417239014, 0.6962331866820376, 0.6962331866820376]}], \"f1_score_weighted\": [{\"categories\": [\"0\", \"1\", \"2\", \"3\", \"4\", \"5\", \"6\", \"7\", \"8\", \"9\", \"10\", \"11\", \"12\", \"13\", \"14\", \"15\", \"16\", \"17\", \"18\", \"19\", \"20\", \"21\", \"22\", \"23\", \"24\", \"25\", \"26\", \"27\", \"28\", \"29\", \"30\", \"31\", \"32\", \"33\", \"34\", \"35\", \"36\", \"37\", \"38\", \"39\", \"40\", \"41\", \"42\", \"43\", \"44\", \"45\", \"46\", \"47\", \"48\", \"49\", \"50\", \"51\", \"52\", \"53\", \"54\", \"55\", \"56\", \"57\", \"58\", \"59\", \"60\", \"61\", \"62\", \"63\", \"64\", \"65\", \"66\", \"67\", \"68\", \"69\", \"70\", \"71\", \"72\", \"73\", \"74\", \"75\", \"76\", \"77\", \"78\", \"79\", \"80\", \"81\", \"82\", \"83\", \"84\", \"85\", \"86\", \"87\", \"88\", \"89\", \"90\", \"91\", \"92\", \"93\", \"94\", \"95\", \"96\", \"97\", \"103\", \"104\"], \"mode\": \"markers\", \"name\": \"f1_score_weighted\", \"stepped\": false, \"type\": \"scatter\", \"data\": [0.6390376383999139, 0.5868592930566958, 0.46753335585269085, 0.5749110321612266, 0.5222705167887032, 0.5308388704843244, 0.5660447344855014, 0.5655185719653788, 0.6122333592345004, 0.5551192376398429, 0.4673437977365667, 0.5675441610295894, 0.5671692217451708, 0.5501985897926288, 0.5838844000745272, 0.5755510003685561, 0.5239386845393965, 0.6237387578795514, 0.5255747080200193, 0.5866728423539288, 0.6074994999841035, 0.622067186791157, 0.5904092088347548, 0.496786531013631, 0.6121742449107413, 0.4751885758863879, 0.6176837127588167, 0.4673437977365667, 0.6211985767882037, 0.619757614834672, 0.4621431497937345, 0.5728860575504492, 0.5943443744480379, 0.6184650809749629, 0.4621431497937345, 0.4657181645360475, 0.625458944957583, 0.5843390672236185, 0.5561781216711543, 0.5493152828469281, 0.5933879807011572, 0.5942106573721216, 0.5076869653182284, 0.5514636071827619, 0.6199632015848784, 0.4621431497937345, 0.5959326058918041, 0.6297271557921214, 0.6289883952445624, 0.5970583377111034, 0.4621431497937345, 0.6099112814258777, 0.6078253994235391, 0.6326181045199822, 0.6182252738801941, 0.4621431497937345, 0.6351964438438067, 0.6214681974896262, 0.6307169513227945, 0.5884804831248039, 0.4621431497937345, 0.6398083909263201, 0.6269718696050625, 0.5985318813616662, 0.4621431497937345, 0.4621431497937345, 0.6151767533910938, 0.5895469104654808, 0.4839051914151387, 0.6104660945038275, 0.6195947914543839, 0.6182146383138721, 0.6023224297296926, 0.6020176638681257, 0.5608061053713979, 0.6115809023217135, 0.6260541547072576, 0.6137851767718762, 0.6134932435853729, 0.6345484658835239, 0.6152501228983568, 0.6200255137396203, 0.5915656684032501, 0.5961468894515446, 0.6326270718074055, 0.6191387013503034, 0.5753423602574884, 0.5882994951279371, 0.5832202714223579, 0.5880948216156484, 0.5854616989990217, 0.6097334114428026, 0.5949574116211512, 0.5989069469207831, 0.4621431497937345, 0.542875538623925, 0.6106499000515143, 0.6367392034002699, 0.622613073257673, 0.6457216546761679]}, {\"categories\": [\"0\", \"1\", \"2\", \"3\", \"4\", \"5\", \"6\", \"7\", \"8\", \"9\", \"10\", \"11\", \"12\", \"13\", \"14\", \"15\", \"16\", \"17\", \"18\", \"19\", \"20\", \"21\", \"22\", \"23\", \"24\", \"25\", \"26\", \"27\", \"28\", \"29\", \"30\", \"31\", \"32\", \"33\", \"34\", \"35\", \"36\", \"37\", \"38\", \"39\", \"40\", \"41\", \"42\", \"43\", \"44\", \"45\", \"46\", \"47\", \"48\", \"49\", \"50\", \"51\", \"52\", \"53\", \"54\", \"55\", \"56\", \"57\", \"58\", \"59\", \"60\", \"61\", \"62\", \"63\", \"64\", \"65\", \"66\", \"67\", \"68\", \"69\", \"70\", \"71\", \"72\", \"73\", \"74\", \"75\", \"76\", \"77\", \"78\", \"79\", \"80\", \"81\", \"82\", \"83\", \"84\", \"85\", \"86\", \"87\", \"88\", \"89\", \"90\", \"91\", \"92\", \"93\", \"94\", \"95\", \"96\", \"97\", \"103\", \"104\"], \"mode\": \"lines\", \"name\": \"f1_score_weighted_max\", \"stepped\": true, \"type\": \"scatter\", \"data\": [0.6390376383999139, 0.6390376383999139, 0.6390376383999139, 0.6390376383999139, 0.6390376383999139, 0.6390376383999139, 0.6390376383999139, 0.6390376383999139, 0.6390376383999139, 0.6390376383999139, 0.6390376383999139, 0.6390376383999139, 0.6390376383999139, 0.6390376383999139, 0.6390376383999139, 0.6390376383999139, 0.6390376383999139, 0.6390376383999139, 0.6390376383999139, 0.6390376383999139, 0.6390376383999139, 0.6390376383999139, 0.6390376383999139, 0.6390376383999139, 0.6390376383999139, 0.6390376383999139, 0.6390376383999139, 0.6390376383999139, 0.6390376383999139, 0.6390376383999139, 0.6390376383999139, 0.6390376383999139, 0.6390376383999139, 0.6390376383999139, 0.6390376383999139, 0.6390376383999139, 0.6390376383999139, 0.6390376383999139, 0.6390376383999139, 0.6390376383999139, 0.6390376383999139, 0.6390376383999139, 0.6390376383999139, 0.6390376383999139, 0.6390376383999139, 0.6390376383999139, 0.6390376383999139, 0.6390376383999139, 0.6390376383999139, 0.6390376383999139, 0.6390376383999139, 0.6390376383999139, 0.6390376383999139, 0.6390376383999139, 0.6390376383999139, 0.6390376383999139, 0.6390376383999139, 0.6390376383999139, 0.6390376383999139, 0.6390376383999139, 0.6390376383999139, 0.6398083909263201, 0.6398083909263201, 0.6398083909263201, 0.6398083909263201, 0.6398083909263201, 0.6398083909263201, 0.6398083909263201, 0.6398083909263201, 0.6398083909263201, 0.6398083909263201, 0.6398083909263201, 0.6398083909263201, 0.6398083909263201, 0.6398083909263201, 0.6398083909263201, 0.6398083909263201, 0.6398083909263201, 0.6398083909263201, 0.6398083909263201, 0.6398083909263201, 0.6398083909263201, 0.6398083909263201, 0.6398083909263201, 0.6398083909263201, 0.6398083909263201, 0.6398083909263201, 0.6398083909263201, 0.6398083909263201, 0.6398083909263201, 0.6398083909263201, 0.6398083909263201, 0.6398083909263201, 0.6398083909263201, 0.6398083909263201, 0.6398083909263201, 0.6398083909263201, 0.6398083909263201, 0.6398083909263201, 0.6457216546761679]}], \"recall_score_micro\": [{\"categories\": [\"0\", \"1\", \"2\", \"3\", \"4\", \"5\", \"6\", \"7\", \"8\", \"9\", \"10\", \"11\", \"12\", \"13\", \"14\", \"15\", \"16\", \"17\", \"18\", \"19\", \"20\", \"21\", \"22\", \"23\", \"24\", \"25\", \"26\", \"27\", \"28\", \"29\", \"30\", \"31\", \"32\", \"33\", \"34\", \"35\", \"36\", \"37\", \"38\", \"39\", \"40\", \"41\", \"42\", \"43\", \"44\", \"45\", \"46\", \"47\", \"48\", \"49\", \"50\", \"51\", \"52\", \"53\", \"54\", \"55\", \"56\", \"57\", \"58\", \"59\", \"60\", \"61\", \"62\", \"63\", \"64\", \"65\", \"66\", \"67\", \"68\", \"69\", \"70\", \"71\", \"72\", \"73\", \"74\", \"75\", \"76\", \"77\", \"78\", \"79\", \"80\", \"81\", \"82\", \"83\", \"84\", \"85\", \"86\", \"87\", \"88\", \"89\", \"90\", \"91\", \"92\", \"93\", \"94\", \"95\", \"96\", \"97\", \"103\", \"104\"], \"mode\": \"markers\", \"name\": \"recall_score_micro\", \"stepped\": false, \"type\": \"scatter\", \"data\": [0.6550671550671551, 0.6367521367521367, 0.6120268620268621, 0.6294261294261294, 0.6163003663003663, 0.597985347985348, 0.6282051282051282, 0.5668498168498168, 0.6535409035409036, 0.6278998778998779, 0.6105006105006106, 0.6388888888888888, 0.6132478632478633, 0.5772283272283273, 0.5821123321123322, 0.6123321123321124, 0.6321733821733821, 0.6239316239316239, 0.6163003663003663, 0.5842490842490843, 0.6459096459096458, 0.6568986568986569, 0.6398046398046399, 0.4908424908424909, 0.6114163614163615, 0.6056166056166057, 0.6556776556776557, 0.6105006105006106, 0.6538461538461539, 0.6452991452991453, 0.6098901098901099, 0.6468253968253969, 0.648962148962149, 0.6602564102564102, 0.6098901098901099, 0.6105006105006106, 0.6428571428571429, 0.5802808302808303, 0.5537240537240536, 0.5485347985347986, 0.6486568986568987, 0.6413308913308914, 0.6272893772893773, 0.6278998778998779, 0.645909645909646, 0.6098901098901099, 0.6428571428571428, 0.6535409035409036, 0.6483516483516484, 0.6456043956043956, 0.6098901098901099, 0.6507936507936507, 0.648962148962149, 0.6443833943833943, 0.6523199023199023, 0.6098901098901099, 0.6541514041514042, 0.6434676434676435, 0.6355311355311355, 0.6401098901098901, 0.6098901098901099, 0.6626984126984127, 0.6416361416361417, 0.6523199023199023, 0.6098901098901099, 0.6098901098901099, 0.6578144078144078, 0.5900488400488401, 0.6150793650793651, 0.6535409035409036, 0.6623931623931624, 0.6312576312576312, 0.6324786324786325, 0.6297313797313797, 0.6053113553113554, 0.6584249084249084, 0.6474358974358974, 0.6578144078144078, 0.6443833943833943, 0.6599511599511599, 0.6538461538461539, 0.6474358974358975, 0.6425518925518926, 0.6468253968253969, 0.6498778998778999, 0.6544566544566545, 0.61996336996337, 0.6483516483516483, 0.6446886446886446, 0.6471306471306472, 0.6459096459096458, 0.655982905982906, 0.6126373626373627, 0.6419413919413919, 0.6098901098901099, 0.583943833943834, 0.6422466422466423, 0.6510989010989011, 0.6718559218559218, 0.6752136752136751]}, {\"categories\": [\"0\", \"1\", \"2\", \"3\", \"4\", \"5\", \"6\", \"7\", \"8\", \"9\", \"10\", \"11\", \"12\", \"13\", \"14\", \"15\", \"16\", \"17\", \"18\", \"19\", \"20\", \"21\", \"22\", \"23\", \"24\", \"25\", \"26\", \"27\", \"28\", \"29\", \"30\", \"31\", \"32\", \"33\", \"34\", \"35\", \"36\", \"37\", \"38\", \"39\", \"40\", \"41\", \"42\", \"43\", \"44\", \"45\", \"46\", \"47\", \"48\", \"49\", \"50\", \"51\", \"52\", \"53\", \"54\", \"55\", \"56\", \"57\", \"58\", \"59\", \"60\", \"61\", \"62\", \"63\", \"64\", \"65\", \"66\", \"67\", \"68\", \"69\", \"70\", \"71\", \"72\", \"73\", \"74\", \"75\", \"76\", \"77\", \"78\", \"79\", \"80\", \"81\", \"82\", \"83\", \"84\", \"85\", \"86\", \"87\", \"88\", \"89\", \"90\", \"91\", \"92\", \"93\", \"94\", \"95\", \"96\", \"97\", \"103\", \"104\"], \"mode\": \"lines\", \"name\": \"recall_score_micro_max\", \"stepped\": true, \"type\": \"scatter\", \"data\": [0.6550671550671551, 0.6550671550671551, 0.6550671550671551, 0.6550671550671551, 0.6550671550671551, 0.6550671550671551, 0.6550671550671551, 0.6550671550671551, 0.6550671550671551, 0.6550671550671551, 0.6550671550671551, 0.6550671550671551, 0.6550671550671551, 0.6550671550671551, 0.6550671550671551, 0.6550671550671551, 0.6550671550671551, 0.6550671550671551, 0.6550671550671551, 0.6550671550671551, 0.6550671550671551, 0.6568986568986569, 0.6568986568986569, 0.6568986568986569, 0.6568986568986569, 0.6568986568986569, 0.6568986568986569, 0.6568986568986569, 0.6568986568986569, 0.6568986568986569, 0.6568986568986569, 0.6568986568986569, 0.6568986568986569, 0.6602564102564102, 0.6602564102564102, 0.6602564102564102, 0.6602564102564102, 0.6602564102564102, 0.6602564102564102, 0.6602564102564102, 0.6602564102564102, 0.6602564102564102, 0.6602564102564102, 0.6602564102564102, 0.6602564102564102, 0.6602564102564102, 0.6602564102564102, 0.6602564102564102, 0.6602564102564102, 0.6602564102564102, 0.6602564102564102, 0.6602564102564102, 0.6602564102564102, 0.6602564102564102, 0.6602564102564102, 0.6602564102564102, 0.6602564102564102, 0.6602564102564102, 0.6602564102564102, 0.6602564102564102, 0.6602564102564102, 0.6626984126984127, 0.6626984126984127, 0.6626984126984127, 0.6626984126984127, 0.6626984126984127, 0.6626984126984127, 0.6626984126984127, 0.6626984126984127, 0.6626984126984127, 0.6626984126984127, 0.6626984126984127, 0.6626984126984127, 0.6626984126984127, 0.6626984126984127, 0.6626984126984127, 0.6626984126984127, 0.6626984126984127, 0.6626984126984127, 0.6626984126984127, 0.6626984126984127, 0.6626984126984127, 0.6626984126984127, 0.6626984126984127, 0.6626984126984127, 0.6626984126984127, 0.6626984126984127, 0.6626984126984127, 0.6626984126984127, 0.6626984126984127, 0.6626984126984127, 0.6626984126984127, 0.6626984126984127, 0.6626984126984127, 0.6626984126984127, 0.6626984126984127, 0.6626984126984127, 0.6626984126984127, 0.6718559218559218, 0.6752136752136751]}], \"recall_score_weighted\": [{\"categories\": [\"0\", \"1\", \"2\", \"3\", \"4\", \"5\", \"6\", \"7\", \"8\", \"9\", \"10\", \"11\", \"12\", \"13\", \"14\", \"15\", \"16\", \"17\", \"18\", \"19\", \"20\", \"21\", \"22\", \"23\", \"24\", \"25\", \"26\", \"27\", \"28\", \"29\", \"30\", \"31\", \"32\", \"33\", \"34\", \"35\", \"36\", \"37\", \"38\", \"39\", \"40\", \"41\", \"42\", \"43\", \"44\", \"45\", \"46\", \"47\", \"48\", \"49\", \"50\", \"51\", \"52\", \"53\", \"54\", \"55\", \"56\", \"57\", \"58\", \"59\", \"60\", \"61\", \"62\", \"63\", \"64\", \"65\", \"66\", \"67\", \"68\", \"69\", \"70\", \"71\", \"72\", \"73\", \"74\", \"75\", \"76\", \"77\", \"78\", \"79\", \"80\", \"81\", \"82\", \"83\", \"84\", \"85\", \"86\", \"87\", \"88\", \"89\", \"90\", \"91\", \"92\", \"93\", \"94\", \"95\", \"96\", \"97\", \"103\", \"104\"], \"mode\": \"markers\", \"name\": \"recall_score_weighted\", \"stepped\": false, \"type\": \"scatter\", \"data\": [0.6550671550671551, 0.6367521367521367, 0.6120268620268621, 0.6294261294261294, 0.6163003663003663, 0.597985347985348, 0.6282051282051282, 0.5668498168498168, 0.6535409035409036, 0.6278998778998779, 0.6105006105006106, 0.6388888888888888, 0.6132478632478633, 0.5772283272283273, 0.5821123321123322, 0.6123321123321124, 0.6321733821733821, 0.6239316239316239, 0.6163003663003663, 0.5842490842490843, 0.6459096459096458, 0.6568986568986569, 0.6398046398046399, 0.4908424908424909, 0.6114163614163615, 0.6056166056166057, 0.6556776556776557, 0.6105006105006106, 0.6538461538461539, 0.6452991452991453, 0.6098901098901099, 0.6468253968253969, 0.648962148962149, 0.6602564102564102, 0.6098901098901099, 0.6105006105006106, 0.6428571428571429, 0.5802808302808303, 0.5537240537240536, 0.5485347985347986, 0.6486568986568987, 0.6413308913308914, 0.6272893772893773, 0.6278998778998779, 0.645909645909646, 0.6098901098901099, 0.6428571428571428, 0.6535409035409036, 0.6483516483516484, 0.6456043956043956, 0.6098901098901099, 0.6507936507936507, 0.648962148962149, 0.6443833943833943, 0.6523199023199023, 0.6098901098901099, 0.6541514041514042, 0.6434676434676435, 0.6355311355311356, 0.6401098901098901, 0.6098901098901099, 0.6626984126984127, 0.6416361416361417, 0.6523199023199023, 0.6098901098901099, 0.6098901098901099, 0.6578144078144078, 0.5900488400488401, 0.6150793650793651, 0.6535409035409036, 0.6623931623931624, 0.6312576312576312, 0.6324786324786325, 0.6297313797313797, 0.6053113553113554, 0.6584249084249084, 0.6474358974358974, 0.6578144078144078, 0.6443833943833943, 0.6599511599511599, 0.6538461538461539, 0.6474358974358975, 0.6425518925518926, 0.6468253968253969, 0.6498778998778999, 0.6544566544566545, 0.61996336996337, 0.6483516483516483, 0.6446886446886446, 0.6471306471306472, 0.6459096459096458, 0.655982905982906, 0.6126373626373627, 0.6419413919413919, 0.6098901098901099, 0.583943833943834, 0.6422466422466423, 0.6510989010989011, 0.6718559218559218, 0.6752136752136751]}, {\"categories\": [\"0\", \"1\", \"2\", \"3\", \"4\", \"5\", \"6\", \"7\", \"8\", \"9\", \"10\", \"11\", \"12\", \"13\", \"14\", \"15\", \"16\", \"17\", \"18\", \"19\", \"20\", \"21\", \"22\", \"23\", \"24\", \"25\", \"26\", \"27\", \"28\", \"29\", \"30\", \"31\", \"32\", \"33\", \"34\", \"35\", \"36\", \"37\", \"38\", \"39\", \"40\", \"41\", \"42\", \"43\", \"44\", \"45\", \"46\", \"47\", \"48\", \"49\", \"50\", \"51\", \"52\", \"53\", \"54\", \"55\", \"56\", \"57\", \"58\", \"59\", \"60\", \"61\", \"62\", \"63\", \"64\", \"65\", \"66\", \"67\", \"68\", \"69\", \"70\", \"71\", \"72\", \"73\", \"74\", \"75\", \"76\", \"77\", \"78\", \"79\", \"80\", \"81\", \"82\", \"83\", \"84\", \"85\", \"86\", \"87\", \"88\", \"89\", \"90\", \"91\", \"92\", \"93\", \"94\", \"95\", \"96\", \"97\", \"103\", \"104\"], \"mode\": \"lines\", \"name\": \"recall_score_weighted_max\", \"stepped\": true, \"type\": \"scatter\", \"data\": [0.6550671550671551, 0.6550671550671551, 0.6550671550671551, 0.6550671550671551, 0.6550671550671551, 0.6550671550671551, 0.6550671550671551, 0.6550671550671551, 0.6550671550671551, 0.6550671550671551, 0.6550671550671551, 0.6550671550671551, 0.6550671550671551, 0.6550671550671551, 0.6550671550671551, 0.6550671550671551, 0.6550671550671551, 0.6550671550671551, 0.6550671550671551, 0.6550671550671551, 0.6550671550671551, 0.6568986568986569, 0.6568986568986569, 0.6568986568986569, 0.6568986568986569, 0.6568986568986569, 0.6568986568986569, 0.6568986568986569, 0.6568986568986569, 0.6568986568986569, 0.6568986568986569, 0.6568986568986569, 0.6568986568986569, 0.6602564102564102, 0.6602564102564102, 0.6602564102564102, 0.6602564102564102, 0.6602564102564102, 0.6602564102564102, 0.6602564102564102, 0.6602564102564102, 0.6602564102564102, 0.6602564102564102, 0.6602564102564102, 0.6602564102564102, 0.6602564102564102, 0.6602564102564102, 0.6602564102564102, 0.6602564102564102, 0.6602564102564102, 0.6602564102564102, 0.6602564102564102, 0.6602564102564102, 0.6602564102564102, 0.6602564102564102, 0.6602564102564102, 0.6602564102564102, 0.6602564102564102, 0.6602564102564102, 0.6602564102564102, 0.6602564102564102, 0.6626984126984127, 0.6626984126984127, 0.6626984126984127, 0.6626984126984127, 0.6626984126984127, 0.6626984126984127, 0.6626984126984127, 0.6626984126984127, 0.6626984126984127, 0.6626984126984127, 0.6626984126984127, 0.6626984126984127, 0.6626984126984127, 0.6626984126984127, 0.6626984126984127, 0.6626984126984127, 0.6626984126984127, 0.6626984126984127, 0.6626984126984127, 0.6626984126984127, 0.6626984126984127, 0.6626984126984127, 0.6626984126984127, 0.6626984126984127, 0.6626984126984127, 0.6626984126984127, 0.6626984126984127, 0.6626984126984127, 0.6626984126984127, 0.6626984126984127, 0.6626984126984127, 0.6626984126984127, 0.6626984126984127, 0.6626984126984127, 0.6626984126984127, 0.6626984126984127, 0.6626984126984127, 0.6718559218559218, 0.6752136752136751]}], \"recall_score_macro\": [{\"categories\": [\"0\", \"1\", \"2\", \"3\", \"4\", \"5\", \"6\", \"7\", \"8\", \"9\", \"10\", \"11\", \"12\", \"13\", \"14\", \"15\", \"16\", \"17\", \"18\", \"19\", \"20\", \"21\", \"22\", \"23\", \"24\", \"25\", \"26\", \"27\", \"28\", \"29\", \"30\", \"31\", \"32\", \"33\", \"34\", \"35\", \"36\", \"37\", \"38\", \"39\", \"40\", \"41\", \"42\", \"43\", \"44\", \"45\", \"46\", \"47\", \"48\", \"49\", \"50\", \"51\", \"52\", \"53\", \"54\", \"55\", \"56\", \"57\", \"58\", \"59\", \"60\", \"61\", \"62\", \"63\", \"64\", \"65\", \"66\", \"67\", \"68\", \"69\", \"70\", \"71\", \"72\", \"73\", \"74\", \"75\", \"76\", \"77\", \"78\", \"79\", \"80\", \"81\", \"82\", \"83\", \"84\", \"85\", \"86\", \"87\", \"88\", \"89\", \"90\", \"91\", \"92\", \"93\", \"94\", \"95\", \"96\", \"97\", \"103\", \"104\"], \"mode\": \"markers\", \"name\": \"recall_score_macro\", \"stepped\": false, \"type\": \"scatter\", \"data\": [0.6101507021832128, 0.5645060433530804, 0.5028830878011963, 0.554033102083654, 0.5234479618692717, 0.51710738888821, 0.548112074141788, 0.5419841349886856, 0.585638675541848, 0.5432932210998728, 0.5018068030259085, 0.5539733556900335, 0.5436400478753306, 0.5215412807380813, 0.5660923674353612, 0.54859912711925, 0.5335064615985629, 0.6040951345349977, 0.5244969944779441, 0.570697372564602, 0.580849167176051, 0.5942582706688879, 0.567280300267548, 0.49071531204547125, 0.593517066860985, 0.5009745766251584, 0.5901110608151291, 0.5018068030259085, 0.5927631093599758, 0.590643105179797, 0.5, 0.5604711273004893, 0.5731924460115759, 0.5919332523367328, 0.5, 0.5013968618675219, 0.5962871816716951, 0.5724294733510795, 0.5444454435526497, 0.5304366526659398, 0.5729138650916572, 0.5705101709589014, 0.5247917032346895, 0.5418725661748057, 0.5908874277063852, 0.5, 0.572062580786079, 0.5999229738323577, 0.6001027030243713, 0.5732916281136975, 0.5, 0.583415010053927, 0.5813474250622374, 0.6050935767632488, 0.5899548979510771, 0.5, 0.6058878708724914, 0.592192261293656, 0.6063100062719139, 0.5663945517768241, 0.5, 0.6101191707853284, 0.5980682296727559, 0.5774453301602901, 0.5, 0.5, 0.5891988465082518, 0.5679231276623783, 0.5096838172757637, 0.5848220370332966, 0.5932841832559439, 0.5897377874350097, 0.5738997772445603, 0.5731005008601399, 0.5361397796114842, 0.5869023106950593, 0.596451921398994, 0.588180267323087, 0.5846715506790513, 0.6051979279786456, 0.588181923828818, 0.5906354079480993, 0.5693230815941407, 0.5733204737039567, 0.6034626329131566, 0.5911925163935071, 0.5502998852120549, 0.568974844214326, 0.5646294785850934, 0.5684105683418182, 0.5661563034341816, 0.5850122278514606, 0.5653245132264318, 0.5730741542748404, 0.5, 0.5179966005272767, 0.5820808761113322, 0.6080753384509731, 0.5983077593117757, 0.6174380605105906]}, {\"categories\": [\"0\", \"1\", \"2\", \"3\", \"4\", \"5\", \"6\", \"7\", \"8\", \"9\", \"10\", \"11\", \"12\", \"13\", \"14\", \"15\", \"16\", \"17\", \"18\", \"19\", \"20\", \"21\", \"22\", \"23\", \"24\", \"25\", \"26\", \"27\", \"28\", \"29\", \"30\", \"31\", \"32\", \"33\", \"34\", \"35\", \"36\", \"37\", \"38\", \"39\", \"40\", \"41\", \"42\", \"43\", \"44\", \"45\", \"46\", \"47\", \"48\", \"49\", \"50\", \"51\", \"52\", \"53\", \"54\", \"55\", \"56\", \"57\", \"58\", \"59\", \"60\", \"61\", \"62\", \"63\", \"64\", \"65\", \"66\", \"67\", \"68\", \"69\", \"70\", \"71\", \"72\", \"73\", \"74\", \"75\", \"76\", \"77\", \"78\", \"79\", \"80\", \"81\", \"82\", \"83\", \"84\", \"85\", \"86\", \"87\", \"88\", \"89\", \"90\", \"91\", \"92\", \"93\", \"94\", \"95\", \"96\", \"97\", \"103\", \"104\"], \"mode\": \"lines\", \"name\": \"recall_score_macro_max\", \"stepped\": true, \"type\": \"scatter\", \"data\": [0.6101507021832128, 0.6101507021832128, 0.6101507021832128, 0.6101507021832128, 0.6101507021832128, 0.6101507021832128, 0.6101507021832128, 0.6101507021832128, 0.6101507021832128, 0.6101507021832128, 0.6101507021832128, 0.6101507021832128, 0.6101507021832128, 0.6101507021832128, 0.6101507021832128, 0.6101507021832128, 0.6101507021832128, 0.6101507021832128, 0.6101507021832128, 0.6101507021832128, 0.6101507021832128, 0.6101507021832128, 0.6101507021832128, 0.6101507021832128, 0.6101507021832128, 0.6101507021832128, 0.6101507021832128, 0.6101507021832128, 0.6101507021832128, 0.6101507021832128, 0.6101507021832128, 0.6101507021832128, 0.6101507021832128, 0.6101507021832128, 0.6101507021832128, 0.6101507021832128, 0.6101507021832128, 0.6101507021832128, 0.6101507021832128, 0.6101507021832128, 0.6101507021832128, 0.6101507021832128, 0.6101507021832128, 0.6101507021832128, 0.6101507021832128, 0.6101507021832128, 0.6101507021832128, 0.6101507021832128, 0.6101507021832128, 0.6101507021832128, 0.6101507021832128, 0.6101507021832128, 0.6101507021832128, 0.6101507021832128, 0.6101507021832128, 0.6101507021832128, 0.6101507021832128, 0.6101507021832128, 0.6101507021832128, 0.6101507021832128, 0.6101507021832128, 0.6101507021832128, 0.6101507021832128, 0.6101507021832128, 0.6101507021832128, 0.6101507021832128, 0.6101507021832128, 0.6101507021832128, 0.6101507021832128, 0.6101507021832128, 0.6101507021832128, 0.6101507021832128, 0.6101507021832128, 0.6101507021832128, 0.6101507021832128, 0.6101507021832128, 0.6101507021832128, 0.6101507021832128, 0.6101507021832128, 0.6101507021832128, 0.6101507021832128, 0.6101507021832128, 0.6101507021832128, 0.6101507021832128, 0.6101507021832128, 0.6101507021832128, 0.6101507021832128, 0.6101507021832128, 0.6101507021832128, 0.6101507021832128, 0.6101507021832128, 0.6101507021832128, 0.6101507021832128, 0.6101507021832128, 0.6101507021832128, 0.6101507021832128, 0.6101507021832128, 0.6101507021832128, 0.6101507021832128, 0.6174380605105906]}], \"precision_score_micro\": [{\"categories\": [\"0\", \"1\", \"2\", \"3\", \"4\", \"5\", \"6\", \"7\", \"8\", \"9\", \"10\", \"11\", \"12\", \"13\", \"14\", \"15\", \"16\", \"17\", \"18\", \"19\", \"20\", \"21\", \"22\", \"23\", \"24\", \"25\", \"26\", \"27\", \"28\", \"29\", \"30\", \"31\", \"32\", \"33\", \"34\", \"35\", \"36\", \"37\", \"38\", \"39\", \"40\", \"41\", \"42\", \"43\", \"44\", \"45\", \"46\", \"47\", \"48\", \"49\", \"50\", \"51\", \"52\", \"53\", \"54\", \"55\", \"56\", \"57\", \"58\", \"59\", \"60\", \"61\", \"62\", \"63\", \"64\", \"65\", \"66\", \"67\", \"68\", \"69\", \"70\", \"71\", \"72\", \"73\", \"74\", \"75\", \"76\", \"77\", \"78\", \"79\", \"80\", \"81\", \"82\", \"83\", \"84\", \"85\", \"86\", \"87\", \"88\", \"89\", \"90\", \"91\", \"92\", \"93\", \"94\", \"95\", \"96\", \"97\", \"103\", \"104\"], \"mode\": \"markers\", \"name\": \"precision_score_micro\", \"stepped\": false, \"type\": \"scatter\", \"data\": [0.6550671550671551, 0.6367521367521367, 0.6120268620268621, 0.6294261294261294, 0.6163003663003663, 0.597985347985348, 0.6282051282051282, 0.5668498168498168, 0.6535409035409036, 0.6278998778998779, 0.6105006105006106, 0.6388888888888888, 0.6132478632478633, 0.5772283272283273, 0.5821123321123322, 0.6123321123321124, 0.6321733821733821, 0.6239316239316239, 0.6163003663003663, 0.5842490842490843, 0.6459096459096458, 0.6568986568986569, 0.6398046398046399, 0.4908424908424909, 0.6114163614163615, 0.6056166056166057, 0.6556776556776557, 0.6105006105006106, 0.6538461538461539, 0.6452991452991453, 0.6098901098901099, 0.6468253968253969, 0.648962148962149, 0.6602564102564102, 0.6098901098901099, 0.6105006105006106, 0.6428571428571429, 0.5802808302808303, 0.5537240537240536, 0.5485347985347986, 0.6486568986568987, 0.6413308913308914, 0.6272893772893773, 0.6278998778998779, 0.645909645909646, 0.6098901098901099, 0.6428571428571428, 0.6535409035409036, 0.6483516483516484, 0.6456043956043956, 0.6098901098901099, 0.6507936507936507, 0.648962148962149, 0.6443833943833943, 0.6523199023199023, 0.6098901098901099, 0.6541514041514042, 0.6434676434676435, 0.6355311355311355, 0.6401098901098901, 0.6098901098901099, 0.6626984126984127, 0.6416361416361417, 0.6523199023199023, 0.6098901098901099, 0.6098901098901099, 0.6578144078144078, 0.5900488400488401, 0.6150793650793651, 0.6535409035409036, 0.6623931623931624, 0.6312576312576312, 0.6324786324786325, 0.6297313797313797, 0.6053113553113554, 0.6584249084249084, 0.6474358974358974, 0.6578144078144078, 0.6443833943833943, 0.6599511599511599, 0.6538461538461539, 0.6474358974358975, 0.6425518925518926, 0.6468253968253969, 0.6498778998778999, 0.6544566544566545, 0.61996336996337, 0.6483516483516483, 0.6446886446886446, 0.6471306471306472, 0.6459096459096458, 0.655982905982906, 0.6126373626373627, 0.6419413919413919, 0.6098901098901099, 0.583943833943834, 0.6422466422466423, 0.6510989010989011, 0.6718559218559218, 0.6752136752136751]}, {\"categories\": [\"0\", \"1\", \"2\", \"3\", \"4\", \"5\", \"6\", \"7\", \"8\", \"9\", \"10\", \"11\", \"12\", \"13\", \"14\", \"15\", \"16\", \"17\", \"18\", \"19\", \"20\", \"21\", \"22\", \"23\", \"24\", \"25\", \"26\", \"27\", \"28\", \"29\", \"30\", \"31\", \"32\", \"33\", \"34\", \"35\", \"36\", \"37\", \"38\", \"39\", \"40\", \"41\", \"42\", \"43\", \"44\", \"45\", \"46\", \"47\", \"48\", \"49\", \"50\", \"51\", \"52\", \"53\", \"54\", \"55\", \"56\", \"57\", \"58\", \"59\", \"60\", \"61\", \"62\", \"63\", \"64\", \"65\", \"66\", \"67\", \"68\", \"69\", \"70\", \"71\", \"72\", \"73\", \"74\", \"75\", \"76\", \"77\", \"78\", \"79\", \"80\", \"81\", \"82\", \"83\", \"84\", \"85\", \"86\", \"87\", \"88\", \"89\", \"90\", \"91\", \"92\", \"93\", \"94\", \"95\", \"96\", \"97\", \"103\", \"104\"], \"mode\": \"lines\", \"name\": \"precision_score_micro_max\", \"stepped\": true, \"type\": \"scatter\", \"data\": [0.6550671550671551, 0.6550671550671551, 0.6550671550671551, 0.6550671550671551, 0.6550671550671551, 0.6550671550671551, 0.6550671550671551, 0.6550671550671551, 0.6550671550671551, 0.6550671550671551, 0.6550671550671551, 0.6550671550671551, 0.6550671550671551, 0.6550671550671551, 0.6550671550671551, 0.6550671550671551, 0.6550671550671551, 0.6550671550671551, 0.6550671550671551, 0.6550671550671551, 0.6550671550671551, 0.6568986568986569, 0.6568986568986569, 0.6568986568986569, 0.6568986568986569, 0.6568986568986569, 0.6568986568986569, 0.6568986568986569, 0.6568986568986569, 0.6568986568986569, 0.6568986568986569, 0.6568986568986569, 0.6568986568986569, 0.6602564102564102, 0.6602564102564102, 0.6602564102564102, 0.6602564102564102, 0.6602564102564102, 0.6602564102564102, 0.6602564102564102, 0.6602564102564102, 0.6602564102564102, 0.6602564102564102, 0.6602564102564102, 0.6602564102564102, 0.6602564102564102, 0.6602564102564102, 0.6602564102564102, 0.6602564102564102, 0.6602564102564102, 0.6602564102564102, 0.6602564102564102, 0.6602564102564102, 0.6602564102564102, 0.6602564102564102, 0.6602564102564102, 0.6602564102564102, 0.6602564102564102, 0.6602564102564102, 0.6602564102564102, 0.6602564102564102, 0.6626984126984127, 0.6626984126984127, 0.6626984126984127, 0.6626984126984127, 0.6626984126984127, 0.6626984126984127, 0.6626984126984127, 0.6626984126984127, 0.6626984126984127, 0.6626984126984127, 0.6626984126984127, 0.6626984126984127, 0.6626984126984127, 0.6626984126984127, 0.6626984126984127, 0.6626984126984127, 0.6626984126984127, 0.6626984126984127, 0.6626984126984127, 0.6626984126984127, 0.6626984126984127, 0.6626984126984127, 0.6626984126984127, 0.6626984126984127, 0.6626984126984127, 0.6626984126984127, 0.6626984126984127, 0.6626984126984127, 0.6626984126984127, 0.6626984126984127, 0.6626984126984127, 0.6626984126984127, 0.6626984126984127, 0.6626984126984127, 0.6626984126984127, 0.6626984126984127, 0.6626984126984127, 0.6718559218559218, 0.6752136752136751]}], \"AUC_weighted\": [{\"categories\": [\"0\", \"1\", \"2\", \"3\", \"4\", \"5\", \"6\", \"7\", \"8\", \"9\", \"10\", \"11\", \"12\", \"13\", \"14\", \"15\", \"16\", \"17\", \"18\", \"19\", \"20\", \"21\", \"22\", \"23\", \"24\", \"25\", \"26\", \"27\", \"28\", \"29\", \"30\", \"31\", \"32\", \"33\", \"34\", \"35\", \"36\", \"37\", \"38\", \"39\", \"40\", \"41\", \"42\", \"43\", \"44\", \"45\", \"46\", \"47\", \"48\", \"49\", \"50\", \"51\", \"52\", \"53\", \"54\", \"55\", \"56\", \"57\", \"58\", \"59\", \"60\", \"61\", \"62\", \"63\", \"64\", \"65\", \"66\", \"67\", \"68\", \"69\", \"70\", \"71\", \"72\", \"73\", \"74\", \"75\", \"76\", \"77\", \"78\", \"79\", \"80\", \"81\", \"82\", \"83\", \"84\", \"85\", \"86\", \"87\", \"88\", \"89\", \"90\", \"91\", \"92\", \"93\", \"94\", \"95\", \"96\", \"97\", \"103\", \"104\"], \"mode\": \"markers\", \"name\": \"AUC_weighted\", \"stepped\": false, \"type\": \"scatter\", \"data\": [0.6550392343162107, 0.633821923300241, 0.5844577335642293, 0.6163725632899976, 0.5939688385032801, 0.5077979738731011, 0.5758620629797392, 0.5787848291084002, 0.6500820676701683, 0.6080413485081299, 0.49879938982437233, 0.625160006937711, 0.5731741120120978, 0.5377533196815745, 0.5833660267222589, 0.5846632420664154, 0.6203543653560611, 0.6472688877710507, 0.5625271183563292, 0.6077197836507943, 0.6364197233713649, 0.6566498283176659, 0.6382327656915566, 0.49927092241878657, 0.644270977039029, 0.5061427221831788, 0.6545748633207163, 0.4987828880062408, 0.6486275013419089, 0.6507616567399318, 0.48323710551401805, 0.6077754035216288, 0.665229870869889, 0.6700810312171604, 0.5067703508800433, 0.4972680711544957, 0.6476777677740375, 0.5936677408670987, 0.5703500060580146, 0.5392105164827741, 0.6318445417113848, 0.6308481097887472, 0.5992793030480787, 0.6084003101783285, 0.650209207800606, 0.491743311161414, 0.6368680620636129, 0.6589665150161755, 0.6540562414989627, 0.6518052719029174, 0.5189365588614958, 0.6346833926721236, 0.6426026892720366, 0.653730885246146, 0.6561083045350934, 0.5210562499534364, 0.6650721336558926, 0.6397863834612104, 0.6585238465748235, 0.6339506383150848, 0.4904923424768198, 0.6704482549777699, 0.651453851704238, 0.6585082050393455, 0.5148917726115999, 0.5051798042607284, 0.6537995263440767, 0.6139961637554462, 0.5916409363862061, 0.6458688218693851, 0.6679003256547594, 0.629295692051144, 0.6189625868226986, 0.6244604313712754, 0.5766939637776934, 0.6810349417239014, 0.6550878742654971, 0.6686397944855087, 0.6439351042570954, 0.653010561865903, 0.6517862410793936, 0.6415148981198412, 0.6331133109801863, 0.6496873784915884, 0.6529574551891095, 0.6522293362475217, 0.581934031877243, 0.6427612614826465, 0.6381189277773858, 0.6444605429132985, 0.641310635195261, 0.6651463582844825, 0.6022721379869939, 0.6379923615884938, 0.4872215311653226, 0.5188332059935291, 0.6447057972847671, 0.6575672104951872, 0.6962331866820374, 0.6940511451761036]}, {\"categories\": [\"0\", \"1\", \"2\", \"3\", \"4\", \"5\", \"6\", \"7\", \"8\", \"9\", \"10\", \"11\", \"12\", \"13\", \"14\", \"15\", \"16\", \"17\", \"18\", \"19\", \"20\", \"21\", \"22\", \"23\", \"24\", \"25\", \"26\", \"27\", \"28\", \"29\", \"30\", \"31\", \"32\", \"33\", \"34\", \"35\", \"36\", \"37\", \"38\", \"39\", \"40\", \"41\", \"42\", \"43\", \"44\", \"45\", \"46\", \"47\", \"48\", \"49\", \"50\", \"51\", \"52\", \"53\", \"54\", \"55\", \"56\", \"57\", \"58\", \"59\", \"60\", \"61\", \"62\", \"63\", \"64\", \"65\", \"66\", \"67\", \"68\", \"69\", \"70\", \"71\", \"72\", \"73\", \"74\", \"75\", \"76\", \"77\", \"78\", \"79\", \"80\", \"81\", \"82\", \"83\", \"84\", \"85\", \"86\", \"87\", \"88\", \"89\", \"90\", \"91\", \"92\", \"93\", \"94\", \"95\", \"96\", \"97\", \"103\", \"104\"], \"mode\": \"lines\", \"name\": \"AUC_weighted_max\", \"stepped\": true, \"type\": \"scatter\", \"data\": [0.6550392343162107, 0.6550392343162107, 0.6550392343162107, 0.6550392343162107, 0.6550392343162107, 0.6550392343162107, 0.6550392343162107, 0.6550392343162107, 0.6550392343162107, 0.6550392343162107, 0.6550392343162107, 0.6550392343162107, 0.6550392343162107, 0.6550392343162107, 0.6550392343162107, 0.6550392343162107, 0.6550392343162107, 0.6550392343162107, 0.6550392343162107, 0.6550392343162107, 0.6550392343162107, 0.6566498283176659, 0.6566498283176659, 0.6566498283176659, 0.6566498283176659, 0.6566498283176659, 0.6566498283176659, 0.6566498283176659, 0.6566498283176659, 0.6566498283176659, 0.6566498283176659, 0.6566498283176659, 0.665229870869889, 0.6700810312171604, 0.6700810312171604, 0.6700810312171604, 0.6700810312171604, 0.6700810312171604, 0.6700810312171604, 0.6700810312171604, 0.6700810312171604, 0.6700810312171604, 0.6700810312171604, 0.6700810312171604, 0.6700810312171604, 0.6700810312171604, 0.6700810312171604, 0.6700810312171604, 0.6700810312171604, 0.6700810312171604, 0.6700810312171604, 0.6700810312171604, 0.6700810312171604, 0.6700810312171604, 0.6700810312171604, 0.6700810312171604, 0.6700810312171604, 0.6700810312171604, 0.6700810312171604, 0.6700810312171604, 0.6700810312171604, 0.6704482549777699, 0.6704482549777699, 0.6704482549777699, 0.6704482549777699, 0.6704482549777699, 0.6704482549777699, 0.6704482549777699, 0.6704482549777699, 0.6704482549777699, 0.6704482549777699, 0.6704482549777699, 0.6704482549777699, 0.6704482549777699, 0.6704482549777699, 0.6810349417239014, 0.6810349417239014, 0.6810349417239014, 0.6810349417239014, 0.6810349417239014, 0.6810349417239014, 0.6810349417239014, 0.6810349417239014, 0.6810349417239014, 0.6810349417239014, 0.6810349417239014, 0.6810349417239014, 0.6810349417239014, 0.6810349417239014, 0.6810349417239014, 0.6810349417239014, 0.6810349417239014, 0.6810349417239014, 0.6810349417239014, 0.6810349417239014, 0.6810349417239014, 0.6810349417239014, 0.6810349417239014, 0.6962331866820374, 0.6962331866820374]}], \"f1_score_macro\": [{\"categories\": [\"0\", \"1\", \"2\", \"3\", \"4\", \"5\", \"6\", \"7\", \"8\", \"9\", \"10\", \"11\", \"12\", \"13\", \"14\", \"15\", \"16\", \"17\", \"18\", \"19\", \"20\", \"21\", \"22\", \"23\", \"24\", \"25\", \"26\", \"27\", \"28\", \"29\", \"30\", \"31\", \"32\", \"33\", \"34\", \"35\", \"36\", \"37\", \"38\", \"39\", \"40\", \"41\", \"42\", \"43\", \"44\", \"45\", \"46\", \"47\", \"48\", \"49\", \"50\", \"51\", \"52\", \"53\", \"54\", \"55\", \"56\", \"57\", \"58\", \"59\", \"60\", \"61\", \"62\", \"63\", \"64\", \"65\", \"66\", \"67\", \"68\", \"69\", \"70\", \"71\", \"72\", \"73\", \"74\", \"75\", \"76\", \"77\", \"78\", \"79\", \"80\", \"81\", \"82\", \"83\", \"84\", \"85\", \"86\", \"87\", \"88\", \"89\", \"90\", \"91\", \"92\", \"93\", \"94\", \"95\", \"96\", \"97\", \"103\", \"104\"], \"mode\": \"markers\", \"name\": \"f1_score_macro\", \"stepped\": false, \"type\": \"scatter\", \"data\": [0.6099483533626852, 0.5411403312382688, 0.38546993693552617, 0.5264392801851666, 0.4581316035286606, 0.47525331428859136, 0.5140110539681865, 0.5420409961156462, 0.5708810829554398, 0.4995149382542275, 0.38562277685953505, 0.5130441119127408, 0.5213161612680821, 0.5105717016917956, 0.5648750578655861, 0.5332742240395832, 0.4563664411157005, 0.6041594748227778, 0.46258325285447094, 0.5688315373455733, 0.5670295871143131, 0.5839787035866715, 0.5448120657406537, 0.48444602532957015, 0.5930375745885009, 0.39760051615163094, 0.5779318912146365, 0.38562277685953505, 0.5838128207600021, 0.58515828709032, 0.37881853499324264, 0.518137546074816, 0.5474361809655864, 0.5773993496563554, 0.37881853499324264, 0.3834960464104959, 0.594819351513322, 0.5689561024673655, 0.5401211082356071, 0.528589793536827, 0.5464432202422805, 0.5498049130413766, 0.43557896814839614, 0.49474999144869636, 0.5852236499814177, 0.37881853499324264, 0.5517431062457846, 0.5962859933042793, 0.5978318862239734, 0.5521926344190015, 0.37881853499324264, 0.568573038381128, 0.5662163421370859, 0.6054966699018643, 0.5800118650981714, 0.37881853499324264, 0.6044637479141566, 0.5885176628940239, 0.6076021915971738, 0.5421304513202189, 0.37881853499324264, 0.6074937108055612, 0.5977383485441622, 0.5523950706622316, 0.37881853499324264, 0.37881853499324264, 0.5737376006140833, 0.5680359496389156, 0.40684217828099506, 0.5685313234969082, 0.5782818559189075, 0.5893767286559674, 0.564687796233382, 0.5652818489985134, 0.5145172907043611, 0.5684247018146213, 0.5935375203986981, 0.5715647787049308, 0.5761139495365056, 0.6009540741007224, 0.5752141942081059, 0.5844891697176761, 0.5457273691059493, 0.5505407371772052, 0.6024998177452869, 0.5805630929628455, 0.5298851671383787, 0.5389477006902647, 0.5330261941967239, 0.5390343038830172, 0.5356305575292755, 0.5666490595898134, 0.5621903983191953, 0.5559166852757872, 0.37881853499324264, 0.4970717499141857, 0.5728322252945383, 0.6082942724983372, 0.5794747152997952, 0.611616675659948]}, {\"categories\": [\"0\", \"1\", \"2\", \"3\", \"4\", \"5\", \"6\", \"7\", \"8\", \"9\", \"10\", \"11\", \"12\", \"13\", \"14\", \"15\", \"16\", \"17\", \"18\", \"19\", \"20\", \"21\", \"22\", \"23\", \"24\", \"25\", \"26\", \"27\", \"28\", \"29\", \"30\", \"31\", \"32\", \"33\", \"34\", \"35\", \"36\", \"37\", \"38\", \"39\", \"40\", \"41\", \"42\", \"43\", \"44\", \"45\", \"46\", \"47\", \"48\", \"49\", \"50\", \"51\", \"52\", \"53\", \"54\", \"55\", \"56\", \"57\", \"58\", \"59\", \"60\", \"61\", \"62\", \"63\", \"64\", \"65\", \"66\", \"67\", \"68\", \"69\", \"70\", \"71\", \"72\", \"73\", \"74\", \"75\", \"76\", \"77\", \"78\", \"79\", \"80\", \"81\", \"82\", \"83\", \"84\", \"85\", \"86\", \"87\", \"88\", \"89\", \"90\", \"91\", \"92\", \"93\", \"94\", \"95\", \"96\", \"97\", \"103\", \"104\"], \"mode\": \"lines\", \"name\": \"f1_score_macro_max\", \"stepped\": true, \"type\": \"scatter\", \"data\": [0.6099483533626852, 0.6099483533626852, 0.6099483533626852, 0.6099483533626852, 0.6099483533626852, 0.6099483533626852, 0.6099483533626852, 0.6099483533626852, 0.6099483533626852, 0.6099483533626852, 0.6099483533626852, 0.6099483533626852, 0.6099483533626852, 0.6099483533626852, 0.6099483533626852, 0.6099483533626852, 0.6099483533626852, 0.6099483533626852, 0.6099483533626852, 0.6099483533626852, 0.6099483533626852, 0.6099483533626852, 0.6099483533626852, 0.6099483533626852, 0.6099483533626852, 0.6099483533626852, 0.6099483533626852, 0.6099483533626852, 0.6099483533626852, 0.6099483533626852, 0.6099483533626852, 0.6099483533626852, 0.6099483533626852, 0.6099483533626852, 0.6099483533626852, 0.6099483533626852, 0.6099483533626852, 0.6099483533626852, 0.6099483533626852, 0.6099483533626852, 0.6099483533626852, 0.6099483533626852, 0.6099483533626852, 0.6099483533626852, 0.6099483533626852, 0.6099483533626852, 0.6099483533626852, 0.6099483533626852, 0.6099483533626852, 0.6099483533626852, 0.6099483533626852, 0.6099483533626852, 0.6099483533626852, 0.6099483533626852, 0.6099483533626852, 0.6099483533626852, 0.6099483533626852, 0.6099483533626852, 0.6099483533626852, 0.6099483533626852, 0.6099483533626852, 0.6099483533626852, 0.6099483533626852, 0.6099483533626852, 0.6099483533626852, 0.6099483533626852, 0.6099483533626852, 0.6099483533626852, 0.6099483533626852, 0.6099483533626852, 0.6099483533626852, 0.6099483533626852, 0.6099483533626852, 0.6099483533626852, 0.6099483533626852, 0.6099483533626852, 0.6099483533626852, 0.6099483533626852, 0.6099483533626852, 0.6099483533626852, 0.6099483533626852, 0.6099483533626852, 0.6099483533626852, 0.6099483533626852, 0.6099483533626852, 0.6099483533626852, 0.6099483533626852, 0.6099483533626852, 0.6099483533626852, 0.6099483533626852, 0.6099483533626852, 0.6099483533626852, 0.6099483533626852, 0.6099483533626852, 0.6099483533626852, 0.6099483533626852, 0.6099483533626852, 0.6099483533626852, 0.6099483533626852, 0.611616675659948]}], \"log_loss\": [{\"categories\": [\"0\", \"1\", \"2\", \"3\", \"4\", \"5\", \"6\", \"7\", \"8\", \"9\", \"10\", \"11\", \"12\", \"13\", \"14\", \"15\", \"16\", \"17\", \"18\", \"19\", \"20\", \"21\", \"22\", \"23\", \"24\", \"25\", \"26\", \"27\", \"28\", \"29\", \"30\", \"31\", \"32\", \"33\", \"34\", \"35\", \"36\", \"37\", \"38\", \"39\", \"40\", \"41\", \"42\", \"43\", \"44\", \"45\", \"46\", \"47\", \"48\", \"49\", \"50\", \"51\", \"52\", \"53\", \"54\", \"55\", \"56\", \"57\", \"58\", \"59\", \"60\", \"61\", \"62\", \"63\", \"64\", \"65\", \"66\", \"67\", \"68\", \"69\", \"70\", \"71\", \"72\", \"73\", \"74\", \"75\", \"76\", \"77\", \"78\", \"79\", \"80\", \"81\", \"82\", \"83\", \"84\", \"85\", \"86\", \"87\", \"88\", \"89\", \"90\", \"91\", \"92\", \"93\", \"94\", \"95\", \"96\", \"97\", \"103\", \"104\"], \"mode\": \"markers\", \"name\": \"log_loss\", \"stepped\": false, \"type\": \"scatter\", \"data\": [0.6532678914138131, 0.6364773211518756, 0.6597622730915358, 0.645507781156237, 0.6562475659161386, 0.6892588591838252, 0.6596459655031082, 0.6744486055059736, 0.6305802430714484, 0.651277166894236, 0.6717786228196366, 0.6450434050339506, 0.6628275484250213, 0.9173819214401119, 0.6830370598525669, 0.6603281176517416, 0.6505535046316053, 0.6564804338772205, 0.6621481634673755, 0.6817360603265336, 0.6366305310382955, 0.6271093943104381, 0.6406946353062788, 0.6956512090025107, 0.6614994200873947, 0.67328855720158, 0.6359158047129138, 0.6717783505129468, 0.6366569242566337, 0.6339339383917111, 0.6696982979659317, 0.645371997637811, 0.6267006411399177, 0.6209115767335177, 0.6690217786322812, 0.6715210080959739, 0.6932950069743192, 0.6816257045159655, 0.6891187685437871, 0.6920579359795198, 0.6354550901748063, 0.6374324427332697, 0.6557428013558313, 0.6497649394362323, 0.6322775534800966, 0.669755686608498, 0.6349142380647075, 0.6307209877230232, 0.641279302107054, 0.6308210782280571, 0.6699547904620683, 0.6449905241786826, 0.6316803646548544, 0.7788018196836264, 0.6263224714075758, 0.6691358047334433, 0.6356971239967727, 0.6481009194709743, 0.6417287929922022, 0.6376596280802275, 0.669221095134538, 0.6212676500740931, 0.673581442391305, 0.6311326171299892, 0.6692089441519394, 0.6692757801899253, 0.6249548538136283, 0.671721137203872, 0.6580859844658455, 0.6303906597678218, 0.6177825131037055, 0.7122850630876879, 0.6498715718513507, 0.6487348692509164, 0.6628058271455423, 0.6197481188773944, 0.642455827029067, 0.6224830456857252, 0.6341231220738366, 0.630046652407858, 0.6280491305428748, 0.6372309152908702, 0.6358827034455327, 0.630956042715983, 0.66911675046974, 0.627325880931492, 0.6595259357854161, 0.637458302666487, 0.6397229395862245, 0.6369950860022792, 0.6380946024011053, 0.6247076359657764, 0.685028470946222, 0.6336534293225159, 0.6692216966144605, 0.7185656227669411, 0.6352734431072197, 0.7005177073120598, 0.6118230922361473, 0.6072720896506575]}, {\"categories\": [\"0\", \"1\", \"2\", \"3\", \"4\", \"5\", \"6\", \"7\", \"8\", \"9\", \"10\", \"11\", \"12\", \"13\", \"14\", \"15\", \"16\", \"17\", \"18\", \"19\", \"20\", \"21\", \"22\", \"23\", \"24\", \"25\", \"26\", \"27\", \"28\", \"29\", \"30\", \"31\", \"32\", \"33\", \"34\", \"35\", \"36\", \"37\", \"38\", \"39\", \"40\", \"41\", \"42\", \"43\", \"44\", \"45\", \"46\", \"47\", \"48\", \"49\", \"50\", \"51\", \"52\", \"53\", \"54\", \"55\", \"56\", \"57\", \"58\", \"59\", \"60\", \"61\", \"62\", \"63\", \"64\", \"65\", \"66\", \"67\", \"68\", \"69\", \"70\", \"71\", \"72\", \"73\", \"74\", \"75\", \"76\", \"77\", \"78\", \"79\", \"80\", \"81\", \"82\", \"83\", \"84\", \"85\", \"86\", \"87\", \"88\", \"89\", \"90\", \"91\", \"92\", \"93\", \"94\", \"95\", \"96\", \"97\", \"103\", \"104\"], \"mode\": \"lines\", \"name\": \"log_loss_min\", \"stepped\": true, \"type\": \"scatter\", \"data\": [0.6532678914138131, 0.6364773211518756, 0.6364773211518756, 0.6364773211518756, 0.6364773211518756, 0.6364773211518756, 0.6364773211518756, 0.6364773211518756, 0.6305802430714484, 0.6305802430714484, 0.6305802430714484, 0.6305802430714484, 0.6305802430714484, 0.6305802430714484, 0.6305802430714484, 0.6305802430714484, 0.6305802430714484, 0.6305802430714484, 0.6305802430714484, 0.6305802430714484, 0.6305802430714484, 0.6271093943104381, 0.6271093943104381, 0.6271093943104381, 0.6271093943104381, 0.6271093943104381, 0.6271093943104381, 0.6271093943104381, 0.6271093943104381, 0.6271093943104381, 0.6271093943104381, 0.6271093943104381, 0.6267006411399177, 0.6209115767335177, 0.6209115767335177, 0.6209115767335177, 0.6209115767335177, 0.6209115767335177, 0.6209115767335177, 0.6209115767335177, 0.6209115767335177, 0.6209115767335177, 0.6209115767335177, 0.6209115767335177, 0.6209115767335177, 0.6209115767335177, 0.6209115767335177, 0.6209115767335177, 0.6209115767335177, 0.6209115767335177, 0.6209115767335177, 0.6209115767335177, 0.6209115767335177, 0.6209115767335177, 0.6209115767335177, 0.6209115767335177, 0.6209115767335177, 0.6209115767335177, 0.6209115767335177, 0.6209115767335177, 0.6209115767335177, 0.6209115767335177, 0.6209115767335177, 0.6209115767335177, 0.6209115767335177, 0.6209115767335177, 0.6209115767335177, 0.6209115767335177, 0.6209115767335177, 0.6209115767335177, 0.6177825131037055, 0.6177825131037055, 0.6177825131037055, 0.6177825131037055, 0.6177825131037055, 0.6177825131037055, 0.6177825131037055, 0.6177825131037055, 0.6177825131037055, 0.6177825131037055, 0.6177825131037055, 0.6177825131037055, 0.6177825131037055, 0.6177825131037055, 0.6177825131037055, 0.6177825131037055, 0.6177825131037055, 0.6177825131037055, 0.6177825131037055, 0.6177825131037055, 0.6177825131037055, 0.6177825131037055, 0.6177825131037055, 0.6177825131037055, 0.6177825131037055, 0.6177825131037055, 0.6177825131037055, 0.6177825131037055, 0.6118230922361473, 0.6072720896506575]}], \"accuracy\": [{\"categories\": [\"0\", \"1\", \"2\", \"3\", \"4\", \"5\", \"6\", \"7\", \"8\", \"9\", \"10\", \"11\", \"12\", \"13\", \"14\", \"15\", \"16\", \"17\", \"18\", \"19\", \"20\", \"21\", \"22\", \"23\", \"24\", \"25\", \"26\", \"27\", \"28\", \"29\", \"30\", \"31\", \"32\", \"33\", \"34\", \"35\", \"36\", \"37\", \"38\", \"39\", \"40\", \"41\", \"42\", \"43\", \"44\", \"45\", \"46\", \"47\", \"48\", \"49\", \"50\", \"51\", \"52\", \"53\", \"54\", \"55\", \"56\", \"57\", \"58\", \"59\", \"60\", \"61\", \"62\", \"63\", \"64\", \"65\", \"66\", \"67\", \"68\", \"69\", \"70\", \"71\", \"72\", \"73\", \"74\", \"75\", \"76\", \"77\", \"78\", \"79\", \"80\", \"81\", \"82\", \"83\", \"84\", \"85\", \"86\", \"87\", \"88\", \"89\", \"90\", \"91\", \"92\", \"93\", \"94\", \"95\", \"96\", \"97\", \"103\", \"104\"], \"mode\": \"markers\", \"name\": \"accuracy\", \"stepped\": false, \"type\": \"scatter\", \"data\": [0.6550671550671551, 0.6367521367521367, 0.6120268620268621, 0.6294261294261294, 0.6163003663003663, 0.597985347985348, 0.6282051282051282, 0.5668498168498168, 0.6535409035409036, 0.6278998778998779, 0.6105006105006106, 0.6388888888888888, 0.6132478632478633, 0.5772283272283273, 0.5821123321123322, 0.6123321123321124, 0.6321733821733821, 0.6239316239316239, 0.6163003663003663, 0.5842490842490843, 0.6459096459096458, 0.6568986568986569, 0.6398046398046399, 0.4908424908424909, 0.6114163614163615, 0.6056166056166057, 0.6556776556776557, 0.6105006105006106, 0.6538461538461539, 0.6452991452991453, 0.6098901098901099, 0.6468253968253969, 0.648962148962149, 0.6602564102564102, 0.6098901098901099, 0.6105006105006106, 0.6428571428571429, 0.5802808302808303, 0.5537240537240536, 0.5485347985347986, 0.6486568986568987, 0.6413308913308914, 0.6272893772893773, 0.6278998778998779, 0.645909645909646, 0.6098901098901099, 0.6428571428571428, 0.6535409035409036, 0.6483516483516484, 0.6456043956043956, 0.6098901098901099, 0.6507936507936507, 0.648962148962149, 0.6443833943833943, 0.6523199023199023, 0.6098901098901099, 0.6541514041514042, 0.6434676434676435, 0.6355311355311355, 0.6401098901098901, 0.6098901098901099, 0.6626984126984127, 0.6416361416361417, 0.6523199023199023, 0.6098901098901099, 0.6098901098901099, 0.6578144078144078, 0.5900488400488401, 0.6150793650793651, 0.6535409035409036, 0.6623931623931624, 0.6312576312576312, 0.6324786324786325, 0.6297313797313797, 0.6053113553113554, 0.6584249084249084, 0.6474358974358974, 0.6578144078144078, 0.6443833943833943, 0.6599511599511599, 0.6538461538461539, 0.6474358974358975, 0.6425518925518926, 0.6468253968253969, 0.6498778998778999, 0.6544566544566545, 0.61996336996337, 0.6483516483516483, 0.6446886446886446, 0.6471306471306472, 0.6459096459096458, 0.655982905982906, 0.6126373626373627, 0.6419413919413919, 0.6098901098901099, 0.583943833943834, 0.6422466422466423, 0.6510989010989011, 0.6718559218559218, 0.6752136752136751]}, {\"categories\": [\"0\", \"1\", \"2\", \"3\", \"4\", \"5\", \"6\", \"7\", \"8\", \"9\", \"10\", \"11\", \"12\", \"13\", \"14\", \"15\", \"16\", \"17\", \"18\", \"19\", \"20\", \"21\", \"22\", \"23\", \"24\", \"25\", \"26\", \"27\", \"28\", \"29\", \"30\", \"31\", \"32\", \"33\", \"34\", \"35\", \"36\", \"37\", \"38\", \"39\", \"40\", \"41\", \"42\", \"43\", \"44\", \"45\", \"46\", \"47\", \"48\", \"49\", \"50\", \"51\", \"52\", \"53\", \"54\", \"55\", \"56\", \"57\", \"58\", \"59\", \"60\", \"61\", \"62\", \"63\", \"64\", \"65\", \"66\", \"67\", \"68\", \"69\", \"70\", \"71\", \"72\", \"73\", \"74\", \"75\", \"76\", \"77\", \"78\", \"79\", \"80\", \"81\", \"82\", \"83\", \"84\", \"85\", \"86\", \"87\", \"88\", \"89\", \"90\", \"91\", \"92\", \"93\", \"94\", \"95\", \"96\", \"97\", \"103\", \"104\"], \"mode\": \"lines\", \"name\": \"accuracy_max\", \"stepped\": true, \"type\": \"scatter\", \"data\": [0.6550671550671551, 0.6550671550671551, 0.6550671550671551, 0.6550671550671551, 0.6550671550671551, 0.6550671550671551, 0.6550671550671551, 0.6550671550671551, 0.6550671550671551, 0.6550671550671551, 0.6550671550671551, 0.6550671550671551, 0.6550671550671551, 0.6550671550671551, 0.6550671550671551, 0.6550671550671551, 0.6550671550671551, 0.6550671550671551, 0.6550671550671551, 0.6550671550671551, 0.6550671550671551, 0.6568986568986569, 0.6568986568986569, 0.6568986568986569, 0.6568986568986569, 0.6568986568986569, 0.6568986568986569, 0.6568986568986569, 0.6568986568986569, 0.6568986568986569, 0.6568986568986569, 0.6568986568986569, 0.6568986568986569, 0.6602564102564102, 0.6602564102564102, 0.6602564102564102, 0.6602564102564102, 0.6602564102564102, 0.6602564102564102, 0.6602564102564102, 0.6602564102564102, 0.6602564102564102, 0.6602564102564102, 0.6602564102564102, 0.6602564102564102, 0.6602564102564102, 0.6602564102564102, 0.6602564102564102, 0.6602564102564102, 0.6602564102564102, 0.6602564102564102, 0.6602564102564102, 0.6602564102564102, 0.6602564102564102, 0.6602564102564102, 0.6602564102564102, 0.6602564102564102, 0.6602564102564102, 0.6602564102564102, 0.6602564102564102, 0.6602564102564102, 0.6626984126984127, 0.6626984126984127, 0.6626984126984127, 0.6626984126984127, 0.6626984126984127, 0.6626984126984127, 0.6626984126984127, 0.6626984126984127, 0.6626984126984127, 0.6626984126984127, 0.6626984126984127, 0.6626984126984127, 0.6626984126984127, 0.6626984126984127, 0.6626984126984127, 0.6626984126984127, 0.6626984126984127, 0.6626984126984127, 0.6626984126984127, 0.6626984126984127, 0.6626984126984127, 0.6626984126984127, 0.6626984126984127, 0.6626984126984127, 0.6626984126984127, 0.6626984126984127, 0.6626984126984127, 0.6626984126984127, 0.6626984126984127, 0.6626984126984127, 0.6626984126984127, 0.6626984126984127, 0.6626984126984127, 0.6626984126984127, 0.6626984126984127, 0.6626984126984127, 0.6626984126984127, 0.6718559218559218, 0.6752136752136751]}], \"matthews_correlation\": [{\"categories\": [\"0\", \"1\", \"2\", \"3\", \"4\", \"5\", \"6\", \"7\", \"8\", \"9\", \"10\", \"11\", \"12\", \"13\", \"14\", \"15\", \"16\", \"17\", \"18\", \"19\", \"20\", \"21\", \"22\", \"23\", \"24\", \"25\", \"26\", \"27\", \"28\", \"29\", \"30\", \"31\", \"32\", \"33\", \"34\", \"35\", \"36\", \"37\", \"38\", \"39\", \"40\", \"41\", \"42\", \"43\", \"44\", \"45\", \"46\", \"47\", \"48\", \"49\", \"50\", \"51\", \"52\", \"53\", \"54\", \"55\", \"56\", \"57\", \"58\", \"59\", \"60\", \"61\", \"62\", \"63\", \"64\", \"65\", \"66\", \"67\", \"68\", \"69\", \"70\", \"71\", \"72\", \"73\", \"74\", \"75\", \"76\", \"77\", \"78\", \"79\", \"80\", \"81\", \"82\", \"83\", \"84\", \"85\", \"86\", \"87\", \"88\", \"89\", \"90\", \"91\", \"92\", \"93\", \"94\", \"95\", \"96\", \"97\", \"103\", \"104\"], \"mode\": \"markers\", \"name\": \"matthews_correlation\", \"stepped\": false, \"type\": \"scatter\", \"data\": [0.24260894758567053, 0.17572196547409746, 0.04426173945200237, 0.14962750614262568, 0.08875652028290637, 0.050714815259210455, 0.1412820119300778, 0.08442369394647688, 0.2224850216516747, 0.13990088302754944, 0.03127120944451564, 0.17519113848291964, 0.11147274484540699, 0.04902227026339412, 0.1309236458757363, 0.11959094940436554, 0.16553407160374714, 0.2083689540096442, 0.09631140360904555, 0.13973994711467322, 0.2052008947419195, 0.23381167796793068, 0.18201868948241692, -0.01817238381823651, 0.18623481375076778, 0.005863627286357804, 0.2290120759753591, 0.03127120944451564, 0.2283307976063468, 0.21092068074154802, 0.0, 0.20552184194297507, 0.2087157662797823, 0.2425486248086167, 0.0, 0.02112963852272315, 0.21280945356007494, 0.14228849345793423, 0.08816013036548737, 0.06096985329684181, 0.2107777239855894, 0.18735499437212869, 0.14891686821184474, 0.13777222073735418, 0.21245352829700623, 0.0, 0.19206105493031664, 0.23034773389407595, 0.22347023761134954, 0.20000803276664492, 0.0, 0.21763450991085653, 0.21009773788686067, 0.22519693186298573, 0.2217638862841231, 0.0, 0.23743549764041907, 0.20917160135495294, 0.21833350393568396, 0.18417406904807906, 0.0, 0.25370422623074335, 0.2132049136269809, 0.22190171740487166, 0.0, 0.0, 0.23417766015094857, 0.13643610594102293, 0.06933804938413525, 0.2222125059609292, 0.24743107956177504, 0.19290141319000878, 0.17593096761496377, 0.17117783234868233, 0.09216794947401634, 0.23740486745987618, 0.21927663696741653, 0.2347188571200147, 0.20483923311932042, 0.24582414672341937, 0.22431134364019764, 0.2134929773904116, 0.19129692375668683, 0.20187538241257677, 0.22955260177914583, 0.22763914018757622, 0.12930955983934458, 0.20579127194890945, 0.19444012697264987, 0.20327691822860813, 0.19733508325123197, 0.23053755728928424, 0.14337699339988336, 0.19046423108163224, 0.0, 0.04471111031712959, 0.19852522314063306, 0.23539746218347513, 0.27558064463780513, 0.28745110296153525]}, {\"categories\": [\"0\", \"1\", \"2\", \"3\", \"4\", \"5\", \"6\", \"7\", \"8\", \"9\", \"10\", \"11\", \"12\", \"13\", \"14\", \"15\", \"16\", \"17\", \"18\", \"19\", \"20\", \"21\", \"22\", \"23\", \"24\", \"25\", \"26\", \"27\", \"28\", \"29\", \"30\", \"31\", \"32\", \"33\", \"34\", \"35\", \"36\", \"37\", \"38\", \"39\", \"40\", \"41\", \"42\", \"43\", \"44\", \"45\", \"46\", \"47\", \"48\", \"49\", \"50\", \"51\", \"52\", \"53\", \"54\", \"55\", \"56\", \"57\", \"58\", \"59\", \"60\", \"61\", \"62\", \"63\", \"64\", \"65\", \"66\", \"67\", \"68\", \"69\", \"70\", \"71\", \"72\", \"73\", \"74\", \"75\", \"76\", \"77\", \"78\", \"79\", \"80\", \"81\", \"82\", \"83\", \"84\", \"85\", \"86\", \"87\", \"88\", \"89\", \"90\", \"91\", \"92\", \"93\", \"94\", \"95\", \"96\", \"97\", \"103\", \"104\"], \"mode\": \"lines\", \"name\": \"matthews_correlation_max\", \"stepped\": true, \"type\": \"scatter\", \"data\": [0.24260894758567053, 0.24260894758567053, 0.24260894758567053, 0.24260894758567053, 0.24260894758567053, 0.24260894758567053, 0.24260894758567053, 0.24260894758567053, 0.24260894758567053, 0.24260894758567053, 0.24260894758567053, 0.24260894758567053, 0.24260894758567053, 0.24260894758567053, 0.24260894758567053, 0.24260894758567053, 0.24260894758567053, 0.24260894758567053, 0.24260894758567053, 0.24260894758567053, 0.24260894758567053, 0.24260894758567053, 0.24260894758567053, 0.24260894758567053, 0.24260894758567053, 0.24260894758567053, 0.24260894758567053, 0.24260894758567053, 0.24260894758567053, 0.24260894758567053, 0.24260894758567053, 0.24260894758567053, 0.24260894758567053, 0.24260894758567053, 0.24260894758567053, 0.24260894758567053, 0.24260894758567053, 0.24260894758567053, 0.24260894758567053, 0.24260894758567053, 0.24260894758567053, 0.24260894758567053, 0.24260894758567053, 0.24260894758567053, 0.24260894758567053, 0.24260894758567053, 0.24260894758567053, 0.24260894758567053, 0.24260894758567053, 0.24260894758567053, 0.24260894758567053, 0.24260894758567053, 0.24260894758567053, 0.24260894758567053, 0.24260894758567053, 0.24260894758567053, 0.24260894758567053, 0.24260894758567053, 0.24260894758567053, 0.24260894758567053, 0.24260894758567053, 0.25370422623074335, 0.25370422623074335, 0.25370422623074335, 0.25370422623074335, 0.25370422623074335, 0.25370422623074335, 0.25370422623074335, 0.25370422623074335, 0.25370422623074335, 0.25370422623074335, 0.25370422623074335, 0.25370422623074335, 0.25370422623074335, 0.25370422623074335, 0.25370422623074335, 0.25370422623074335, 0.25370422623074335, 0.25370422623074335, 0.25370422623074335, 0.25370422623074335, 0.25370422623074335, 0.25370422623074335, 0.25370422623074335, 0.25370422623074335, 0.25370422623074335, 0.25370422623074335, 0.25370422623074335, 0.25370422623074335, 0.25370422623074335, 0.25370422623074335, 0.25370422623074335, 0.25370422623074335, 0.25370422623074335, 0.25370422623074335, 0.25370422623074335, 0.25370422623074335, 0.25370422623074335, 0.27558064463780513, 0.28745110296153525]}], \"precision_score_macro\": [{\"categories\": [\"0\", \"1\", \"2\", \"3\", \"4\", \"5\", \"6\", \"7\", \"8\", \"9\", \"10\", \"11\", \"12\", \"13\", \"14\", \"15\", \"16\", \"17\", \"18\", \"19\", \"20\", \"21\", \"22\", \"23\", \"24\", \"25\", \"26\", \"27\", \"28\", \"29\", \"30\", \"31\", \"32\", \"33\", \"34\", \"35\", \"36\", \"37\", \"38\", \"39\", \"40\", \"41\", \"42\", \"43\", \"44\", \"45\", \"46\", \"47\", \"48\", \"49\", \"50\", \"51\", \"52\", \"53\", \"54\", \"55\", \"56\", \"57\", \"58\", \"59\", \"60\", \"61\", \"62\", \"63\", \"64\", \"65\", \"66\", \"67\", \"68\", \"69\", \"70\", \"71\", \"72\", \"73\", \"74\", \"75\", \"76\", \"77\", \"78\", \"79\", \"80\", \"81\", \"82\", \"83\", \"84\", \"85\", \"86\", \"87\", \"88\", \"89\", \"90\", \"91\", \"92\", \"93\", \"94\", \"95\", \"96\", \"97\", \"103\", \"104\"], \"mode\": \"markers\", \"name\": \"precision_score_macro\", \"stepped\": false, \"type\": \"scatter\", \"data\": [0.6336691424205486, 0.6204883851404922, 0.6056341286219628, 0.6037959717351481, 0.5865143495773609, 0.5378251420107653, 0.6037246881247972, 0.5424429588343733, 0.644712678390237, 0.6145822573756582, 0.6456561336927172, 0.643006986725168, 0.5712570010830572, 0.5279003334976503, 0.5648402407359617, 0.573705864430626, 0.7136782826554589, 0.6042747309132953, 0.5968016731930258, 0.5690565219587825, 0.6307039939923248, 0.6453988118438526, 0.6234745332764368, 0.49110781182149754, 0.5927199692829492, 0.44179664778707345, 0.6456474270263314, 0.6456561336927172, 0.640916490806312, 0.6228739528414399, 0.30494505494505497, 0.6751935497715701, 0.6497138747879502, 0.6604620125672696, 0.30494505494505497, 0.5136107770420819, 0.6176573347586063, 0.5698851385483824, 0.5437195747667574, 0.5305522747297996, 0.6542782121807599, 0.6249970697671574, 0.7309194930786616, 0.6145930992452503, 0.6243542801839513, 0.30494505494505497, 0.6284839609409061, 0.6327827516313195, 0.6248529770839949, 0.6368554390689855, 0.30494505494505497, 0.642466732716239, 0.6358380721380138, 0.6207222476562148, 0.6368249949447532, 0.30494505494505497, 0.633214809545709, 0.6187386420345408, 0.6121105679176624, 0.6283616368383326, 0.30494505494505497, 0.6462574714521175, 0.615894809796464, 0.6613814172286556, 0.30494505494505497, 0.30494505494505497, 0.6541224659844247, 0.5685176591359545, 0.6348380036437619, 0.645998273371703, 0.6644674351374756, 0.6036851691052871, 0.6048667969483777, 0.6002960258278592, 0.5587847348761265, 0.6627991775904043, 0.6247006016329711, 0.6572184909318718, 0.6240546953601439, 0.6437983247868253, 0.64295575852891, 0.6257821186343199, 0.6327785434139667, 0.639503351992917, 0.6274178383157808, 0.6423305598737001, 0.5831289715480938, 0.6541347759759315, 0.6469561698291477, 0.6519015008511465, 0.6472572249701978, 0.6569805794492125, 0.5786886086086086, 0.6242428756664665, 0.30494505494505497, 0.5278065663103547, 0.6201891990013025, 0.6282297853122236, 0.6939052459803502, 0.6770078376832088]}, {\"categories\": [\"0\", \"1\", \"2\", \"3\", \"4\", \"5\", \"6\", \"7\", \"8\", \"9\", \"10\", \"11\", \"12\", \"13\", \"14\", \"15\", \"16\", \"17\", \"18\", \"19\", \"20\", \"21\", \"22\", \"23\", \"24\", \"25\", \"26\", \"27\", \"28\", \"29\", \"30\", \"31\", \"32\", \"33\", \"34\", \"35\", \"36\", \"37\", \"38\", \"39\", \"40\", \"41\", \"42\", \"43\", \"44\", \"45\", \"46\", \"47\", \"48\", \"49\", \"50\", \"51\", \"52\", \"53\", \"54\", \"55\", \"56\", \"57\", \"58\", \"59\", \"60\", \"61\", \"62\", \"63\", \"64\", \"65\", \"66\", \"67\", \"68\", \"69\", \"70\", \"71\", \"72\", \"73\", \"74\", \"75\", \"76\", \"77\", \"78\", \"79\", \"80\", \"81\", \"82\", \"83\", \"84\", \"85\", \"86\", \"87\", \"88\", \"89\", \"90\", \"91\", \"92\", \"93\", \"94\", \"95\", \"96\", \"97\", \"103\", \"104\"], \"mode\": \"lines\", \"name\": \"precision_score_macro_max\", \"stepped\": true, \"type\": \"scatter\", \"data\": [0.6336691424205486, 0.6336691424205486, 0.6336691424205486, 0.6336691424205486, 0.6336691424205486, 0.6336691424205486, 0.6336691424205486, 0.6336691424205486, 0.644712678390237, 0.644712678390237, 0.6456561336927172, 0.6456561336927172, 0.6456561336927172, 0.6456561336927172, 0.6456561336927172, 0.6456561336927172, 0.7136782826554589, 0.7136782826554589, 0.7136782826554589, 0.7136782826554589, 0.7136782826554589, 0.7136782826554589, 0.7136782826554589, 0.7136782826554589, 0.7136782826554589, 0.7136782826554589, 0.7136782826554589, 0.7136782826554589, 0.7136782826554589, 0.7136782826554589, 0.7136782826554589, 0.7136782826554589, 0.7136782826554589, 0.7136782826554589, 0.7136782826554589, 0.7136782826554589, 0.7136782826554589, 0.7136782826554589, 0.7136782826554589, 0.7136782826554589, 0.7136782826554589, 0.7136782826554589, 0.7309194930786616, 0.7309194930786616, 0.7309194930786616, 0.7309194930786616, 0.7309194930786616, 0.7309194930786616, 0.7309194930786616, 0.7309194930786616, 0.7309194930786616, 0.7309194930786616, 0.7309194930786616, 0.7309194930786616, 0.7309194930786616, 0.7309194930786616, 0.7309194930786616, 0.7309194930786616, 0.7309194930786616, 0.7309194930786616, 0.7309194930786616, 0.7309194930786616, 0.7309194930786616, 0.7309194930786616, 0.7309194930786616, 0.7309194930786616, 0.7309194930786616, 0.7309194930786616, 0.7309194930786616, 0.7309194930786616, 0.7309194930786616, 0.7309194930786616, 0.7309194930786616, 0.7309194930786616, 0.7309194930786616, 0.7309194930786616, 0.7309194930786616, 0.7309194930786616, 0.7309194930786616, 0.7309194930786616, 0.7309194930786616, 0.7309194930786616, 0.7309194930786616, 0.7309194930786616, 0.7309194930786616, 0.7309194930786616, 0.7309194930786616, 0.7309194930786616, 0.7309194930786616, 0.7309194930786616, 0.7309194930786616, 0.7309194930786616, 0.7309194930786616, 0.7309194930786616, 0.7309194930786616, 0.7309194930786616, 0.7309194930786616, 0.7309194930786616, 0.7309194930786616, 0.7309194930786616]}], \"AUC_micro\": [{\"categories\": [\"0\", \"1\", \"2\", \"3\", \"4\", \"5\", \"6\", \"7\", \"8\", \"9\", \"10\", \"11\", \"12\", \"13\", \"14\", \"15\", \"16\", \"17\", \"18\", \"19\", \"20\", \"21\", \"22\", \"23\", \"24\", \"25\", \"26\", \"27\", \"28\", \"29\", \"30\", \"31\", \"32\", \"33\", \"34\", \"35\", \"36\", \"37\", \"38\", \"39\", \"40\", \"41\", \"42\", \"43\", \"44\", \"45\", \"46\", \"47\", \"48\", \"49\", \"50\", \"51\", \"52\", \"53\", \"54\", \"55\", \"56\", \"57\", \"58\", \"59\", \"60\", \"61\", \"62\", \"63\", \"64\", \"65\", \"66\", \"67\", \"68\", \"69\", \"70\", \"71\", \"72\", \"73\", \"74\", \"75\", \"76\", \"77\", \"78\", \"79\", \"80\", \"81\", \"82\", \"83\", \"84\", \"85\", \"86\", \"87\", \"88\", \"89\", \"90\", \"91\", \"92\", \"93\", \"94\", \"95\", \"96\", \"97\", \"103\", \"104\"], \"mode\": \"markers\", \"name\": \"AUC_micro\", \"stepped\": false, \"type\": \"scatter\", \"data\": [0.6989868597011455, 0.6884694212990916, 0.6501029241413856, 0.6748659358549469, 0.6558006503061448, 0.6048118293997415, 0.6518110120445285, 0.606470859218112, 0.7005994870005859, 0.6648888352185057, 0.6093215392665942, 0.6767094576160511, 0.6410231252264219, 0.6093114760697178, 0.5983632769347055, 0.6483885467401952, 0.6694930273226977, 0.6658744694458981, 0.6400738303210831, 0.6237337143930551, 0.6883304932755482, 0.7058459067387638, 0.6897807117587337, 0.4996561741067236, 0.6606586585982192, 0.6119829753071512, 0.7029442118727833, 0.6093131532691972, 0.6988778417349845, 0.6975740986729998, 0.6019292825611506, 0.6743011389302597, 0.7089237075500812, 0.7141537745933352, 0.6131324160170314, 0.6085863668281252, 0.6920343087925506, 0.6034532978214298, 0.5841898232008123, 0.5522822212382652, 0.6902731095725599, 0.6871388430454365, 0.6589803409858355, 0.666834666147853, 0.6976154695934916, 0.6059414232491155, 0.691787201402586, 0.7034691753098347, 0.6977093927643377, 0.6991710721106325, 0.6189106477568016, 0.688787530133684, 0.6952640359233765, 0.6942501688380808, 0.7031591729393926, 0.61996336996337, 0.7074681779352109, 0.6874361266531596, 0.6866024187452759, 0.6871729461015175, 0.6053918608863664, 0.7132248856149955, 0.6932318292208403, 0.6983949480515413, 0.6170400112707805, 0.6122924186111, 0.7037285821626481, 0.637815201688828, 0.6539585262112735, 0.6989776351040087, 0.7154765259160863, 0.6734749784200332, 0.673832780975638, 0.6773087768966889, 0.6459300518366452, 0.7193420514162271, 0.6986813298626485, 0.7131780637961956, 0.6928933144592486, 0.7027739761256244, 0.7016211810167855, 0.6933992696355334, 0.6887483954791648, 0.6981407125637894, 0.6974664783730717, 0.7021422309883848, 0.650889530697223, 0.6890904044063385, 0.6856819157643335, 0.6891295390608577, 0.6875114608631092, 0.7103129877855153, 0.6529021700724997, 0.6917265426880812, 0.6037772768541999, 0.6016335363862836, 0.6949682897485094, 0.6981077276406946, 0.7303994082840237, 0.730524918711732]}, {\"categories\": [\"0\", \"1\", \"2\", \"3\", \"4\", \"5\", \"6\", \"7\", \"8\", \"9\", \"10\", \"11\", \"12\", \"13\", \"14\", \"15\", \"16\", \"17\", \"18\", \"19\", \"20\", \"21\", \"22\", \"23\", \"24\", \"25\", \"26\", \"27\", \"28\", \"29\", \"30\", \"31\", \"32\", \"33\", \"34\", \"35\", \"36\", \"37\", \"38\", \"39\", \"40\", \"41\", \"42\", \"43\", \"44\", \"45\", \"46\", \"47\", \"48\", \"49\", \"50\", \"51\", \"52\", \"53\", \"54\", \"55\", \"56\", \"57\", \"58\", \"59\", \"60\", \"61\", \"62\", \"63\", \"64\", \"65\", \"66\", \"67\", \"68\", \"69\", \"70\", \"71\", \"72\", \"73\", \"74\", \"75\", \"76\", \"77\", \"78\", \"79\", \"80\", \"81\", \"82\", \"83\", \"84\", \"85\", \"86\", \"87\", \"88\", \"89\", \"90\", \"91\", \"92\", \"93\", \"94\", \"95\", \"96\", \"97\", \"103\", \"104\"], \"mode\": \"lines\", \"name\": \"AUC_micro_max\", \"stepped\": true, \"type\": \"scatter\", \"data\": [0.6989868597011455, 0.6989868597011455, 0.6989868597011455, 0.6989868597011455, 0.6989868597011455, 0.6989868597011455, 0.6989868597011455, 0.6989868597011455, 0.7005994870005859, 0.7005994870005859, 0.7005994870005859, 0.7005994870005859, 0.7005994870005859, 0.7005994870005859, 0.7005994870005859, 0.7005994870005859, 0.7005994870005859, 0.7005994870005859, 0.7005994870005859, 0.7005994870005859, 0.7005994870005859, 0.7058459067387638, 0.7058459067387638, 0.7058459067387638, 0.7058459067387638, 0.7058459067387638, 0.7058459067387638, 0.7058459067387638, 0.7058459067387638, 0.7058459067387638, 0.7058459067387638, 0.7058459067387638, 0.7089237075500812, 0.7141537745933352, 0.7141537745933352, 0.7141537745933352, 0.7141537745933352, 0.7141537745933352, 0.7141537745933352, 0.7141537745933352, 0.7141537745933352, 0.7141537745933352, 0.7141537745933352, 0.7141537745933352, 0.7141537745933352, 0.7141537745933352, 0.7141537745933352, 0.7141537745933352, 0.7141537745933352, 0.7141537745933352, 0.7141537745933352, 0.7141537745933352, 0.7141537745933352, 0.7141537745933352, 0.7141537745933352, 0.7141537745933352, 0.7141537745933352, 0.7141537745933352, 0.7141537745933352, 0.7141537745933352, 0.7141537745933352, 0.7141537745933352, 0.7141537745933352, 0.7141537745933352, 0.7141537745933352, 0.7141537745933352, 0.7141537745933352, 0.7141537745933352, 0.7141537745933352, 0.7141537745933352, 0.7154765259160863, 0.7154765259160863, 0.7154765259160863, 0.7154765259160863, 0.7154765259160863, 0.7193420514162271, 0.7193420514162271, 0.7193420514162271, 0.7193420514162271, 0.7193420514162271, 0.7193420514162271, 0.7193420514162271, 0.7193420514162271, 0.7193420514162271, 0.7193420514162271, 0.7193420514162271, 0.7193420514162271, 0.7193420514162271, 0.7193420514162271, 0.7193420514162271, 0.7193420514162271, 0.7193420514162271, 0.7193420514162271, 0.7193420514162271, 0.7193420514162271, 0.7193420514162271, 0.7193420514162271, 0.7193420514162271, 0.7303994082840237, 0.730524918711732]}], \"precision_score_weighted\": [{\"categories\": [\"0\", \"1\", \"2\", \"3\", \"4\", \"5\", \"6\", \"7\", \"8\", \"9\", \"10\", \"11\", \"12\", \"13\", \"14\", \"15\", \"16\", \"17\", \"18\", \"19\", \"20\", \"21\", \"22\", \"23\", \"24\", \"25\", \"26\", \"27\", \"28\", \"29\", \"30\", \"31\", \"32\", \"33\", \"34\", \"35\", \"36\", \"37\", \"38\", \"39\", \"40\", \"41\", \"42\", \"43\", \"44\", \"45\", \"46\", \"47\", \"48\", \"49\", \"50\", \"51\", \"52\", \"53\", \"54\", \"55\", \"56\", \"57\", \"58\", \"59\", \"60\", \"61\", \"62\", \"63\", \"64\", \"65\", \"66\", \"67\", \"68\", \"69\", \"70\", \"71\", \"72\", \"73\", \"74\", \"75\", \"76\", \"77\", \"78\", \"79\", \"80\", \"81\", \"82\", \"83\", \"84\", \"85\", \"86\", \"87\", \"88\", \"89\", \"90\", \"91\", \"92\", \"93\", \"94\", \"95\", \"96\", \"97\", \"103\", \"104\"], \"mode\": \"markers\", \"name\": \"precision_score_weighted\", \"stepped\": false, \"type\": \"scatter\", \"data\": [0.6445558518964102, 0.6266665976772968, 0.6079963904691834, 0.612103923036219, 0.5947186050380597, 0.5560255257168433, 0.6114972288713161, 0.5645096645946163, 0.6482338423384101, 0.6189624668899452, 0.6404608344123858, 0.6421148675024682, 0.5851712781892014, 0.5490026083609759, 0.586785927194438, 0.5885047442729837, 0.6952470901228643, 0.6235934408850076, 0.6035089400095376, 0.5910969688183266, 0.6371252336711274, 0.6501720373910593, 0.6292752137157606, 0.515383993035461, 0.6130847480932231, 0.4772318596600344, 0.6496149306835254, 0.6404608344123858, 0.646551426281655, 0.6327368484016301, 0.37205371958119215, 0.6687223510570108, 0.6503197747368815, 0.6615195923253209, 0.37205371958119215, 0.5329473600199032, 0.6299438829652871, 0.5926005002240217, 0.5664492491965163, 0.5537434560995871, 0.654128176671117, 0.63093330711194, 0.7077783644393997, 0.6188353669002824, 0.633915648921394, 0.37205371958119215, 0.6337723456224104, 0.6416607700692057, 0.635937360295724, 0.6404989597318159, 0.37205371958119215, 0.6464136005389763, 0.6408920245613152, 0.6343211737678262, 0.6429232692255926, 0.37205371958119215, 0.643308393457844, 0.6298596516520969, 0.6288657487930339, 0.6329797282800466, 0.37205371958119215, 0.6537179787750304, 0.6290534307181006, 0.6599123943196883, 0.37205371958119215, 0.37205371958119215, 0.6560050650760437, 0.5893921266245564, 0.630911910944849, 0.6491424275789172, 0.6646854216478602, 0.618537770482749, 0.6161798672792294, 0.6126095412342035, 0.574879155224674, 0.6625485621430091, 0.6351743924955016, 0.6583285531094146, 0.6326553866206436, 0.6509354939183954, 0.6473766241529236, 0.6347768107744409, 0.6368384095453075, 0.6424982836686055, 0.6386740740323084, 0.6473864297727777, 0.5957538148233922, 0.6528880649522325, 0.6466076703063292, 0.6512627327018224, 0.6472254653101018, 0.6577491711964853, 0.5950634322700221, 0.6307339278284188, 0.37205371958119215, 0.5484183544949115, 0.629223684464366, 0.640208744988354, 0.687915470971078, 0.6785234061647026]}, {\"categories\": [\"0\", \"1\", \"2\", \"3\", \"4\", \"5\", \"6\", \"7\", \"8\", \"9\", \"10\", \"11\", \"12\", \"13\", \"14\", \"15\", \"16\", \"17\", \"18\", \"19\", \"20\", \"21\", \"22\", \"23\", \"24\", \"25\", \"26\", \"27\", \"28\", \"29\", \"30\", \"31\", \"32\", \"33\", \"34\", \"35\", \"36\", \"37\", \"38\", \"39\", \"40\", \"41\", \"42\", \"43\", \"44\", \"45\", \"46\", \"47\", \"48\", \"49\", \"50\", \"51\", \"52\", \"53\", \"54\", \"55\", \"56\", \"57\", \"58\", \"59\", \"60\", \"61\", \"62\", \"63\", \"64\", \"65\", \"66\", \"67\", \"68\", \"69\", \"70\", \"71\", \"72\", \"73\", \"74\", \"75\", \"76\", \"77\", \"78\", \"79\", \"80\", \"81\", \"82\", \"83\", \"84\", \"85\", \"86\", \"87\", \"88\", \"89\", \"90\", \"91\", \"92\", \"93\", \"94\", \"95\", \"96\", \"97\", \"103\", \"104\"], \"mode\": \"lines\", \"name\": \"precision_score_weighted_max\", \"stepped\": true, \"type\": \"scatter\", \"data\": [0.6445558518964102, 0.6445558518964102, 0.6445558518964102, 0.6445558518964102, 0.6445558518964102, 0.6445558518964102, 0.6445558518964102, 0.6445558518964102, 0.6482338423384101, 0.6482338423384101, 0.6482338423384101, 0.6482338423384101, 0.6482338423384101, 0.6482338423384101, 0.6482338423384101, 0.6482338423384101, 0.6952470901228643, 0.6952470901228643, 0.6952470901228643, 0.6952470901228643, 0.6952470901228643, 0.6952470901228643, 0.6952470901228643, 0.6952470901228643, 0.6952470901228643, 0.6952470901228643, 0.6952470901228643, 0.6952470901228643, 0.6952470901228643, 0.6952470901228643, 0.6952470901228643, 0.6952470901228643, 0.6952470901228643, 0.6952470901228643, 0.6952470901228643, 0.6952470901228643, 0.6952470901228643, 0.6952470901228643, 0.6952470901228643, 0.6952470901228643, 0.6952470901228643, 0.6952470901228643, 0.7077783644393997, 0.7077783644393997, 0.7077783644393997, 0.7077783644393997, 0.7077783644393997, 0.7077783644393997, 0.7077783644393997, 0.7077783644393997, 0.7077783644393997, 0.7077783644393997, 0.7077783644393997, 0.7077783644393997, 0.7077783644393997, 0.7077783644393997, 0.7077783644393997, 0.7077783644393997, 0.7077783644393997, 0.7077783644393997, 0.7077783644393997, 0.7077783644393997, 0.7077783644393997, 0.7077783644393997, 0.7077783644393997, 0.7077783644393997, 0.7077783644393997, 0.7077783644393997, 0.7077783644393997, 0.7077783644393997, 0.7077783644393997, 0.7077783644393997, 0.7077783644393997, 0.7077783644393997, 0.7077783644393997, 0.7077783644393997, 0.7077783644393997, 0.7077783644393997, 0.7077783644393997, 0.7077783644393997, 0.7077783644393997, 0.7077783644393997, 0.7077783644393997, 0.7077783644393997, 0.7077783644393997, 0.7077783644393997, 0.7077783644393997, 0.7077783644393997, 0.7077783644393997, 0.7077783644393997, 0.7077783644393997, 0.7077783644393997, 0.7077783644393997, 0.7077783644393997, 0.7077783644393997, 0.7077783644393997, 0.7077783644393997, 0.7077783644393997, 0.7077783644393997, 0.7077783644393997]}]}, \"metricName\": null, \"primaryMetricName\": \"AUC_weighted\", \"showLegend\": false}, \"run_metrics\": [{\"name\": \"experiment_status\", \"run_id\": \"AutoML_7e5dbc65-c4d9-453a-8134-1b990e99bce3\", \"categories\": [0, 1, 2, 3, 4, 5, 6, 7, 8, 9, 10, 11, 12, 13], \"series\": [{\"data\": [\"DatasetEvaluation\", \"FeaturesGeneration\", \"DatasetFeaturization\", \"DatasetFeaturizationCompleted\", \"DatasetCrossValidationSplit\", \"ModelSelection\", \"BestRunExplainModel\", \"ModelExplanationDataSetSetup\", \"PickSurrogateModel\", \"EngineeredFeatureExplanations\", \"EngineeredFeatureExplanations\", \"RawFeaturesExplanations\", \"RawFeaturesExplanations\", \"BestRunExplainModel\"]}]}, {\"name\": \"experiment_status_description\", \"run_id\": \"AutoML_7e5dbc65-c4d9-453a-8134-1b990e99bce3\", \"categories\": [0, 1, 2, 3, 4, 5, 6, 7, 8, 9, 10, 11, 12, 13], \"series\": [{\"data\": [\"Gathering dataset statistics.\", \"Generating features for the dataset.\", \"Beginning to fit featurizers and featurize the dataset.\", \"Completed fit featurizers and featurizing the dataset.\", \"Generating individually featurized CV splits.\", \"Beginning model selection.\", \"Best run model explanations started\", \"Model explanations data setup completed\", \"Choosing LightGBM as the surrogate model for explanations\", \"Computation of engineered features started\", \"Computation of engineered features completed\", \"Computation of raw features started\", \"Computation of raw features completed\", \"Best run model explanations completed\"]}]}, {\"name\": \"AUC_micro\", \"run_id\": \"AutoML_7e5dbc65-c4d9-453a-8134-1b990e99bce3\", \"categories\": [0], \"series\": [{\"data\": [0.7303994082840237]}]}, {\"name\": \"norm_macro_recall\", \"run_id\": \"AutoML_7e5dbc65-c4d9-453a-8134-1b990e99bce3\", \"categories\": [0], \"series\": [{\"data\": [0.19661551862355134]}]}, {\"name\": \"weighted_accuracy\", \"run_id\": \"AutoML_7e5dbc65-c4d9-453a-8134-1b990e99bce3\", \"categories\": [0], \"series\": [{\"data\": [0.7385634926529638]}]}, {\"name\": \"matthews_correlation\", \"run_id\": \"AutoML_7e5dbc65-c4d9-453a-8134-1b990e99bce3\", \"categories\": [0], \"series\": [{\"data\": [0.27558064463780513]}]}, {\"name\": \"average_precision_score_weighted\", \"run_id\": \"AutoML_7e5dbc65-c4d9-453a-8134-1b990e99bce3\", \"categories\": [0], \"series\": [{\"data\": [0.711022403897596]}]}, {\"name\": \"average_precision_score_micro\", \"run_id\": \"AutoML_7e5dbc65-c4d9-453a-8134-1b990e99bce3\", \"categories\": [0], \"series\": [{\"data\": [0.7227142084659598]}]}, {\"name\": \"f1_score_micro\", \"run_id\": \"AutoML_7e5dbc65-c4d9-453a-8134-1b990e99bce3\", \"categories\": [0], \"series\": [{\"data\": [0.6718559218559218]}]}, {\"name\": \"log_loss\", \"run_id\": \"AutoML_7e5dbc65-c4d9-453a-8134-1b990e99bce3\", \"categories\": [0], \"series\": [{\"data\": [0.6118230922361473]}]}, {\"name\": \"AUC_macro\", \"run_id\": \"AutoML_7e5dbc65-c4d9-453a-8134-1b990e99bce3\", \"categories\": [0], \"series\": [{\"data\": [0.6962331866820376]}]}, {\"name\": \"f1_score_macro\", \"run_id\": \"AutoML_7e5dbc65-c4d9-453a-8134-1b990e99bce3\", \"categories\": [0], \"series\": [{\"data\": [0.5794747152997952]}]}, {\"name\": \"precision_score_micro\", \"run_id\": \"AutoML_7e5dbc65-c4d9-453a-8134-1b990e99bce3\", \"categories\": [0], \"series\": [{\"data\": [0.6718559218559218]}]}, {\"name\": \"AUC_weighted\", \"run_id\": \"AutoML_7e5dbc65-c4d9-453a-8134-1b990e99bce3\", \"categories\": [0], \"series\": [{\"data\": [0.6962331866820374]}]}, {\"name\": \"precision_score_weighted\", \"run_id\": \"AutoML_7e5dbc65-c4d9-453a-8134-1b990e99bce3\", \"categories\": [0], \"series\": [{\"data\": [0.687915470971078]}]}, {\"name\": \"f1_score_weighted\", \"run_id\": \"AutoML_7e5dbc65-c4d9-453a-8134-1b990e99bce3\", \"categories\": [0], \"series\": [{\"data\": [0.622613073257673]}]}, {\"name\": \"accuracy\", \"run_id\": \"AutoML_7e5dbc65-c4d9-453a-8134-1b990e99bce3\", \"categories\": [0], \"series\": [{\"data\": [0.6718559218559218]}]}, {\"name\": \"recall_score_weighted\", \"run_id\": \"AutoML_7e5dbc65-c4d9-453a-8134-1b990e99bce3\", \"categories\": [0], \"series\": [{\"data\": [0.6718559218559218]}]}, {\"name\": \"balanced_accuracy\", \"run_id\": \"AutoML_7e5dbc65-c4d9-453a-8134-1b990e99bce3\", \"categories\": [0], \"series\": [{\"data\": [0.5983077593117757]}]}, {\"name\": \"average_precision_score_macro\", \"run_id\": \"AutoML_7e5dbc65-c4d9-453a-8134-1b990e99bce3\", \"categories\": [0], \"series\": [{\"data\": [0.6946416105841964]}]}, {\"name\": \"recall_score_micro\", \"run_id\": \"AutoML_7e5dbc65-c4d9-453a-8134-1b990e99bce3\", \"categories\": [0], \"series\": [{\"data\": [0.6718559218559218]}]}, {\"name\": \"precision_score_macro\", \"run_id\": \"AutoML_7e5dbc65-c4d9-453a-8134-1b990e99bce3\", \"categories\": [0], \"series\": [{\"data\": [0.6939052459803502]}]}, {\"name\": \"recall_score_macro\", \"run_id\": \"AutoML_7e5dbc65-c4d9-453a-8134-1b990e99bce3\", \"categories\": [0], \"series\": [{\"data\": [0.5983077593117757]}]}], \"run_logs\": \"\\nRun is completed.\", \"graph\": {}, \"widget_settings\": {\"childWidgetDisplay\": \"popup\", \"send_telemetry\": false, \"log_level\": \"INFO\", \"sdk_version\": \"1.33.0\"}, \"loading\": false}"
     },
     "metadata": {},
     "output_type": "display_data"
    }
   ],
   "source": [
    "from azureml.widgets import RunDetails\n",
    "RunDetails(remote_run).show()"
   ]
  },
  {
   "cell_type": "markdown",
   "metadata": {},
   "source": [
    "## Best Model\n",
    "\n"
   ]
  },
  {
   "cell_type": "code",
   "execution_count": 10,
   "metadata": {
    "gather": {
     "logged": 1598431425670
    },
    "jupyter": {
     "outputs_hidden": false,
     "source_hidden": false
    },
    "nteract": {
     "transient": {
      "deleting": false
     }
    }
   },
   "outputs": [],
   "source": [
    "best_model_output, fitted_model = remote_run.get_output()"
   ]
  },
  {
   "cell_type": "code",
   "execution_count": 11,
   "metadata": {},
   "outputs": [
    {
     "data": {
      "text/html": [
       "<table style=\"width:100%\"><tr><th>Experiment</th><th>Id</th><th>Type</th><th>Status</th><th>Details Page</th><th>Docs Page</th></tr><tr><td>automl_h2o_potability</td><td>AutoML_7e5dbc65-c4d9-453a-8134-1b990e99bce3_103</td><td>azureml.scriptrun</td><td>Completed</td><td><a href=\"https://ml.azure.com/runs/AutoML_7e5dbc65-c4d9-453a-8134-1b990e99bce3_103?wsid=/subscriptions/61c5c3f0-6dc7-4ed9-a7f3-c704b20e3b30/resourcegroups/aml-quickstarts-155218/workspaces/quick-starts-ws-155218&amp;tid=660b3398-b80e-49d2-bc5b-ac1dc93b5254\" target=\"_blank\" rel=\"noopener\">Link to Azure Machine Learning studio</a></td><td><a href=\"https://docs.microsoft.com/en-us/python/api/azureml-core/azureml.core.run.Run?view=azure-ml-py\" target=\"_blank\" rel=\"noopener\">Link to Documentation</a></td></tr></table>"
      ],
      "text/plain": [
       "Run(Experiment: automl_h2o_potability,\n",
       "Id: AutoML_7e5dbc65-c4d9-453a-8134-1b990e99bce3_103,\n",
       "Type: azureml.scriptrun,\n",
       "Status: Completed)"
      ]
     },
     "execution_count": 11,
     "metadata": {},
     "output_type": "execute_result"
    }
   ],
   "source": [
    "best_model_output"
   ]
  },
  {
   "cell_type": "code",
   "execution_count": 12,
   "metadata": {},
   "outputs": [
    {
     "data": {
      "text/plain": [
       "[('datatransformer',\n",
       "  DataTransformer(\n",
       "      task='classification',\n",
       "      is_onnx_compatible=False,\n",
       "      enable_feature_sweeping=True,\n",
       "      enable_dnn=False,\n",
       "      force_text_dnn=False,\n",
       "      feature_sweeping_timeout=86400,\n",
       "      featurization_config=None,\n",
       "      is_cross_validation=True,\n",
       "      feature_sweeping_config={}\n",
       "  )),\n",
       " ('prefittedsoftvotingclassifier',\n",
       "  PreFittedSoftVotingClassifier(\n",
       "      estimators=[('75', Pipeline(\n",
       "          memory=None,\n",
       "          steps=[('robustscaler', RobustScaler(\n",
       "              copy=True,\n",
       "              quantile_range=[25, 75],\n",
       "              with_centering=False,\n",
       "              with_scaling=True\n",
       "          )), ('svcwrapper', SVCWrapper(\n",
       "              random_state=None,\n",
       "              C=494.1713361323828,\n",
       "              break_ties=False,\n",
       "              cache_size=200,\n",
       "              class_weight=None,\n",
       "              coef0=0.0,\n",
       "              decision_function_shape='ovr',\n",
       "              degree=3,\n",
       "              gamma='scale',\n",
       "              kernel='rbf',\n",
       "              max_iter=-1,\n",
       "              probability=True,\n",
       "              shrinking=True,\n",
       "              tol=0.001,\n",
       "              verbose=False\n",
       "          ))],\n",
       "          verbose=False\n",
       "      )), ('61', Pipeline(\n",
       "          memory=None,\n",
       "          steps=[('standardscalerwrapper', StandardScalerWrapper(\n",
       "              copy=True,\n",
       "              with_mean=False,\n",
       "              with_std=False\n",
       "          )), ('xgboostclassifier', XGBoostClassifier(\n",
       "              random_state=0,\n",
       "              n_jobs=1,\n",
       "              problem_info=ProblemInfo(\n",
       "                  gpu_training_param_dict={'processing_unit_type': 'cpu'}\n",
       "              ),\n",
       "              booster='gbtree',\n",
       "              colsample_bytree=1,\n",
       "              eta=0.3,\n",
       "              gamma=0,\n",
       "              max_depth=10,\n",
       "              max_leaves=511,\n",
       "              n_estimators=25,\n",
       "              objective='reg:logistic',\n",
       "              reg_alpha=1.3541666666666667,\n",
       "              reg_lambda=0.3125,\n",
       "              subsample=0.8,\n",
       "              tree_method='auto'\n",
       "          ))],\n",
       "          verbose=False\n",
       "      )), ('33', Pipeline(\n",
       "          memory=None,\n",
       "          steps=[('robustscaler', RobustScaler(\n",
       "              copy=True,\n",
       "              quantile_range=[10, 90],\n",
       "              with_centering=False,\n",
       "              with_scaling=True\n",
       "          )), ('svcwrapper', SVCWrapper(\n",
       "              random_state=None,\n",
       "              C=75.43120063354607,\n",
       "              break_ties=False,\n",
       "              cache_size=200,\n",
       "              class_weight='balanced',\n",
       "              coef0=0.0,\n",
       "              decision_function_shape='ovr',\n",
       "              degree=3,\n",
       "              gamma='scale',\n",
       "              kernel='rbf',\n",
       "              max_iter=-1,\n",
       "              probability=True,\n",
       "              shrinking=True,\n",
       "              tol=0.001,\n",
       "              verbose=False\n",
       "          ))],\n",
       "          verbose=False\n",
       "      )), ('77', Pipeline(\n",
       "          memory=None,\n",
       "          steps=[('standardscalerwrapper', StandardScalerWrapper(\n",
       "              copy=True,\n",
       "              with_mean=False,\n",
       "              with_std=True\n",
       "          )), ('svcwrapper', SVCWrapper(\n",
       "              random_state=None,\n",
       "              C=109.85411419875572,\n",
       "              break_ties=False,\n",
       "              cache_size=200,\n",
       "              class_weight='balanced',\n",
       "              coef0=0.0,\n",
       "              decision_function_shape='ovr',\n",
       "              degree=3,\n",
       "              gamma='scale',\n",
       "              kernel='rbf',\n",
       "              max_iter=-1,\n",
       "              probability=True,\n",
       "              shrinking=True,\n",
       "              tol=0.001,\n",
       "              verbose=False\n",
       "          ))],\n",
       "          verbose=False\n",
       "      )), ('70', Pipeline(\n",
       "          memory=None,\n",
       "          steps=[('robustscaler', RobustScaler(\n",
       "              copy=True,\n",
       "              quantile_range=[25, 75],\n",
       "              with_centering=False,\n",
       "              with_scaling=True\n",
       "          )), ('svcwrapper', SVCWrapper(\n",
       "              random_state=None,\n",
       "              C=16.768329368110066,\n",
       "              break_ties=False,\n",
       "              cache_size=200,\n",
       "              class_weight='balanced',\n",
       "              coef0=0.0,\n",
       "              decision_function_shape='ovr',\n",
       "              degree=3,\n",
       "              gamma='scale',\n",
       "              kernel='rbf',\n",
       "              max_iter=-1,\n",
       "              probability=True,\n",
       "              shrinking=True,\n",
       "              tol=0.001,\n",
       "              verbose=False\n",
       "          ))],\n",
       "          verbose=False\n",
       "      )), ('89', Pipeline(\n",
       "          memory=None,\n",
       "          steps=[('standardscalerwrapper', StandardScalerWrapper(\n",
       "              copy=True,\n",
       "              with_mean=True,\n",
       "              with_std=True\n",
       "          )), ('svcwrapper', SVCWrapper(\n",
       "              random_state=None,\n",
       "              C=232.99518105153672,\n",
       "              break_ties=False,\n",
       "              cache_size=200,\n",
       "              class_weight='balanced',\n",
       "              coef0=0.0,\n",
       "              decision_function_shape='ovr',\n",
       "              degree=3,\n",
       "              gamma='scale',\n",
       "              kernel='rbf',\n",
       "              max_iter=-1,\n",
       "              probability=True,\n",
       "              shrinking=True,\n",
       "              tol=0.001,\n",
       "              verbose=False\n",
       "          ))],\n",
       "          verbose=False\n",
       "      )), ('63', Pipeline(\n",
       "          memory=None,\n",
       "          steps=[('standardscalerwrapper', StandardScalerWrapper(\n",
       "              copy=True,\n",
       "              with_mean=True,\n",
       "              with_std=True\n",
       "          )), ('svcwrapper', SVCWrapper(\n",
       "              random_state=None,\n",
       "              C=35.564803062231285,\n",
       "              break_ties=False,\n",
       "              cache_size=200,\n",
       "              class_weight='balanced',\n",
       "              coef0=0.0,\n",
       "              decision_function_shape='ovr',\n",
       "              degree=3,\n",
       "              gamma='scale',\n",
       "              kernel='rbf',\n",
       "              max_iter=-1,\n",
       "              probability=True,\n",
       "              shrinking=True,\n",
       "              tol=0.001,\n",
       "              verbose=False\n",
       "          ))],\n",
       "          verbose=False\n",
       "      )), ('49', Pipeline(\n",
       "          memory=None,\n",
       "          steps=[('standardscalerwrapper', StandardScalerWrapper(\n",
       "              copy=True,\n",
       "              with_mean=False,\n",
       "              with_std=False\n",
       "          )), ('xgboostclassifier', XGBoostClassifier(\n",
       "              random_state=0,\n",
       "              n_jobs=1,\n",
       "              problem_info=ProblemInfo(\n",
       "                  gpu_training_param_dict={'processing_unit_type': 'cpu'}\n",
       "              ),\n",
       "              booster='gbtree',\n",
       "              colsample_bytree=0.7,\n",
       "              eta=0.01,\n",
       "              gamma=10,\n",
       "              max_depth=6,\n",
       "              max_leaves=0,\n",
       "              n_estimators=100,\n",
       "              objective='reg:logistic',\n",
       "              reg_alpha=0,\n",
       "              reg_lambda=0.4166666666666667,\n",
       "              subsample=0.7,\n",
       "              tree_method='auto'\n",
       "          ))],\n",
       "          verbose=False\n",
       "      ))],\n",
       "      weights=[0.13333333333333333, 0.2, 0.06666666666666667, 0.06666666666666667, 0.13333333333333333, 0.26666666666666666, 0.06666666666666667, 0.06666666666666667],\n",
       "      flatten_transform=None,\n",
       "      classification_labels=array([0, 1])\n",
       "  ))]"
      ]
     },
     "execution_count": 12,
     "metadata": {},
     "output_type": "execute_result"
    }
   ],
   "source": [
    "fitted_model.steps"
   ]
  },
  {
   "cell_type": "code",
   "execution_count": 13,
   "metadata": {
    "gather": {
     "logged": 1598431426111
    },
    "jupyter": {
     "outputs_hidden": false,
     "source_hidden": false
    },
    "nteract": {
     "transient": {
      "deleting": false
     }
    }
   },
   "outputs": [
    {
     "data": {
      "text/plain": [
       "sklearn.pipeline.Pipeline"
      ]
     },
     "execution_count": 13,
     "metadata": {},
     "output_type": "execute_result"
    }
   ],
   "source": [
    "type(fitted_model)"
   ]
  },
  {
   "cell_type": "code",
   "execution_count": 14,
   "metadata": {},
   "outputs": [],
   "source": [
    "import pickle\n",
    "\n",
    "with open(\"automl_best_model.pkl\", \"wb\") as f:\n",
    "    pickle.dump(fitted_model, f)"
   ]
  },
  {
   "cell_type": "markdown",
   "metadata": {},
   "source": [
    "## Model Deployment\n",
    "\n",
    "Since the AutoML model had a higher AUC_weighted metric when compared to the HyperDrive model, I will deploy it as a web service."
   ]
  },
  {
   "cell_type": "markdown",
   "metadata": {},
   "source": [
    "#### This cell will register the model in the AzureML workspace"
   ]
  },
  {
   "cell_type": "code",
   "execution_count": 15,
   "metadata": {
    "gather": {
     "logged": 1598431435189
    },
    "jupyter": {
     "outputs_hidden": false,
     "source_hidden": false
    },
    "nteract": {
     "transient": {
      "deleting": false
     }
    }
   },
   "outputs": [
    {
     "name": "stdout",
     "output_type": "stream",
     "text": [
      "Registering model water_potability_prediction\n"
     ]
    }
   ],
   "source": [
    "from azureml.core.model import Model\n",
    "\n",
    "model = Model.register(model_path=\"automl_best_model.pkl\",\n",
    "                       model_name=\"water_potability_prediction\",\n",
    "                       tags={\"data\": \"water potatibility kaggle\", \"model\": \"classification\"},\n",
    "                       description=\"Classification AutoML model to predict water potability\",\n",
    "                       workspace=ws)"
   ]
  },
  {
   "cell_type": "markdown",
   "metadata": {},
   "source": [
    "#### The following cells will get a reference to the AutoML environment that was used to train the best performing model"
   ]
  },
  {
   "cell_type": "code",
   "execution_count": 16,
   "metadata": {},
   "outputs": [],
   "source": [
    "environment = remote_run.get_best_child().get_environment()"
   ]
  },
  {
   "cell_type": "code",
   "execution_count": 17,
   "metadata": {},
   "outputs": [
    {
     "data": {
      "text/plain": [
       "{\n",
       "    \"databricks\": {\n",
       "        \"eggLibraries\": [],\n",
       "        \"jarLibraries\": [],\n",
       "        \"mavenLibraries\": [],\n",
       "        \"pypiLibraries\": [],\n",
       "        \"rcranLibraries\": []\n",
       "    },\n",
       "    \"docker\": {\n",
       "        \"arguments\": [],\n",
       "        \"baseDockerfile\": null,\n",
       "        \"baseImage\": \"mcr.microsoft.com/azureml/openmpi3.1.2-ubuntu18.04:20210727.v1\",\n",
       "        \"baseImageRegistry\": {\n",
       "            \"address\": null,\n",
       "            \"password\": null,\n",
       "            \"registryIdentity\": null,\n",
       "            \"username\": null\n",
       "        },\n",
       "        \"enabled\": true,\n",
       "        \"platform\": {\n",
       "            \"architecture\": \"amd64\",\n",
       "            \"os\": \"Linux\"\n",
       "        },\n",
       "        \"sharedVolumes\": true,\n",
       "        \"shmSize\": null\n",
       "    },\n",
       "    \"environmentVariables\": {\n",
       "        \"EXAMPLE_ENV_VAR\": \"EXAMPLE_VALUE\"\n",
       "    },\n",
       "    \"inferencingStackVersion\": null,\n",
       "    \"name\": \"AzureML-AutoML\",\n",
       "    \"python\": {\n",
       "        \"baseCondaEnvironment\": null,\n",
       "        \"condaDependencies\": {\n",
       "            \"channels\": [\n",
       "                \"anaconda\",\n",
       "                \"conda-forge\",\n",
       "                \"pytorch\"\n",
       "            ],\n",
       "            \"dependencies\": [\n",
       "                \"python=3.6.2\",\n",
       "                \"pip=21.1.2\",\n",
       "                {\n",
       "                    \"pip\": [\n",
       "                        \"azureml-core==1.33.0\",\n",
       "                        \"azureml-pipeline-core==1.33.0\",\n",
       "                        \"azureml-telemetry==1.33.0\",\n",
       "                        \"azureml-defaults==1.33.0\",\n",
       "                        \"azureml-interpret==1.33.0\",\n",
       "                        \"azureml-responsibleai==1.33.0\",\n",
       "                        \"azureml-automl-core==1.33.0\",\n",
       "                        \"azureml-automl-runtime==1.33.0\",\n",
       "                        \"azureml-train-automl-client==1.33.0\",\n",
       "                        \"azureml-train-automl-runtime==1.33.0\",\n",
       "                        \"azureml-dataset-runtime==1.33.0\",\n",
       "                        \"azureml-mlflow==1.33.0\",\n",
       "                        \"inference-schema\",\n",
       "                        \"py-cpuinfo==5.0.0\",\n",
       "                        \"boto3==1.15.18\",\n",
       "                        \"botocore==1.18.18\"\n",
       "                    ]\n",
       "                },\n",
       "                \"numpy~=1.18.0\",\n",
       "                \"scikit-learn==0.22.1\",\n",
       "                \"pandas~=0.25.0\",\n",
       "                \"py-xgboost<=0.90\",\n",
       "                \"fbprophet==0.5\",\n",
       "                \"holidays==0.9.11\",\n",
       "                \"setuptools-git\",\n",
       "                \"psutil>5.0.0,<6.0.0\"\n",
       "            ],\n",
       "            \"name\": \"azureml_3489174eb648a475780c9959ff366072\"\n",
       "        },\n",
       "        \"condaDependenciesFile\": null,\n",
       "        \"interpreterPath\": \"python\",\n",
       "        \"userManagedDependencies\": false\n",
       "    },\n",
       "    \"r\": null,\n",
       "    \"spark\": {\n",
       "        \"packages\": [],\n",
       "        \"precachePackages\": true,\n",
       "        \"repositories\": []\n",
       "    },\n",
       "    \"version\": \"78\"\n",
       "}"
      ]
     },
     "execution_count": 17,
     "metadata": {},
     "output_type": "execute_result"
    }
   ],
   "source": [
    "environment"
   ]
  },
  {
   "cell_type": "markdown",
   "metadata": {},
   "source": [
    "#### The following cells will prepare the scoring script, the container instance and the inference configuration, which are then used to deploy the model as a web service"
   ]
  },
  {
   "cell_type": "code",
   "execution_count": 18,
   "metadata": {},
   "outputs": [
    {
     "name": "stdout",
     "output_type": "stream",
     "text": [
      "Overwriting score.py\n"
     ]
    }
   ],
   "source": [
    "%%writefile score.py\n",
    "import json\n",
    "import numpy as np\n",
    "import pandas as pd\n",
    "import os\n",
    "import pickle\n",
    "import joblib\n",
    "\n",
    "def init():\n",
    "    global model\n",
    "    model_path = os.path.join(os.getenv('AZUREML_MODEL_DIR'), 'automl_best_model.pkl')\n",
    "    model = joblib.load(model_path)\n",
    "\n",
    "def run(raw_data):\n",
    "    data = pd.DataFrame.from_dict(json.loads(raw_data)['data'])\n",
    "    # make prediction\n",
    "    y_hat = model.predict(data)\n",
    "    return y_hat.tolist()"
   ]
  },
  {
   "cell_type": "code",
   "execution_count": 19,
   "metadata": {},
   "outputs": [],
   "source": [
    "from azureml.core.webservice import AciWebservice\n",
    "\n",
    "aciconfig = AciWebservice.deploy_configuration(cpu_cores=1, \n",
    "                                               memory_gb=1, \n",
    "                                               tags={\"data\": \"water potatibility kaggle\",  \"method\" : \"sklearn\"}, \n",
    "                                               description='Predict water potability')"
   ]
  },
  {
   "cell_type": "code",
   "execution_count": 20,
   "metadata": {},
   "outputs": [
    {
     "name": "stdout",
     "output_type": "stream",
     "text": [
      "Tips: You can try get_logs(): https://aka.ms/debugimage#dockerlog or local deployment: https://aka.ms/debugimage#debug-locally to debug if deployment takes longer than 10 minutes.\n",
      "Running\n",
      "2021-08-21 03:04:06+00:00 Creating Container Registry if not exists.\n",
      "2021-08-21 03:04:06+00:00 Registering the environment.\n",
      "2021-08-21 03:04:07+00:00 Use the existing image.\n",
      "2021-08-21 03:04:07+00:00 Generating deployment configuration.\n",
      "2021-08-21 03:04:08+00:00 Submitting deployment to compute.\n",
      "2021-08-21 03:04:10+00:00 Checking the status of deployment water-potability-svc-57cd..\n",
      "2021-08-21 03:08:32+00:00 Checking the status of inference endpoint water-potability-svc-57cd.\n",
      "Succeeded\n",
      "ACI service creation operation finished, operation \"Succeeded\"\n",
      "CPU times: user 8.86 s, sys: 347 ms, total: 9.21 s\n",
      "Wall time: 4min 34s\n"
     ]
    }
   ],
   "source": [
    "%%time\n",
    "import uuid\n",
    "from azureml.core.webservice import Webservice\n",
    "from azureml.core.model import InferenceConfig\n",
    "from azureml.core.environment import Environment\n",
    "from azureml.core import Workspace\n",
    "from azureml.core.model import Model\n",
    "\n",
    "model = Model(ws, 'water_potability_prediction')\n",
    "\n",
    "inference_config = InferenceConfig(entry_script=\"score.py\", environment=environment)\n",
    "\n",
    "service_name = 'water-potability-svc-' + str(uuid.uuid4())[:4]\n",
    "service = Model.deploy(workspace=ws, \n",
    "                       name=service_name, \n",
    "                       models=[model], \n",
    "                       inference_config=inference_config, \n",
    "                       deployment_config=aciconfig)\n",
    "\n",
    "service.wait_for_deployment(show_output=True)"
   ]
  },
  {
   "cell_type": "code",
   "execution_count": 21,
   "metadata": {},
   "outputs": [
    {
     "data": {
      "text/plain": [
       "'http://1720f17e-166c-4a8e-a6e0-b4c60e1817de.southcentralus.azurecontainer.io/score'"
      ]
     },
     "execution_count": 21,
     "metadata": {},
     "output_type": "execute_result"
    }
   ],
   "source": [
    "service.scoring_uri"
   ]
  },
  {
   "cell_type": "markdown",
   "metadata": {},
   "source": [
    "#### The following cell will enable Azure Application Insights"
   ]
  },
  {
   "cell_type": "code",
   "execution_count": 23,
   "metadata": {},
   "outputs": [],
   "source": [
    "service.update(enable_app_insights=True)"
   ]
  },
  {
   "cell_type": "markdown",
   "metadata": {},
   "source": [
    "#### The following cell will call the web service passing 10 sample records from the dataframe loaded at the beginning of this notebook (which was also used to train the model)"
   ]
  },
  {
   "cell_type": "code",
   "execution_count": 27,
   "metadata": {},
   "outputs": [
    {
     "data": {
      "text/plain": [
       "[0, 0, 0, 0, 0, 1, 0, 0, 0, 0]"
      ]
     },
     "execution_count": 27,
     "metadata": {},
     "output_type": "execute_result"
    }
   ],
   "source": [
    "import json\n",
    "X_test = df.sample(10).drop(\"Potability\", axis=1)\n",
    "test = json.dumps({\"data\": X_test.to_dict(orient=\"records\")})\n",
    "test = bytes(test, encoding='utf8')\n",
    "y_hat = service.run(input_data=test)\n",
    "y_hat"
   ]
  },
  {
   "cell_type": "markdown",
   "metadata": {},
   "source": [
    "#### The following cell will retrieve and display the logs from the web service"
   ]
  },
  {
   "cell_type": "code",
   "execution_count": 28,
   "metadata": {},
   "outputs": [
    {
     "name": "stdout",
     "output_type": "stream",
     "text": [
      "2021-08-21T03:14:07,537568400+00:00 - gunicorn/run \n",
      "2021-08-21T03:14:07,538730800+00:00 - iot-server/run \n",
      "Dynamic Python package installation is disabled.\n",
      "2021-08-21T03:14:07,545234800+00:00 - rsyslog/run \n",
      "Starting HTTP server\n",
      "2021-08-21T03:14:07,567142600+00:00 - nginx/run \n",
      "rsyslogd: /azureml-envs/azureml_3489174eb648a475780c9959ff366072/lib/libuuid.so.1: no version information available (required by rsyslogd)\n",
      "EdgeHubConnectionString and IOTEDGE_IOTHUBHOSTNAME are not set. Exiting...\n",
      "2021-08-21T03:14:07,979527600+00:00 - iot-server/finish 1 0\n",
      "2021-08-21T03:14:07,982898600+00:00 - Exit code 1 is normal. Not restarting iot-server.\n",
      "Starting gunicorn 20.1.0\n",
      "Listening at: http://127.0.0.1:31311 (64)\n",
      "Using worker: sync\n",
      "worker timeout is set to 300\n",
      "Booting worker with pid: 91\n",
      "SPARK_HOME not set. Skipping PySpark Initialization.\n",
      "Generating new fontManager, this may take some time...\n",
      "Initializing logger\n",
      "2021-08-21 03:14:10,555 | root | INFO | Starting up app insights client\n",
      "logging socket was found. logging is available.\n",
      "logging socket was found. logging is available.\n",
      "2021-08-21 03:14:10,561 | root | INFO | Starting up request id generator\n",
      "2021-08-21 03:14:10,561 | root | INFO | Starting up app insight hooks\n",
      "2021-08-21 03:14:10,561 | root | INFO | Invoking user's init function\n",
      "2021-08-21 03:14:15,166 | azureml.core | WARNING | Failure while loading azureml_run_type_providers. Failed to load entrypoint automl = azureml.train.automl.run:AutoMLRun._from_run_dto with exception cannot import name 'RunType'.\n",
      "Failure while loading azureml_run_type_providers. Failed to load entrypoint automl = azureml.train.automl.run:AutoMLRun._from_run_dto with exception cannot import name 'RunType'.\n",
      "2021-08-21 03:14:16,582 | root | INFO | Users's init has completed successfully\n",
      "2021-08-21 03:14:16,586 | root | INFO | Skipping middleware: dbg_model_info as it's not enabled.\n",
      "2021-08-21 03:14:16,586 | root | INFO | Skipping middleware: dbg_resource_usage as it's not enabled.\n",
      "2021-08-21 03:14:16,590 | root | INFO | Scoring timeout is found from os.environ: 60000 ms\n",
      "2021-08-21 03:14:40,536 | root | INFO | Swagger file not present\n",
      "2021-08-21 03:14:40,537 | root | INFO | 404\n",
      "127.0.0.1 - - [21/Aug/2021:03:14:40 +0000] \"GET /swagger.json HTTP/1.0\" 404 19 \"-\" \"Go-http-client/1.1\"\n",
      "2021-08-21 03:14:41,621 | root | INFO | Swagger file not present\n",
      "2021-08-21 03:14:41,622 | root | INFO | 404\n",
      "127.0.0.1 - - [21/Aug/2021:03:14:41 +0000] \"GET /swagger.json HTTP/1.0\" 404 19 \"-\" \"Go-http-client/1.1\"\n",
      "2021-08-21 03:14:58,590 | root | INFO | Scoring Timer is set to 60.0 seconds\n",
      "2021-08-21 03:14:58,672 | root | INFO | 200\n",
      "127.0.0.1 - - [21/Aug/2021:03:14:58 +0000] \"POST /score HTTP/1.0\" 200 30 \"-\" \"python-requests/2.26.0\"\n",
      "\n"
     ]
    }
   ],
   "source": [
    "logs = service.get_logs()\n",
    "\n",
    "for line in logs.split('\\n'):\n",
    "    print(line)"
   ]
  },
  {
   "cell_type": "code",
   "execution_count": 29,
   "metadata": {
    "jupyter": {
     "outputs_hidden": false,
     "source_hidden": false
    },
    "nteract": {
     "transient": {
      "deleting": false
     }
    }
   },
   "outputs": [],
   "source": [
    "service.delete()"
   ]
  },
  {
   "cell_type": "code",
   "execution_count": null,
   "metadata": {},
   "outputs": [],
   "source": []
  }
 ],
 "metadata": {
  "kernel_info": {
   "name": "python3-azureml"
  },
  "kernelspec": {
   "display_name": "Python 3",
   "language": "python",
   "name": "python3"
  },
  "language_info": {
   "codemirror_mode": {
    "name": "ipython",
    "version": 3
   },
   "file_extension": ".py",
   "mimetype": "text/x-python",
   "name": "python",
   "nbconvert_exporter": "python",
   "pygments_lexer": "ipython3",
   "version": "3.6.9"
  },
  "nteract": {
   "version": "nteract-front-end@1.0.0"
  }
 },
 "nbformat": 4,
 "nbformat_minor": 2
}
