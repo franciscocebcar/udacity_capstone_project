{
 "cells": [
  {
   "cell_type": "markdown",
   "metadata": {},
   "source": [
    "# Automated ML"
   ]
  },
  {
   "cell_type": "code",
   "execution_count": 1,
   "metadata": {},
   "outputs": [
    {
     "name": "stdout",
     "output_type": "stream",
     "text": [
      "Requirement already up-to-date: azureml-sdk[automl,explain] in /anaconda/envs/azureml_py36/lib/python3.6/site-packages (1.33.0)\n",
      "Requirement already satisfied, skipping upgrade: azureml-train~=1.33.0 in /anaconda/envs/azureml_py36/lib/python3.6/site-packages (from azureml-sdk[automl,explain]) (1.33.0)\n",
      "Requirement already satisfied, skipping upgrade: azureml-train-automl-client~=1.33.0 in /anaconda/envs/azureml_py36/lib/python3.6/site-packages (from azureml-sdk[automl,explain]) (1.33.0)\n",
      "Requirement already satisfied, skipping upgrade: azureml-core~=1.33.0 in /anaconda/envs/azureml_py36/lib/python3.6/site-packages (from azureml-sdk[automl,explain]) (1.33.0)\n",
      "Requirement already satisfied, skipping upgrade: azureml-dataset-runtime[fuse]~=1.33.0 in /anaconda/envs/azureml_py36/lib/python3.6/site-packages (from azureml-sdk[automl,explain]) (1.33.0)\n",
      "Requirement already satisfied, skipping upgrade: azureml-pipeline~=1.33.0 in /anaconda/envs/azureml_py36/lib/python3.6/site-packages (from azureml-sdk[automl,explain]) (1.33.0)\n",
      "Requirement already satisfied, skipping upgrade: azureml-train-automl~=1.33.0; extra == \"automl\" in /anaconda/envs/azureml_py36/lib/python3.6/site-packages (from azureml-sdk[automl,explain]) (1.33.0)\n",
      "Requirement already satisfied, skipping upgrade: azureml-explain-model~=1.33.0; extra == \"explain\" in /anaconda/envs/azureml_py36/lib/python3.6/site-packages (from azureml-sdk[automl,explain]) (1.33.0)\n",
      "Requirement already satisfied, skipping upgrade: azureml-train-core~=1.33.0 in /anaconda/envs/azureml_py36/lib/python3.6/site-packages (from azureml-train~=1.33.0->azureml-sdk[automl,explain]) (1.33.0)\n",
      "Requirement already satisfied, skipping upgrade: azureml-telemetry~=1.33.0 in /anaconda/envs/azureml_py36/lib/python3.6/site-packages (from azureml-train-automl-client~=1.33.0->azureml-sdk[automl,explain]) (1.33.0)\n",
      "Requirement already satisfied, skipping upgrade: azureml-automl-core~=1.33.0 in /anaconda/envs/azureml_py36/lib/python3.6/site-packages (from azureml-train-automl-client~=1.33.0->azureml-sdk[automl,explain]) (1.33.0)\n",
      "Requirement already satisfied, skipping upgrade: ndg-httpsclient<=0.5.1 in /anaconda/envs/azureml_py36/lib/python3.6/site-packages (from azureml-core~=1.33.0->azureml-sdk[automl,explain]) (0.5.1)\n",
      "Requirement already satisfied, skipping upgrade: azure-mgmt-containerregistry>=2.0.0 in /anaconda/envs/azureml_py36/lib/python3.6/site-packages (from azureml-core~=1.33.0->azureml-sdk[automl,explain]) (8.1.0)\n",
      "Requirement already satisfied, skipping upgrade: pytz in /anaconda/envs/azureml_py36/lib/python3.6/site-packages (from azureml-core~=1.33.0->azureml-sdk[automl,explain]) (2021.1)\n",
      "Requirement already satisfied, skipping upgrade: msrest<1.0.0,>=0.5.1 in /anaconda/envs/azureml_py36/lib/python3.6/site-packages (from azureml-core~=1.33.0->azureml-sdk[automl,explain]) (0.6.21)\n",
      "Requirement already satisfied, skipping upgrade: adal<=1.2.7,>=1.2.0 in /anaconda/envs/azureml_py36/lib/python3.6/site-packages (from azureml-core~=1.33.0->azureml-sdk[automl,explain]) (1.2.7)\n",
      "Requirement already satisfied, skipping upgrade: python-dateutil<3.0.0,>=2.7.3 in /anaconda/envs/azureml_py36/lib/python3.6/site-packages (from azureml-core~=1.33.0->azureml-sdk[automl,explain]) (2.8.2)\n",
      "Requirement already satisfied, skipping upgrade: jsonpickle<3.0.0 in /anaconda/envs/azureml_py36/lib/python3.6/site-packages (from azureml-core~=1.33.0->azureml-sdk[automl,explain]) (2.0.0)\n",
      "Requirement already satisfied, skipping upgrade: backports.tempfile in /anaconda/envs/azureml_py36/lib/python3.6/site-packages (from azureml-core~=1.33.0->azureml-sdk[automl,explain]) (1.0)\n",
      "Requirement already satisfied, skipping upgrade: cryptography!=1.9,!=2.0.*,!=2.1.*,!=2.2.*,<4.0.0 in /anaconda/envs/azureml_py36/lib/python3.6/site-packages (from azureml-core~=1.33.0->azureml-sdk[automl,explain]) (3.4.7)\n",
      "Requirement already satisfied, skipping upgrade: requests<3.0.0,>=2.19.1 in /anaconda/envs/azureml_py36/lib/python3.6/site-packages (from azureml-core~=1.33.0->azureml-sdk[automl,explain]) (2.26.0)\n",
      "Requirement already satisfied, skipping upgrade: pathspec<1.0.0 in /anaconda/envs/azureml_py36/lib/python3.6/site-packages (from azureml-core~=1.33.0->azureml-sdk[automl,explain]) (0.9.0)\n",
      "Requirement already satisfied, skipping upgrade: urllib3<=1.26.5,>=1.23 in /anaconda/envs/azureml_py36/lib/python3.6/site-packages (from azureml-core~=1.33.0->azureml-sdk[automl,explain]) (1.25.11)\n",
      "Requirement already satisfied, skipping upgrade: msrestazure<=0.6.4,>=0.4.33 in /anaconda/envs/azureml_py36/lib/python3.6/site-packages (from azureml-core~=1.33.0->azureml-sdk[automl,explain]) (0.6.4)\n",
      "Requirement already satisfied, skipping upgrade: SecretStorage<4.0.0 in /anaconda/envs/azureml_py36/lib/python3.6/site-packages (from azureml-core~=1.33.0->azureml-sdk[automl,explain]) (3.3.1)\n",
      "Requirement already satisfied, skipping upgrade: azure-mgmt-resource<15.0.0,>=1.2.1 in /anaconda/envs/azureml_py36/lib/python3.6/site-packages (from azureml-core~=1.33.0->azureml-sdk[automl,explain]) (13.0.0)\n",
      "Requirement already satisfied, skipping upgrade: azure-common<2.0.0,>=1.1.12 in /anaconda/envs/azureml_py36/lib/python3.6/site-packages (from azureml-core~=1.33.0->azureml-sdk[automl,explain]) (1.1.27)\n",
      "Requirement already satisfied, skipping upgrade: azure-mgmt-authorization<1.0.0,>=0.40.0 in /anaconda/envs/azureml_py36/lib/python3.6/site-packages (from azureml-core~=1.33.0->azureml-sdk[automl,explain]) (0.61.0)\n",
      "Requirement already satisfied, skipping upgrade: ruamel.yaml<0.17.5,>=0.15.35 in /anaconda/envs/azureml_py36/lib/python3.6/site-packages (from azureml-core~=1.33.0->azureml-sdk[automl,explain]) (0.17.4)\n",
      "Requirement already satisfied, skipping upgrade: azure-mgmt-keyvault<10.0.0,>=0.40.0 in /anaconda/envs/azureml_py36/lib/python3.6/site-packages (from azureml-core~=1.33.0->azureml-sdk[automl,explain]) (9.0.0)\n",
      "Requirement already satisfied, skipping upgrade: jmespath<1.0.0 in /anaconda/envs/azureml_py36/lib/python3.6/site-packages (from azureml-core~=1.33.0->azureml-sdk[automl,explain]) (0.10.0)\n",
      "Requirement already satisfied, skipping upgrade: azure-mgmt-storage<16.0.0,>=1.5.0 in /anaconda/envs/azureml_py36/lib/python3.6/site-packages (from azureml-core~=1.33.0->azureml-sdk[automl,explain]) (11.2.0)\n",
      "Requirement already satisfied, skipping upgrade: docker<5.0.0 in /anaconda/envs/azureml_py36/lib/python3.6/site-packages (from azureml-core~=1.33.0->azureml-sdk[automl,explain]) (4.4.4)\n",
      "Requirement already satisfied, skipping upgrade: contextlib2<1.0.0 in /anaconda/envs/azureml_py36/lib/python3.6/site-packages (from azureml-core~=1.33.0->azureml-sdk[automl,explain]) (0.6.0.post1)\n",
      "Requirement already satisfied, skipping upgrade: azure-graphrbac<1.0.0,>=0.40.0 in /anaconda/envs/azureml_py36/lib/python3.6/site-packages (from azureml-core~=1.33.0->azureml-sdk[automl,explain]) (0.61.1)\n",
      "Requirement already satisfied, skipping upgrade: pyopenssl<21.0.0 in /anaconda/envs/azureml_py36/lib/python3.6/site-packages (from azureml-core~=1.33.0->azureml-sdk[automl,explain]) (20.0.1)\n",
      "Requirement already satisfied, skipping upgrade: PyJWT<3.0.0 in /anaconda/envs/azureml_py36/lib/python3.6/site-packages (from azureml-core~=1.33.0->azureml-sdk[automl,explain]) (2.1.0)\n",
      "Requirement already satisfied, skipping upgrade: azureml-dataprep<2.21.0a,>=2.20.0a in /anaconda/envs/azureml_py36/lib/python3.6/site-packages (from azureml-dataset-runtime[fuse]~=1.33.0->azureml-sdk[automl,explain]) (2.20.1)\n",
      "Requirement already satisfied, skipping upgrade: pyarrow<4.0.0,>=0.17.0 in /anaconda/envs/azureml_py36/lib/python3.6/site-packages (from azureml-dataset-runtime[fuse]~=1.33.0->azureml-sdk[automl,explain]) (3.0.0)\n",
      "Requirement already satisfied, skipping upgrade: numpy!=1.19.3; sys_platform == \"linux\" in /anaconda/envs/azureml_py36/lib/python3.6/site-packages (from azureml-dataset-runtime[fuse]~=1.33.0->azureml-sdk[automl,explain]) (1.18.5)\n",
      "Requirement already satisfied, skipping upgrade: fusepy<4.0.0,>=3.0.1; extra == \"fuse\" in /anaconda/envs/azureml_py36/lib/python3.6/site-packages (from azureml-dataset-runtime[fuse]~=1.33.0->azureml-sdk[automl,explain]) (3.0.1)\n",
      "Requirement already satisfied, skipping upgrade: azureml-pipeline-core~=1.33.0 in /anaconda/envs/azureml_py36/lib/python3.6/site-packages (from azureml-pipeline~=1.33.0->azureml-sdk[automl,explain]) (1.33.0)\n",
      "Requirement already satisfied, skipping upgrade: azureml-pipeline-steps~=1.33.0 in /anaconda/envs/azureml_py36/lib/python3.6/site-packages (from azureml-pipeline~=1.33.0->azureml-sdk[automl,explain]) (1.33.0)\n",
      "Requirement already satisfied, skipping upgrade: azureml-automl-runtime~=1.33.0 in /anaconda/envs/azureml_py36/lib/python3.6/site-packages (from azureml-train-automl~=1.33.0; extra == \"automl\"->azureml-sdk[automl,explain]) (1.33.0)\n",
      "Requirement already satisfied, skipping upgrade: azureml-train-automl-runtime~=1.33.0 in /anaconda/envs/azureml_py36/lib/python3.6/site-packages (from azureml-train-automl~=1.33.0; extra == \"automl\"->azureml-sdk[automl,explain]) (1.33.0)\n",
      "Requirement already satisfied, skipping upgrade: azureml-interpret~=1.33.0 in /anaconda/envs/azureml_py36/lib/python3.6/site-packages (from azureml-explain-model~=1.33.0; extra == \"explain\"->azureml-sdk[automl,explain]) (1.33.0)\n",
      "Requirement already satisfied, skipping upgrade: azureml-train-restclients-hyperdrive~=1.33.0 in /anaconda/envs/azureml_py36/lib/python3.6/site-packages (from azureml-train-core~=1.33.0->azureml-train~=1.33.0->azureml-sdk[automl,explain]) (1.33.0)\n",
      "Requirement already satisfied, skipping upgrade: applicationinsights in /anaconda/envs/azureml_py36/lib/python3.6/site-packages (from azureml-telemetry~=1.33.0->azureml-train-automl-client~=1.33.0->azureml-sdk[automl,explain]) (0.11.10)\n",
      "Requirement already satisfied, skipping upgrade: pyasn1>=0.1.1 in /anaconda/envs/azureml_py36/lib/python3.6/site-packages (from ndg-httpsclient<=0.5.1->azureml-core~=1.33.0->azureml-sdk[automl,explain]) (0.4.8)\n",
      "Requirement already satisfied, skipping upgrade: azure-mgmt-core<2.0.0,>=1.2.0 in /anaconda/envs/azureml_py36/lib/python3.6/site-packages (from azure-mgmt-containerregistry>=2.0.0->azureml-core~=1.33.0->azureml-sdk[automl,explain]) (1.3.0)\n",
      "Requirement already satisfied, skipping upgrade: isodate>=0.6.0 in /anaconda/envs/azureml_py36/lib/python3.6/site-packages (from msrest<1.0.0,>=0.5.1->azureml-core~=1.33.0->azureml-sdk[automl,explain]) (0.6.0)\n",
      "Requirement already satisfied, skipping upgrade: certifi>=2017.4.17 in /anaconda/envs/azureml_py36/lib/python3.6/site-packages (from msrest<1.0.0,>=0.5.1->azureml-core~=1.33.0->azureml-sdk[automl,explain]) (2021.5.30)\n",
      "Requirement already satisfied, skipping upgrade: requests-oauthlib>=0.5.0 in /anaconda/envs/azureml_py36/lib/python3.6/site-packages (from msrest<1.0.0,>=0.5.1->azureml-core~=1.33.0->azureml-sdk[automl,explain]) (1.3.0)\n",
      "Requirement already satisfied, skipping upgrade: six>=1.5 in /anaconda/envs/azureml_py36/lib/python3.6/site-packages (from python-dateutil<3.0.0,>=2.7.3->azureml-core~=1.33.0->azureml-sdk[automl,explain]) (1.16.0)\n",
      "Requirement already satisfied, skipping upgrade: importlib-metadata; python_version < \"3.8\" in /anaconda/envs/azureml_py36/lib/python3.6/site-packages (from jsonpickle<3.0.0->azureml-core~=1.33.0->azureml-sdk[automl,explain]) (4.6.1)\n",
      "Requirement already satisfied, skipping upgrade: backports.weakref in /anaconda/envs/azureml_py36/lib/python3.6/site-packages (from backports.tempfile->azureml-core~=1.33.0->azureml-sdk[automl,explain]) (1.0.post1)\n",
      "Requirement already satisfied, skipping upgrade: cffi>=1.12 in /anaconda/envs/azureml_py36/lib/python3.6/site-packages (from cryptography!=1.9,!=2.0.*,!=2.1.*,!=2.2.*,<4.0.0->azureml-core~=1.33.0->azureml-sdk[automl,explain]) (1.14.6)\n",
      "Requirement already satisfied, skipping upgrade: idna<4,>=2.5; python_version >= \"3\" in /anaconda/envs/azureml_py36/lib/python3.6/site-packages (from requests<3.0.0,>=2.19.1->azureml-core~=1.33.0->azureml-sdk[automl,explain]) (3.2)\n",
      "Requirement already satisfied, skipping upgrade: charset-normalizer~=2.0.0; python_version >= \"3\" in /anaconda/envs/azureml_py36/lib/python3.6/site-packages (from requests<3.0.0,>=2.19.1->azureml-core~=1.33.0->azureml-sdk[automl,explain]) (2.0.3)\n",
      "Requirement already satisfied, skipping upgrade: jeepney>=0.6 in /anaconda/envs/azureml_py36/lib/python3.6/site-packages (from SecretStorage<4.0.0->azureml-core~=1.33.0->azureml-sdk[automl,explain]) (0.7.1)\n",
      "Requirement already satisfied, skipping upgrade: ruamel.yaml.clib>=0.1.2; platform_python_implementation == \"CPython\" and python_version < \"3.10\" in /anaconda/envs/azureml_py36/lib/python3.6/site-packages (from ruamel.yaml<0.17.5,>=0.15.35->azureml-core~=1.33.0->azureml-sdk[automl,explain]) (0.2.6)\n",
      "Requirement already satisfied, skipping upgrade: websocket-client>=0.32.0 in /anaconda/envs/azureml_py36/lib/python3.6/site-packages (from docker<5.0.0->azureml-core~=1.33.0->azureml-sdk[automl,explain]) (1.1.0)\n",
      "Requirement already satisfied, skipping upgrade: dotnetcore2<3.0.0,>=2.1.14 in /anaconda/envs/azureml_py36/lib/python3.6/site-packages (from azureml-dataprep<2.21.0a,>=2.20.0a->azureml-dataset-runtime[fuse]~=1.33.0->azureml-sdk[automl,explain]) (2.1.21)\n",
      "Requirement already satisfied, skipping upgrade: azure-identity<1.5.0,>=1.2.0 in /anaconda/envs/azureml_py36/lib/python3.6/site-packages (from azureml-dataprep<2.21.0a,>=2.20.0a->azureml-dataset-runtime[fuse]~=1.33.0->azureml-sdk[automl,explain]) (1.4.1)\n",
      "Requirement already satisfied, skipping upgrade: azureml-dataprep-native<39.0.0,>=38.0.0 in /anaconda/envs/azureml_py36/lib/python3.6/site-packages (from azureml-dataprep<2.21.0a,>=2.20.0a->azureml-dataset-runtime[fuse]~=1.33.0->azureml-sdk[automl,explain]) (38.0.0)\n",
      "Requirement already satisfied, skipping upgrade: azureml-dataprep-rslex<1.19.0a,>=1.18.0dev0 in /anaconda/envs/azureml_py36/lib/python3.6/site-packages (from azureml-dataprep<2.21.0a,>=2.20.0a->azureml-dataset-runtime[fuse]~=1.33.0->azureml-sdk[automl,explain]) (1.18.0)\n",
      "Requirement already satisfied, skipping upgrade: cloudpickle<2.0.0,>=1.1.0 in /anaconda/envs/azureml_py36/lib/python3.6/site-packages (from azureml-dataprep<2.21.0a,>=2.20.0a->azureml-dataset-runtime[fuse]~=1.33.0->azureml-sdk[automl,explain]) (1.6.0)\n",
      "Requirement already satisfied, skipping upgrade: smart-open<=1.9.0 in /anaconda/envs/azureml_py36/lib/python3.6/site-packages (from azureml-automl-runtime~=1.33.0->azureml-train-automl~=1.33.0; extra == \"automl\"->azureml-sdk[automl,explain]) (1.9.0)\n",
      "Requirement already satisfied, skipping upgrade: pmdarima==1.1.1 in /anaconda/envs/azureml_py36/lib/python3.6/site-packages (from azureml-automl-runtime~=1.33.0->azureml-train-automl~=1.33.0; extra == \"automl\"->azureml-sdk[automl,explain]) (1.1.1)\n",
      "Requirement already satisfied, skipping upgrade: scikit-learn<0.23.0,>=0.19.0 in /anaconda/envs/azureml_py36/lib/python3.6/site-packages (from azureml-automl-runtime~=1.33.0->azureml-train-automl~=1.33.0; extra == \"automl\"->azureml-sdk[automl,explain]) (0.22.2.post1)\n",
      "Requirement already satisfied, skipping upgrade: pandas<1.0.0,>=0.21.0 in /anaconda/envs/azureml_py36/lib/python3.6/site-packages (from azureml-automl-runtime~=1.33.0->azureml-train-automl~=1.33.0; extra == \"automl\"->azureml-sdk[automl,explain]) (0.25.3)\n",
      "Requirement already satisfied, skipping upgrade: sklearn-pandas<=1.7.0,>=1.4.0 in /anaconda/envs/azureml_py36/lib/python3.6/site-packages (from azureml-automl-runtime~=1.33.0->azureml-train-automl~=1.33.0; extra == \"automl\"->azureml-sdk[automl,explain]) (1.7.0)\n",
      "Requirement already satisfied, skipping upgrade: boto3<=1.15.18 in /anaconda/envs/azureml_py36/lib/python3.6/site-packages (from azureml-automl-runtime~=1.33.0->azureml-train-automl~=1.33.0; extra == \"automl\"->azureml-sdk[automl,explain]) (1.15.18)\n",
      "Requirement already satisfied, skipping upgrade: lightgbm<=2.3.0,>=2.0.11 in /anaconda/envs/azureml_py36/lib/python3.6/site-packages (from azureml-automl-runtime~=1.33.0->azureml-train-automl~=1.33.0; extra == \"automl\"->azureml-sdk[automl,explain]) (2.3.0)\n",
      "Requirement already satisfied, skipping upgrade: keras2onnx<=1.6.0,>=1.4.0 in /anaconda/envs/azureml_py36/lib/python3.6/site-packages (from azureml-automl-runtime~=1.33.0->azureml-train-automl~=1.33.0; extra == \"automl\"->azureml-sdk[automl,explain]) (1.6.0)\n",
      "Requirement already satisfied, skipping upgrade: onnx<=1.7.0,>=1.6.0 in /anaconda/envs/azureml_py36/lib/python3.6/site-packages (from azureml-automl-runtime~=1.33.0->azureml-train-automl~=1.33.0; extra == \"automl\"->azureml-sdk[automl,explain]) (1.7.0)\n",
      "Requirement already satisfied, skipping upgrade: onnxconverter-common<=1.6.0,>=1.4.2 in /anaconda/envs/azureml_py36/lib/python3.6/site-packages (from azureml-automl-runtime~=1.33.0->azureml-train-automl~=1.33.0; extra == \"automl\"->azureml-sdk[automl,explain]) (1.6.0)\n",
      "Requirement already satisfied, skipping upgrade: statsmodels<=0.10.2,>=0.9.0 in /anaconda/envs/azureml_py36/lib/python3.6/site-packages (from azureml-automl-runtime~=1.33.0->azureml-train-automl~=1.33.0; extra == \"automl\"->azureml-sdk[automl,explain]) (0.10.2)\n",
      "Requirement already satisfied, skipping upgrade: onnxruntime<=1.8.0,>=1.3.0 in /anaconda/envs/azureml_py36/lib/python3.6/site-packages (from azureml-automl-runtime~=1.33.0->azureml-train-automl~=1.33.0; extra == \"automl\"->azureml-sdk[automl,explain]) (1.8.0)\n",
      "Requirement already satisfied, skipping upgrade: onnxmltools==1.4.1 in /anaconda/envs/azureml_py36/lib/python3.6/site-packages (from azureml-automl-runtime~=1.33.0->azureml-train-automl~=1.33.0; extra == \"automl\"->azureml-sdk[automl,explain]) (1.4.1)\n",
      "Requirement already satisfied, skipping upgrade: nimbusml<=1.8.0,>=1.7.1 in /anaconda/envs/azureml_py36/lib/python3.6/site-packages (from azureml-automl-runtime~=1.33.0->azureml-train-automl~=1.33.0; extra == \"automl\"->azureml-sdk[automl,explain]) (1.8.0)\n",
      "Requirement already satisfied, skipping upgrade: gensim<3.9.0 in /anaconda/envs/azureml_py36/lib/python3.6/site-packages (from azureml-automl-runtime~=1.33.0->azureml-train-automl~=1.33.0; extra == \"automl\"->azureml-sdk[automl,explain]) (3.8.3)\n",
      "Requirement already satisfied, skipping upgrade: joblib==0.14.1 in /anaconda/envs/azureml_py36/lib/python3.6/site-packages (from azureml-automl-runtime~=1.33.0->azureml-train-automl~=1.33.0; extra == \"automl\"->azureml-sdk[automl,explain]) (0.14.1)\n",
      "Requirement already satisfied, skipping upgrade: scipy<=1.5.2,>=1.0.0 in /anaconda/envs/azureml_py36/lib/python3.6/site-packages (from azureml-automl-runtime~=1.33.0->azureml-train-automl~=1.33.0; extra == \"automl\"->azureml-sdk[automl,explain]) (1.5.2)\n",
      "Requirement already satisfied, skipping upgrade: dill<0.4.0,>=0.2.8 in /anaconda/envs/azureml_py36/lib/python3.6/site-packages (from azureml-automl-runtime~=1.33.0->azureml-train-automl~=1.33.0; extra == \"automl\"->azureml-sdk[automl,explain]) (0.3.4)\n",
      "Requirement already satisfied, skipping upgrade: psutil<6.0.0,>=5.2.2 in /anaconda/envs/azureml_py36/lib/python3.6/site-packages (from azureml-automl-runtime~=1.33.0->azureml-train-automl~=1.33.0; extra == \"automl\"->azureml-sdk[automl,explain]) (5.8.0)\n",
      "Requirement already satisfied, skipping upgrade: botocore<=1.18.18 in /anaconda/envs/azureml_py36/lib/python3.6/site-packages (from azureml-automl-runtime~=1.33.0->azureml-train-automl~=1.33.0; extra == \"automl\"->azureml-sdk[automl,explain]) (1.18.18)\n",
      "Requirement already satisfied, skipping upgrade: skl2onnx==1.4.9 in /anaconda/envs/azureml_py36/lib/python3.6/site-packages (from azureml-automl-runtime~=1.33.0->azureml-train-automl~=1.33.0; extra == \"automl\"->azureml-sdk[automl,explain]) (1.4.9)\n",
      "Requirement already satisfied, skipping upgrade: distributed<=2.30.1 in /anaconda/envs/azureml_py36/lib/python3.6/site-packages (from azureml-train-automl-runtime~=1.33.0->azureml-train-automl~=1.33.0; extra == \"automl\"->azureml-sdk[automl,explain]) (2.30.1)\n",
      "Requirement already satisfied, skipping upgrade: jinja2<=2.11.2 in /anaconda/envs/azureml_py36/lib/python3.6/site-packages (from azureml-train-automl-runtime~=1.33.0->azureml-train-automl~=1.33.0; extra == \"automl\"->azureml-sdk[automl,explain]) (2.11.2)\n",
      "Requirement already satisfied, skipping upgrade: dask[complete]<=2.30.0 in /anaconda/envs/azureml_py36/lib/python3.6/site-packages (from azureml-train-automl-runtime~=1.33.0->azureml-train-automl~=1.33.0; extra == \"automl\"->azureml-sdk[automl,explain]) (2.30.0)\n",
      "Requirement already satisfied, skipping upgrade: azure-storage-queue~=12.1 in /anaconda/envs/azureml_py36/lib/python3.6/site-packages (from azureml-train-automl-runtime~=1.33.0->azureml-train-automl~=1.33.0; extra == \"automl\"->azureml-sdk[automl,explain]) (12.1.6)\n",
      "Requirement already satisfied, skipping upgrade: azureml-defaults~=1.33.0 in /anaconda/envs/azureml_py36/lib/python3.6/site-packages (from azureml-train-automl-runtime~=1.33.0->azureml-train-automl~=1.33.0; extra == \"automl\"->azureml-sdk[automl,explain]) (1.33.0)\n",
      "Requirement already satisfied, skipping upgrade: interpret-community==0.19.* in /anaconda/envs/azureml_py36/lib/python3.6/site-packages (from azureml-interpret~=1.33.0->azureml-explain-model~=1.33.0; extra == \"explain\"->azureml-sdk[automl,explain]) (0.19.1)\n",
      "Requirement already satisfied, skipping upgrade: azure-core<2.0.0,>=1.15.0 in /anaconda/envs/azureml_py36/lib/python3.6/site-packages (from azure-mgmt-core<2.0.0,>=1.2.0->azure-mgmt-containerregistry>=2.0.0->azureml-core~=1.33.0->azureml-sdk[automl,explain]) (1.16.0)\n",
      "Requirement already satisfied, skipping upgrade: oauthlib>=3.0.0 in /anaconda/envs/azureml_py36/lib/python3.6/site-packages (from requests-oauthlib>=0.5.0->msrest<1.0.0,>=0.5.1->azureml-core~=1.33.0->azureml-sdk[automl,explain]) (3.1.1)\n",
      "Requirement already satisfied, skipping upgrade: zipp>=0.5 in /anaconda/envs/azureml_py36/lib/python3.6/site-packages (from importlib-metadata; python_version < \"3.8\"->jsonpickle<3.0.0->azureml-core~=1.33.0->azureml-sdk[automl,explain]) (3.5.0)\n",
      "Requirement already satisfied, skipping upgrade: typing-extensions>=3.6.4; python_version < \"3.8\" in /anaconda/envs/azureml_py36/lib/python3.6/site-packages (from importlib-metadata; python_version < \"3.8\"->jsonpickle<3.0.0->azureml-core~=1.33.0->azureml-sdk[automl,explain]) (3.10.0.0)\n",
      "Requirement already satisfied, skipping upgrade: pycparser in /anaconda/envs/azureml_py36/lib/python3.6/site-packages (from cffi>=1.12->cryptography!=1.9,!=2.0.*,!=2.1.*,!=2.2.*,<4.0.0->azureml-core~=1.33.0->azureml-sdk[automl,explain]) (2.20)\n",
      "Requirement already satisfied, skipping upgrade: distro>=1.2.0 in /anaconda/envs/azureml_py36/lib/python3.6/site-packages (from dotnetcore2<3.0.0,>=2.1.14->azureml-dataprep<2.21.0a,>=2.20.0a->azureml-dataset-runtime[fuse]~=1.33.0->azureml-sdk[automl,explain]) (1.5.0)\n",
      "Requirement already satisfied, skipping upgrade: msal<2.0.0,>=1.3.0 in /anaconda/envs/azureml_py36/lib/python3.6/site-packages (from azure-identity<1.5.0,>=1.2.0->azureml-dataprep<2.21.0a,>=2.20.0a->azureml-dataset-runtime[fuse]~=1.33.0->azureml-sdk[automl,explain]) (1.13.0)\n",
      "Requirement already satisfied, skipping upgrade: msal-extensions~=0.2.2 in /anaconda/envs/azureml_py36/lib/python3.6/site-packages (from azure-identity<1.5.0,>=1.2.0->azureml-dataprep<2.21.0a,>=2.20.0a->azureml-dataset-runtime[fuse]~=1.33.0->azureml-sdk[automl,explain]) (0.2.2)\n",
      "Requirement already satisfied, skipping upgrade: boto>=2.32 in /anaconda/envs/azureml_py36/lib/python3.6/site-packages (from smart-open<=1.9.0->azureml-automl-runtime~=1.33.0->azureml-train-automl~=1.33.0; extra == \"automl\"->azureml-sdk[automl,explain]) (2.49.0)\n",
      "Requirement already satisfied, skipping upgrade: Cython>=0.29 in /anaconda/envs/azureml_py36/lib/python3.6/site-packages (from pmdarima==1.1.1->azureml-automl-runtime~=1.33.0->azureml-train-automl~=1.33.0; extra == \"automl\"->azureml-sdk[automl,explain]) (0.29.24)\n",
      "Requirement already satisfied, skipping upgrade: s3transfer<0.4.0,>=0.3.0 in /anaconda/envs/azureml_py36/lib/python3.6/site-packages (from boto3<=1.15.18->azureml-automl-runtime~=1.33.0->azureml-train-automl~=1.33.0; extra == \"automl\"->azureml-sdk[automl,explain]) (0.3.7)\n",
      "Requirement already satisfied, skipping upgrade: fire in /anaconda/envs/azureml_py36/lib/python3.6/site-packages (from keras2onnx<=1.6.0,>=1.4.0->azureml-automl-runtime~=1.33.0->azureml-train-automl~=1.33.0; extra == \"automl\"->azureml-sdk[automl,explain]) (0.4.0)\n",
      "Requirement already satisfied, skipping upgrade: protobuf in /anaconda/envs/azureml_py36/lib/python3.6/site-packages (from keras2onnx<=1.6.0,>=1.4.0->azureml-automl-runtime~=1.33.0->azureml-train-automl~=1.33.0; extra == \"automl\"->azureml-sdk[automl,explain]) (3.17.3)\n",
      "Requirement already satisfied, skipping upgrade: patsy>=0.4.0 in /anaconda/envs/azureml_py36/lib/python3.6/site-packages (from statsmodels<=0.10.2,>=0.9.0->azureml-automl-runtime~=1.33.0->azureml-train-automl~=1.33.0; extra == \"automl\"->azureml-sdk[automl,explain]) (0.5.1)\n",
      "Requirement already satisfied, skipping upgrade: flatbuffers in /anaconda/envs/azureml_py36/lib/python3.6/site-packages (from onnxruntime<=1.8.0,>=1.3.0->azureml-automl-runtime~=1.33.0->azureml-train-automl~=1.33.0; extra == \"automl\"->azureml-sdk[automl,explain]) (2.0)\n",
      "Requirement already satisfied, skipping upgrade: toolz>=0.8.2 in /anaconda/envs/azureml_py36/lib/python3.6/site-packages (from distributed<=2.30.1->azureml-train-automl-runtime~=1.33.0->azureml-train-automl~=1.33.0; extra == \"automl\"->azureml-sdk[automl,explain]) (0.11.1)\n",
      "Requirement already satisfied, skipping upgrade: sortedcontainers!=2.0.0,!=2.0.1 in /anaconda/envs/azureml_py36/lib/python3.6/site-packages (from distributed<=2.30.1->azureml-train-automl-runtime~=1.33.0->azureml-train-automl~=1.33.0; extra == \"automl\"->azureml-sdk[automl,explain]) (2.4.0)\n",
      "Requirement already satisfied, skipping upgrade: contextvars; python_version < \"3.7\" in /anaconda/envs/azureml_py36/lib/python3.6/site-packages (from distributed<=2.30.1->azureml-train-automl-runtime~=1.33.0->azureml-train-automl~=1.33.0; extra == \"automl\"->azureml-sdk[automl,explain]) (2.4)\n",
      "Requirement already satisfied, skipping upgrade: tblib>=1.6.0 in /anaconda/envs/azureml_py36/lib/python3.6/site-packages (from distributed<=2.30.1->azureml-train-automl-runtime~=1.33.0->azureml-train-automl~=1.33.0; extra == \"automl\"->azureml-sdk[automl,explain]) (1.7.0)\n",
      "Requirement already satisfied, skipping upgrade: zict>=0.1.3 in /anaconda/envs/azureml_py36/lib/python3.6/site-packages (from distributed<=2.30.1->azureml-train-automl-runtime~=1.33.0->azureml-train-automl~=1.33.0; extra == \"automl\"->azureml-sdk[automl,explain]) (2.0.0)\n",
      "Requirement already satisfied, skipping upgrade: setuptools in /anaconda/envs/azureml_py36/lib/python3.6/site-packages (from distributed<=2.30.1->azureml-train-automl-runtime~=1.33.0->azureml-train-automl~=1.33.0; extra == \"automl\"->azureml-sdk[automl,explain]) (50.3.0)\n",
      "Requirement already satisfied, skipping upgrade: tornado>=5; python_version < \"3.8\" in /anaconda/envs/azureml_py36/lib/python3.6/site-packages (from distributed<=2.30.1->azureml-train-automl-runtime~=1.33.0->azureml-train-automl~=1.33.0; extra == \"automl\"->azureml-sdk[automl,explain]) (6.1)\n",
      "Requirement already satisfied, skipping upgrade: pyyaml in /anaconda/envs/azureml_py36/lib/python3.6/site-packages (from distributed<=2.30.1->azureml-train-automl-runtime~=1.33.0->azureml-train-automl~=1.33.0; extra == \"automl\"->azureml-sdk[automl,explain]) (5.4.1)\n",
      "Requirement already satisfied, skipping upgrade: click>=6.6 in /anaconda/envs/azureml_py36/lib/python3.6/site-packages (from distributed<=2.30.1->azureml-train-automl-runtime~=1.33.0->azureml-train-automl~=1.33.0; extra == \"automl\"->azureml-sdk[automl,explain]) (8.0.1)\n",
      "Requirement already satisfied, skipping upgrade: msgpack>=0.6.0 in /anaconda/envs/azureml_py36/lib/python3.6/site-packages (from distributed<=2.30.1->azureml-train-automl-runtime~=1.33.0->azureml-train-automl~=1.33.0; extra == \"automl\"->azureml-sdk[automl,explain]) (1.0.2)\n",
      "Requirement already satisfied, skipping upgrade: MarkupSafe>=0.23 in /anaconda/envs/azureml_py36/lib/python3.6/site-packages (from jinja2<=2.11.2->azureml-train-automl-runtime~=1.33.0->azureml-train-automl~=1.33.0; extra == \"automl\"->azureml-sdk[automl,explain]) (2.0.1)\n",
      "Requirement already satisfied, skipping upgrade: fsspec>=0.6.0; extra == \"complete\" in /anaconda/envs/azureml_py36/lib/python3.6/site-packages (from dask[complete]<=2.30.0->azureml-train-automl-runtime~=1.33.0->azureml-train-automl~=1.33.0; extra == \"automl\"->azureml-sdk[automl,explain]) (2021.7.0)\n",
      "Requirement already satisfied, skipping upgrade: partd>=0.3.10; extra == \"complete\" in /anaconda/envs/azureml_py36/lib/python3.6/site-packages (from dask[complete]<=2.30.0->azureml-train-automl-runtime~=1.33.0->azureml-train-automl~=1.33.0; extra == \"automl\"->azureml-sdk[automl,explain]) (1.2.0)\n",
      "Requirement already satisfied, skipping upgrade: bokeh!=2.0.0,>=1.0.0; extra == \"complete\" in /anaconda/envs/azureml_py36/lib/python3.6/site-packages (from dask[complete]<=2.30.0->azureml-train-automl-runtime~=1.33.0->azureml-train-automl~=1.33.0; extra == \"automl\"->azureml-sdk[automl,explain]) (2.3.3)\n",
      "Requirement already satisfied, skipping upgrade: json-logging-py==0.2 in /anaconda/envs/azureml_py36/lib/python3.6/site-packages (from azureml-defaults~=1.33.0->azureml-train-automl-runtime~=1.33.0->azureml-train-automl~=1.33.0; extra == \"automl\"->azureml-sdk[automl,explain]) (0.2)\n",
      "Requirement already satisfied, skipping upgrade: gunicorn==20.1.0 in /anaconda/envs/azureml_py36/lib/python3.6/site-packages (from azureml-defaults~=1.33.0->azureml-train-automl-runtime~=1.33.0->azureml-train-automl~=1.33.0; extra == \"automl\"->azureml-sdk[automl,explain]) (20.1.0)\n",
      "Requirement already satisfied, skipping upgrade: configparser==3.7.4 in /anaconda/envs/azureml_py36/lib/python3.6/site-packages (from azureml-defaults~=1.33.0->azureml-train-automl-runtime~=1.33.0->azureml-train-automl~=1.33.0; extra == \"automl\"->azureml-sdk[automl,explain]) (3.7.4)\n",
      "Requirement already satisfied, skipping upgrade: flask==1.0.3 in /anaconda/envs/azureml_py36/lib/python3.6/site-packages (from azureml-defaults~=1.33.0->azureml-train-automl-runtime~=1.33.0->azureml-train-automl~=1.33.0; extra == \"automl\"->azureml-sdk[automl,explain]) (1.0.3)\n",
      "Requirement already satisfied, skipping upgrade: werkzeug<=1.0.1,>=0.16.1 in /anaconda/envs/azureml_py36/lib/python3.6/site-packages (from azureml-defaults~=1.33.0->azureml-train-automl-runtime~=1.33.0->azureml-train-automl~=1.33.0; extra == \"automl\"->azureml-sdk[automl,explain]) (1.0.1)\n",
      "Requirement already satisfied, skipping upgrade: opencensus-ext-azure==1.0.8 in /anaconda/envs/azureml_py36/lib/python3.6/site-packages (from azureml-defaults~=1.33.0->azureml-train-automl-runtime~=1.33.0->azureml-train-automl~=1.33.0; extra == \"automl\"->azureml-sdk[automl,explain]) (1.0.8)\n",
      "Requirement already satisfied, skipping upgrade: interpret-core[required]<=0.2.5,>=0.1.20 in /anaconda/envs/azureml_py36/lib/python3.6/site-packages (from interpret-community==0.19.*->azureml-interpret~=1.33.0->azureml-explain-model~=1.33.0; extra == \"explain\"->azureml-sdk[automl,explain]) (0.2.5)\n",
      "Requirement already satisfied, skipping upgrade: packaging in /anaconda/envs/azureml_py36/lib/python3.6/site-packages (from interpret-community==0.19.*->azureml-interpret~=1.33.0->azureml-explain-model~=1.33.0; extra == \"explain\"->azureml-sdk[automl,explain]) (21.0)\n",
      "Requirement already satisfied, skipping upgrade: shap<=0.39.0,>=0.20.0 in /anaconda/envs/azureml_py36/lib/python3.6/site-packages (from interpret-community==0.19.*->azureml-interpret~=1.33.0->azureml-explain-model~=1.33.0; extra == \"explain\"->azureml-sdk[automl,explain]) (0.39.0)\n",
      "Requirement already satisfied, skipping upgrade: portalocker~=1.0; platform_system != \"Windows\" in /anaconda/envs/azureml_py36/lib/python3.6/site-packages (from msal-extensions~=0.2.2->azure-identity<1.5.0,>=1.2.0->azureml-dataprep<2.21.0a,>=2.20.0a->azureml-dataset-runtime[fuse]~=1.33.0->azureml-sdk[automl,explain]) (1.7.1)\n",
      "Requirement already satisfied, skipping upgrade: termcolor in /anaconda/envs/azureml_py36/lib/python3.6/site-packages (from fire->keras2onnx<=1.6.0,>=1.4.0->azureml-automl-runtime~=1.33.0->azureml-train-automl~=1.33.0; extra == \"automl\"->azureml-sdk[automl,explain]) (1.1.0)\n",
      "Requirement already satisfied, skipping upgrade: immutables>=0.9 in /anaconda/envs/azureml_py36/lib/python3.6/site-packages (from contextvars; python_version < \"3.7\"->distributed<=2.30.1->azureml-train-automl-runtime~=1.33.0->azureml-train-automl~=1.33.0; extra == \"automl\"->azureml-sdk[automl,explain]) (0.15)\n",
      "Requirement already satisfied, skipping upgrade: heapdict in /anaconda/envs/azureml_py36/lib/python3.6/site-packages (from zict>=0.1.3->distributed<=2.30.1->azureml-train-automl-runtime~=1.33.0->azureml-train-automl~=1.33.0; extra == \"automl\"->azureml-sdk[automl,explain]) (1.0.1)\n",
      "Requirement already satisfied, skipping upgrade: locket in /anaconda/envs/azureml_py36/lib/python3.6/site-packages (from partd>=0.3.10; extra == \"complete\"->dask[complete]<=2.30.0->azureml-train-automl-runtime~=1.33.0->azureml-train-automl~=1.33.0; extra == \"automl\"->azureml-sdk[automl,explain]) (0.2.1)\n",
      "Requirement already satisfied, skipping upgrade: pillow>=7.1.0 in /anaconda/envs/azureml_py36/lib/python3.6/site-packages (from bokeh!=2.0.0,>=1.0.0; extra == \"complete\"->dask[complete]<=2.30.0->azureml-train-automl-runtime~=1.33.0->azureml-train-automl~=1.33.0; extra == \"automl\"->azureml-sdk[automl,explain]) (8.0.0)\n",
      "Requirement already satisfied, skipping upgrade: itsdangerous>=0.24 in /anaconda/envs/azureml_py36/lib/python3.6/site-packages (from flask==1.0.3->azureml-defaults~=1.33.0->azureml-train-automl-runtime~=1.33.0->azureml-train-automl~=1.33.0; extra == \"automl\"->azureml-sdk[automl,explain]) (2.0.1)\n",
      "Requirement already satisfied, skipping upgrade: opencensus<1.0.0,>=0.7.13 in /anaconda/envs/azureml_py36/lib/python3.6/site-packages (from opencensus-ext-azure==1.0.8->azureml-defaults~=1.33.0->azureml-train-automl-runtime~=1.33.0->azureml-train-automl~=1.33.0; extra == \"automl\"->azureml-sdk[automl,explain]) (0.7.13)\n",
      "Requirement already satisfied, skipping upgrade: pyparsing>=2.0.2 in /anaconda/envs/azureml_py36/lib/python3.6/site-packages (from packaging->interpret-community==0.19.*->azureml-interpret~=1.33.0->azureml-explain-model~=1.33.0; extra == \"explain\"->azureml-sdk[automl,explain]) (2.4.7)\n",
      "Requirement already satisfied, skipping upgrade: numba in /anaconda/envs/azureml_py36/lib/python3.6/site-packages (from shap<=0.39.0,>=0.20.0->interpret-community==0.19.*->azureml-interpret~=1.33.0->azureml-explain-model~=1.33.0; extra == \"explain\"->azureml-sdk[automl,explain]) (0.53.1)\n",
      "Requirement already satisfied, skipping upgrade: tqdm>4.25.0 in /anaconda/envs/azureml_py36/lib/python3.6/site-packages (from shap<=0.39.0,>=0.20.0->interpret-community==0.19.*->azureml-interpret~=1.33.0->azureml-explain-model~=1.33.0; extra == \"explain\"->azureml-sdk[automl,explain]) (4.61.2)\n",
      "Requirement already satisfied, skipping upgrade: slicer==0.0.7 in /anaconda/envs/azureml_py36/lib/python3.6/site-packages (from shap<=0.39.0,>=0.20.0->interpret-community==0.19.*->azureml-interpret~=1.33.0->azureml-explain-model~=1.33.0; extra == \"explain\"->azureml-sdk[automl,explain]) (0.0.7)\n",
      "Requirement already satisfied, skipping upgrade: opencensus-context==0.1.2 in /anaconda/envs/azureml_py36/lib/python3.6/site-packages (from opencensus<1.0.0,>=0.7.13->opencensus-ext-azure==1.0.8->azureml-defaults~=1.33.0->azureml-train-automl-runtime~=1.33.0->azureml-train-automl~=1.33.0; extra == \"automl\"->azureml-sdk[automl,explain]) (0.1.2)\n",
      "Requirement already satisfied, skipping upgrade: google-api-core<2.0.0,>=1.0.0 in /anaconda/envs/azureml_py36/lib/python3.6/site-packages (from opencensus<1.0.0,>=0.7.13->opencensus-ext-azure==1.0.8->azureml-defaults~=1.33.0->azureml-train-automl-runtime~=1.33.0->azureml-train-automl~=1.33.0; extra == \"automl\"->azureml-sdk[automl,explain]) (1.31.1)\n",
      "Requirement already satisfied, skipping upgrade: llvmlite<0.37,>=0.36.0rc1 in /anaconda/envs/azureml_py36/lib/python3.6/site-packages (from numba->shap<=0.39.0,>=0.20.0->interpret-community==0.19.*->azureml-interpret~=1.33.0->azureml-explain-model~=1.33.0; extra == \"explain\"->azureml-sdk[automl,explain]) (0.36.0)\n",
      "Requirement already satisfied, skipping upgrade: google-auth<2.0dev,>=1.25.0 in /anaconda/envs/azureml_py36/lib/python3.6/site-packages (from google-api-core<2.0.0,>=1.0.0->opencensus<1.0.0,>=0.7.13->opencensus-ext-azure==1.0.8->azureml-defaults~=1.33.0->azureml-train-automl-runtime~=1.33.0->azureml-train-automl~=1.33.0; extra == \"automl\"->azureml-sdk[automl,explain]) (1.34.0)\n",
      "Requirement already satisfied, skipping upgrade: googleapis-common-protos<2.0dev,>=1.6.0 in /anaconda/envs/azureml_py36/lib/python3.6/site-packages (from google-api-core<2.0.0,>=1.0.0->opencensus<1.0.0,>=0.7.13->opencensus-ext-azure==1.0.8->azureml-defaults~=1.33.0->azureml-train-automl-runtime~=1.33.0->azureml-train-automl~=1.33.0; extra == \"automl\"->azureml-sdk[automl,explain]) (1.53.0)\n",
      "Requirement already satisfied, skipping upgrade: rsa<5,>=3.1.4; python_version >= \"3.6\" in /anaconda/envs/azureml_py36/lib/python3.6/site-packages (from google-auth<2.0dev,>=1.25.0->google-api-core<2.0.0,>=1.0.0->opencensus<1.0.0,>=0.7.13->opencensus-ext-azure==1.0.8->azureml-defaults~=1.33.0->azureml-train-automl-runtime~=1.33.0->azureml-train-automl~=1.33.0; extra == \"automl\"->azureml-sdk[automl,explain]) (4.7.2)\n",
      "Requirement already satisfied, skipping upgrade: pyasn1-modules>=0.2.1 in /anaconda/envs/azureml_py36/lib/python3.6/site-packages (from google-auth<2.0dev,>=1.25.0->google-api-core<2.0.0,>=1.0.0->opencensus<1.0.0,>=0.7.13->opencensus-ext-azure==1.0.8->azureml-defaults~=1.33.0->azureml-train-automl-runtime~=1.33.0->azureml-train-automl~=1.33.0; extra == \"automl\"->azureml-sdk[automl,explain]) (0.2.8)\n",
      "Requirement already satisfied, skipping upgrade: cachetools<5.0,>=2.0.0 in /anaconda/envs/azureml_py36/lib/python3.6/site-packages (from google-auth<2.0dev,>=1.25.0->google-api-core<2.0.0,>=1.0.0->opencensus<1.0.0,>=0.7.13->opencensus-ext-azure==1.0.8->azureml-defaults~=1.33.0->azureml-train-automl-runtime~=1.33.0->azureml-train-automl~=1.33.0; extra == \"automl\"->azureml-sdk[automl,explain]) (4.2.2)\n"
     ]
    }
   ],
   "source": [
    "!pip install --upgrade azureml-sdk[explain,automl]"
   ]
  },
  {
   "cell_type": "code",
   "execution_count": 2,
   "metadata": {
    "gather": {
     "logged": 1598423888013
    },
    "jupyter": {
     "outputs_hidden": false,
     "source_hidden": false
    },
    "nteract": {
     "transient": {
      "deleting": false
     }
    }
   },
   "outputs": [
    {
     "name": "stdout",
     "output_type": "stream",
     "text": [
      "SDK version: 1.33.0\n"
     ]
    }
   ],
   "source": [
    "import logging\n",
    "import os\n",
    "import csv\n",
    "\n",
    "from matplotlib import pyplot as plt\n",
    "import numpy as np\n",
    "import pandas as pd\n",
    "from sklearn import datasets\n",
    "import pkg_resources\n",
    "\n",
    "import azureml.core\n",
    "from azureml.core.experiment import Experiment\n",
    "from azureml.core.workspace import Workspace\n",
    "from azureml.train.automl import AutoMLConfig\n",
    "from azureml.core.dataset import Dataset\n",
    "from azureml.data.datapath import DataPath\n",
    "\n",
    "from azureml.pipeline.steps import AutoMLStep\n",
    "\n",
    "# Check core SDK version number\n",
    "print(\"SDK version:\", azureml.core.VERSION)"
   ]
  },
  {
   "cell_type": "markdown",
   "metadata": {},
   "source": [
    "## Dataset\n",
    "\n",
    "### Overview\n",
    "For this Capstone project I will be using a dataset from Kaggle to predict the water potability based on a few technical metrics such as pH, hardness, solids, chloramines, sulfate, trihalomethanes, etc.\n",
    "This is a classification exercise where the potability (target variable) can take the value of 1 for potable and 0 for not potable."
   ]
  },
  {
   "cell_type": "code",
   "execution_count": 3,
   "metadata": {
    "gather": {
     "logged": 1598423890461
    },
    "jupyter": {
     "outputs_hidden": false,
     "source_hidden": false
    },
    "nteract": {
     "transient": {
      "deleting": false
     }
    }
   },
   "outputs": [],
   "source": [
    "ws = Workspace.from_config()\n",
    "# choose a name for experiment\n",
    "experiment_name = 'automl_h2o_potability'\n",
    "project_folder = \"automl_h2o_potability\"\n",
    "\n",
    "experiment=Experiment(ws, experiment_name)"
   ]
  },
  {
   "cell_type": "code",
   "execution_count": 4,
   "metadata": {
    "scrolled": false
   },
   "outputs": [
    {
     "name": "stdout",
     "output_type": "stream",
     "text": [
      "Creating and registering dataset in Workspace\n",
      "Uploading an estimated of 1 files\n",
      "Uploading data/water_potability.csv\n",
      "Uploaded data/water_potability.csv, 1 files out of an estimated total of 1\n",
      "Uploaded 1 files\n"
     ]
    },
    {
     "data": {
      "text/html": [
       "<div>\n",
       "<style scoped>\n",
       "    .dataframe tbody tr th:only-of-type {\n",
       "        vertical-align: middle;\n",
       "    }\n",
       "\n",
       "    .dataframe tbody tr th {\n",
       "        vertical-align: top;\n",
       "    }\n",
       "\n",
       "    .dataframe thead th {\n",
       "        text-align: right;\n",
       "    }\n",
       "</style>\n",
       "<table border=\"1\" class=\"dataframe\">\n",
       "  <thead>\n",
       "    <tr style=\"text-align: right;\">\n",
       "      <th></th>\n",
       "      <th>ph</th>\n",
       "      <th>Hardness</th>\n",
       "      <th>Solids</th>\n",
       "      <th>Chloramines</th>\n",
       "      <th>Sulfate</th>\n",
       "      <th>Conductivity</th>\n",
       "      <th>Organic_carbon</th>\n",
       "      <th>Trihalomethanes</th>\n",
       "      <th>Turbidity</th>\n",
       "      <th>Potability</th>\n",
       "    </tr>\n",
       "  </thead>\n",
       "  <tbody>\n",
       "    <tr>\n",
       "      <th>count</th>\n",
       "      <td>2785.000000</td>\n",
       "      <td>3276.000000</td>\n",
       "      <td>3276.000000</td>\n",
       "      <td>3276.000000</td>\n",
       "      <td>2495.000000</td>\n",
       "      <td>3276.000000</td>\n",
       "      <td>3276.000000</td>\n",
       "      <td>3114.000000</td>\n",
       "      <td>3276.000000</td>\n",
       "      <td>3276.000000</td>\n",
       "    </tr>\n",
       "    <tr>\n",
       "      <th>mean</th>\n",
       "      <td>7.080795</td>\n",
       "      <td>196.369496</td>\n",
       "      <td>22014.092526</td>\n",
       "      <td>7.122277</td>\n",
       "      <td>333.775777</td>\n",
       "      <td>426.205111</td>\n",
       "      <td>14.284970</td>\n",
       "      <td>66.396293</td>\n",
       "      <td>3.966786</td>\n",
       "      <td>0.390110</td>\n",
       "    </tr>\n",
       "    <tr>\n",
       "      <th>std</th>\n",
       "      <td>1.594320</td>\n",
       "      <td>32.879761</td>\n",
       "      <td>8768.570828</td>\n",
       "      <td>1.583085</td>\n",
       "      <td>41.416840</td>\n",
       "      <td>80.824064</td>\n",
       "      <td>3.308162</td>\n",
       "      <td>16.175008</td>\n",
       "      <td>0.780382</td>\n",
       "      <td>0.487849</td>\n",
       "    </tr>\n",
       "    <tr>\n",
       "      <th>min</th>\n",
       "      <td>0.000000</td>\n",
       "      <td>47.432000</td>\n",
       "      <td>320.942611</td>\n",
       "      <td>0.352000</td>\n",
       "      <td>129.000000</td>\n",
       "      <td>181.483754</td>\n",
       "      <td>2.200000</td>\n",
       "      <td>0.738000</td>\n",
       "      <td>1.450000</td>\n",
       "      <td>0.000000</td>\n",
       "    </tr>\n",
       "    <tr>\n",
       "      <th>25%</th>\n",
       "      <td>6.093092</td>\n",
       "      <td>176.850538</td>\n",
       "      <td>15666.690297</td>\n",
       "      <td>6.127421</td>\n",
       "      <td>307.699498</td>\n",
       "      <td>365.734414</td>\n",
       "      <td>12.065801</td>\n",
       "      <td>55.844536</td>\n",
       "      <td>3.439711</td>\n",
       "      <td>0.000000</td>\n",
       "    </tr>\n",
       "    <tr>\n",
       "      <th>50%</th>\n",
       "      <td>7.036752</td>\n",
       "      <td>196.967627</td>\n",
       "      <td>20927.833607</td>\n",
       "      <td>7.130299</td>\n",
       "      <td>333.073546</td>\n",
       "      <td>421.884968</td>\n",
       "      <td>14.218338</td>\n",
       "      <td>66.622485</td>\n",
       "      <td>3.955028</td>\n",
       "      <td>0.000000</td>\n",
       "    </tr>\n",
       "    <tr>\n",
       "      <th>75%</th>\n",
       "      <td>8.062066</td>\n",
       "      <td>216.667456</td>\n",
       "      <td>27332.762127</td>\n",
       "      <td>8.114887</td>\n",
       "      <td>359.950170</td>\n",
       "      <td>481.792304</td>\n",
       "      <td>16.557652</td>\n",
       "      <td>77.337473</td>\n",
       "      <td>4.500320</td>\n",
       "      <td>1.000000</td>\n",
       "    </tr>\n",
       "    <tr>\n",
       "      <th>max</th>\n",
       "      <td>14.000000</td>\n",
       "      <td>323.124000</td>\n",
       "      <td>61227.196008</td>\n",
       "      <td>13.127000</td>\n",
       "      <td>481.030642</td>\n",
       "      <td>753.342620</td>\n",
       "      <td>28.300000</td>\n",
       "      <td>124.000000</td>\n",
       "      <td>6.739000</td>\n",
       "      <td>1.000000</td>\n",
       "    </tr>\n",
       "  </tbody>\n",
       "</table>\n",
       "</div>"
      ],
      "text/plain": [
       "                ph     Hardness        Solids  Chloramines      Sulfate  \\\n",
       "count  2785.000000  3276.000000   3276.000000  3276.000000  2495.000000   \n",
       "mean      7.080795   196.369496  22014.092526     7.122277   333.775777   \n",
       "std       1.594320    32.879761   8768.570828     1.583085    41.416840   \n",
       "min       0.000000    47.432000    320.942611     0.352000   129.000000   \n",
       "25%       6.093092   176.850538  15666.690297     6.127421   307.699498   \n",
       "50%       7.036752   196.967627  20927.833607     7.130299   333.073546   \n",
       "75%       8.062066   216.667456  27332.762127     8.114887   359.950170   \n",
       "max      14.000000   323.124000  61227.196008    13.127000   481.030642   \n",
       "\n",
       "       Conductivity  Organic_carbon  Trihalomethanes    Turbidity   Potability  \n",
       "count   3276.000000     3276.000000      3114.000000  3276.000000  3276.000000  \n",
       "mean     426.205111       14.284970        66.396293     3.966786     0.390110  \n",
       "std       80.824064        3.308162        16.175008     0.780382     0.487849  \n",
       "min      181.483754        2.200000         0.738000     1.450000     0.000000  \n",
       "25%      365.734414       12.065801        55.844536     3.439711     0.000000  \n",
       "50%      421.884968       14.218338        66.622485     3.955028     0.000000  \n",
       "75%      481.792304       16.557652        77.337473     4.500320     1.000000  \n",
       "max      753.342620       28.300000       124.000000     6.739000     1.000000  "
      ]
     },
     "execution_count": 4,
     "metadata": {},
     "output_type": "execute_result"
    }
   ],
   "source": [
    "# This cell will either retrieve or create/register the dataset if not already existent on the AzureML Workspace\n",
    "# For this code to work, the data should have been placed in a \"data\" folder alongside this Jupyter Notebook\n",
    "# The water_potability.csv file was downloaded from Kaggle\n",
    "found = False\n",
    "key = \"water_potability\"\n",
    "description_text = \"Water Potability Dataset from Kaggle\"\n",
    "\n",
    "if key in ws.datasets.keys(): \n",
    "        print(\"Dataset already registered!\")\n",
    "        found = True\n",
    "        dataset = ws.datasets[key] \n",
    "\n",
    "if not found:\n",
    "        # Create AML Dataset and register it into Workspace\n",
    "        print(\"Creating and registering dataset in Workspace\")\n",
    "        default_ds = ws.get_default_datastore()\n",
    "        default_ds.upload(src_dir=\"data\", target_path=\"data\")\n",
    "        dataset = Dataset.Tabular.from_delimited_files(default_ds.path(\"data/water_potability.csv\"))     \n",
    "        #Register Dataset in Workspace\n",
    "        dataset = dataset.register(workspace=ws,\n",
    "                                   name=key,\n",
    "                                   description=description_text)\n",
    "\n",
    "\n",
    "df = dataset.to_pandas_dataframe()\n",
    "df.describe()"
   ]
  },
  {
   "cell_type": "markdown",
   "metadata": {},
   "source": [
    "## Compute Configuration"
   ]
  },
  {
   "cell_type": "code",
   "execution_count": 5,
   "metadata": {},
   "outputs": [
    {
     "name": "stdout",
     "output_type": "stream",
     "text": [
      "InProgress......\n",
      "SucceededProvisioning operation finished, operation \"Succeeded\"\n",
      "Succeeded..............................................\n",
      "AmlCompute wait for completion finished\n",
      "\n",
      "Minimum number of nodes requested have been provisioned\n"
     ]
    }
   ],
   "source": [
    "from azureml.core.compute import AmlCompute\n",
    "from azureml.core.compute import ComputeTarget\n",
    "from azureml.core.compute_target import ComputeTargetException\n",
    "\n",
    "# NOTE: update the cluster name to match the existing cluster\n",
    "# Choose a name for your CPU cluster\n",
    "cluster_name = \"h2o-pred-cluster\"\n",
    "\n",
    "# Verify that cluster does not exist already\n",
    "try:\n",
    "    compute_target = ComputeTarget(workspace=ws, name=cluster_name)\n",
    "    print('Found existing cluster, use it.')\n",
    "except ComputeTargetException:\n",
    "    compute_config = AmlCompute.provisioning_configuration(vm_size='STANDARD_D2_V2',# for GPU, use \"STANDARD_NC6\"\n",
    "                                                           #vm_priority = 'lowpriority', # optional\n",
    "                                                           min_nodes=10, \n",
    "                                                           max_nodes=10)\n",
    "    compute_target = ComputeTarget.create(ws, cluster_name, compute_config)\n",
    "\n",
    "compute_target.wait_for_completion(show_output=True, min_node_count = 1, timeout_in_minutes = 10)"
   ]
  },
  {
   "cell_type": "markdown",
   "metadata": {},
   "source": [
    "## AutoML Configuration\n",
    "\n",
    "The next cell defines the configuraiton for the AutoML experiment.\n",
    "\n",
    "The primary metric selected is AUC_weighted since it's an imbalanced dataset.\n",
    "\n",
    "The maximum number of concurrent iterations is set to 9 since I provisioned a cluster with 10 nodes to speed up the process.\n",
    "\n",
    "This is a classification exercise, therefore the \"task\" parameter of the AutoMLConfig is set accordingly.\n",
    "The target column (label_column_name) is set to Potability."
   ]
  },
  {
   "cell_type": "code",
   "execution_count": 6,
   "metadata": {
    "gather": {
     "logged": 1598429217746
    },
    "jupyter": {
     "outputs_hidden": false,
     "source_hidden": false
    },
    "nteract": {
     "transient": {
      "deleting": false
     }
    }
   },
   "outputs": [],
   "source": [
    "automl_settings = {\n",
    "    \"experiment_timeout_minutes\": 60,\n",
    "    \"max_concurrent_iterations\": 9,\n",
    "    \"primary_metric\" : 'AUC_weighted'\n",
    "}\n",
    "\n",
    "automl_config = AutoMLConfig(compute_target=compute_target,\n",
    "                             task = \"classification\",\n",
    "                             training_data=dataset,\n",
    "                             label_column_name=\"Potability\",   \n",
    "                             path = project_folder,\n",
    "                             enable_early_stopping= True,\n",
    "                             featurization= 'auto',\n",
    "                             debug_log = \"automl_errors.log\",\n",
    "                             **automl_settings\n",
    "                            )"
   ]
  },
  {
   "cell_type": "code",
   "execution_count": 7,
   "metadata": {
    "gather": {
     "logged": 1598431107951
    },
    "jupyter": {
     "outputs_hidden": false,
     "source_hidden": false
    },
    "nteract": {
     "transient": {
      "deleting": false
     }
    }
   },
   "outputs": [
    {
     "name": "stdout",
     "output_type": "stream",
     "text": [
      "Submitting remote run.\n"
     ]
    },
    {
     "data": {
      "text/html": [
       "<table style=\"width:100%\"><tr><th>Experiment</th><th>Id</th><th>Type</th><th>Status</th><th>Details Page</th><th>Docs Page</th></tr><tr><td>automl_h2o_potability</td><td>AutoML_8e6a87a0-c720-4cd8-9e8d-c9e0bd592376</td><td>automl</td><td>NotStarted</td><td><a href=\"https://ml.azure.com/runs/AutoML_8e6a87a0-c720-4cd8-9e8d-c9e0bd592376?wsid=/subscriptions/1b944a9b-fdae-4f97-aeb1-b7eea0beac53/resourcegroups/aml-quickstarts-155676/workspaces/quick-starts-ws-155676&amp;tid=660b3398-b80e-49d2-bc5b-ac1dc93b5254\" target=\"_blank\" rel=\"noopener\">Link to Azure Machine Learning studio</a></td><td><a href=\"https://docs.microsoft.com/en-us/python/api/overview/azure/ml/intro?view=azure-ml-py\" target=\"_blank\" rel=\"noopener\">Link to Documentation</a></td></tr></table>"
      ],
      "text/plain": [
       "<IPython.core.display.HTML object>"
      ]
     },
     "metadata": {},
     "output_type": "display_data"
    }
   ],
   "source": [
    "remote_run = experiment.submit(automl_config)"
   ]
  },
  {
   "cell_type": "markdown",
   "metadata": {},
   "source": [
    "## Run Details"
   ]
  },
  {
   "cell_type": "code",
   "execution_count": 8,
   "metadata": {
    "gather": {
     "logged": 1598431121770
    },
    "jupyter": {
     "outputs_hidden": false,
     "source_hidden": false
    },
    "nteract": {
     "transient": {
      "deleting": false
     }
    }
   },
   "outputs": [
    {
     "data": {
      "application/vnd.jupyter.widget-view+json": {
       "model_id": "01b1ddb5fa7e479c9b3f56f9225b7b9d",
       "version_major": 2,
       "version_minor": 0
      },
      "text/plain": [
       "_AutoMLWidget(widget_settings={'childWidgetDisplay': 'popup', 'send_telemetry': False, 'log_level': 'INFO', 's…"
      ]
     },
     "metadata": {},
     "output_type": "display_data"
    },
    {
     "data": {
      "application/aml.mini.widget.v1": "{\"status\": \"Completed\", \"workbench_run_details_uri\": \"https://ml.azure.com/runs/AutoML_8e6a87a0-c720-4cd8-9e8d-c9e0bd592376?wsid=/subscriptions/1b944a9b-fdae-4f97-aeb1-b7eea0beac53/resourcegroups/aml-quickstarts-155676/workspaces/quick-starts-ws-155676&tid=660b3398-b80e-49d2-bc5b-ac1dc93b5254\", \"run_id\": \"AutoML_8e6a87a0-c720-4cd8-9e8d-c9e0bd592376\", \"run_properties\": {\"run_id\": \"AutoML_8e6a87a0-c720-4cd8-9e8d-c9e0bd592376\", \"created_utc\": \"2021-08-24T21:53:00.355223Z\", \"properties\": {\"num_iterations\": \"1000\", \"training_type\": \"TrainFull\", \"acquisition_function\": \"EI\", \"primary_metric\": \"AUC_weighted\", \"train_split\": \"0\", \"acquisition_parameter\": \"0\", \"num_cross_validation\": null, \"target\": \"h2o-pred-cluster\", \"AMLSettingsJsonString\": \"{\\\"path\\\":null,\\\"name\\\":\\\"automl_h2o_potability\\\",\\\"subscription_id\\\":\\\"1b944a9b-fdae-4f97-aeb1-b7eea0beac53\\\",\\\"resource_group\\\":\\\"aml-quickstarts-155676\\\",\\\"workspace_name\\\":\\\"quick-starts-ws-155676\\\",\\\"region\\\":\\\"southcentralus\\\",\\\"compute_target\\\":\\\"h2o-pred-cluster\\\",\\\"spark_service\\\":null,\\\"azure_service\\\":\\\"remote\\\",\\\"many_models\\\":false,\\\"pipeline_fetch_max_batch_size\\\":1,\\\"enable_batch_run\\\":false,\\\"enable_run_restructure\\\":false,\\\"start_auxiliary_runs_before_parent_complete\\\":false,\\\"enable_code_generation\\\":false,\\\"iterations\\\":1000,\\\"primary_metric\\\":\\\"AUC_weighted\\\",\\\"task_type\\\":\\\"classification\\\",\\\"data_script\\\":null,\\\"test_size\\\":0.0,\\\"validation_size\\\":0.0,\\\"n_cross_validations\\\":null,\\\"y_min\\\":null,\\\"y_max\\\":null,\\\"num_classes\\\":null,\\\"featurization\\\":\\\"auto\\\",\\\"_ignore_package_version_incompatibilities\\\":false,\\\"is_timeseries\\\":false,\\\"max_cores_per_iteration\\\":1,\\\"max_concurrent_iterations\\\":9,\\\"iteration_timeout_minutes\\\":null,\\\"mem_in_mb\\\":null,\\\"enforce_time_on_windows\\\":false,\\\"experiment_timeout_minutes\\\":60,\\\"experiment_exit_score\\\":null,\\\"whitelist_models\\\":null,\\\"blacklist_algos\\\":[\\\"TensorFlowLinearClassifier\\\",\\\"TensorFlowDNN\\\"],\\\"supported_models\\\":[\\\"XGBoostClassifier\\\",\\\"BernoulliNaiveBayes\\\",\\\"ExtremeRandomTrees\\\",\\\"GradientBoosting\\\",\\\"TensorFlowDNN\\\",\\\"TensorFlowLinearClassifier\\\",\\\"SVM\\\",\\\"LogisticRegression\\\",\\\"MultinomialNaiveBayes\\\",\\\"KNN\\\",\\\"LightGBM\\\",\\\"AveragedPerceptronClassifier\\\",\\\"DecisionTree\\\",\\\"LinearSVM\\\",\\\"SGD\\\",\\\"RandomForest\\\"],\\\"private_models\\\":[],\\\"auto_blacklist\\\":true,\\\"blacklist_samples_reached\\\":false,\\\"exclude_nan_labels\\\":true,\\\"verbosity\\\":20,\\\"_debug_log\\\":\\\"azureml_automl.log\\\",\\\"show_warnings\\\":false,\\\"model_explainability\\\":true,\\\"service_url\\\":null,\\\"sdk_url\\\":null,\\\"sdk_packages\\\":null,\\\"enable_onnx_compatible_models\\\":false,\\\"enable_split_onnx_featurizer_estimator_models\\\":false,\\\"vm_type\\\":\\\"STANDARD_D2_V2\\\",\\\"telemetry_verbosity\\\":20,\\\"send_telemetry\\\":true,\\\"enable_dnn\\\":false,\\\"scenario\\\":\\\"SDK-1.13.0\\\",\\\"environment_label\\\":null,\\\"save_mlflow\\\":false,\\\"force_text_dnn\\\":false,\\\"enable_feature_sweeping\\\":true,\\\"enable_early_stopping\\\":true,\\\"early_stopping_n_iters\\\":10,\\\"metrics\\\":null,\\\"enable_metric_confidence\\\":false,\\\"enable_ensembling\\\":true,\\\"enable_stack_ensembling\\\":true,\\\"ensemble_iterations\\\":15,\\\"enable_tf\\\":false,\\\"enable_subsampling\\\":null,\\\"subsample_seed\\\":null,\\\"enable_nimbusml\\\":false,\\\"enable_streaming\\\":false,\\\"force_streaming\\\":false,\\\"track_child_runs\\\":true,\\\"allowed_private_models\\\":[],\\\"label_column_name\\\":\\\"Potability\\\",\\\"weight_column_name\\\":null,\\\"cv_split_column_names\\\":null,\\\"enable_local_managed\\\":false,\\\"_local_managed_run_id\\\":null,\\\"cost_mode\\\":1,\\\"lag_length\\\":0,\\\"metric_operation\\\":\\\"maximize\\\",\\\"preprocess\\\":true}\", \"DataPrepJsonString\": \"{\\\\\\\"training_data\\\\\\\": {\\\\\\\"datasetId\\\\\\\": \\\\\\\"3f128479-57eb-4d4a-971b-b7c65ae9dda5\\\\\\\"}, \\\\\\\"datasets\\\\\\\": 0}\", \"EnableSubsampling\": null, \"runTemplate\": \"AutoML\", \"azureml.runsource\": \"automl\", \"display_task_type\": \"classification\", \"dependencies_versions\": \"{\\\"azureml-widgets\\\": \\\"1.33.0\\\", \\\"azureml-train\\\": \\\"1.33.0\\\", \\\"azureml-train-restclients-hyperdrive\\\": \\\"1.33.0\\\", \\\"azureml-train-core\\\": \\\"1.33.0\\\", \\\"azureml-train-automl\\\": \\\"1.33.0\\\", \\\"azureml-train-automl-runtime\\\": \\\"1.33.0\\\", \\\"azureml-train-automl-client\\\": \\\"1.33.0\\\", \\\"azureml-tensorboard\\\": \\\"1.33.0\\\", \\\"azureml-telemetry\\\": \\\"1.33.0\\\", \\\"azureml-sdk\\\": \\\"1.33.0\\\", \\\"azureml-samples\\\": \\\"0+unknown\\\", \\\"azureml-responsibleai\\\": \\\"1.33.0\\\", \\\"azureml-pipeline\\\": \\\"1.33.0\\\", \\\"azureml-pipeline-steps\\\": \\\"1.33.0\\\", \\\"azureml-pipeline-core\\\": \\\"1.33.0\\\", \\\"azureml-opendatasets\\\": \\\"1.33.0\\\", \\\"azureml-mlflow\\\": \\\"1.33.0\\\", \\\"azureml-interpret\\\": \\\"1.33.0\\\", \\\"azureml-explain-model\\\": \\\"1.33.0\\\", \\\"azureml-defaults\\\": \\\"1.33.0\\\", \\\"azureml-dataset-runtime\\\": \\\"1.33.0\\\", \\\"azureml-dataprep\\\": \\\"2.20.1\\\", \\\"azureml-dataprep-rslex\\\": \\\"1.18.0\\\", \\\"azureml-dataprep-native\\\": \\\"38.0.0\\\", \\\"azureml-datadrift\\\": \\\"1.33.0\\\", \\\"azureml-core\\\": \\\"1.33.0\\\", \\\"azureml-contrib-services\\\": \\\"1.33.0\\\", \\\"azureml-contrib-server\\\": \\\"1.33.0\\\", \\\"azureml-contrib-reinforcementlearning\\\": \\\"1.33.0\\\", \\\"azureml-contrib-pipeline-steps\\\": \\\"1.33.0\\\", \\\"azureml-contrib-notebook\\\": \\\"1.33.0\\\", \\\"azureml-contrib-fairness\\\": \\\"1.33.0\\\", \\\"azureml-contrib-dataset\\\": \\\"1.33.0\\\", \\\"azureml-cli-common\\\": \\\"1.33.0\\\", \\\"azureml-automl-runtime\\\": \\\"1.33.0\\\", \\\"azureml-automl-dnn-nlp\\\": \\\"1.33.0\\\", \\\"azureml-automl-core\\\": \\\"1.33.0\\\", \\\"azureml-accel-models\\\": \\\"1.33.0\\\"}\", \"_aml_system_scenario_identification\": \"Remote.Parent\", \"ClientType\": \"SDK\", \"environment_cpu_name\": \"AzureML-AutoML\", \"environment_cpu_label\": \"prod\", \"environment_gpu_name\": \"AzureML-AutoML-GPU\", \"environment_gpu_label\": \"prod\", \"root_attribution\": \"automl\", \"attribution\": \"AutoML\", \"Orchestrator\": \"AutoML\", \"CancelUri\": \"https://southcentralus.api.azureml.ms/jasmine/v1.0/subscriptions/1b944a9b-fdae-4f97-aeb1-b7eea0beac53/resourceGroups/aml-quickstarts-155676/providers/Microsoft.MachineLearningServices/workspaces/quick-starts-ws-155676/experimentids/e9cea0d2-67af-48de-a0ec-a217c6566662/cancel/AutoML_8e6a87a0-c720-4cd8-9e8d-c9e0bd592376\", \"ClientSdkVersion\": \"1.33.0\", \"snapshotId\": \"00000000-0000-0000-0000-000000000000\", \"SetupRunId\": \"AutoML_8e6a87a0-c720-4cd8-9e8d-c9e0bd592376_setup\", \"SetupRunContainerId\": \"dcid.AutoML_8e6a87a0-c720-4cd8-9e8d-c9e0bd592376_setup\", \"FeaturizationRunJsonPath\": \"featurizer_container.json\", \"FeaturizationRunId\": \"AutoML_8e6a87a0-c720-4cd8-9e8d-c9e0bd592376_featurize\", \"ProblemInfoJsonString\": \"{\\\"dataset_num_categorical\\\": 0, \\\"is_sparse\\\": false, \\\"subsampling\\\": false, \\\"has_extra_col\\\": true, \\\"dataset_classes\\\": 2, \\\"dataset_features\\\": 12, \\\"dataset_samples\\\": 3276, \\\"single_frequency_class_detected\\\": false}\", \"ModelExplainRunId\": \"AutoML_8e6a87a0-c720-4cd8-9e8d-c9e0bd592376_ModelExplain\"}, \"tags\": {\"model_explain_run\": \"best_run\", \"_aml_system_azureml.automlComponent\": \"AutoML\", \"pipeline_id\": \"\", \"score\": \"\", \"predicted_cost\": \"\", \"fit_time\": \"\", \"training_percent\": \"\", \"iteration\": \"\", \"run_preprocessor\": \"\", \"run_algorithm\": \"\", \"dynamic_whitelisting_iterations\": \"<22>;<30>;<35>;<40>;<43>;<50>;<55>;<59>;<64>;<70>;<74>;\", \"automl_best_child_run_id\": \"AutoML_8e6a87a0-c720-4cd8-9e8d-c9e0bd592376_80\", \"model_explain_best_run_child_id\": \"AutoML_8e6a87a0-c720-4cd8-9e8d-c9e0bd592376_80\"}, \"end_time_utc\": \"2021-08-24T22:19:28.069117Z\", \"status\": \"Completed\", \"log_files\": {}, \"log_groups\": [], \"run_duration\": \"0:26:27\", \"run_number\": \"1\", \"run_queued_details\": {\"status\": \"Completed\", \"details\": null}}, \"child_runs\": [{\"run_id\": \"AutoML_8e6a87a0-c720-4cd8-9e8d-c9e0bd592376_0\", \"run_number\": 5, \"metric\": null, \"status\": \"Completed\", \"run_type\": \"azureml.scriptrun\", \"training_percent\": \"100\", \"start_time\": \"2021-08-24T22:01:47.568673Z\", \"end_time\": \"2021-08-24T22:07:25.270876Z\", \"created_time\": \"2021-08-24T22:01:22.905312Z\", \"created_time_dt\": \"2021-08-24T22:01:22.905312Z\", \"duration\": \"0:06:02\", \"iteration\": \"0\", \"goal\": \"AUC_weighted_max\", \"run_name\": \"MaxAbsScaler, LightGBM\", \"run_properties\": \"copy=True\", \"primary_metric\": 0.65503923, \"best_metric\": 0.65503923}, {\"run_id\": \"AutoML_8e6a87a0-c720-4cd8-9e8d-c9e0bd592376_1\", \"run_number\": 6, \"metric\": null, \"status\": \"Completed\", \"run_type\": \"azureml.scriptrun\", \"training_percent\": \"100\", \"start_time\": \"2021-08-24T22:01:42.882887Z\", \"end_time\": \"2021-08-24T22:02:25.168881Z\", \"created_time\": \"2021-08-24T22:01:22.913118Z\", \"created_time_dt\": \"2021-08-24T22:01:22.913118Z\", \"duration\": \"0:01:02\", \"iteration\": \"1\", \"goal\": \"AUC_weighted_max\", \"run_name\": \"MaxAbsScaler, XGBoostClassifier\", \"run_properties\": \"copy=True\", \"primary_metric\": 0.63382192, \"best_metric\": 0.65503923}, {\"run_id\": \"AutoML_8e6a87a0-c720-4cd8-9e8d-c9e0bd592376_2\", \"run_number\": 7, \"metric\": null, \"status\": \"Completed\", \"run_type\": \"azureml.scriptrun\", \"training_percent\": \"100\", \"start_time\": \"2021-08-24T22:01:48.385063Z\", \"end_time\": \"2021-08-24T22:07:25.60399Z\", \"created_time\": \"2021-08-24T22:01:22.917216Z\", \"created_time_dt\": \"2021-08-24T22:01:22.917216Z\", \"duration\": \"0:06:02\", \"iteration\": \"2\", \"goal\": \"AUC_weighted_max\", \"run_name\": \"MaxAbsScaler, ExtremeRandomTrees\", \"run_properties\": \"copy=True\", \"primary_metric\": 0.59278558, \"best_metric\": 0.65503923}, {\"run_id\": \"AutoML_8e6a87a0-c720-4cd8-9e8d-c9e0bd592376_3\", \"run_number\": 8, \"metric\": null, \"status\": \"Completed\", \"run_type\": \"azureml.scriptrun\", \"training_percent\": \"100\", \"start_time\": \"2021-08-24T22:01:47.31746Z\", \"end_time\": \"2021-08-24T22:07:25.814427Z\", \"created_time\": \"2021-08-24T22:01:22.92471Z\", \"created_time_dt\": \"2021-08-24T22:01:22.92471Z\", \"duration\": \"0:06:02\", \"iteration\": \"3\", \"goal\": \"AUC_weighted_max\", \"run_name\": \"MaxAbsScaler, RandomForest\", \"run_properties\": \"copy=True\", \"primary_metric\": 0.60439497, \"best_metric\": 0.65503923}, {\"run_id\": \"AutoML_8e6a87a0-c720-4cd8-9e8d-c9e0bd592376_8\", \"run_number\": 9, \"metric\": null, \"status\": \"Completed\", \"run_type\": \"azureml.scriptrun\", \"training_percent\": \"100\", \"start_time\": \"2021-08-24T22:01:46.599779Z\", \"end_time\": \"2021-08-24T22:07:25.619886Z\", \"created_time\": \"2021-08-24T22:01:22.926143Z\", \"created_time_dt\": \"2021-08-24T22:01:22.926143Z\", \"duration\": \"0:06:02\", \"iteration\": \"8\", \"goal\": \"AUC_weighted_max\", \"run_name\": \"RobustScaler, KNN\", \"run_properties\": \"copy=True, quantile_range=[25, 75], with_centering=False,\\n             with_scaling=True\", \"primary_metric\": 0.65008207, \"best_metric\": 0.65503923}, {\"run_id\": \"AutoML_8e6a87a0-c720-4cd8-9e8d-c9e0bd592376_5\", \"run_number\": 10, \"metric\": null, \"status\": \"Completed\", \"run_type\": \"azureml.scriptrun\", \"training_percent\": \"100\", \"start_time\": \"2021-08-24T22:01:47.633576Z\", \"end_time\": \"2021-08-24T22:07:26.047727Z\", \"created_time\": \"2021-08-24T22:01:22.937578Z\", \"created_time_dt\": \"2021-08-24T22:01:22.937578Z\", \"duration\": \"0:06:03\", \"iteration\": \"5\", \"goal\": \"AUC_weighted_max\", \"run_name\": \"StandardScalerWrapper, KNN\", \"run_properties\": \"\\n    copy=True,\\n    with_mean=True,\\n    with_std=False\\n\", \"primary_metric\": 0.50779797, \"best_metric\": 0.65503923}, {\"run_id\": \"AutoML_8e6a87a0-c720-4cd8-9e8d-c9e0bd592376_6\", \"run_number\": 11, \"metric\": null, \"status\": \"Completed\", \"run_type\": \"azureml.scriptrun\", \"training_percent\": \"100\", \"start_time\": \"2021-08-24T22:01:47.059262Z\", \"end_time\": \"2021-08-24T22:07:26.247335Z\", \"created_time\": \"2021-08-24T22:01:22.926077Z\", \"created_time_dt\": \"2021-08-24T22:01:22.926077Z\", \"duration\": \"0:06:03\", \"iteration\": \"6\", \"goal\": \"AUC_weighted_max\", \"run_name\": \"SparseNormalizer, XGBoostClassifier\", \"run_properties\": \"copy=True, norm='max'\", \"primary_metric\": 0.57586206, \"best_metric\": 0.65503923}, {\"run_id\": \"AutoML_8e6a87a0-c720-4cd8-9e8d-c9e0bd592376_7\", \"run_number\": 12, \"metric\": null, \"status\": \"Completed\", \"run_type\": \"azureml.scriptrun\", \"training_percent\": \"100\", \"start_time\": \"2021-08-24T22:01:48.24154Z\", \"end_time\": \"2021-08-24T22:07:27.943146Z\", \"created_time\": \"2021-08-24T22:01:22.927963Z\", \"created_time_dt\": \"2021-08-24T22:01:22.927963Z\", \"duration\": \"0:06:05\", \"iteration\": \"7\", \"goal\": \"AUC_weighted_max\", \"run_name\": \"SparseNormalizer, RandomForest\", \"run_properties\": \"copy=True, norm='l2'\", \"primary_metric\": 0.57945001, \"best_metric\": 0.65503923}, {\"run_id\": \"AutoML_8e6a87a0-c720-4cd8-9e8d-c9e0bd592376_4\", \"run_number\": 13, \"metric\": null, \"status\": \"Completed\", \"run_type\": \"azureml.scriptrun\", \"training_percent\": \"100\", \"start_time\": \"2021-08-24T22:01:48.40585Z\", \"end_time\": \"2021-08-24T22:07:27.998743Z\", \"created_time\": \"2021-08-24T22:01:22.929343Z\", \"created_time_dt\": \"2021-08-24T22:01:22.929343Z\", \"duration\": \"0:06:05\", \"iteration\": \"4\", \"goal\": \"AUC_weighted_max\", \"run_name\": \"StandardScalerWrapper, LightGBM\", \"run_properties\": \"\\n    copy=True,\\n    with_mean=False,\\n    with_std=True\\n\", \"primary_metric\": 0.59396884, \"best_metric\": 0.65503923}, {\"run_id\": \"AutoML_8e6a87a0-c720-4cd8-9e8d-c9e0bd592376_9\", \"run_number\": 14, \"metric\": null, \"status\": \"Completed\", \"run_type\": \"azureml.scriptrun\", \"training_percent\": \"100\", \"start_time\": \"2021-08-24T22:02:45.141599Z\", \"end_time\": \"2021-08-24T22:03:29.050297Z\", \"created_time\": \"2021-08-24T22:02:26.844977Z\", \"created_time_dt\": \"2021-08-24T22:02:26.844977Z\", \"duration\": \"0:01:02\", \"iteration\": \"9\", \"goal\": \"AUC_weighted_max\", \"run_name\": \"MinMaxScaler, RandomForest\", \"run_properties\": \"copy=True, feature_range=(0, 1\", \"primary_metric\": 0.60641667, \"best_metric\": 0.65503923}, {\"run_id\": \"AutoML_8e6a87a0-c720-4cd8-9e8d-c9e0bd592376_10\", \"run_number\": 15, \"metric\": null, \"status\": \"Completed\", \"run_type\": \"azureml.scriptrun\", \"training_percent\": \"100\", \"start_time\": \"2021-08-24T22:03:43.251608Z\", \"end_time\": \"2021-08-24T22:04:35.16422Z\", \"created_time\": \"2021-08-24T22:03:32.774958Z\", \"created_time_dt\": \"2021-08-24T22:03:32.774958Z\", \"duration\": \"0:01:02\", \"iteration\": \"10\", \"goal\": \"AUC_weighted_max\", \"run_name\": \"StandardScalerWrapper, LogisticRegression\", \"run_properties\": \"\\n    copy=True,\\n    with_mean=True,\\n    with_std=True\\n\", \"primary_metric\": 0.49879939, \"best_metric\": 0.65503923}, {\"run_id\": \"AutoML_8e6a87a0-c720-4cd8-9e8d-c9e0bd592376_11\", \"run_number\": 16, \"metric\": null, \"status\": \"Completed\", \"run_type\": \"azureml.scriptrun\", \"training_percent\": \"100\", \"start_time\": \"2021-08-24T22:04:59.783794Z\", \"end_time\": \"2021-08-24T22:07:41.150482Z\", \"created_time\": \"2021-08-24T22:04:39.090411Z\", \"created_time_dt\": \"2021-08-24T22:04:39.090411Z\", \"duration\": \"0:03:02\", \"iteration\": \"11\", \"goal\": \"AUC_weighted_max\", \"run_name\": \"StandardScalerWrapper, SVM\", \"run_properties\": \"\\n    copy=True,\\n    with_mean=True,\\n    with_std=True\\n\", \"primary_metric\": 0.62515421, \"best_metric\": 0.65503923}, {\"run_id\": \"AutoML_8e6a87a0-c720-4cd8-9e8d-c9e0bd592376_13\", \"run_number\": 17, \"metric\": null, \"status\": \"Completed\", \"run_type\": \"azureml.scriptrun\", \"training_percent\": \"100\", \"start_time\": \"2021-08-24T22:07:48.911549Z\", \"end_time\": \"2021-08-24T22:08:33.830959Z\", \"created_time\": \"2021-08-24T22:07:29.300332Z\", \"created_time_dt\": \"2021-08-24T22:07:29.300332Z\", \"duration\": \"0:01:04\", \"iteration\": \"13\", \"goal\": \"AUC_weighted_max\", \"run_name\": \"SparseNormalizer, KNN\", \"run_properties\": \"copy=True, norm='max'\", \"primary_metric\": 0.53775332, \"best_metric\": 0.65503923}, {\"run_id\": \"AutoML_8e6a87a0-c720-4cd8-9e8d-c9e0bd592376_15\", \"run_number\": 18, \"metric\": null, \"status\": \"Completed\", \"run_type\": \"azureml.scriptrun\", \"training_percent\": \"100\", \"start_time\": \"2021-08-24T22:07:50.049453Z\", \"end_time\": \"2021-08-24T22:08:31.602753Z\", \"created_time\": \"2021-08-24T22:07:29.315835Z\", \"created_time_dt\": \"2021-08-24T22:07:29.315835Z\", \"duration\": \"0:01:02\", \"iteration\": \"15\", \"goal\": \"AUC_weighted_max\", \"run_name\": \"SparseNormalizer, XGBoostClassifier\", \"run_properties\": \"copy=True, norm='max'\", \"primary_metric\": 0.58466324, \"best_metric\": 0.65503923}, {\"run_id\": \"AutoML_8e6a87a0-c720-4cd8-9e8d-c9e0bd592376_12\", \"run_number\": 19, \"metric\": null, \"status\": \"Completed\", \"run_type\": \"azureml.scriptrun\", \"training_percent\": \"100\", \"start_time\": \"2021-08-24T22:07:49.070482Z\", \"end_time\": \"2021-08-24T22:08:32.177555Z\", \"created_time\": \"2021-08-24T22:07:29.299454Z\", \"created_time_dt\": \"2021-08-24T22:07:29.299454Z\", \"duration\": \"0:01:02\", \"iteration\": \"12\", \"goal\": \"AUC_weighted_max\", \"run_name\": \"StandardScalerWrapper, XGBoostClassifier\", \"run_properties\": \"\\n    copy=True,\\n    with_mean=False,\\n    with_std=False\\n\", \"primary_metric\": 0.57317411, \"best_metric\": 0.65503923}, {\"run_id\": \"AutoML_8e6a87a0-c720-4cd8-9e8d-c9e0bd592376_14\", \"run_number\": 20, \"metric\": null, \"status\": \"Completed\", \"run_type\": \"azureml.scriptrun\", \"training_percent\": \"100\", \"start_time\": \"2021-08-24T22:07:48.979357Z\", \"end_time\": \"2021-08-24T22:08:34.558062Z\", \"created_time\": \"2021-08-24T22:07:29.300999Z\", \"created_time_dt\": \"2021-08-24T22:07:29.300999Z\", \"duration\": \"0:01:05\", \"iteration\": \"14\", \"goal\": \"AUC_weighted_max\", \"run_name\": \"RobustScaler, ExtremeRandomTrees\", \"run_properties\": \"copy=True, quantile_range=[10, 90], with_centering=True,\\n             with_scaling=False\", \"primary_metric\": 0.58183406, \"best_metric\": 0.65503923}, {\"run_id\": \"AutoML_8e6a87a0-c720-4cd8-9e8d-c9e0bd592376_18\", \"run_number\": 21, \"metric\": null, \"status\": \"Completed\", \"run_type\": \"azureml.scriptrun\", \"training_percent\": \"100\", \"start_time\": \"2021-08-24T22:07:56.118776Z\", \"end_time\": \"2021-08-24T22:08:39.577116Z\", \"created_time\": \"2021-08-24T22:07:37.449134Z\", \"created_time_dt\": \"2021-08-24T22:07:37.449134Z\", \"duration\": \"0:01:02\", \"iteration\": \"18\", \"goal\": \"AUC_weighted_max\", \"run_name\": \"SparseNormalizer, LightGBM\", \"run_properties\": \"copy=True, norm='l1'\", \"primary_metric\": 0.56252712, \"best_metric\": 0.65503923}, {\"run_id\": \"AutoML_8e6a87a0-c720-4cd8-9e8d-c9e0bd592376_19\", \"run_number\": 22, \"metric\": null, \"status\": \"Completed\", \"run_type\": \"azureml.scriptrun\", \"training_percent\": \"100\", \"start_time\": \"2021-08-24T22:07:56.954863Z\", \"end_time\": \"2021-08-24T22:09:40.02588Z\", \"created_time\": \"2021-08-24T22:07:37.468492Z\", \"created_time_dt\": \"2021-08-24T22:07:37.468492Z\", \"duration\": \"0:02:02\", \"iteration\": \"19\", \"goal\": \"AUC_weighted_max\", \"run_name\": \"MaxAbsScaler, ExtremeRandomTrees\", \"run_properties\": \"copy=True\", \"primary_metric\": 0.60594441, \"best_metric\": 0.65503923}, {\"run_id\": \"AutoML_8e6a87a0-c720-4cd8-9e8d-c9e0bd592376_16\", \"run_number\": 23, \"metric\": null, \"status\": \"Completed\", \"run_type\": \"azureml.scriptrun\", \"training_percent\": \"100\", \"start_time\": \"2021-08-24T22:07:56.018199Z\", \"end_time\": \"2021-08-24T22:08:40.455144Z\", \"created_time\": \"2021-08-24T22:07:37.451142Z\", \"created_time_dt\": \"2021-08-24T22:07:37.451142Z\", \"duration\": \"0:01:03\", \"iteration\": \"16\", \"goal\": \"AUC_weighted_max\", \"run_name\": \"MinMaxScaler, ExtremeRandomTrees\", \"run_properties\": \"copy=True, feature_range=(0, 1\", \"primary_metric\": 0.61829168, \"best_metric\": 0.65503923}, {\"run_id\": \"AutoML_8e6a87a0-c720-4cd8-9e8d-c9e0bd592376_17\", \"run_number\": 24, \"metric\": null, \"status\": \"Completed\", \"run_type\": \"azureml.scriptrun\", \"training_percent\": \"100\", \"start_time\": \"2021-08-24T22:07:49.837161Z\", \"end_time\": \"2021-08-24T22:08:42.268894Z\", \"created_time\": \"2021-08-24T22:07:37.451696Z\", \"created_time_dt\": \"2021-08-24T22:07:37.451696Z\", \"duration\": \"0:01:04\", \"iteration\": \"17\", \"goal\": \"AUC_weighted_max\", \"run_name\": \"MinMaxScaler, ExtremeRandomTrees\", \"run_properties\": \"copy=True, feature_range=(0, 1\", \"primary_metric\": 0.64567944, \"best_metric\": 0.65503923}, {\"run_id\": \"AutoML_8e6a87a0-c720-4cd8-9e8d-c9e0bd592376_20\", \"run_number\": 25, \"metric\": null, \"status\": \"Completed\", \"run_type\": \"azureml.scriptrun\", \"training_percent\": \"100\", \"start_time\": \"2021-08-24T22:08:05.192492Z\", \"end_time\": \"2021-08-24T22:08:46.628139Z\", \"created_time\": \"2021-08-24T22:07:44.918685Z\", \"created_time_dt\": \"2021-08-24T22:07:44.918685Z\", \"duration\": \"0:01:01\", \"iteration\": \"20\", \"goal\": \"AUC_weighted_max\", \"run_name\": \"StandardScalerWrapper, XGBoostClassifier\", \"run_properties\": \"\\n    copy=True,\\n    with_mean=False,\\n    with_std=False\\n\", \"primary_metric\": 0.63641972, \"best_metric\": 0.65503923}, {\"run_id\": \"AutoML_8e6a87a0-c720-4cd8-9e8d-c9e0bd592376_21\", \"run_number\": 26, \"metric\": null, \"status\": \"Completed\", \"run_type\": \"azureml.scriptrun\", \"training_percent\": \"100\", \"start_time\": \"2021-08-24T22:08:58.300343Z\", \"end_time\": \"2021-08-24T22:09:40.871767Z\", \"created_time\": \"2021-08-24T22:08:35.478554Z\", \"created_time_dt\": \"2021-08-24T22:08:35.478554Z\", \"duration\": \"0:01:05\", \"iteration\": \"21\", \"goal\": \"AUC_weighted_max\", \"run_name\": \"StandardScalerWrapper, RandomForest\", \"run_properties\": \"\\n    copy=True,\\n    with_mean=False,\\n    with_std=False\\n\", \"primary_metric\": 0.65819522, \"best_metric\": 0.65819522}, {\"run_id\": \"AutoML_8e6a87a0-c720-4cd8-9e8d-c9e0bd592376_22\", \"run_number\": 27, \"metric\": null, \"status\": \"Completed\", \"run_type\": \"azureml.scriptrun\", \"training_percent\": \"100\", \"start_time\": \"2021-08-24T22:09:03.219617Z\", \"end_time\": \"2021-08-24T22:09:46.83246Z\", \"created_time\": \"2021-08-24T22:08:45.00397Z\", \"created_time_dt\": \"2021-08-24T22:08:45.00397Z\", \"duration\": \"0:01:01\", \"iteration\": \"22\", \"goal\": \"AUC_weighted_max\", \"run_name\": \"MaxAbsScaler, LightGBM\", \"run_properties\": \"copy=True\", \"primary_metric\": 0.63823277, \"best_metric\": 0.65819522}, {\"run_id\": \"AutoML_8e6a87a0-c720-4cd8-9e8d-c9e0bd592376_24\", \"run_number\": 28, \"metric\": null, \"status\": \"Completed\", \"run_type\": \"azureml.scriptrun\", \"training_percent\": \"100\", \"start_time\": \"2021-08-24T22:09:01.293108Z\", \"end_time\": \"2021-08-24T22:09:46.952705Z\", \"created_time\": \"2021-08-24T22:08:45.055063Z\", \"created_time_dt\": \"2021-08-24T22:08:45.055063Z\", \"duration\": \"0:01:01\", \"iteration\": \"24\", \"goal\": \"AUC_weighted_max\", \"run_name\": \"StandardScalerWrapper, ExtremeRandomTrees\", \"run_properties\": \"\\n    copy=True,\\n    with_mean=False,\\n    with_std=True\\n\", \"primary_metric\": 0.64571582, \"best_metric\": 0.65819522}, {\"run_id\": \"AutoML_8e6a87a0-c720-4cd8-9e8d-c9e0bd592376_25\", \"run_number\": 29, \"metric\": null, \"status\": \"Completed\", \"run_type\": \"azureml.scriptrun\", \"training_percent\": \"100\", \"start_time\": \"2021-08-24T22:09:04.318178Z\", \"end_time\": \"2021-08-24T22:09:48.054342Z\", \"created_time\": \"2021-08-24T22:08:45.06736Z\", \"created_time_dt\": \"2021-08-24T22:08:45.06736Z\", \"duration\": \"0:01:02\", \"iteration\": \"25\", \"goal\": \"AUC_weighted_max\", \"run_name\": \"StandardScalerWrapper, XGBoostClassifier\", \"run_properties\": \"\\n    copy=True,\\n    with_mean=False,\\n    with_std=False\\n\", \"primary_metric\": 0.65457486, \"best_metric\": 0.65819522}, {\"run_id\": \"AutoML_8e6a87a0-c720-4cd8-9e8d-c9e0bd592376_23\", \"run_number\": 30, \"metric\": null, \"status\": \"Completed\", \"run_type\": \"azureml.scriptrun\", \"training_percent\": \"100\", \"start_time\": \"2021-08-24T22:09:04.202155Z\", \"end_time\": \"2021-08-24T22:09:47.840154Z\", \"created_time\": \"2021-08-24T22:08:45.056981Z\", \"created_time_dt\": \"2021-08-24T22:08:45.056981Z\", \"duration\": \"0:01:02\", \"iteration\": \"23\", \"goal\": \"AUC_weighted_max\", \"run_name\": \"MaxAbsScaler, LogisticRegression\", \"run_properties\": \"copy=True\", \"primary_metric\": 0.49927092, \"best_metric\": 0.65819522}, {\"run_id\": \"AutoML_8e6a87a0-c720-4cd8-9e8d-c9e0bd592376_28\", \"run_number\": 31, \"metric\": null, \"status\": \"Completed\", \"run_type\": \"azureml.scriptrun\", \"training_percent\": \"100\", \"start_time\": \"2021-08-24T22:09:08.357567Z\", \"end_time\": \"2021-08-24T22:09:52.941298Z\", \"created_time\": \"2021-08-24T22:08:51.120412Z\", \"created_time_dt\": \"2021-08-24T22:08:51.120412Z\", \"duration\": \"0:01:01\", \"iteration\": \"28\", \"goal\": \"AUC_weighted_max\", \"run_name\": \"StandardScalerWrapper, XGBoostClassifier\", \"run_properties\": \"\\n    copy=True,\\n    with_mean=False,\\n    with_std=False\\n\", \"primary_metric\": 0.65076166, \"best_metric\": 0.65819522}, {\"run_id\": \"AutoML_8e6a87a0-c720-4cd8-9e8d-c9e0bd592376_26\", \"run_number\": 32, \"metric\": null, \"status\": \"Completed\", \"run_type\": \"azureml.scriptrun\", \"training_percent\": \"100\", \"start_time\": \"2021-08-24T22:09:08.351257Z\", \"end_time\": \"2021-08-24T22:09:53.340414Z\", \"created_time\": \"2021-08-24T22:08:51.116921Z\", \"created_time_dt\": \"2021-08-24T22:08:51.116921Z\", \"duration\": \"0:01:02\", \"iteration\": \"26\", \"goal\": \"AUC_weighted_max\", \"run_name\": \"MaxAbsScaler, LogisticRegression\", \"run_properties\": \"copy=True\", \"primary_metric\": 0.49878289, \"best_metric\": 0.65819522}, {\"run_id\": \"AutoML_8e6a87a0-c720-4cd8-9e8d-c9e0bd592376_27\", \"run_number\": 33, \"metric\": null, \"status\": \"Completed\", \"run_type\": \"azureml.scriptrun\", \"training_percent\": \"100\", \"start_time\": \"2021-08-24T22:09:10.325995Z\", \"end_time\": \"2021-08-24T22:10:53.952842Z\", \"created_time\": \"2021-08-24T22:08:51.117716Z\", \"created_time_dt\": \"2021-08-24T22:08:51.117716Z\", \"duration\": \"0:02:02\", \"iteration\": \"27\", \"goal\": \"AUC_weighted_max\", \"run_name\": \"StandardScalerWrapper, XGBoostClassifier\", \"run_properties\": \"\\n    copy=True,\\n    with_mean=False,\\n    with_std=False\\n\", \"primary_metric\": 0.6486275, \"best_metric\": 0.65819522}, {\"run_id\": \"AutoML_8e6a87a0-c720-4cd8-9e8d-c9e0bd592376_29\", \"run_number\": 34, \"metric\": null, \"status\": \"Completed\", \"run_type\": \"azureml.scriptrun\", \"training_percent\": \"100\", \"start_time\": \"2021-08-24T22:10:03.372036Z\", \"end_time\": \"2021-08-24T22:10:46.143215Z\", \"created_time\": \"2021-08-24T22:09:43.834142Z\", \"created_time_dt\": \"2021-08-24T22:09:43.834142Z\", \"duration\": \"0:01:02\", \"iteration\": \"29\", \"goal\": \"AUC_weighted_max\", \"run_name\": \"MaxAbsScaler, RandomForest\", \"run_properties\": \"copy=True\", \"primary_metric\": 0.58353033, \"best_metric\": 0.65819522}, {\"run_id\": \"AutoML_8e6a87a0-c720-4cd8-9e8d-c9e0bd592376_30\", \"run_number\": 35, \"metric\": null, \"status\": \"Completed\", \"run_type\": \"azureml.scriptrun\", \"training_percent\": \"100\", \"start_time\": \"2021-08-24T22:10:06.535641Z\", \"end_time\": \"2021-08-24T22:10:50.174021Z\", \"created_time\": \"2021-08-24T22:09:48.007342Z\", \"created_time_dt\": \"2021-08-24T22:09:48.007342Z\", \"duration\": \"0:01:02\", \"iteration\": \"30\", \"goal\": \"AUC_weighted_max\", \"run_name\": \"StandardScalerWrapper, RandomForest\", \"run_properties\": \"\\n    copy=True,\\n    with_mean=False,\\n    with_std=True\\n\", \"primary_metric\": 0.50265845, \"best_metric\": 0.65819522}, {\"run_id\": \"AutoML_8e6a87a0-c720-4cd8-9e8d-c9e0bd592376_31\", \"run_number\": 36, \"metric\": null, \"status\": \"Completed\", \"run_type\": \"azureml.scriptrun\", \"training_percent\": \"100\", \"start_time\": \"2021-08-24T22:10:09.650766Z\", \"end_time\": \"2021-08-24T22:11:53.6568Z\", \"created_time\": \"2021-08-24T22:09:51.432527Z\", \"created_time_dt\": \"2021-08-24T22:09:51.432527Z\", \"duration\": \"0:02:02\", \"iteration\": \"31\", \"goal\": \"AUC_weighted_max\", \"run_name\": \"StandardScalerWrapper, SVM\", \"run_properties\": \"\\n    copy=True,\\n    with_mean=False,\\n    with_std=True\\n\", \"primary_metric\": 0.60774548, \"best_metric\": 0.65819522}, {\"run_id\": \"AutoML_8e6a87a0-c720-4cd8-9e8d-c9e0bd592376_33\", \"run_number\": 37, \"metric\": null, \"status\": \"Completed\", \"run_type\": \"azureml.scriptrun\", \"training_percent\": \"100\", \"start_time\": \"2021-08-24T22:10:09.649065Z\", \"end_time\": \"2021-08-24T22:11:54.124843Z\", \"created_time\": \"2021-08-24T22:09:51.45196Z\", \"created_time_dt\": \"2021-08-24T22:09:51.45196Z\", \"duration\": \"0:02:02\", \"iteration\": \"33\", \"goal\": \"AUC_weighted_max\", \"run_name\": \"StandardScalerWrapper, SVM\", \"run_properties\": \"\\n    copy=True,\\n    with_mean=False,\\n    with_std=True\\n\", \"primary_metric\": 0.63183745, \"best_metric\": 0.66526231}, {\"run_id\": \"AutoML_8e6a87a0-c720-4cd8-9e8d-c9e0bd592376_32\", \"run_number\": 38, \"metric\": null, \"status\": \"Completed\", \"run_type\": \"azureml.scriptrun\", \"training_percent\": \"100\", \"start_time\": \"2021-08-24T22:10:09.527532Z\", \"end_time\": \"2021-08-24T22:11:54.286755Z\", \"created_time\": \"2021-08-24T22:09:51.450986Z\", \"created_time_dt\": \"2021-08-24T22:09:51.450986Z\", \"duration\": \"0:02:02\", \"iteration\": \"32\", \"goal\": \"AUC_weighted_max\", \"run_name\": \"RobustScaler, SVM\", \"run_properties\": \"copy=True, quantile_range=[10, 90], with_centering=False,\\n             with_scaling=True\", \"primary_metric\": 0.66526231, \"best_metric\": 0.66526231}, {\"run_id\": \"AutoML_8e6a87a0-c720-4cd8-9e8d-c9e0bd592376_34\", \"run_number\": 39, \"metric\": null, \"status\": \"Completed\", \"run_type\": \"azureml.scriptrun\", \"training_percent\": \"100\", \"start_time\": \"2021-08-24T22:10:09.66725Z\", \"end_time\": \"2021-08-24T22:11:54.971331Z\", \"created_time\": \"2021-08-24T22:09:51.458524Z\", \"created_time_dt\": \"2021-08-24T22:09:51.458524Z\", \"duration\": \"0:02:03\", \"iteration\": \"34\", \"goal\": \"AUC_weighted_max\", \"run_name\": \"StandardScalerWrapper, SVM\", \"run_properties\": \"\\n    copy=True,\\n    with_mean=False,\\n    with_std=True\\n\", \"primary_metric\": 0.66511698, \"best_metric\": 0.66526231}, {\"run_id\": \"AutoML_8e6a87a0-c720-4cd8-9e8d-c9e0bd592376_36\", \"run_number\": 40, \"metric\": null, \"status\": \"Completed\", \"run_type\": \"azureml.scriptrun\", \"training_percent\": \"100\", \"start_time\": \"2021-08-24T22:10:15.511093Z\", \"end_time\": \"2021-08-24T22:10:57.835282Z\", \"created_time\": \"2021-08-24T22:09:56.186664Z\", \"created_time_dt\": \"2021-08-24T22:09:56.186664Z\", \"duration\": \"0:01:01\", \"iteration\": \"36\", \"goal\": \"AUC_weighted_max\", \"run_name\": \"MinMaxScaler, LogisticRegression\", \"run_properties\": \"copy=True, feature_range=(0, 1\", \"primary_metric\": 0.49727162, \"best_metric\": 0.66526231}, {\"run_id\": \"AutoML_8e6a87a0-c720-4cd8-9e8d-c9e0bd592376_35\", \"run_number\": 41, \"metric\": null, \"status\": \"Completed\", \"run_type\": \"azureml.scriptrun\", \"training_percent\": \"100\", \"start_time\": \"2021-08-24T22:10:15.554621Z\", \"end_time\": \"2021-08-24T22:10:58.178195Z\", \"created_time\": \"2021-08-24T22:09:56.208901Z\", \"created_time_dt\": \"2021-08-24T22:09:56.208901Z\", \"duration\": \"0:01:01\", \"iteration\": \"35\", \"goal\": \"AUC_weighted_max\", \"run_name\": \"StandardScalerWrapper, RandomForest\", \"run_properties\": \"\\n    copy=True,\\n    with_mean=True,\\n    with_std=False\\n\", \"primary_metric\": 0.49493536, \"best_metric\": 0.66526231}, {\"run_id\": \"AutoML_8e6a87a0-c720-4cd8-9e8d-c9e0bd592376_37\", \"run_number\": 42, \"metric\": null, \"status\": \"Completed\", \"run_type\": \"azureml.scriptrun\", \"training_percent\": \"100\", \"start_time\": \"2021-08-24T22:11:07.646365Z\", \"end_time\": \"2021-08-24T22:11:49.72958Z\", \"created_time\": \"2021-08-24T22:10:47.915258Z\", \"created_time_dt\": \"2021-08-24T22:10:47.915258Z\", \"duration\": \"0:01:01\", \"iteration\": \"37\", \"goal\": \"AUC_weighted_max\", \"run_name\": \"RobustScaler, LogisticRegression\", \"run_properties\": \"copy=True, quantile_range=[10, 90], with_centering=False,\\n             with_scaling=True\", \"primary_metric\": 0.49927572, \"best_metric\": 0.66526231}, {\"run_id\": \"AutoML_8e6a87a0-c720-4cd8-9e8d-c9e0bd592376_38\", \"run_number\": 43, \"metric\": null, \"status\": \"Completed\", \"run_type\": \"azureml.scriptrun\", \"training_percent\": \"100\", \"start_time\": \"2021-08-24T22:11:08.645082Z\", \"end_time\": \"2021-08-24T22:12:54.196496Z\", \"created_time\": \"2021-08-24T22:10:51.879252Z\", \"created_time_dt\": \"2021-08-24T22:10:51.879252Z\", \"duration\": \"0:02:02\", \"iteration\": \"38\", \"goal\": \"AUC_weighted_max\", \"run_name\": \"StandardScalerWrapper, SVM\", \"run_properties\": \"\\n    copy=True,\\n    with_mean=False,\\n    with_std=True\\n\", \"primary_metric\": 0.6558438, \"best_metric\": 0.66526231}, {\"run_id\": \"AutoML_8e6a87a0-c720-4cd8-9e8d-c9e0bd592376_39\", \"run_number\": 44, \"metric\": null, \"status\": \"Completed\", \"run_type\": \"azureml.scriptrun\", \"training_percent\": \"100\", \"start_time\": \"2021-08-24T22:11:14.742133Z\", \"end_time\": \"2021-08-24T22:11:57.677842Z\", \"created_time\": \"2021-08-24T22:10:55.795102Z\", \"created_time_dt\": \"2021-08-24T22:10:55.795102Z\", \"duration\": \"0:01:01\", \"iteration\": \"39\", \"goal\": \"AUC_weighted_max\", \"run_name\": \"MinMaxScaler, LightGBM\", \"run_properties\": \"copy=True, feature_range=(0, 1\", \"primary_metric\": 0.65020921, \"best_metric\": 0.66526231}, {\"run_id\": \"AutoML_8e6a87a0-c720-4cd8-9e8d-c9e0bd592376_40\", \"run_number\": 45, \"metric\": null, \"status\": \"Completed\", \"run_type\": \"azureml.scriptrun\", \"training_percent\": \"100\", \"start_time\": \"2021-08-24T22:11:17.7848Z\", \"end_time\": \"2021-08-24T22:12:02.309636Z\", \"created_time\": \"2021-08-24T22:11:00.564982Z\", \"created_time_dt\": \"2021-08-24T22:11:00.564982Z\", \"duration\": \"0:01:01\", \"iteration\": \"40\", \"goal\": \"AUC_weighted_max\", \"run_name\": \"StandardScalerWrapper, RandomForest\", \"run_properties\": \"\\n    copy=True,\\n    with_mean=False,\\n    with_std=True\\n\", \"primary_metric\": 0.50289066, \"best_metric\": 0.66526231}, {\"run_id\": \"AutoML_8e6a87a0-c720-4cd8-9e8d-c9e0bd592376_41\", \"run_number\": 46, \"metric\": null, \"status\": \"Completed\", \"run_type\": \"azureml.scriptrun\", \"training_percent\": \"100\", \"start_time\": \"2021-08-24T22:11:20.795621Z\", \"end_time\": \"2021-08-24T22:12:05.441623Z\", \"created_time\": \"2021-08-24T22:11:03.238695Z\", \"created_time_dt\": \"2021-08-24T22:11:03.238695Z\", \"duration\": \"0:01:02\", \"iteration\": \"41\", \"goal\": \"AUC_weighted_max\", \"run_name\": \"MaxAbsScaler, LightGBM\", \"run_properties\": \"copy=True\", \"primary_metric\": 0.63084811, \"best_metric\": 0.66526231}, {\"run_id\": \"AutoML_8e6a87a0-c720-4cd8-9e8d-c9e0bd592376_42\", \"run_number\": 47, \"metric\": null, \"status\": \"Completed\", \"run_type\": \"azureml.scriptrun\", \"training_percent\": \"100\", \"start_time\": \"2021-08-24T22:12:09.996373Z\", \"end_time\": \"2021-08-24T22:12:53.575378Z\", \"created_time\": \"2021-08-24T22:11:51.741156Z\", \"created_time_dt\": \"2021-08-24T22:11:51.741156Z\", \"duration\": \"0:01:01\", \"iteration\": \"42\", \"goal\": \"AUC_weighted_max\", \"run_name\": \"StandardScalerWrapper, LightGBM\", \"run_properties\": \"\\n    copy=True,\\n    with_mean=False,\\n    with_std=False\\n\", \"primary_metric\": 0.64115208, \"best_metric\": 0.66526231}, {\"run_id\": \"AutoML_8e6a87a0-c720-4cd8-9e8d-c9e0bd592376_43\", \"run_number\": 48, \"metric\": null, \"status\": \"Completed\", \"run_type\": \"azureml.scriptrun\", \"training_percent\": \"100\", \"start_time\": \"2021-08-24T22:12:16.45752Z\", \"end_time\": \"2021-08-24T22:13:59.092076Z\", \"created_time\": \"2021-08-24T22:11:56.964633Z\", \"created_time_dt\": \"2021-08-24T22:11:56.964633Z\", \"duration\": \"0:02:02\", \"iteration\": \"43\", \"goal\": \"AUC_weighted_max\", \"run_name\": \"MinMaxScaler, SVM\", \"run_properties\": \"copy=True, feature_range=(0, 1\", \"primary_metric\": 0.49781257, \"best_metric\": 0.66526231}, {\"run_id\": \"AutoML_8e6a87a0-c720-4cd8-9e8d-c9e0bd592376_44\", \"run_number\": 49, \"metric\": null, \"status\": \"Completed\", \"run_type\": \"azureml.scriptrun\", \"training_percent\": \"100\", \"start_time\": \"2021-08-24T22:12:14.865936Z\", \"end_time\": \"2021-08-24T22:12:58.712636Z\", \"created_time\": \"2021-08-24T22:11:56.98479Z\", \"created_time_dt\": \"2021-08-24T22:11:56.98479Z\", \"duration\": \"0:01:01\", \"iteration\": \"44\", \"goal\": \"AUC_weighted_max\", \"run_name\": \"RobustScaler, LightGBM\", \"run_properties\": \"copy=True, quantile_range=[10, 90], with_centering=False,\\n             with_scaling=False\", \"primary_metric\": 0.63295391, \"best_metric\": 0.66526231}, {\"run_id\": \"AutoML_8e6a87a0-c720-4cd8-9e8d-c9e0bd592376_45\", \"run_number\": 50, \"metric\": null, \"status\": \"Completed\", \"run_type\": \"azureml.scriptrun\", \"training_percent\": \"100\", \"start_time\": \"2021-08-24T22:12:17.698445Z\", \"end_time\": \"2021-08-24T22:13:59.067935Z\", \"created_time\": \"2021-08-24T22:11:56.99203Z\", \"created_time_dt\": \"2021-08-24T22:11:56.99203Z\", \"duration\": \"0:02:02\", \"iteration\": \"45\", \"goal\": \"AUC_weighted_max\", \"run_name\": \"MinMaxScaler, LightGBM\", \"run_properties\": \"copy=True, feature_range=(0, 1\", \"primary_metric\": 0.64709153, \"best_metric\": 0.66526231}, {\"run_id\": \"AutoML_8e6a87a0-c720-4cd8-9e8d-c9e0bd592376_47\", \"run_number\": 51, \"metric\": null, \"status\": \"Completed\", \"run_type\": \"azureml.scriptrun\", \"training_percent\": \"100\", \"start_time\": \"2021-08-24T22:12:16.939503Z\", \"end_time\": \"2021-08-24T22:13:01.964004Z\", \"created_time\": \"2021-08-24T22:11:59.925876Z\", \"created_time_dt\": \"2021-08-24T22:11:59.925876Z\", \"duration\": \"0:01:02\", \"iteration\": \"47\", \"goal\": \"AUC_weighted_max\", \"run_name\": \"StandardScalerWrapper, LightGBM\", \"run_properties\": \"\\n    copy=True,\\n    with_mean=True,\\n    with_std=True\\n\", \"primary_metric\": 0.64986414, \"best_metric\": 0.66526231}, {\"run_id\": \"AutoML_8e6a87a0-c720-4cd8-9e8d-c9e0bd592376_46\", \"run_number\": 52, \"metric\": null, \"status\": \"Completed\", \"run_type\": \"azureml.scriptrun\", \"training_percent\": \"100\", \"start_time\": \"2021-08-24T22:12:09.997382Z\", \"end_time\": \"2021-08-24T22:13:02.219032Z\", \"created_time\": \"2021-08-24T22:11:59.940583Z\", \"created_time_dt\": \"2021-08-24T22:11:59.940583Z\", \"duration\": \"0:01:02\", \"iteration\": \"46\", \"goal\": \"AUC_weighted_max\", \"run_name\": \"MinMaxScaler, LightGBM\", \"run_properties\": \"copy=True, feature_range=(0, 1\", \"primary_metric\": 0.65541592, \"best_metric\": 0.66526231}, {\"run_id\": \"AutoML_8e6a87a0-c720-4cd8-9e8d-c9e0bd592376_48\", \"run_number\": 53, \"metric\": null, \"status\": \"Completed\", \"run_type\": \"azureml.scriptrun\", \"training_percent\": \"100\", \"start_time\": \"2021-08-24T22:12:23.088752Z\", \"end_time\": \"2021-08-24T22:13:06.278215Z\", \"created_time\": \"2021-08-24T22:12:04.353841Z\", \"created_time_dt\": \"2021-08-24T22:12:04.353841Z\", \"duration\": \"0:01:01\", \"iteration\": \"48\", \"goal\": \"AUC_weighted_max\", \"run_name\": \"MinMaxScaler, LightGBM\", \"run_properties\": \"copy=True, feature_range=(0, 1\", \"primary_metric\": 0.59555776, \"best_metric\": 0.66526231}, {\"run_id\": \"AutoML_8e6a87a0-c720-4cd8-9e8d-c9e0bd592376_49\", \"run_number\": 54, \"metric\": null, \"status\": \"Completed\", \"run_type\": \"azureml.scriptrun\", \"training_percent\": \"100\", \"start_time\": \"2021-08-24T22:12:26.388347Z\", \"end_time\": \"2021-08-24T22:14:09.091395Z\", \"created_time\": \"2021-08-24T22:12:07.146837Z\", \"created_time_dt\": \"2021-08-24T22:12:07.146837Z\", \"duration\": \"0:02:01\", \"iteration\": \"49\", \"goal\": \"AUC_weighted_max\", \"run_name\": \"RobustScaler, SVM\", \"run_properties\": \"copy=True, quantile_range=[10, 90], with_centering=False,\\n             with_scaling=True\", \"primary_metric\": 0.6701048, \"best_metric\": 0.6701048}, {\"run_id\": \"AutoML_8e6a87a0-c720-4cd8-9e8d-c9e0bd592376_50\", \"run_number\": 55, \"metric\": null, \"status\": \"Completed\", \"run_type\": \"azureml.scriptrun\", \"training_percent\": \"100\", \"start_time\": \"2021-08-24T22:13:16.253304Z\", \"end_time\": \"2021-08-24T22:14:58.587879Z\", \"created_time\": \"2021-08-24T22:12:56.41136Z\", \"created_time_dt\": \"2021-08-24T22:12:56.41136Z\", \"duration\": \"0:02:02\", \"iteration\": \"50\", \"goal\": \"AUC_weighted_max\", \"run_name\": \"PCA, SVM\", \"run_properties\": \"copy=True, iterated_power='auto', n_components=0.8015789473684211,\\n    random_state=None, svd_solver='auto', tol=0.0, whiten=True\", \"primary_metric\": 0.50729526, \"best_metric\": 0.6701048}, {\"run_id\": \"AutoML_8e6a87a0-c720-4cd8-9e8d-c9e0bd592376_51\", \"run_number\": 56, \"metric\": null, \"status\": \"Completed\", \"run_type\": \"azureml.scriptrun\", \"training_percent\": \"100\", \"start_time\": \"2021-08-24T22:13:16.455477Z\", \"end_time\": \"2021-08-24T22:15:01.436894Z\", \"created_time\": \"2021-08-24T22:12:59.188832Z\", \"created_time_dt\": \"2021-08-24T22:12:59.188832Z\", \"duration\": \"0:02:02\", \"iteration\": \"51\", \"goal\": \"AUC_weighted_max\", \"run_name\": \"RobustScaler, SVM\", \"run_properties\": \"copy=True, quantile_range=[25, 75], with_centering=False,\\n             with_scaling=True\", \"primary_metric\": 0.68103252, \"best_metric\": 0.68103252}, {\"run_id\": \"AutoML_8e6a87a0-c720-4cd8-9e8d-c9e0bd592376_52\", \"run_number\": 57, \"metric\": null, \"status\": \"Completed\", \"run_type\": \"azureml.scriptrun\", \"training_percent\": \"100\", \"start_time\": \"2021-08-24T22:13:19.320804Z\", \"end_time\": \"2021-08-24T22:14:04.440124Z\", \"created_time\": \"2021-08-24T22:13:02.356871Z\", \"created_time_dt\": \"2021-08-24T22:13:02.356871Z\", \"duration\": \"0:01:02\", \"iteration\": \"52\", \"goal\": \"AUC_weighted_max\", \"run_name\": \"StandardScalerWrapper, XGBoostClassifier\", \"run_properties\": \"\\n    copy=True,\\n    with_mean=False,\\n    with_std=False\\n\", \"primary_metric\": 0.66447457, \"best_metric\": 0.68103252}, {\"run_id\": \"AutoML_8e6a87a0-c720-4cd8-9e8d-c9e0bd592376_53\", \"run_number\": 58, \"metric\": null, \"status\": \"Completed\", \"run_type\": \"azureml.scriptrun\", \"training_percent\": \"100\", \"start_time\": \"2021-08-24T22:13:23.598078Z\", \"end_time\": \"2021-08-24T22:14:07.260954Z\", \"created_time\": \"2021-08-24T22:13:05.332187Z\", \"created_time_dt\": \"2021-08-24T22:13:05.332187Z\", \"duration\": \"0:01:01\", \"iteration\": \"53\", \"goal\": \"AUC_weighted_max\", \"run_name\": \"StandardScalerWrapper, XGBoostClassifier\", \"run_properties\": \"\\n    copy=True,\\n    with_mean=False,\\n    with_std=False\\n\", \"primary_metric\": 0.66507213, \"best_metric\": 0.68103252}, {\"run_id\": \"AutoML_8e6a87a0-c720-4cd8-9e8d-c9e0bd592376_54\", \"run_number\": 59, \"metric\": null, \"status\": \"Completed\", \"run_type\": \"azureml.scriptrun\", \"training_percent\": \"100\", \"start_time\": \"2021-08-24T22:13:24.160846Z\", \"end_time\": \"2021-08-24T22:14:07.169134Z\", \"created_time\": \"2021-08-24T22:13:05.349178Z\", \"created_time_dt\": \"2021-08-24T22:13:05.349178Z\", \"duration\": \"0:01:01\", \"iteration\": \"54\", \"goal\": \"AUC_weighted_max\", \"run_name\": \"StandardScalerWrapper, XGBoostClassifier\", \"run_properties\": \"\\n    copy=True,\\n    with_mean=False,\\n    with_std=False\\n\", \"primary_metric\": 0.65145385, \"best_metric\": 0.68103252}, {\"run_id\": \"AutoML_8e6a87a0-c720-4cd8-9e8d-c9e0bd592376_55\", \"run_number\": 60, \"metric\": null, \"status\": \"Completed\", \"run_type\": \"azureml.scriptrun\", \"training_percent\": \"100\", \"start_time\": \"2021-08-24T22:13:26.4893Z\", \"end_time\": \"2021-08-24T22:15:11.22953Z\", \"created_time\": \"2021-08-24T22:13:09.026962Z\", \"created_time_dt\": \"2021-08-24T22:13:09.026962Z\", \"duration\": \"0:02:02\", \"iteration\": \"55\", \"goal\": \"AUC_weighted_max\", \"run_name\": \"MinMaxScaler, SVM\", \"run_properties\": \"copy=True, feature_range=(0, 1\", \"primary_metric\": 0.51893656, \"best_metric\": 0.68103252}, {\"run_id\": \"AutoML_8e6a87a0-c720-4cd8-9e8d-c9e0bd592376_56\", \"run_number\": 61, \"metric\": null, \"status\": \"Completed\", \"run_type\": \"azureml.scriptrun\", \"training_percent\": \"100\", \"start_time\": \"2021-08-24T22:14:20.661229Z\", \"end_time\": \"2021-08-24T22:15:02.853999Z\", \"created_time\": \"2021-08-24T22:14:00.941183Z\", \"created_time_dt\": \"2021-08-24T22:14:00.941183Z\", \"duration\": \"0:01:01\", \"iteration\": \"56\", \"goal\": \"AUC_weighted_max\", \"run_name\": \"MinMaxScaler, LightGBM\", \"run_properties\": \"copy=True, feature_range=(0, 1\", \"primary_metric\": 0.59164094, \"best_metric\": 0.68103252}, {\"run_id\": \"AutoML_8e6a87a0-c720-4cd8-9e8d-c9e0bd592376_57\", \"run_number\": 62, \"metric\": null, \"status\": \"Completed\", \"run_type\": \"azureml.scriptrun\", \"training_percent\": \"100\", \"start_time\": \"2021-08-24T22:14:20.803948Z\", \"end_time\": \"2021-08-24T22:15:02.870728Z\", \"created_time\": \"2021-08-24T22:14:00.985482Z\", \"created_time_dt\": \"2021-08-24T22:14:00.985482Z\", \"duration\": \"0:01:01\", \"iteration\": \"57\", \"goal\": \"AUC_weighted_max\", \"run_name\": \"StandardScalerWrapper, XGBoostClassifier\", \"run_properties\": \"\\n    copy=True,\\n    with_mean=False,\\n    with_std=False\\n\", \"primary_metric\": 0.62789818, \"best_metric\": 0.68103252}, {\"run_id\": \"AutoML_8e6a87a0-c720-4cd8-9e8d-c9e0bd592376_58\", \"run_number\": 63, \"metric\": null, \"status\": \"Completed\", \"run_type\": \"azureml.scriptrun\", \"training_percent\": \"100\", \"start_time\": \"2021-08-24T22:14:22.608365Z\", \"end_time\": \"2021-08-24T22:15:08.035308Z\", \"created_time\": \"2021-08-24T22:14:06.197295Z\", \"created_time_dt\": \"2021-08-24T22:14:06.197295Z\", \"duration\": \"0:01:01\", \"iteration\": \"58\", \"goal\": \"AUC_weighted_max\", \"run_name\": \"StandardScalerWrapper, XGBoostClassifier\", \"run_properties\": \"\\n    copy=True,\\n    with_mean=False,\\n    with_std=False\\n\", \"primary_metric\": 0.65379953, \"best_metric\": 0.68103252}, {\"run_id\": \"AutoML_8e6a87a0-c720-4cd8-9e8d-c9e0bd592376_59\", \"run_number\": 64, \"metric\": null, \"status\": \"Completed\", \"run_type\": \"azureml.scriptrun\", \"training_percent\": \"100\", \"start_time\": \"2021-08-24T22:14:27.741484Z\", \"end_time\": \"2021-08-24T22:16:11.951875Z\", \"created_time\": \"2021-08-24T22:14:10.005836Z\", \"created_time_dt\": \"2021-08-24T22:14:10.005836Z\", \"duration\": \"0:02:01\", \"iteration\": \"59\", \"goal\": \"AUC_weighted_max\", \"run_name\": \"StandardScalerWrapper, SVM\", \"run_properties\": \"\\n    copy=True,\\n    with_mean=False,\\n    with_std=False\\n\", \"primary_metric\": 0.48379904, \"best_metric\": 0.68103252}, {\"run_id\": \"AutoML_8e6a87a0-c720-4cd8-9e8d-c9e0bd592376_60\", \"run_number\": 65, \"metric\": null, \"status\": \"Completed\", \"run_type\": \"azureml.scriptrun\", \"training_percent\": \"100\", \"start_time\": \"2021-08-24T22:14:27.702575Z\", \"end_time\": \"2021-08-24T22:15:11.965444Z\", \"created_time\": \"2021-08-24T22:14:10.016501Z\", \"created_time_dt\": \"2021-08-24T22:14:10.016501Z\", \"duration\": \"0:01:01\", \"iteration\": \"60\", \"goal\": \"AUC_weighted_max\", \"run_name\": \"RobustScaler, LightGBM\", \"run_properties\": \"copy=True, quantile_range=[10, 90], with_centering=True,\\n             with_scaling=False\", \"primary_metric\": 0.64971993, \"best_metric\": 0.68103252}, {\"run_id\": \"AutoML_8e6a87a0-c720-4cd8-9e8d-c9e0bd592376_61\", \"run_number\": 66, \"metric\": null, \"status\": \"Completed\", \"run_type\": \"azureml.scriptrun\", \"training_percent\": \"100\", \"start_time\": \"2021-08-24T22:14:33.717227Z\", \"end_time\": \"2021-08-24T22:15:15.049145Z\", \"created_time\": \"2021-08-24T22:14:12.944645Z\", \"created_time_dt\": \"2021-08-24T22:14:12.944645Z\", \"duration\": \"0:01:02\", \"iteration\": \"61\", \"goal\": \"AUC_weighted_max\", \"run_name\": \"MaxAbsScaler, LightGBM\", \"run_properties\": \"copy=True\", \"primary_metric\": 0.5992793, \"best_metric\": 0.68103252}, {\"run_id\": \"AutoML_8e6a87a0-c720-4cd8-9e8d-c9e0bd592376_62\", \"run_number\": 67, \"metric\": null, \"status\": \"Completed\", \"run_type\": \"azureml.scriptrun\", \"training_percent\": \"100\", \"start_time\": \"2021-08-24T22:15:20.967548Z\", \"end_time\": \"2021-08-24T22:17:03.231248Z\", \"created_time\": \"2021-08-24T22:15:00.471136Z\", \"created_time_dt\": \"2021-08-24T22:15:00.471136Z\", \"duration\": \"0:02:02\", \"iteration\": \"62\", \"goal\": \"AUC_weighted_max\", \"run_name\": \"MinMaxScaler, LightGBM\", \"run_properties\": \"copy=True, feature_range=(0, 1\", \"primary_metric\": 0.61945838, \"best_metric\": 0.68103252}, {\"run_id\": \"AutoML_8e6a87a0-c720-4cd8-9e8d-c9e0bd592376_63\", \"run_number\": 68, \"metric\": null, \"status\": \"Completed\", \"run_type\": \"azureml.scriptrun\", \"training_percent\": \"100\", \"start_time\": \"2021-08-24T22:15:28.027601Z\", \"end_time\": \"2021-08-24T22:16:10.628593Z\", \"created_time\": \"2021-08-24T22:15:03.561372Z\", \"created_time_dt\": \"2021-08-24T22:15:03.561372Z\", \"duration\": \"0:01:07\", \"iteration\": \"63\", \"goal\": \"AUC_weighted_max\", \"run_name\": \"StandardScalerWrapper, XGBoostClassifier\", \"run_properties\": \"\\n    copy=True,\\n    with_mean=False,\\n    with_std=False\\n\", \"primary_metric\": 0.65928567, \"best_metric\": 0.68103252}, {\"run_id\": \"AutoML_8e6a87a0-c720-4cd8-9e8d-c9e0bd592376_64\", \"run_number\": 69, \"metric\": null, \"status\": \"Completed\", \"run_type\": \"azureml.scriptrun\", \"training_percent\": \"100\", \"start_time\": \"2021-08-24T22:15:28.078649Z\", \"end_time\": \"2021-08-24T22:17:11.080533Z\", \"created_time\": \"2021-08-24T22:15:07.738834Z\", \"created_time_dt\": \"2021-08-24T22:15:07.738834Z\", \"duration\": \"0:02:03\", \"iteration\": \"64\", \"goal\": \"AUC_weighted_max\", \"run_name\": \"RobustScaler, SVM\", \"run_properties\": \"copy=True, quantile_range=[10, 90], with_centering=False,\\n             with_scaling=False\", \"primary_metric\": 0.51489177, \"best_metric\": 0.68103252}, {\"run_id\": \"AutoML_8e6a87a0-c720-4cd8-9e8d-c9e0bd592376_65\", \"run_number\": 70, \"metric\": null, \"status\": \"Completed\", \"run_type\": \"azureml.scriptrun\", \"training_percent\": \"100\", \"start_time\": \"2021-08-24T22:15:27.912313Z\", \"end_time\": \"2021-08-24T22:16:11.148448Z\", \"created_time\": \"2021-08-24T22:15:07.754823Z\", \"created_time_dt\": \"2021-08-24T22:15:07.754823Z\", \"duration\": \"0:01:03\", \"iteration\": \"65\", \"goal\": \"AUC_weighted_max\", \"run_name\": \"RobustScaler, KNN\", \"run_properties\": \"copy=True, quantile_range=[25, 75], with_centering=True,\\n             with_scaling=True\", \"primary_metric\": 0.64214174, \"best_metric\": 0.68103252}, {\"run_id\": \"AutoML_8e6a87a0-c720-4cd8-9e8d-c9e0bd592376_66\", \"run_number\": 71, \"metric\": null, \"status\": \"Completed\", \"run_type\": \"azureml.scriptrun\", \"training_percent\": \"100\", \"start_time\": \"2021-08-24T22:15:30.05671Z\", \"end_time\": \"2021-08-24T22:16:14.242948Z\", \"created_time\": \"2021-08-24T22:15:12.385846Z\", \"created_time_dt\": \"2021-08-24T22:15:12.385846Z\", \"duration\": \"0:01:01\", \"iteration\": \"66\", \"goal\": \"AUC_weighted_max\", \"run_name\": \"StandardScalerWrapper, LightGBM\", \"run_properties\": \"\\n    copy=True,\\n    with_mean=True,\\n    with_std=False\\n\", \"primary_metric\": 0.64238308, \"best_metric\": 0.68103252}, {\"run_id\": \"AutoML_8e6a87a0-c720-4cd8-9e8d-c9e0bd592376_67\", \"run_number\": 72, \"metric\": null, \"status\": \"Completed\", \"run_type\": \"azureml.scriptrun\", \"training_percent\": \"100\", \"start_time\": \"2021-08-24T22:15:32.951831Z\", \"end_time\": \"2021-08-24T22:16:17.160878Z\", \"created_time\": \"2021-08-24T22:15:15.361537Z\", \"created_time_dt\": \"2021-08-24T22:15:15.361537Z\", \"duration\": \"0:01:01\", \"iteration\": \"67\", \"goal\": \"AUC_weighted_max\", \"run_name\": \"StandardScalerWrapper, XGBoostClassifier\", \"run_properties\": \"\\n    copy=True,\\n    with_mean=False,\\n    with_std=False\\n\", \"primary_metric\": 0.65199245, \"best_metric\": 0.68103252}, {\"run_id\": \"AutoML_8e6a87a0-c720-4cd8-9e8d-c9e0bd592376_68\", \"run_number\": 73, \"metric\": null, \"status\": \"Completed\", \"run_type\": \"azureml.scriptrun\", \"training_percent\": \"100\", \"start_time\": \"2021-08-24T22:15:33.632373Z\", \"end_time\": \"2021-08-24T22:16:17.2681Z\", \"created_time\": \"2021-08-24T22:15:15.385808Z\", \"created_time_dt\": \"2021-08-24T22:15:15.385808Z\", \"duration\": \"0:01:01\", \"iteration\": \"68\", \"goal\": \"AUC_weighted_max\", \"run_name\": \"StandardScalerWrapper, LightGBM\", \"run_properties\": \"\\n    copy=True,\\n    with_mean=False,\\n    with_std=False\\n\", \"primary_metric\": 0.62798022, \"best_metric\": 0.68103252}, {\"run_id\": \"AutoML_8e6a87a0-c720-4cd8-9e8d-c9e0bd592376_69\", \"run_number\": 74, \"metric\": null, \"status\": \"Completed\", \"run_type\": \"azureml.scriptrun\", \"training_percent\": \"100\", \"start_time\": \"2021-08-24T22:15:36.138596Z\", \"end_time\": \"2021-08-24T22:16:19.827971Z\", \"created_time\": \"2021-08-24T22:15:18.034998Z\", \"created_time_dt\": \"2021-08-24T22:15:18.034998Z\", \"duration\": \"0:01:01\", \"iteration\": \"69\", \"goal\": \"AUC_weighted_max\", \"run_name\": \"StandardScalerWrapper, XGBoostClassifier\", \"run_properties\": \"\\n    copy=True,\\n    with_mean=False,\\n    with_std=False\\n\", \"primary_metric\": 0.65883292, \"best_metric\": 0.68103252}, {\"run_id\": \"AutoML_8e6a87a0-c720-4cd8-9e8d-c9e0bd592376_70\", \"run_number\": 75, \"metric\": null, \"status\": \"Canceled\", \"run_type\": \"azureml.scriptrun\", \"training_percent\": \"100\", \"start_time\": \"2021-08-24T22:16:37.225021Z\", \"end_time\": \"2021-08-24T22:17:22.311334Z\", \"created_time\": \"2021-08-24T22:16:13.595674Z\", \"created_time_dt\": \"2021-08-24T22:16:13.595674Z\", \"duration\": \"0:01:08\", \"iteration\": \"70\", \"goal\": \"AUC_weighted_max\", \"run_name\": \"StandardScalerWrapper, SVM\", \"run_properties\": \"\\n    copy=True,\\n    with_mean=False,\\n    with_std=False\\n\", \"primary_metric\": 0.51510796, \"best_metric\": 0.68103252}, {\"run_id\": \"AutoML_8e6a87a0-c720-4cd8-9e8d-c9e0bd592376_71\", \"run_number\": 76, \"metric\": null, \"status\": \"Completed\", \"run_type\": \"azureml.scriptrun\", \"training_percent\": \"100\", \"start_time\": \"2021-08-24T22:16:37.256457Z\", \"end_time\": \"2021-08-24T22:17:18.935131Z\", \"created_time\": \"2021-08-24T22:16:16.59072Z\", \"created_time_dt\": \"2021-08-24T22:16:16.59072Z\", \"duration\": \"0:01:02\", \"iteration\": \"71\", \"goal\": \"AUC_weighted_max\", \"run_name\": \"MinMaxScaler, LightGBM\", \"run_properties\": \"copy=True, feature_range=(0, 1\", \"primary_metric\": 0.63686806, \"best_metric\": 0.68103252}, {\"run_id\": \"AutoML_8e6a87a0-c720-4cd8-9e8d-c9e0bd592376_72\", \"run_number\": 77, \"metric\": null, \"status\": \"Completed\", \"run_type\": \"azureml.scriptrun\", \"training_percent\": \"100\", \"start_time\": \"2021-08-24T22:16:36.328525Z\", \"end_time\": \"2021-08-24T22:17:18.500212Z\", \"created_time\": \"2021-08-24T22:16:16.594365Z\", \"created_time_dt\": \"2021-08-24T22:16:16.594365Z\", \"duration\": \"0:01:01\", \"iteration\": \"72\", \"goal\": \"AUC_weighted_max\", \"run_name\": \"RobustScaler, GradientBoosting\", \"run_properties\": \"copy=True, quantile_range=[25, 75], with_centering=False,\\n             with_scaling=True\", \"primary_metric\": 0.6152133, \"best_metric\": 0.68103252}, {\"run_id\": \"AutoML_8e6a87a0-c720-4cd8-9e8d-c9e0bd592376_73\", \"run_number\": 78, \"metric\": null, \"status\": \"Completed\", \"run_type\": \"azureml.scriptrun\", \"training_percent\": \"100\", \"start_time\": \"2021-08-24T22:16:36.332763Z\", \"end_time\": \"2021-08-24T22:17:18.973935Z\", \"created_time\": \"2021-08-24T22:16:16.623701Z\", \"created_time_dt\": \"2021-08-24T22:16:16.623701Z\", \"duration\": \"0:01:02\", \"iteration\": \"73\", \"goal\": \"AUC_weighted_max\", \"run_name\": \"StandardScalerWrapper, XGBoostClassifier\", \"run_properties\": \"\\n    copy=True,\\n    with_mean=False,\\n    with_std=False\\n\", \"primary_metric\": 0.65253432, \"best_metric\": 0.68103252}, {\"run_id\": \"AutoML_8e6a87a0-c720-4cd8-9e8d-c9e0bd592376_74\", \"run_number\": 79, \"metric\": null, \"status\": \"Canceled\", \"run_type\": \"azureml.scriptrun\", \"training_percent\": \"100\", \"start_time\": \"2021-08-24T22:16:47.328796Z\", \"end_time\": \"2021-08-24T22:17:22.352429Z\", \"created_time\": \"2021-08-24T22:16:21.062229Z\", \"created_time_dt\": \"2021-08-24T22:16:21.062229Z\", \"duration\": \"0:01:01\", \"iteration\": \"74\", \"goal\": \"AUC_weighted_max\", \"run_name\": \"SparseNormalizer, SVM\", \"run_properties\": \"copy=True, norm='max'\", \"primary_metric\": 0.48450397, \"best_metric\": 0.68103252}, {\"run_id\": \"AutoML_8e6a87a0-c720-4cd8-9e8d-c9e0bd592376_75\", \"run_number\": 80, \"metric\": null, \"status\": \"Canceled\", \"run_type\": \"azureml.scriptrun\", \"training_percent\": \"100\", \"start_time\": \"2021-08-24T22:16:46.376413Z\", \"end_time\": \"2021-08-24T22:17:22.381489Z\", \"created_time\": \"2021-08-24T22:16:21.085909Z\", \"created_time_dt\": \"2021-08-24T22:16:21.085909Z\", \"duration\": \"0:01:01\", \"iteration\": \"75\", \"goal\": \"AUC_weighted_max\", \"run_name\": \"StandardScalerWrapper, XGBoostClassifier\", \"run_properties\": \"\\n    copy=True,\\n    with_mean=False,\\n    with_std=False\\n\", \"primary_metric\": 0.65222934, \"best_metric\": 0.68103252}, {\"run_id\": \"AutoML_8e6a87a0-c720-4cd8-9e8d-c9e0bd592376_76\", \"run_number\": 81, \"metric\": null, \"status\": \"Canceled\", \"run_type\": \"azureml.scriptrun\", \"training_percent\": \"100\", \"start_time\": \"2021-08-24T22:16:40.293685Z\", \"end_time\": \"2021-08-24T22:17:22.332436Z\", \"created_time\": \"2021-08-24T22:16:23.788414Z\", \"created_time_dt\": \"2021-08-24T22:16:23.788414Z\", \"duration\": \"0:00:58\", \"iteration\": \"76\", \"goal\": \"AUC_weighted_max\", \"run_name\": \"StandardScalerWrapper, LightGBM\", \"run_properties\": \"\\n    copy=True,\\n    with_mean=False,\\n    with_std=True\\n\", \"primary_metric\": 0.63257053, \"best_metric\": 0.68103252}, {\"run_id\": \"AutoML_8e6a87a0-c720-4cd8-9e8d-c9e0bd592376_77\", \"run_number\": 82, \"metric\": null, \"status\": \"Canceled\", \"run_type\": \"azureml.scriptrun\", \"training_percent\": \"100\", \"start_time\": \"2021-08-24T22:17:05.090583Z\", \"end_time\": \"2021-08-24T22:17:22.388999Z\", \"created_time\": \"2021-08-24T22:17:05.090583Z\", \"created_time_dt\": \"2021-08-24T22:17:05.090583Z\", \"duration\": \"0:00:17\", \"iteration\": \"77\", \"goal\": null, \"run_name\": \"Canceled\", \"run_properties\": null}, {\"run_id\": \"AutoML_8e6a87a0-c720-4cd8-9e8d-c9e0bd592376_78\", \"run_number\": 83, \"metric\": null, \"status\": \"Canceled\", \"run_type\": \"azureml.scriptrun\", \"training_percent\": \"100\", \"start_time\": \"2021-08-24T22:17:13.033521Z\", \"end_time\": \"2021-08-24T22:17:22.234059Z\", \"created_time\": \"2021-08-24T22:17:13.033521Z\", \"created_time_dt\": \"2021-08-24T22:17:13.033521Z\", \"duration\": \"0:00:09\", \"iteration\": \"78\", \"goal\": null, \"run_name\": \"Canceled\", \"run_properties\": null}, {\"run_id\": \"AutoML_8e6a87a0-c720-4cd8-9e8d-c9e0bd592376_79\", \"run_number\": 84, \"metric\": null, \"status\": \"Canceled\", \"run_type\": \"azureml.scriptrun\", \"training_percent\": \"100\", \"start_time\": \"2021-08-24T22:17:20.196258Z\", \"end_time\": \"2021-08-24T22:17:22.262489Z\", \"created_time\": \"2021-08-24T22:17:20.196258Z\", \"created_time_dt\": \"2021-08-24T22:17:20.196258Z\", \"duration\": \"0:00:02\", \"iteration\": \"79\", \"goal\": null, \"run_name\": \"Canceled\", \"run_properties\": null}, {\"run_id\": \"AutoML_8e6a87a0-c720-4cd8-9e8d-c9e0bd592376_80\", \"run_number\": 85, \"metric\": null, \"status\": \"Completed\", \"run_type\": \"azureml.scriptrun\", \"training_percent\": \"100\", \"start_time\": \"2021-08-24T22:17:42.706519Z\", \"end_time\": \"2021-08-24T22:19:25.961008Z\", \"created_time\": \"2021-08-24T22:17:23.409191Z\", \"created_time_dt\": \"2021-08-24T22:17:23.409191Z\", \"duration\": \"0:02:02\", \"iteration\": \"80\", \"goal\": \"AUC_weighted_max\", \"run_name\": \"VotingEnsemble\", \"run_properties\": \"\\n    estimators=[('51', Pipeline(\\n        memory=None,\\n        steps=[('robustscaler', RobustScaler(\\n            copy=True,\\n            quantile_range=[25, 75],\\n            with_centering=False,\\n            with_scaling=True\\n        \", \"primary_metric\": 0.68905817, \"best_metric\": 0.68905817}, {\"run_id\": \"AutoML_8e6a87a0-c720-4cd8-9e8d-c9e0bd592376_81\", \"run_number\": 86, \"metric\": null, \"status\": \"Completed\", \"run_type\": \"azureml.scriptrun\", \"training_percent\": \"100\", \"start_time\": \"2021-08-24T22:17:42.528294Z\", \"end_time\": \"2021-08-24T22:19:25.378354Z\", \"created_time\": \"2021-08-24T22:17:23.45962Z\", \"created_time_dt\": \"2021-08-24T22:17:23.45962Z\", \"duration\": \"0:02:01\", \"iteration\": \"81\", \"goal\": \"AUC_weighted_max\", \"run_name\": \"StackEnsemble\", \"run_properties\": \"\\n    base_learners=[('51', Pipeline(\\n        memory=None,\\n        steps=[('robustscaler', RobustScaler(\\n            copy=True,\\n            quantile_range=[25, 75],\\n            with_centering=False,\\n            with_scaling=True\\n        \", \"primary_metric\": 0.6848349, \"best_metric\": 0.68905817}], \"children_metrics\": {\"categories\": [0], \"series\": {\"accuracy\": [{\"categories\": [\"0\", \"1\", \"2\", \"3\", \"4\", \"5\", \"6\", \"7\", \"8\", \"9\", \"10\", \"11\", \"12\", \"13\", \"14\", \"15\", \"16\", \"17\", \"18\", \"19\", \"20\", \"21\", \"22\", \"23\", \"24\", \"25\", \"26\", \"27\", \"28\", \"29\", \"30\", \"31\", \"32\", \"33\", \"34\", \"35\", \"36\", \"37\", \"38\", \"39\", \"40\", \"41\", \"42\", \"43\", \"44\", \"45\", \"46\", \"47\", \"48\", \"49\", \"50\", \"51\", \"52\", \"53\", \"54\", \"55\", \"56\", \"57\", \"58\", \"59\", \"60\", \"61\", \"62\", \"63\", \"64\", \"65\", \"66\", \"67\", \"68\", \"69\", \"70\", \"71\", \"72\", \"73\", \"74\", \"75\", \"76\", \"80\", \"81\"], \"mode\": \"markers\", \"name\": \"accuracy\", \"stepped\": false, \"type\": \"scatter\", \"data\": [0.6550671550671551, 0.6367521367521367, 0.6123321123321124, 0.6285103785103785, 0.6163003663003663, 0.597985347985348, 0.6282051282051282, 0.5781440781440782, 0.6535409035409036, 0.6266788766788767, 0.6105006105006106, 0.6388888888888888, 0.6132478632478633, 0.5772283272283273, 0.5802808302808303, 0.6123321123321124, 0.6333943833943834, 0.6132478632478633, 0.6163003663003663, 0.5802808302808303, 0.6459096459096458, 0.6611721611721612, 0.6398046398046399, 0.4908424908424909, 0.608974358974359, 0.6556776556776557, 0.6105006105006106, 0.6538461538461539, 0.6452991452991453, 0.5711233211233212, 0.6098901098901099, 0.6434676434676435, 0.648962148962149, 0.6474358974358975, 0.6553724053724054, 0.6098901098901099, 0.6105006105006106, 0.4911477411477412, 0.652014652014652, 0.645909645909646, 0.6098901098901099, 0.6413308913308914, 0.6343101343101343, 0.6098901098901099, 0.6388888888888888, 0.6416361416361416, 0.6575091575091575, 0.6465201465201466, 0.6321733821733821, 0.6608669108669109, 0.6098901098901099, 0.6578144078144078, 0.6642246642246642, 0.6541514041514042, 0.6416361416361417, 0.6098901098901099, 0.6150793650793651, 0.6355311355311355, 0.6578144078144078, 0.6098901098901099, 0.6483516483516484, 0.6272893772893773, 0.6336996336996337, 0.6486568986568987, 0.6098901098901099, 0.644078144078144, 0.6398046398046399, 0.655982905982906, 0.6361416361416361, 0.6648351648351648, 0.6098901098901099, 0.6428571428571428, 0.6282051282051282, 0.6544566544566545, 0.6095848595848596, 0.6544566544566545, 0.6428571428571429, 0.6648351648351648, 0.6526251526251526]}, {\"categories\": [\"0\", \"1\", \"2\", \"3\", \"4\", \"5\", \"6\", \"7\", \"8\", \"9\", \"10\", \"11\", \"12\", \"13\", \"14\", \"15\", \"16\", \"17\", \"18\", \"19\", \"20\", \"21\", \"22\", \"23\", \"24\", \"25\", \"26\", \"27\", \"28\", \"29\", \"30\", \"31\", \"32\", \"33\", \"34\", \"35\", \"36\", \"37\", \"38\", \"39\", \"40\", \"41\", \"42\", \"43\", \"44\", \"45\", \"46\", \"47\", \"48\", \"49\", \"50\", \"51\", \"52\", \"53\", \"54\", \"55\", \"56\", \"57\", \"58\", \"59\", \"60\", \"61\", \"62\", \"63\", \"64\", \"65\", \"66\", \"67\", \"68\", \"69\", \"70\", \"71\", \"72\", \"73\", \"74\", \"75\", \"76\", \"80\", \"81\"], \"mode\": \"lines\", \"name\": \"accuracy_max\", \"stepped\": true, \"type\": \"scatter\", \"data\": [0.6550671550671551, 0.6550671550671551, 0.6550671550671551, 0.6550671550671551, 0.6550671550671551, 0.6550671550671551, 0.6550671550671551, 0.6550671550671551, 0.6550671550671551, 0.6550671550671551, 0.6550671550671551, 0.6550671550671551, 0.6550671550671551, 0.6550671550671551, 0.6550671550671551, 0.6550671550671551, 0.6550671550671551, 0.6550671550671551, 0.6550671550671551, 0.6550671550671551, 0.6550671550671551, 0.6611721611721612, 0.6611721611721612, 0.6611721611721612, 0.6611721611721612, 0.6611721611721612, 0.6611721611721612, 0.6611721611721612, 0.6611721611721612, 0.6611721611721612, 0.6611721611721612, 0.6611721611721612, 0.6611721611721612, 0.6611721611721612, 0.6611721611721612, 0.6611721611721612, 0.6611721611721612, 0.6611721611721612, 0.6611721611721612, 0.6611721611721612, 0.6611721611721612, 0.6611721611721612, 0.6611721611721612, 0.6611721611721612, 0.6611721611721612, 0.6611721611721612, 0.6611721611721612, 0.6611721611721612, 0.6611721611721612, 0.6611721611721612, 0.6611721611721612, 0.6611721611721612, 0.6642246642246642, 0.6642246642246642, 0.6642246642246642, 0.6642246642246642, 0.6642246642246642, 0.6642246642246642, 0.6642246642246642, 0.6642246642246642, 0.6642246642246642, 0.6642246642246642, 0.6642246642246642, 0.6642246642246642, 0.6642246642246642, 0.6642246642246642, 0.6642246642246642, 0.6642246642246642, 0.6642246642246642, 0.6648351648351648, 0.6648351648351648, 0.6648351648351648, 0.6648351648351648, 0.6648351648351648, 0.6648351648351648, 0.6648351648351648, 0.6648351648351648, 0.6648351648351648, 0.6648351648351648]}], \"AUC_micro\": [{\"categories\": [\"0\", \"1\", \"2\", \"3\", \"4\", \"5\", \"6\", \"7\", \"8\", \"9\", \"10\", \"11\", \"12\", \"13\", \"14\", \"15\", \"16\", \"17\", \"18\", \"19\", \"20\", \"21\", \"22\", \"23\", \"24\", \"25\", \"26\", \"27\", \"28\", \"29\", \"30\", \"31\", \"32\", \"33\", \"34\", \"35\", \"36\", \"37\", \"38\", \"39\", \"40\", \"41\", \"42\", \"43\", \"44\", \"45\", \"46\", \"47\", \"48\", \"49\", \"50\", \"51\", \"52\", \"53\", \"54\", \"55\", \"56\", \"57\", \"58\", \"59\", \"60\", \"61\", \"62\", \"63\", \"64\", \"65\", \"66\", \"67\", \"68\", \"69\", \"70\", \"71\", \"72\", \"73\", \"74\", \"75\", \"76\", \"80\", \"81\"], \"mode\": \"markers\", \"name\": \"AUC_micro\", \"stepped\": false, \"type\": \"scatter\", \"data\": [0.6989868597011455, 0.6884694212990916, 0.6541307186911584, 0.6650031643163512, 0.6558006503061448, 0.6048118293997415, 0.6518110120445285, 0.6072692061703052, 0.7005994870005859, 0.6635300241069472, 0.6093215392665942, 0.6769376965118723, 0.6410231252264219, 0.6093114760697178, 0.5974589868820638, 0.6483885467401952, 0.6692654872599927, 0.6646878508142245, 0.6400738303210831, 0.6223285007625667, 0.6883304932755482, 0.7051135296327603, 0.6897807117587337, 0.4996561741067236, 0.6618908411490829, 0.7029442118727833, 0.6093131532691972, 0.6988778417349845, 0.6975740986729998, 0.5939270843116998, 0.6111463323001786, 0.672978667140755, 0.7082561821572811, 0.6907217604332989, 0.7102295471114153, 0.6074475483816143, 0.6085880440276045, 0.4996681940363259, 0.7056846160554952, 0.6976154695934916, 0.6112642953302293, 0.6871388430454365, 0.686987056492551, 0.6088955305988272, 0.6843697867049515, 0.6920986014392607, 0.7052662945520088, 0.6978653723159217, 0.6634945233846333, 0.7136780090076794, 0.6133658262779141, 0.7185761303206357, 0.709024339518845, 0.7074681779352109, 0.6932318292208403, 0.6189106477568016, 0.6539585262112735, 0.6825421983389015, 0.7037285821626481, 0.6021257944334868, 0.6926691287955024, 0.6589803409858355, 0.6783195691162724, 0.7037677168171673, 0.6170400112707805, 0.6937143036044136, 0.6914959277596641, 0.7012440906671675, 0.6766169321114376, 0.7074718118674164, 0.617160210566804, 0.691787201402586, 0.6712146725882989, 0.7019963146336772, 0.6020902937111728, 0.7021422309883848, 0.6838451028011466, 0.7258695720234182, 0.714330439605165]}, {\"categories\": [\"0\", \"1\", \"2\", \"3\", \"4\", \"5\", \"6\", \"7\", \"8\", \"9\", \"10\", \"11\", \"12\", \"13\", \"14\", \"15\", \"16\", \"17\", \"18\", \"19\", \"20\", \"21\", \"22\", \"23\", \"24\", \"25\", \"26\", \"27\", \"28\", \"29\", \"30\", \"31\", \"32\", \"33\", \"34\", \"35\", \"36\", \"37\", \"38\", \"39\", \"40\", \"41\", \"42\", \"43\", \"44\", \"45\", \"46\", \"47\", \"48\", \"49\", \"50\", \"51\", \"52\", \"53\", \"54\", \"55\", \"56\", \"57\", \"58\", \"59\", \"60\", \"61\", \"62\", \"63\", \"64\", \"65\", \"66\", \"67\", \"68\", \"69\", \"70\", \"71\", \"72\", \"73\", \"74\", \"75\", \"76\", \"80\", \"81\"], \"mode\": \"lines\", \"name\": \"AUC_micro_max\", \"stepped\": true, \"type\": \"scatter\", \"data\": [0.6989868597011455, 0.6989868597011455, 0.6989868597011455, 0.6989868597011455, 0.6989868597011455, 0.6989868597011455, 0.6989868597011455, 0.6989868597011455, 0.7005994870005859, 0.7005994870005859, 0.7005994870005859, 0.7005994870005859, 0.7005994870005859, 0.7005994870005859, 0.7005994870005859, 0.7005994870005859, 0.7005994870005859, 0.7005994870005859, 0.7005994870005859, 0.7005994870005859, 0.7005994870005859, 0.7051135296327603, 0.7051135296327603, 0.7051135296327603, 0.7051135296327603, 0.7051135296327603, 0.7051135296327603, 0.7051135296327603, 0.7051135296327603, 0.7051135296327603, 0.7051135296327603, 0.7051135296327603, 0.7082561821572811, 0.7082561821572811, 0.7102295471114153, 0.7102295471114153, 0.7102295471114153, 0.7102295471114153, 0.7102295471114153, 0.7102295471114153, 0.7102295471114153, 0.7102295471114153, 0.7102295471114153, 0.7102295471114153, 0.7102295471114153, 0.7102295471114153, 0.7102295471114153, 0.7102295471114153, 0.7102295471114153, 0.7136780090076794, 0.7136780090076794, 0.7185761303206357, 0.7185761303206357, 0.7185761303206357, 0.7185761303206357, 0.7185761303206357, 0.7185761303206357, 0.7185761303206357, 0.7185761303206357, 0.7185761303206357, 0.7185761303206357, 0.7185761303206357, 0.7185761303206357, 0.7185761303206357, 0.7185761303206357, 0.7185761303206357, 0.7185761303206357, 0.7185761303206357, 0.7185761303206357, 0.7185761303206357, 0.7185761303206357, 0.7185761303206357, 0.7185761303206357, 0.7185761303206357, 0.7185761303206357, 0.7185761303206357, 0.7185761303206357, 0.7258695720234182, 0.7258695720234182]}], \"recall_score_weighted\": [{\"categories\": [\"0\", \"1\", \"2\", \"3\", \"4\", \"5\", \"6\", \"7\", \"8\", \"9\", \"10\", \"11\", \"12\", \"13\", \"14\", \"15\", \"16\", \"17\", \"18\", \"19\", \"20\", \"21\", \"22\", \"23\", \"24\", \"25\", \"26\", \"27\", \"28\", \"29\", \"30\", \"31\", \"32\", \"33\", \"34\", \"35\", \"36\", \"37\", \"38\", \"39\", \"40\", \"41\", \"42\", \"43\", \"44\", \"45\", \"46\", \"47\", \"48\", \"49\", \"50\", \"51\", \"52\", \"53\", \"54\", \"55\", \"56\", \"57\", \"58\", \"59\", \"60\", \"61\", \"62\", \"63\", \"64\", \"65\", \"66\", \"67\", \"68\", \"69\", \"70\", \"71\", \"72\", \"73\", \"74\", \"75\", \"76\", \"80\", \"81\"], \"mode\": \"markers\", \"name\": \"recall_score_weighted\", \"stepped\": false, \"type\": \"scatter\", \"data\": [0.6550671550671551, 0.6367521367521367, 0.6123321123321124, 0.6285103785103785, 0.6163003663003663, 0.597985347985348, 0.6282051282051282, 0.5781440781440782, 0.6535409035409036, 0.6266788766788767, 0.6105006105006106, 0.6388888888888888, 0.6132478632478633, 0.5772283272283273, 0.5802808302808303, 0.6123321123321124, 0.6333943833943834, 0.6132478632478633, 0.6163003663003663, 0.5802808302808303, 0.6459096459096458, 0.6611721611721612, 0.6398046398046399, 0.4908424908424909, 0.608974358974359, 0.6556776556776557, 0.6105006105006106, 0.6538461538461539, 0.6452991452991453, 0.5711233211233212, 0.6098901098901099, 0.6434676434676435, 0.648962148962149, 0.6474358974358975, 0.6553724053724054, 0.6098901098901099, 0.6105006105006106, 0.4911477411477412, 0.652014652014652, 0.645909645909646, 0.6098901098901099, 0.6413308913308914, 0.6343101343101343, 0.6098901098901099, 0.6388888888888888, 0.6416361416361416, 0.6575091575091575, 0.6465201465201466, 0.6321733821733821, 0.6608669108669109, 0.6098901098901099, 0.6578144078144078, 0.6642246642246642, 0.6541514041514042, 0.6416361416361417, 0.6098901098901099, 0.6150793650793651, 0.6355311355311355, 0.6578144078144078, 0.6098901098901099, 0.6483516483516484, 0.6272893772893773, 0.6336996336996337, 0.6486568986568987, 0.6098901098901099, 0.644078144078144, 0.6398046398046399, 0.655982905982906, 0.6361416361416361, 0.6648351648351648, 0.6098901098901099, 0.6428571428571428, 0.6282051282051282, 0.6544566544566545, 0.6095848595848596, 0.6544566544566545, 0.6428571428571429, 0.6648351648351648, 0.6526251526251526]}, {\"categories\": [\"0\", \"1\", \"2\", \"3\", \"4\", \"5\", \"6\", \"7\", \"8\", \"9\", \"10\", \"11\", \"12\", \"13\", \"14\", \"15\", \"16\", \"17\", \"18\", \"19\", \"20\", \"21\", \"22\", \"23\", \"24\", \"25\", \"26\", \"27\", \"28\", \"29\", \"30\", \"31\", \"32\", \"33\", \"34\", \"35\", \"36\", \"37\", \"38\", \"39\", \"40\", \"41\", \"42\", \"43\", \"44\", \"45\", \"46\", \"47\", \"48\", \"49\", \"50\", \"51\", \"52\", \"53\", \"54\", \"55\", \"56\", \"57\", \"58\", \"59\", \"60\", \"61\", \"62\", \"63\", \"64\", \"65\", \"66\", \"67\", \"68\", \"69\", \"70\", \"71\", \"72\", \"73\", \"74\", \"75\", \"76\", \"80\", \"81\"], \"mode\": \"lines\", \"name\": \"recall_score_weighted_max\", \"stepped\": true, \"type\": \"scatter\", \"data\": [0.6550671550671551, 0.6550671550671551, 0.6550671550671551, 0.6550671550671551, 0.6550671550671551, 0.6550671550671551, 0.6550671550671551, 0.6550671550671551, 0.6550671550671551, 0.6550671550671551, 0.6550671550671551, 0.6550671550671551, 0.6550671550671551, 0.6550671550671551, 0.6550671550671551, 0.6550671550671551, 0.6550671550671551, 0.6550671550671551, 0.6550671550671551, 0.6550671550671551, 0.6550671550671551, 0.6611721611721612, 0.6611721611721612, 0.6611721611721612, 0.6611721611721612, 0.6611721611721612, 0.6611721611721612, 0.6611721611721612, 0.6611721611721612, 0.6611721611721612, 0.6611721611721612, 0.6611721611721612, 0.6611721611721612, 0.6611721611721612, 0.6611721611721612, 0.6611721611721612, 0.6611721611721612, 0.6611721611721612, 0.6611721611721612, 0.6611721611721612, 0.6611721611721612, 0.6611721611721612, 0.6611721611721612, 0.6611721611721612, 0.6611721611721612, 0.6611721611721612, 0.6611721611721612, 0.6611721611721612, 0.6611721611721612, 0.6611721611721612, 0.6611721611721612, 0.6611721611721612, 0.6642246642246642, 0.6642246642246642, 0.6642246642246642, 0.6642246642246642, 0.6642246642246642, 0.6642246642246642, 0.6642246642246642, 0.6642246642246642, 0.6642246642246642, 0.6642246642246642, 0.6642246642246642, 0.6642246642246642, 0.6642246642246642, 0.6642246642246642, 0.6642246642246642, 0.6642246642246642, 0.6642246642246642, 0.6648351648351648, 0.6648351648351648, 0.6648351648351648, 0.6648351648351648, 0.6648351648351648, 0.6648351648351648, 0.6648351648351648, 0.6648351648351648, 0.6648351648351648, 0.6648351648351648]}], \"recall_score_micro\": [{\"categories\": [\"0\", \"1\", \"2\", \"3\", \"4\", \"5\", \"6\", \"7\", \"8\", \"9\", \"10\", \"11\", \"12\", \"13\", \"14\", \"15\", \"16\", \"17\", \"18\", \"19\", \"20\", \"21\", \"22\", \"23\", \"24\", \"25\", \"26\", \"27\", \"28\", \"29\", \"30\", \"31\", \"32\", \"33\", \"34\", \"35\", \"36\", \"37\", \"38\", \"39\", \"40\", \"41\", \"42\", \"43\", \"44\", \"45\", \"46\", \"47\", \"48\", \"49\", \"50\", \"51\", \"52\", \"53\", \"54\", \"55\", \"56\", \"57\", \"58\", \"59\", \"60\", \"61\", \"62\", \"63\", \"64\", \"65\", \"66\", \"67\", \"68\", \"69\", \"70\", \"71\", \"72\", \"73\", \"74\", \"75\", \"76\", \"80\", \"81\"], \"mode\": \"markers\", \"name\": \"recall_score_micro\", \"stepped\": false, \"type\": \"scatter\", \"data\": [0.6550671550671551, 0.6367521367521367, 0.6123321123321124, 0.6285103785103785, 0.6163003663003663, 0.597985347985348, 0.6282051282051282, 0.5781440781440782, 0.6535409035409036, 0.6266788766788767, 0.6105006105006106, 0.6388888888888888, 0.6132478632478633, 0.5772283272283273, 0.5802808302808303, 0.6123321123321124, 0.6333943833943834, 0.6132478632478633, 0.6163003663003663, 0.5802808302808303, 0.6459096459096458, 0.6611721611721612, 0.6398046398046399, 0.4908424908424909, 0.608974358974359, 0.6556776556776557, 0.6105006105006106, 0.6538461538461539, 0.6452991452991453, 0.5711233211233212, 0.6098901098901099, 0.6434676434676435, 0.648962148962149, 0.6474358974358975, 0.6553724053724054, 0.6098901098901099, 0.6105006105006106, 0.4911477411477412, 0.652014652014652, 0.645909645909646, 0.6098901098901099, 0.6413308913308914, 0.6343101343101343, 0.6098901098901099, 0.6388888888888888, 0.6416361416361416, 0.6575091575091575, 0.6465201465201466, 0.6321733821733821, 0.6608669108669109, 0.6098901098901099, 0.6578144078144078, 0.6642246642246642, 0.6541514041514042, 0.6416361416361417, 0.6098901098901099, 0.6150793650793651, 0.6355311355311355, 0.6578144078144078, 0.6098901098901099, 0.6483516483516484, 0.6272893772893773, 0.6336996336996337, 0.6486568986568987, 0.6098901098901099, 0.644078144078144, 0.6398046398046399, 0.655982905982906, 0.6361416361416361, 0.6648351648351648, 0.6098901098901099, 0.6428571428571428, 0.6282051282051282, 0.6544566544566545, 0.6095848595848596, 0.6544566544566545, 0.6428571428571429, 0.6648351648351648, 0.6526251526251526]}, {\"categories\": [\"0\", \"1\", \"2\", \"3\", \"4\", \"5\", \"6\", \"7\", \"8\", \"9\", \"10\", \"11\", \"12\", \"13\", \"14\", \"15\", \"16\", \"17\", \"18\", \"19\", \"20\", \"21\", \"22\", \"23\", \"24\", \"25\", \"26\", \"27\", \"28\", \"29\", \"30\", \"31\", \"32\", \"33\", \"34\", \"35\", \"36\", \"37\", \"38\", \"39\", \"40\", \"41\", \"42\", \"43\", \"44\", \"45\", \"46\", \"47\", \"48\", \"49\", \"50\", \"51\", \"52\", \"53\", \"54\", \"55\", \"56\", \"57\", \"58\", \"59\", \"60\", \"61\", \"62\", \"63\", \"64\", \"65\", \"66\", \"67\", \"68\", \"69\", \"70\", \"71\", \"72\", \"73\", \"74\", \"75\", \"76\", \"80\", \"81\"], \"mode\": \"lines\", \"name\": \"recall_score_micro_max\", \"stepped\": true, \"type\": \"scatter\", \"data\": [0.6550671550671551, 0.6550671550671551, 0.6550671550671551, 0.6550671550671551, 0.6550671550671551, 0.6550671550671551, 0.6550671550671551, 0.6550671550671551, 0.6550671550671551, 0.6550671550671551, 0.6550671550671551, 0.6550671550671551, 0.6550671550671551, 0.6550671550671551, 0.6550671550671551, 0.6550671550671551, 0.6550671550671551, 0.6550671550671551, 0.6550671550671551, 0.6550671550671551, 0.6550671550671551, 0.6611721611721612, 0.6611721611721612, 0.6611721611721612, 0.6611721611721612, 0.6611721611721612, 0.6611721611721612, 0.6611721611721612, 0.6611721611721612, 0.6611721611721612, 0.6611721611721612, 0.6611721611721612, 0.6611721611721612, 0.6611721611721612, 0.6611721611721612, 0.6611721611721612, 0.6611721611721612, 0.6611721611721612, 0.6611721611721612, 0.6611721611721612, 0.6611721611721612, 0.6611721611721612, 0.6611721611721612, 0.6611721611721612, 0.6611721611721612, 0.6611721611721612, 0.6611721611721612, 0.6611721611721612, 0.6611721611721612, 0.6611721611721612, 0.6611721611721612, 0.6611721611721612, 0.6642246642246642, 0.6642246642246642, 0.6642246642246642, 0.6642246642246642, 0.6642246642246642, 0.6642246642246642, 0.6642246642246642, 0.6642246642246642, 0.6642246642246642, 0.6642246642246642, 0.6642246642246642, 0.6642246642246642, 0.6642246642246642, 0.6642246642246642, 0.6642246642246642, 0.6642246642246642, 0.6642246642246642, 0.6648351648351648, 0.6648351648351648, 0.6648351648351648, 0.6648351648351648, 0.6648351648351648, 0.6648351648351648, 0.6648351648351648, 0.6648351648351648, 0.6648351648351648, 0.6648351648351648]}], \"f1_score_macro\": [{\"categories\": [\"0\", \"1\", \"2\", \"3\", \"4\", \"5\", \"6\", \"7\", \"8\", \"9\", \"10\", \"11\", \"12\", \"13\", \"14\", \"15\", \"16\", \"17\", \"18\", \"19\", \"20\", \"21\", \"22\", \"23\", \"24\", \"25\", \"26\", \"27\", \"28\", \"29\", \"30\", \"31\", \"32\", \"33\", \"34\", \"35\", \"36\", \"37\", \"38\", \"39\", \"40\", \"41\", \"42\", \"43\", \"44\", \"45\", \"46\", \"47\", \"48\", \"49\", \"50\", \"51\", \"52\", \"53\", \"54\", \"55\", \"56\", \"57\", \"58\", \"59\", \"60\", \"61\", \"62\", \"63\", \"64\", \"65\", \"66\", \"67\", \"68\", \"69\", \"70\", \"71\", \"72\", \"73\", \"74\", \"75\", \"76\", \"80\", \"81\"], \"mode\": \"markers\", \"name\": \"f1_score_macro\", \"stepped\": false, \"type\": \"scatter\", \"data\": [0.6099483533626852, 0.5411403312382688, 0.38698868002794024, 0.523490114361073, 0.4581316035286606, 0.47525331428859136, 0.5140110539681865, 0.5555133854133921, 0.5708810829554398, 0.5003403559500169, 0.38562277685953505, 0.5184248039336534, 0.5213161612680821, 0.5105717016917956, 0.5631177988554174, 0.5332742240395832, 0.46049037413704624, 0.5970060206371558, 0.46258325285447094, 0.5645222446270958, 0.5670295871143131, 0.588430260276802, 0.5448120657406537, 0.48444602532957015, 0.5914191534825896, 0.5779318912146365, 0.38562277685953505, 0.5838128207600021, 0.58515828709032, 0.5594106616673389, 0.37881853499324264, 0.5067776624235982, 0.5433435022845956, 0.5400482030910513, 0.5677622377449054, 0.37881853499324264, 0.3834960464104959, 0.48471320881764585, 0.5615528800445272, 0.5852236499814177, 0.37881853499324264, 0.5498049130413766, 0.5842747094140469, 0.37881853499324264, 0.5488948448250978, 0.5957174885319326, 0.5782198884785231, 0.5491921637110764, 0.500632827742765, 0.5762397137110453, 0.37881853499324264, 0.5643760154199972, 0.6072364911739638, 0.6044637479141566, 0.5977383485441622, 0.37881853499324264, 0.40684217828099506, 0.5140693012500278, 0.5737376006140833, 0.37881853499324264, 0.52626177846366, 0.43557896814839614, 0.5003939920224011, 0.596086375588722, 0.37881853499324264, 0.5742850606371788, 0.5308740331671654, 0.595601815096746, 0.486813374277147, 0.5918350400614482, 0.37881853499324264, 0.5517431062457846, 0.5322291333983681, 0.5768383349771098, 0.3787022830330877, 0.5805630929628455, 0.562438514260538, 0.5682760728347397, 0.5500767644563253]}, {\"categories\": [\"0\", \"1\", \"2\", \"3\", \"4\", \"5\", \"6\", \"7\", \"8\", \"9\", \"10\", \"11\", \"12\", \"13\", \"14\", \"15\", \"16\", \"17\", \"18\", \"19\", \"20\", \"21\", \"22\", \"23\", \"24\", \"25\", \"26\", \"27\", \"28\", \"29\", \"30\", \"31\", \"32\", \"33\", \"34\", \"35\", \"36\", \"37\", \"38\", \"39\", \"40\", \"41\", \"42\", \"43\", \"44\", \"45\", \"46\", \"47\", \"48\", \"49\", \"50\", \"51\", \"52\", \"53\", \"54\", \"55\", \"56\", \"57\", \"58\", \"59\", \"60\", \"61\", \"62\", \"63\", \"64\", \"65\", \"66\", \"67\", \"68\", \"69\", \"70\", \"71\", \"72\", \"73\", \"74\", \"75\", \"76\", \"80\", \"81\"], \"mode\": \"lines\", \"name\": \"f1_score_macro_max\", \"stepped\": true, \"type\": \"scatter\", \"data\": [0.6099483533626852, 0.6099483533626852, 0.6099483533626852, 0.6099483533626852, 0.6099483533626852, 0.6099483533626852, 0.6099483533626852, 0.6099483533626852, 0.6099483533626852, 0.6099483533626852, 0.6099483533626852, 0.6099483533626852, 0.6099483533626852, 0.6099483533626852, 0.6099483533626852, 0.6099483533626852, 0.6099483533626852, 0.6099483533626852, 0.6099483533626852, 0.6099483533626852, 0.6099483533626852, 0.6099483533626852, 0.6099483533626852, 0.6099483533626852, 0.6099483533626852, 0.6099483533626852, 0.6099483533626852, 0.6099483533626852, 0.6099483533626852, 0.6099483533626852, 0.6099483533626852, 0.6099483533626852, 0.6099483533626852, 0.6099483533626852, 0.6099483533626852, 0.6099483533626852, 0.6099483533626852, 0.6099483533626852, 0.6099483533626852, 0.6099483533626852, 0.6099483533626852, 0.6099483533626852, 0.6099483533626852, 0.6099483533626852, 0.6099483533626852, 0.6099483533626852, 0.6099483533626852, 0.6099483533626852, 0.6099483533626852, 0.6099483533626852, 0.6099483533626852, 0.6099483533626852, 0.6099483533626852, 0.6099483533626852, 0.6099483533626852, 0.6099483533626852, 0.6099483533626852, 0.6099483533626852, 0.6099483533626852, 0.6099483533626852, 0.6099483533626852, 0.6099483533626852, 0.6099483533626852, 0.6099483533626852, 0.6099483533626852, 0.6099483533626852, 0.6099483533626852, 0.6099483533626852, 0.6099483533626852, 0.6099483533626852, 0.6099483533626852, 0.6099483533626852, 0.6099483533626852, 0.6099483533626852, 0.6099483533626852, 0.6099483533626852, 0.6099483533626852, 0.6099483533626852, 0.6099483533626852]}], \"precision_score_weighted\": [{\"categories\": [\"0\", \"1\", \"2\", \"3\", \"4\", \"5\", \"6\", \"7\", \"8\", \"9\", \"10\", \"11\", \"12\", \"13\", \"14\", \"15\", \"16\", \"17\", \"18\", \"19\", \"20\", \"21\", \"22\", \"23\", \"24\", \"25\", \"26\", \"27\", \"28\", \"29\", \"30\", \"31\", \"32\", \"33\", \"34\", \"35\", \"36\", \"37\", \"38\", \"39\", \"40\", \"41\", \"42\", \"43\", \"44\", \"45\", \"46\", \"47\", \"48\", \"49\", \"50\", \"51\", \"52\", \"53\", \"54\", \"55\", \"56\", \"57\", \"58\", \"59\", \"60\", \"61\", \"62\", \"63\", \"64\", \"65\", \"66\", \"67\", \"68\", \"69\", \"70\", \"71\", \"72\", \"73\", \"74\", \"75\", \"76\", \"80\", \"81\"], \"mode\": \"markers\", \"name\": \"precision_score_weighted\", \"stepped\": false, \"type\": \"scatter\", \"data\": [0.6445558518964102, 0.6266665976772968, 0.605577760095806, 0.6158821265641893, 0.5947186050380597, 0.5560255257168433, 0.6114972288713161, 0.5773727165126796, 0.6482338423384101, 0.6142216140380379, 0.6404608344123858, 0.6395109376583338, 0.5851712781892014, 0.5490026083609759, 0.5850044670132636, 0.5885047442729837, 0.6910939168352171, 0.6172096732902995, 0.6035089400095376, 0.5869119720148823, 0.6371252336711274, 0.6556457929343821, 0.6292752137157606, 0.515383993035461, 0.6116425542373166, 0.6496149306835254, 0.6404608344123858, 0.646551426281655, 0.6327368484016301, 0.5832088465565263, 0.37205371958119215, 0.6695707253223633, 0.6544897308365173, 0.6538383551643587, 0.656261427483414, 0.37205371958119215, 0.5329473600199032, 0.5156196117433965, 0.6514026275023682, 0.633915648921394, 0.37205371958119215, 0.63093330711194, 0.6198958636256272, 0.37205371958119215, 0.6282479469710346, 0.6286609508853455, 0.6533783512050719, 0.6437844225606196, 0.6295742393272618, 0.6635037255884983, 0.37205371958119215, 0.6655457512195481, 0.6560844265771832, 0.643308393457844, 0.6290534307181006, 0.37205371958119215, 0.630911910944849, 0.6363702600814268, 0.6560050650760437, 0.37205371958119215, 0.664814364752326, 0.7077783644393997, 0.6390903291894319, 0.6359459806489394, 0.37205371958119215, 0.6311333217517225, 0.6366146626066114, 0.6448874143055695, 0.6669487506245458, 0.6622394226563654, 0.37205371958119215, 0.6337723456224104, 0.6123036636116276, 0.6479648965042593, 0.3719818013904999, 0.6473864297727777, 0.6315799372858715, 0.6804527087761839, 0.6903097377438732]}, {\"categories\": [\"0\", \"1\", \"2\", \"3\", \"4\", \"5\", \"6\", \"7\", \"8\", \"9\", \"10\", \"11\", \"12\", \"13\", \"14\", \"15\", \"16\", \"17\", \"18\", \"19\", \"20\", \"21\", \"22\", \"23\", \"24\", \"25\", \"26\", \"27\", \"28\", \"29\", \"30\", \"31\", \"32\", \"33\", \"34\", \"35\", \"36\", \"37\", \"38\", \"39\", \"40\", \"41\", \"42\", \"43\", \"44\", \"45\", \"46\", \"47\", \"48\", \"49\", \"50\", \"51\", \"52\", \"53\", \"54\", \"55\", \"56\", \"57\", \"58\", \"59\", \"60\", \"61\", \"62\", \"63\", \"64\", \"65\", \"66\", \"67\", \"68\", \"69\", \"70\", \"71\", \"72\", \"73\", \"74\", \"75\", \"76\", \"80\", \"81\"], \"mode\": \"lines\", \"name\": \"precision_score_weighted_max\", \"stepped\": true, \"type\": \"scatter\", \"data\": [0.6445558518964102, 0.6445558518964102, 0.6445558518964102, 0.6445558518964102, 0.6445558518964102, 0.6445558518964102, 0.6445558518964102, 0.6445558518964102, 0.6482338423384101, 0.6482338423384101, 0.6482338423384101, 0.6482338423384101, 0.6482338423384101, 0.6482338423384101, 0.6482338423384101, 0.6482338423384101, 0.6910939168352171, 0.6910939168352171, 0.6910939168352171, 0.6910939168352171, 0.6910939168352171, 0.6910939168352171, 0.6910939168352171, 0.6910939168352171, 0.6910939168352171, 0.6910939168352171, 0.6910939168352171, 0.6910939168352171, 0.6910939168352171, 0.6910939168352171, 0.6910939168352171, 0.6910939168352171, 0.6910939168352171, 0.6910939168352171, 0.6910939168352171, 0.6910939168352171, 0.6910939168352171, 0.6910939168352171, 0.6910939168352171, 0.6910939168352171, 0.6910939168352171, 0.6910939168352171, 0.6910939168352171, 0.6910939168352171, 0.6910939168352171, 0.6910939168352171, 0.6910939168352171, 0.6910939168352171, 0.6910939168352171, 0.6910939168352171, 0.6910939168352171, 0.6910939168352171, 0.6910939168352171, 0.6910939168352171, 0.6910939168352171, 0.6910939168352171, 0.6910939168352171, 0.6910939168352171, 0.6910939168352171, 0.6910939168352171, 0.6910939168352171, 0.7077783644393997, 0.7077783644393997, 0.7077783644393997, 0.7077783644393997, 0.7077783644393997, 0.7077783644393997, 0.7077783644393997, 0.7077783644393997, 0.7077783644393997, 0.7077783644393997, 0.7077783644393997, 0.7077783644393997, 0.7077783644393997, 0.7077783644393997, 0.7077783644393997, 0.7077783644393997, 0.7077783644393997, 0.7077783644393997]}], \"AUC_weighted\": [{\"categories\": [\"0\", \"1\", \"2\", \"3\", \"4\", \"5\", \"6\", \"7\", \"8\", \"9\", \"10\", \"11\", \"12\", \"13\", \"14\", \"15\", \"16\", \"17\", \"18\", \"19\", \"20\", \"21\", \"22\", \"23\", \"24\", \"25\", \"26\", \"27\", \"28\", \"29\", \"30\", \"31\", \"32\", \"33\", \"34\", \"35\", \"36\", \"37\", \"38\", \"39\", \"40\", \"41\", \"42\", \"43\", \"44\", \"45\", \"46\", \"47\", \"48\", \"49\", \"50\", \"51\", \"52\", \"53\", \"54\", \"55\", \"56\", \"57\", \"58\", \"59\", \"60\", \"61\", \"62\", \"63\", \"64\", \"65\", \"66\", \"67\", \"68\", \"69\", \"70\", \"71\", \"72\", \"73\", \"74\", \"75\", \"76\", \"80\", \"81\"], \"mode\": \"markers\", \"name\": \"AUC_weighted\", \"stepped\": false, \"type\": \"scatter\", \"data\": [0.6550392343162107, 0.633821923300241, 0.5927855831947315, 0.6043949665158574, 0.5939688385032801, 0.5077979738731011, 0.5758620629797392, 0.5794500149478354, 0.6500820676701683, 0.6064166741402327, 0.49879938982437233, 0.625154207243484, 0.5731741120120978, 0.5377533196815745, 0.5818340563755565, 0.5846632420664154, 0.6182916801966211, 0.6456794362475334, 0.5625271183563292, 0.6059444113009871, 0.6364197233713649, 0.6581952218369086, 0.6382327656915566, 0.49927092241878657, 0.6457158205118311, 0.6545748633207163, 0.4987828880062408, 0.6486275013419089, 0.6507616567399318, 0.5835303349456745, 0.5026584481458986, 0.6077454774339885, 0.6652623088929721, 0.631837451439643, 0.6651169779888993, 0.4949353579593399, 0.49727161925031443, 0.4992757220876977, 0.6558438035988248, 0.650209207800606, 0.5028906589461342, 0.6308481097887472, 0.6411520781051668, 0.49781256994390816, 0.632953914457587, 0.6470915302611459, 0.6554159249294094, 0.6498641448764696, 0.59555775745539, 0.6701047968311723, 0.507295258634758, 0.6810325214415679, 0.6644745713877035, 0.6650721336558926, 0.651453851704238, 0.5189365588614958, 0.5916409363862061, 0.6278981843173828, 0.6537995263440767, 0.48379904419442804, 0.6497199261775668, 0.5992793030480787, 0.6194583774942745, 0.6592856746911414, 0.5148917726115999, 0.642141737913833, 0.6423830758254797, 0.6519924503371868, 0.6279802203242165, 0.6588329223063596, 0.515107955379081, 0.6368680620636129, 0.6152132979280736, 0.6525343245006466, 0.48450397334974515, 0.6522293362475217, 0.6325705265680236, 0.6890581737969352, 0.684834900358685]}, {\"categories\": [\"0\", \"1\", \"2\", \"3\", \"4\", \"5\", \"6\", \"7\", \"8\", \"9\", \"10\", \"11\", \"12\", \"13\", \"14\", \"15\", \"16\", \"17\", \"18\", \"19\", \"20\", \"21\", \"22\", \"23\", \"24\", \"25\", \"26\", \"27\", \"28\", \"29\", \"30\", \"31\", \"32\", \"33\", \"34\", \"35\", \"36\", \"37\", \"38\", \"39\", \"40\", \"41\", \"42\", \"43\", \"44\", \"45\", \"46\", \"47\", \"48\", \"49\", \"50\", \"51\", \"52\", \"53\", \"54\", \"55\", \"56\", \"57\", \"58\", \"59\", \"60\", \"61\", \"62\", \"63\", \"64\", \"65\", \"66\", \"67\", \"68\", \"69\", \"70\", \"71\", \"72\", \"73\", \"74\", \"75\", \"76\", \"80\", \"81\"], \"mode\": \"lines\", \"name\": \"AUC_weighted_max\", \"stepped\": true, \"type\": \"scatter\", \"data\": [0.6550392343162107, 0.6550392343162107, 0.6550392343162107, 0.6550392343162107, 0.6550392343162107, 0.6550392343162107, 0.6550392343162107, 0.6550392343162107, 0.6550392343162107, 0.6550392343162107, 0.6550392343162107, 0.6550392343162107, 0.6550392343162107, 0.6550392343162107, 0.6550392343162107, 0.6550392343162107, 0.6550392343162107, 0.6550392343162107, 0.6550392343162107, 0.6550392343162107, 0.6550392343162107, 0.6581952218369086, 0.6581952218369086, 0.6581952218369086, 0.6581952218369086, 0.6581952218369086, 0.6581952218369086, 0.6581952218369086, 0.6581952218369086, 0.6581952218369086, 0.6581952218369086, 0.6581952218369086, 0.6652623088929721, 0.6652623088929721, 0.6652623088929721, 0.6652623088929721, 0.6652623088929721, 0.6652623088929721, 0.6652623088929721, 0.6652623088929721, 0.6652623088929721, 0.6652623088929721, 0.6652623088929721, 0.6652623088929721, 0.6652623088929721, 0.6652623088929721, 0.6652623088929721, 0.6652623088929721, 0.6652623088929721, 0.6701047968311723, 0.6701047968311723, 0.6810325214415679, 0.6810325214415679, 0.6810325214415679, 0.6810325214415679, 0.6810325214415679, 0.6810325214415679, 0.6810325214415679, 0.6810325214415679, 0.6810325214415679, 0.6810325214415679, 0.6810325214415679, 0.6810325214415679, 0.6810325214415679, 0.6810325214415679, 0.6810325214415679, 0.6810325214415679, 0.6810325214415679, 0.6810325214415679, 0.6810325214415679, 0.6810325214415679, 0.6810325214415679, 0.6810325214415679, 0.6810325214415679, 0.6810325214415679, 0.6810325214415679, 0.6810325214415679, 0.6890581737969352, 0.6890581737969352]}], \"log_loss\": [{\"categories\": [\"0\", \"1\", \"2\", \"3\", \"4\", \"5\", \"6\", \"7\", \"8\", \"9\", \"10\", \"11\", \"12\", \"13\", \"14\", \"15\", \"16\", \"17\", \"18\", \"19\", \"20\", \"21\", \"22\", \"23\", \"24\", \"25\", \"26\", \"27\", \"28\", \"29\", \"30\", \"31\", \"32\", \"33\", \"34\", \"35\", \"36\", \"37\", \"38\", \"39\", \"40\", \"41\", \"42\", \"43\", \"44\", \"45\", \"46\", \"47\", \"48\", \"49\", \"50\", \"51\", \"52\", \"53\", \"54\", \"55\", \"56\", \"57\", \"58\", \"59\", \"60\", \"61\", \"62\", \"63\", \"64\", \"65\", \"66\", \"67\", \"68\", \"69\", \"70\", \"71\", \"72\", \"73\", \"74\", \"75\", \"76\", \"80\", \"81\"], \"mode\": \"markers\", \"name\": \"log_loss\", \"stepped\": false, \"type\": \"scatter\", \"data\": [0.6532678914138131, 0.6364773211518756, 0.6584901830837118, 0.6514390569178108, 0.6562475659161386, 0.6892588591838252, 0.6596459655031082, 0.6752432810799718, 0.6305802430714484, 0.6520668597931782, 0.6717786228196366, 0.6448403438973621, 0.6628275484250213, 0.9173819214401119, 0.6835100311794998, 0.6603281176517416, 0.6500865747276757, 0.6578826354623938, 0.6621481634673755, 0.6819966949113224, 0.6366305310382955, 0.6268789318280006, 0.6406946353062788, 0.6956512090021932, 0.6612633231299071, 0.6359158047129138, 0.6717783505129337, 0.6366569242566337, 0.6339339383917111, 0.6808289628835329, 0.6691773256069515, 0.6459392970339274, 0.6275677476917688, 0.6351288462760486, 0.624537800550398, 0.6698595997981371, 0.671520863850419, 0.6956430629780742, 0.6250179284482793, 0.6322775534800966, 0.6690587914840808, 0.6374324427332697, 0.6436092898525797, 0.6704754268917257, 0.6402053567040599, 0.6591288318017886, 0.6254023299071146, 0.6320014370382315, 0.6509109944625872, 0.6208978186546643, 0.6703515290451194, 0.620875467413978, 0.6252901431222032, 0.6356971239967727, 0.673581442391305, 0.6717230896849116, 0.6580859844658455, 0.6503420956790781, 0.6249548538136283, 0.6700272725578125, 0.6369293401060475, 0.6557428013558313, 0.6439196589598829, 0.6344174407417117, 0.6690258462929591, 0.6590468288169243, 0.6361429184022022, 0.6307968456110041, 0.6467355057380679, 0.6252015274664583, 0.6686218082475578, 0.6349142380647075, 0.6472553054052878, 0.626738388240082, 0.6739579227136768, 0.627325880931492, 0.6388894823569861, 0.6156478008762359, 0.6244346620953076]}, {\"categories\": [\"0\", \"1\", \"2\", \"3\", \"4\", \"5\", \"6\", \"7\", \"8\", \"9\", \"10\", \"11\", \"12\", \"13\", \"14\", \"15\", \"16\", \"17\", \"18\", \"19\", \"20\", \"21\", \"22\", \"23\", \"24\", \"25\", \"26\", \"27\", \"28\", \"29\", \"30\", \"31\", \"32\", \"33\", \"34\", \"35\", \"36\", \"37\", \"38\", \"39\", \"40\", \"41\", \"42\", \"43\", \"44\", \"45\", \"46\", \"47\", \"48\", \"49\", \"50\", \"51\", \"52\", \"53\", \"54\", \"55\", \"56\", \"57\", \"58\", \"59\", \"60\", \"61\", \"62\", \"63\", \"64\", \"65\", \"66\", \"67\", \"68\", \"69\", \"70\", \"71\", \"72\", \"73\", \"74\", \"75\", \"76\", \"80\", \"81\"], \"mode\": \"lines\", \"name\": \"log_loss_min\", \"stepped\": true, \"type\": \"scatter\", \"data\": [0.6532678914138131, 0.6364773211518756, 0.6364773211518756, 0.6364773211518756, 0.6364773211518756, 0.6364773211518756, 0.6364773211518756, 0.6364773211518756, 0.6305802430714484, 0.6305802430714484, 0.6305802430714484, 0.6305802430714484, 0.6305802430714484, 0.6305802430714484, 0.6305802430714484, 0.6305802430714484, 0.6305802430714484, 0.6305802430714484, 0.6305802430714484, 0.6305802430714484, 0.6305802430714484, 0.6268789318280006, 0.6268789318280006, 0.6268789318280006, 0.6268789318280006, 0.6268789318280006, 0.6268789318280006, 0.6268789318280006, 0.6268789318280006, 0.6268789318280006, 0.6268789318280006, 0.6268789318280006, 0.6268789318280006, 0.6268789318280006, 0.624537800550398, 0.624537800550398, 0.624537800550398, 0.624537800550398, 0.624537800550398, 0.624537800550398, 0.624537800550398, 0.624537800550398, 0.624537800550398, 0.624537800550398, 0.624537800550398, 0.624537800550398, 0.624537800550398, 0.624537800550398, 0.624537800550398, 0.6208978186546643, 0.6208978186546643, 0.620875467413978, 0.620875467413978, 0.620875467413978, 0.620875467413978, 0.620875467413978, 0.620875467413978, 0.620875467413978, 0.620875467413978, 0.620875467413978, 0.620875467413978, 0.620875467413978, 0.620875467413978, 0.620875467413978, 0.620875467413978, 0.620875467413978, 0.620875467413978, 0.620875467413978, 0.620875467413978, 0.620875467413978, 0.620875467413978, 0.620875467413978, 0.620875467413978, 0.620875467413978, 0.620875467413978, 0.620875467413978, 0.620875467413978, 0.6156478008762359, 0.6156478008762359]}], \"f1_score_weighted\": [{\"categories\": [\"0\", \"1\", \"2\", \"3\", \"4\", \"5\", \"6\", \"7\", \"8\", \"9\", \"10\", \"11\", \"12\", \"13\", \"14\", \"15\", \"16\", \"17\", \"18\", \"19\", \"20\", \"21\", \"22\", \"23\", \"24\", \"25\", \"26\", \"27\", \"28\", \"29\", \"30\", \"31\", \"32\", \"33\", \"34\", \"35\", \"36\", \"37\", \"38\", \"39\", \"40\", \"41\", \"42\", \"43\", \"44\", \"45\", \"46\", \"47\", \"48\", \"49\", \"50\", \"51\", \"52\", \"53\", \"54\", \"55\", \"56\", \"57\", \"58\", \"59\", \"60\", \"61\", \"62\", \"63\", \"64\", \"65\", \"66\", \"67\", \"68\", \"69\", \"70\", \"71\", \"72\", \"73\", \"74\", \"75\", \"76\", \"80\", \"81\"], \"mode\": \"markers\", \"name\": \"f1_score_weighted\", \"stepped\": false, \"type\": \"scatter\", \"data\": [0.6390376383999139, 0.5868592930566958, 0.46870346157875603, 0.5721114174955898, 0.5222705167887032, 0.5308388704843244, 0.5660447344855014, 0.5775655036159394, 0.6122333592345004, 0.5554200553334789, 0.4673437977365667, 0.5713787012452061, 0.5671692217451708, 0.5501985897926288, 0.5822326801250358, 0.5755510003685561, 0.5274046798838493, 0.6148659803485311, 0.5255747080200193, 0.5826175844146629, 0.6074994999841035, 0.6263491356755285, 0.5904092088347548, 0.496786531013631, 0.6101491993969069, 0.6176837127588167, 0.4673437977365667, 0.6211985767882037, 0.619757614834672, 0.5752899550534474, 0.4621431497937345, 0.5637513196325644, 0.5913103925669794, 0.5886453693063728, 0.6103341573808895, 0.4621431497937345, 0.4657181645360475, 0.49707978391420227, 0.6052622878242772, 0.6199632015848784, 0.4621431497937345, 0.5942106573721216, 0.616065293925531, 0.4621431497937345, 0.5931587659043526, 0.6256182187001681, 0.6183048918746944, 0.5951048608833779, 0.5568718364961326, 0.617749858936539, 0.4621431497937345, 0.608505206009592, 0.6400772705448067, 0.6351964438438067, 0.6269718696050625, 0.4621431497937345, 0.4839051914151387, 0.5670325513818505, 0.6151767533910938, 0.4621431497937345, 0.5790131611923525, 0.5076869653182284, 0.556673052383921, 0.6280494672131554, 0.4621431497937345, 0.6120440690404346, 0.5803561742702422, 0.6299479767685533, 0.5471718092931779, 0.6297563340911049, 0.4621431497937345, 0.5959326058918041, 0.5787728963876609, 0.6165095397981208, 0.46199879296409146, 0.6191387013503034, 0.6035133190962866, 0.6129717691197106, 0.596070426229866]}, {\"categories\": [\"0\", \"1\", \"2\", \"3\", \"4\", \"5\", \"6\", \"7\", \"8\", \"9\", \"10\", \"11\", \"12\", \"13\", \"14\", \"15\", \"16\", \"17\", \"18\", \"19\", \"20\", \"21\", \"22\", \"23\", \"24\", \"25\", \"26\", \"27\", \"28\", \"29\", \"30\", \"31\", \"32\", \"33\", \"34\", \"35\", \"36\", \"37\", \"38\", \"39\", \"40\", \"41\", \"42\", \"43\", \"44\", \"45\", \"46\", \"47\", \"48\", \"49\", \"50\", \"51\", \"52\", \"53\", \"54\", \"55\", \"56\", \"57\", \"58\", \"59\", \"60\", \"61\", \"62\", \"63\", \"64\", \"65\", \"66\", \"67\", \"68\", \"69\", \"70\", \"71\", \"72\", \"73\", \"74\", \"75\", \"76\", \"80\", \"81\"], \"mode\": \"lines\", \"name\": \"f1_score_weighted_max\", \"stepped\": true, \"type\": \"scatter\", \"data\": [0.6390376383999139, 0.6390376383999139, 0.6390376383999139, 0.6390376383999139, 0.6390376383999139, 0.6390376383999139, 0.6390376383999139, 0.6390376383999139, 0.6390376383999139, 0.6390376383999139, 0.6390376383999139, 0.6390376383999139, 0.6390376383999139, 0.6390376383999139, 0.6390376383999139, 0.6390376383999139, 0.6390376383999139, 0.6390376383999139, 0.6390376383999139, 0.6390376383999139, 0.6390376383999139, 0.6390376383999139, 0.6390376383999139, 0.6390376383999139, 0.6390376383999139, 0.6390376383999139, 0.6390376383999139, 0.6390376383999139, 0.6390376383999139, 0.6390376383999139, 0.6390376383999139, 0.6390376383999139, 0.6390376383999139, 0.6390376383999139, 0.6390376383999139, 0.6390376383999139, 0.6390376383999139, 0.6390376383999139, 0.6390376383999139, 0.6390376383999139, 0.6390376383999139, 0.6390376383999139, 0.6390376383999139, 0.6390376383999139, 0.6390376383999139, 0.6390376383999139, 0.6390376383999139, 0.6390376383999139, 0.6390376383999139, 0.6390376383999139, 0.6390376383999139, 0.6390376383999139, 0.6400772705448067, 0.6400772705448067, 0.6400772705448067, 0.6400772705448067, 0.6400772705448067, 0.6400772705448067, 0.6400772705448067, 0.6400772705448067, 0.6400772705448067, 0.6400772705448067, 0.6400772705448067, 0.6400772705448067, 0.6400772705448067, 0.6400772705448067, 0.6400772705448067, 0.6400772705448067, 0.6400772705448067, 0.6400772705448067, 0.6400772705448067, 0.6400772705448067, 0.6400772705448067, 0.6400772705448067, 0.6400772705448067, 0.6400772705448067, 0.6400772705448067, 0.6400772705448067, 0.6400772705448067]}], \"average_precision_score_micro\": [{\"categories\": [\"0\", \"1\", \"2\", \"3\", \"4\", \"5\", \"6\", \"7\", \"8\", \"9\", \"10\", \"11\", \"12\", \"13\", \"14\", \"15\", \"16\", \"17\", \"18\", \"19\", \"20\", \"21\", \"22\", \"23\", \"24\", \"25\", \"26\", \"27\", \"28\", \"29\", \"30\", \"31\", \"32\", \"33\", \"34\", \"35\", \"36\", \"37\", \"38\", \"39\", \"40\", \"41\", \"42\", \"43\", \"44\", \"45\", \"46\", \"47\", \"48\", \"49\", \"50\", \"51\", \"52\", \"53\", \"54\", \"55\", \"56\", \"57\", \"58\", \"59\", \"60\", \"61\", \"62\", \"63\", \"64\", \"65\", \"66\", \"67\", \"68\", \"69\", \"70\", \"71\", \"72\", \"73\", \"74\", \"75\", \"76\", \"80\", \"81\"], \"mode\": \"markers\", \"name\": \"average_precision_score_micro\", \"stepped\": false, \"type\": \"scatter\", \"data\": [0.6920956383390799, 0.6777944405798203, 0.6331037214262468, 0.6469605474604921, 0.6361620491086889, 0.5810498277875303, 0.6298531117890026, 0.5965902404409175, 0.6850531211272838, 0.6479668207566617, 0.5844433165295176, 0.6591379676810317, 0.6254311069496709, 0.5889724374621611, 0.5855769785644814, 0.6292684619409821, 0.6533147734517627, 0.6577679482725532, 0.6212111229300946, 0.6167742442443064, 0.675533251973952, 0.6874233814181626, 0.6748280906450298, 0.5105934317912534, 0.6565503018056119, 0.687881657212806, 0.5844715931654857, 0.6847638066897254, 0.6881343392842639, 0.5815246247387323, 0.5853050178763093, 0.6501935566734732, 0.6943233817944224, 0.6753068364975917, 0.6970634320088686, 0.5811339545698025, 0.5844017903006448, 0.510594732126555, 0.695098949544782, 0.6888285176559105, 0.5861208467122178, 0.6739081032913665, 0.676351227951487, 0.5803161511200265, 0.6676644948273976, 0.6798195114057132, 0.6944424576625968, 0.6858029754255925, 0.6478301567374801, 0.7029358567746051, 0.5860756197294652, 0.7090595596530139, 0.6975920880091685, 0.6988640778488184, 0.6816889584636824, 0.5935407657153209, 0.6301940156465214, 0.6708709717459241, 0.6944500936481757, 0.5721228409639539, 0.6809626712315948, 0.6337512210266089, 0.6653909504925064, 0.694049333943688, 0.5899307958966619, 0.6774440571437558, 0.67818203795194, 0.692461172544896, 0.6637106170024482, 0.6954021688985774, 0.591869509241797, 0.679745259439929, 0.6564268020389231, 0.6916052427818372, 0.5727936195406577, 0.6917974115122908, 0.6735564190743958, 0.7186873315301526, 0.7073789588333952]}, {\"categories\": [\"0\", \"1\", \"2\", \"3\", \"4\", \"5\", \"6\", \"7\", \"8\", \"9\", \"10\", \"11\", \"12\", \"13\", \"14\", \"15\", \"16\", \"17\", \"18\", \"19\", \"20\", \"21\", \"22\", \"23\", \"24\", \"25\", \"26\", \"27\", \"28\", \"29\", \"30\", \"31\", \"32\", \"33\", \"34\", \"35\", \"36\", \"37\", \"38\", \"39\", \"40\", \"41\", \"42\", \"43\", \"44\", \"45\", \"46\", \"47\", \"48\", \"49\", \"50\", \"51\", \"52\", \"53\", \"54\", \"55\", \"56\", \"57\", \"58\", \"59\", \"60\", \"61\", \"62\", \"63\", \"64\", \"65\", \"66\", \"67\", \"68\", \"69\", \"70\", \"71\", \"72\", \"73\", \"74\", \"75\", \"76\", \"80\", \"81\"], \"mode\": \"lines\", \"name\": \"average_precision_score_micro_max\", \"stepped\": true, \"type\": \"scatter\", \"data\": [0.6920956383390799, 0.6920956383390799, 0.6920956383390799, 0.6920956383390799, 0.6920956383390799, 0.6920956383390799, 0.6920956383390799, 0.6920956383390799, 0.6920956383390799, 0.6920956383390799, 0.6920956383390799, 0.6920956383390799, 0.6920956383390799, 0.6920956383390799, 0.6920956383390799, 0.6920956383390799, 0.6920956383390799, 0.6920956383390799, 0.6920956383390799, 0.6920956383390799, 0.6920956383390799, 0.6920956383390799, 0.6920956383390799, 0.6920956383390799, 0.6920956383390799, 0.6920956383390799, 0.6920956383390799, 0.6920956383390799, 0.6920956383390799, 0.6920956383390799, 0.6920956383390799, 0.6920956383390799, 0.6943233817944224, 0.6943233817944224, 0.6970634320088686, 0.6970634320088686, 0.6970634320088686, 0.6970634320088686, 0.6970634320088686, 0.6970634320088686, 0.6970634320088686, 0.6970634320088686, 0.6970634320088686, 0.6970634320088686, 0.6970634320088686, 0.6970634320088686, 0.6970634320088686, 0.6970634320088686, 0.6970634320088686, 0.7029358567746051, 0.7029358567746051, 0.7090595596530139, 0.7090595596530139, 0.7090595596530139, 0.7090595596530139, 0.7090595596530139, 0.7090595596530139, 0.7090595596530139, 0.7090595596530139, 0.7090595596530139, 0.7090595596530139, 0.7090595596530139, 0.7090595596530139, 0.7090595596530139, 0.7090595596530139, 0.7090595596530139, 0.7090595596530139, 0.7090595596530139, 0.7090595596530139, 0.7090595596530139, 0.7090595596530139, 0.7090595596530139, 0.7090595596530139, 0.7090595596530139, 0.7090595596530139, 0.7090595596530139, 0.7090595596530139, 0.7186873315301526, 0.7186873315301526]}], \"average_precision_score_weighted\": [{\"categories\": [\"0\", \"1\", \"2\", \"3\", \"4\", \"5\", \"6\", \"7\", \"8\", \"9\", \"10\", \"11\", \"12\", \"13\", \"14\", \"15\", \"16\", \"17\", \"18\", \"19\", \"20\", \"21\", \"22\", \"23\", \"24\", \"25\", \"26\", \"27\", \"28\", \"29\", \"30\", \"31\", \"32\", \"33\", \"34\", \"35\", \"36\", \"37\", \"38\", \"39\", \"40\", \"41\", \"42\", \"43\", \"44\", \"45\", \"46\", \"47\", \"48\", \"49\", \"50\", \"51\", \"52\", \"53\", \"54\", \"55\", \"56\", \"57\", \"58\", \"59\", \"60\", \"61\", \"62\", \"63\", \"64\", \"65\", \"66\", \"67\", \"68\", \"69\", \"70\", \"71\", \"72\", \"73\", \"74\", \"75\", \"76\", \"80\", \"81\"], \"mode\": \"markers\", \"name\": \"average_precision_score_weighted\", \"stepped\": false, \"type\": \"scatter\", \"data\": [0.6748075738376942, 0.6509771340389873, 0.6107142959071468, 0.6197241036934488, 0.6026348288331353, 0.5332276010448681, 0.597412469369896, 0.5978526316899798, 0.6671180849232335, 0.6206264906377594, 0.5342581605501499, 0.6351361461410369, 0.5910011653485393, 0.5586010743687038, 0.6004305554286152, 0.6029042759970347, 0.6368751511693745, 0.6629104577810646, 0.5844830266597405, 0.624113757176024, 0.6526974419329046, 0.6671477386493111, 0.6532481570699168, 0.5337654738670324, 0.6659586416708292, 0.6675222719191863, 0.534266939974093, 0.6633844117380511, 0.6677886718228404, 0.5946977422413627, 0.5302000695586017, 0.6274747390444411, 0.6750870835719757, 0.6513633231750452, 0.6762962426718633, 0.5210781897385582, 0.5334091552210541, 0.5337720356908978, 0.6725747950664007, 0.6688524412790224, 0.5282232098171082, 0.6492440637300493, 0.6560715941821237, 0.5222718522271472, 0.6493313149164824, 0.661663829008111, 0.6731689745828145, 0.6649182145428347, 0.617143331036662, 0.6825257394537326, 0.5298231258266067, 0.692569500908654, 0.6786952693969995, 0.6806367380099286, 0.6638394942369449, 0.5394321141785858, 0.6030808427974231, 0.6455897119724202, 0.6723520246044744, 0.5120605925700845, 0.6676615692870328, 0.614116126369442, 0.6384303972189674, 0.6742945865811766, 0.5388305611916521, 0.6564906306107561, 0.6579031908650582, 0.6714133636953404, 0.6455410860304832, 0.6751316338811525, 0.53836411741614, 0.6540289001379553, 0.6306897954599356, 0.6701888910555782, 0.5120199196296579, 0.670286302632293, 0.6499450429452426, 0.7037247615894424, 0.7012684302754675]}, {\"categories\": [\"0\", \"1\", \"2\", \"3\", \"4\", \"5\", \"6\", \"7\", \"8\", \"9\", \"10\", \"11\", \"12\", \"13\", \"14\", \"15\", \"16\", \"17\", \"18\", \"19\", \"20\", \"21\", \"22\", \"23\", \"24\", \"25\", \"26\", \"27\", \"28\", \"29\", \"30\", \"31\", \"32\", \"33\", \"34\", \"35\", \"36\", \"37\", \"38\", \"39\", \"40\", \"41\", \"42\", \"43\", \"44\", \"45\", \"46\", \"47\", \"48\", \"49\", \"50\", \"51\", \"52\", \"53\", \"54\", \"55\", \"56\", \"57\", \"58\", \"59\", \"60\", \"61\", \"62\", \"63\", \"64\", \"65\", \"66\", \"67\", \"68\", \"69\", \"70\", \"71\", \"72\", \"73\", \"74\", \"75\", \"76\", \"80\", \"81\"], \"mode\": \"lines\", \"name\": \"average_precision_score_weighted_max\", \"stepped\": true, \"type\": \"scatter\", \"data\": [0.6748075738376942, 0.6748075738376942, 0.6748075738376942, 0.6748075738376942, 0.6748075738376942, 0.6748075738376942, 0.6748075738376942, 0.6748075738376942, 0.6748075738376942, 0.6748075738376942, 0.6748075738376942, 0.6748075738376942, 0.6748075738376942, 0.6748075738376942, 0.6748075738376942, 0.6748075738376942, 0.6748075738376942, 0.6748075738376942, 0.6748075738376942, 0.6748075738376942, 0.6748075738376942, 0.6748075738376942, 0.6748075738376942, 0.6748075738376942, 0.6748075738376942, 0.6748075738376942, 0.6748075738376942, 0.6748075738376942, 0.6748075738376942, 0.6748075738376942, 0.6748075738376942, 0.6748075738376942, 0.6750870835719757, 0.6750870835719757, 0.6762962426718633, 0.6762962426718633, 0.6762962426718633, 0.6762962426718633, 0.6762962426718633, 0.6762962426718633, 0.6762962426718633, 0.6762962426718633, 0.6762962426718633, 0.6762962426718633, 0.6762962426718633, 0.6762962426718633, 0.6762962426718633, 0.6762962426718633, 0.6762962426718633, 0.6825257394537326, 0.6825257394537326, 0.692569500908654, 0.692569500908654, 0.692569500908654, 0.692569500908654, 0.692569500908654, 0.692569500908654, 0.692569500908654, 0.692569500908654, 0.692569500908654, 0.692569500908654, 0.692569500908654, 0.692569500908654, 0.692569500908654, 0.692569500908654, 0.692569500908654, 0.692569500908654, 0.692569500908654, 0.692569500908654, 0.692569500908654, 0.692569500908654, 0.692569500908654, 0.692569500908654, 0.692569500908654, 0.692569500908654, 0.692569500908654, 0.692569500908654, 0.7037247615894424, 0.7037247615894424]}], \"norm_macro_recall\": [{\"categories\": [\"0\", \"1\", \"2\", \"3\", \"4\", \"5\", \"6\", \"7\", \"8\", \"9\", \"10\", \"11\", \"12\", \"13\", \"14\", \"15\", \"16\", \"17\", \"18\", \"19\", \"20\", \"21\", \"22\", \"23\", \"24\", \"25\", \"26\", \"27\", \"28\", \"29\", \"30\", \"31\", \"32\", \"33\", \"34\", \"35\", \"36\", \"37\", \"38\", \"39\", \"40\", \"41\", \"42\", \"43\", \"44\", \"45\", \"46\", \"47\", \"48\", \"49\", \"50\", \"51\", \"52\", \"53\", \"54\", \"55\", \"56\", \"57\", \"58\", \"59\", \"60\", \"61\", \"62\", \"63\", \"64\", \"65\", \"66\", \"67\", \"68\", \"69\", \"70\", \"71\", \"72\", \"73\", \"74\", \"75\", \"76\", \"80\", \"81\"], \"mode\": \"markers\", \"name\": \"norm_macro_recall\", \"stepped\": false, \"type\": \"scatter\", \"data\": [0.22030140436642567, 0.12901208670616082, 0.0068644762586027586, 0.10686026655910778, 0.04689592373854327, 0.03421477777641976, 0.09622414828357595, 0.11103390181061057, 0.1712773510836961, 0.08602088565219808, 0.0036563575374312465, 0.11210670484086238, 0.0872800957506612, 0.04308256147616252, 0.1279937445173612, 0.09719825423849993, 0.07040809198473186, 0.19607844426498575, 0.048993988955888135, 0.13250931507605754, 0.16169833435210199, 0.196104502172766, 0.13456060053509603, 0.0, 0.1843534869250544, 0.18022212163025805, 0.0036563575374312465, 0.18552621871995165, 0.18128621035959416, 0.12495128657785881, 0.0, 0.10974071923879054, 0.14374399233904303, 0.1387132684425841, 0.17058940247451915, 0.0, 0.0027937237350437925, 0.0, 0.16107935697923784, 0.18177485541277036, 0.0, 0.14102034191780288, 0.17298715053678948, 0.0, 0.13698676580098126, 0.1933045514932373, 0.18226204106621502, 0.14506538791441334, 0.09202707635582574, 0.1833428060756285, 0.0, 0.16981586239118193, 0.22083676305019928, 0.2117757417449826, 0.19613645934551172, 0.0, 0.019367634551527308, 0.10704653717870705, 0.17839769301650366, 0.0, 0.12875842233601853, 0.0495834064693789, 0.09528196410301522, 0.19726165042923519, 0.0, 0.16720474464857213, 0.12326459400807128, 0.20051400724361002, 0.08995175708746395, 0.20249972263732055, 0.0, 0.1441251615721578, 0.11149002264812753, 0.17855127535148418, 0.0, 0.18238503278701432, 0.15417030744714366, 0.18004700829351913, 0.16351422358749143]}, {\"categories\": [\"0\", \"1\", \"2\", \"3\", \"4\", \"5\", \"6\", \"7\", \"8\", \"9\", \"10\", \"11\", \"12\", \"13\", \"14\", \"15\", \"16\", \"17\", \"18\", \"19\", \"20\", \"21\", \"22\", \"23\", \"24\", \"25\", \"26\", \"27\", \"28\", \"29\", \"30\", \"31\", \"32\", \"33\", \"34\", \"35\", \"36\", \"37\", \"38\", \"39\", \"40\", \"41\", \"42\", \"43\", \"44\", \"45\", \"46\", \"47\", \"48\", \"49\", \"50\", \"51\", \"52\", \"53\", \"54\", \"55\", \"56\", \"57\", \"58\", \"59\", \"60\", \"61\", \"62\", \"63\", \"64\", \"65\", \"66\", \"67\", \"68\", \"69\", \"70\", \"71\", \"72\", \"73\", \"74\", \"75\", \"76\", \"80\", \"81\"], \"mode\": \"lines\", \"name\": \"norm_macro_recall_max\", \"stepped\": true, \"type\": \"scatter\", \"data\": [0.22030140436642567, 0.22030140436642567, 0.22030140436642567, 0.22030140436642567, 0.22030140436642567, 0.22030140436642567, 0.22030140436642567, 0.22030140436642567, 0.22030140436642567, 0.22030140436642567, 0.22030140436642567, 0.22030140436642567, 0.22030140436642567, 0.22030140436642567, 0.22030140436642567, 0.22030140436642567, 0.22030140436642567, 0.22030140436642567, 0.22030140436642567, 0.22030140436642567, 0.22030140436642567, 0.22030140436642567, 0.22030140436642567, 0.22030140436642567, 0.22030140436642567, 0.22030140436642567, 0.22030140436642567, 0.22030140436642567, 0.22030140436642567, 0.22030140436642567, 0.22030140436642567, 0.22030140436642567, 0.22030140436642567, 0.22030140436642567, 0.22030140436642567, 0.22030140436642567, 0.22030140436642567, 0.22030140436642567, 0.22030140436642567, 0.22030140436642567, 0.22030140436642567, 0.22030140436642567, 0.22030140436642567, 0.22030140436642567, 0.22030140436642567, 0.22030140436642567, 0.22030140436642567, 0.22030140436642567, 0.22030140436642567, 0.22030140436642567, 0.22030140436642567, 0.22030140436642567, 0.22083676305019928, 0.22083676305019928, 0.22083676305019928, 0.22083676305019928, 0.22083676305019928, 0.22083676305019928, 0.22083676305019928, 0.22083676305019928, 0.22083676305019928, 0.22083676305019928, 0.22083676305019928, 0.22083676305019928, 0.22083676305019928, 0.22083676305019928, 0.22083676305019928, 0.22083676305019928, 0.22083676305019928, 0.22083676305019928, 0.22083676305019928, 0.22083676305019928, 0.22083676305019928, 0.22083676305019928, 0.22083676305019928, 0.22083676305019928, 0.22083676305019928, 0.22083676305019928, 0.22083676305019928]}], \"weighted_accuracy\": [{\"categories\": [\"0\", \"1\", \"2\", \"3\", \"4\", \"5\", \"6\", \"7\", \"8\", \"9\", \"10\", \"11\", \"12\", \"13\", \"14\", \"15\", \"16\", \"17\", \"18\", \"19\", \"20\", \"21\", \"22\", \"23\", \"24\", \"25\", \"26\", \"27\", \"28\", \"29\", \"30\", \"31\", \"32\", \"33\", \"34\", \"35\", \"36\", \"37\", \"38\", \"39\", \"40\", \"41\", \"42\", \"43\", \"44\", \"45\", \"46\", \"47\", \"48\", \"49\", \"50\", \"51\", \"52\", \"53\", \"54\", \"55\", \"56\", \"57\", \"58\", \"59\", \"60\", \"61\", \"62\", \"63\", \"64\", \"65\", \"66\", \"67\", \"68\", \"69\", \"70\", \"71\", \"72\", \"73\", \"74\", \"75\", \"76\", \"80\", \"81\"], \"mode\": \"markers\", \"name\": \"weighted_accuracy\", \"stepped\": false, \"type\": \"scatter\", \"data\": [0.6958261684549919, 0.7023110034068857, 0.7110023831656852, 0.6966705141452856, 0.7004826419937779, 0.6713224401356469, 0.7007569125166525, 0.598563034852538, 0.7151055132865748, 0.7025279323780799, 0.7089894517213727, 0.7139476955226662, 0.6763730524738841, 0.6277203198152504, 0.5950489900248849, 0.6700936731561914, 0.7224064618160361, 0.6270156048722969, 0.6995389985048382, 0.5929295920809335, 0.7049393413928278, 0.7184144358266596, 0.7055731373031465, 0.4909234366238368, 0.6241380667067173, 0.7151294549587056, 0.7089894517213727, 0.7092515800711165, 0.694893988575182, 0.5789598435887834, 0.7094562687688871, 0.7237907426171771, 0.7188985751753735, 0.7182628107678747, 0.718952138212666, 0.7094562687688871, 0.709361938496702, 0.49127887764247635, 0.71683491062491, 0.6958408260263674, 0.7094562687688871, 0.7055772693324865, 0.6776561454052846, 0.7094562687688871, 0.7027099010982251, 0.6824362957089405, 0.7177088883536786, 0.7136201339347755, 0.7102822878267641, 0.7236325036219258, 0.7094562687688871, 0.7239600680209796, 0.7130355691877567, 0.6979425974233813, 0.681136250492302, 0.7094562687688871, 0.7106055569116814, 0.7099432720914051, 0.7200537295596915, 0.7094562687688871, 0.7244846332946403, 0.7201937167834619, 0.7117775495629365, 0.6940331193225338, 0.7094562687688871, 0.698921183307335, 0.710710803315742, 0.7065006497329501, 0.7188437230807044, 0.7224937271481834, 0.7094562687688871, 0.7070804223493345, 0.6939093456519285, 0.7135827849323411, 0.7090981525237202, 0.7118426240147517, 0.7025250620577723, 0.7326948279816136, 0.7169907673005258]}, {\"categories\": [\"0\", \"1\", \"2\", \"3\", \"4\", \"5\", \"6\", \"7\", \"8\", \"9\", \"10\", \"11\", \"12\", \"13\", \"14\", \"15\", \"16\", \"17\", \"18\", \"19\", \"20\", \"21\", \"22\", \"23\", \"24\", \"25\", \"26\", \"27\", \"28\", \"29\", \"30\", \"31\", \"32\", \"33\", \"34\", \"35\", \"36\", \"37\", \"38\", \"39\", \"40\", \"41\", \"42\", \"43\", \"44\", \"45\", \"46\", \"47\", \"48\", \"49\", \"50\", \"51\", \"52\", \"53\", \"54\", \"55\", \"56\", \"57\", \"58\", \"59\", \"60\", \"61\", \"62\", \"63\", \"64\", \"65\", \"66\", \"67\", \"68\", \"69\", \"70\", \"71\", \"72\", \"73\", \"74\", \"75\", \"76\", \"80\", \"81\"], \"mode\": \"lines\", \"name\": \"weighted_accuracy_max\", \"stepped\": true, \"type\": \"scatter\", \"data\": [0.6958261684549919, 0.7023110034068857, 0.7110023831656852, 0.7110023831656852, 0.7110023831656852, 0.7110023831656852, 0.7110023831656852, 0.7110023831656852, 0.7151055132865748, 0.7151055132865748, 0.7151055132865748, 0.7151055132865748, 0.7151055132865748, 0.7151055132865748, 0.7151055132865748, 0.7151055132865748, 0.7224064618160361, 0.7224064618160361, 0.7224064618160361, 0.7224064618160361, 0.7224064618160361, 0.7224064618160361, 0.7224064618160361, 0.7224064618160361, 0.7224064618160361, 0.7224064618160361, 0.7224064618160361, 0.7224064618160361, 0.7224064618160361, 0.7224064618160361, 0.7224064618160361, 0.7237907426171771, 0.7237907426171771, 0.7237907426171771, 0.7237907426171771, 0.7237907426171771, 0.7237907426171771, 0.7237907426171771, 0.7237907426171771, 0.7237907426171771, 0.7237907426171771, 0.7237907426171771, 0.7237907426171771, 0.7237907426171771, 0.7237907426171771, 0.7237907426171771, 0.7237907426171771, 0.7237907426171771, 0.7237907426171771, 0.7237907426171771, 0.7237907426171771, 0.7239600680209796, 0.7239600680209796, 0.7239600680209796, 0.7239600680209796, 0.7239600680209796, 0.7239600680209796, 0.7239600680209796, 0.7239600680209796, 0.7239600680209796, 0.7244846332946403, 0.7244846332946403, 0.7244846332946403, 0.7244846332946403, 0.7244846332946403, 0.7244846332946403, 0.7244846332946403, 0.7244846332946403, 0.7244846332946403, 0.7244846332946403, 0.7244846332946403, 0.7244846332946403, 0.7244846332946403, 0.7244846332946403, 0.7244846332946403, 0.7244846332946403, 0.7244846332946403, 0.7326948279816136, 0.7326948279816136]}], \"balanced_accuracy\": [{\"categories\": [\"0\", \"1\", \"2\", \"3\", \"4\", \"5\", \"6\", \"7\", \"8\", \"9\", \"10\", \"11\", \"12\", \"13\", \"14\", \"15\", \"16\", \"17\", \"18\", \"19\", \"20\", \"21\", \"22\", \"23\", \"24\", \"25\", \"26\", \"27\", \"28\", \"29\", \"30\", \"31\", \"32\", \"33\", \"34\", \"35\", \"36\", \"37\", \"38\", \"39\", \"40\", \"41\", \"42\", \"43\", \"44\", \"45\", \"46\", \"47\", \"48\", \"49\", \"50\", \"51\", \"52\", \"53\", \"54\", \"55\", \"56\", \"57\", \"58\", \"59\", \"60\", \"61\", \"62\", \"63\", \"64\", \"65\", \"66\", \"67\", \"68\", \"69\", \"70\", \"71\", \"72\", \"73\", \"74\", \"75\", \"76\", \"80\", \"81\"], \"mode\": \"markers\", \"name\": \"balanced_accuracy\", \"stepped\": false, \"type\": \"scatter\", \"data\": [0.6101507021832128, 0.5645060433530804, 0.5034322381293014, 0.5534301332795539, 0.5234479618692717, 0.51710738888821, 0.548112074141788, 0.5555169509053053, 0.585638675541848, 0.543010442826099, 0.5018068030259085, 0.5560533524204313, 0.5436400478753306, 0.5215412807380813, 0.5639968722586807, 0.54859912711925, 0.535204045992366, 0.5980392221324928, 0.5244969944779441, 0.5662546575380287, 0.580849167176051, 0.5980522510863829, 0.567280300267548, 0.49071531204547125, 0.5921767434625272, 0.5901110608151291, 0.5018068030259085, 0.5927631093599758, 0.590643105179797, 0.5624756432889294, 0.5, 0.5548703596193953, 0.5718719961695216, 0.569356634221292, 0.5852947012372596, 0.5, 0.5013968618675219, 0.49096518710794007, 0.580539678489619, 0.5908874277063852, 0.5, 0.5705101709589014, 0.5864935752683947, 0.5, 0.5684933829004906, 0.5966522757466186, 0.5911310205331075, 0.5725326939572066, 0.5460135381779129, 0.5916714030378142, 0.5, 0.584907931195591, 0.6104183815250996, 0.6058878708724914, 0.5980682296727559, 0.5, 0.5096838172757637, 0.5535232685893535, 0.5891988465082518, 0.5, 0.5643792111680093, 0.5247917032346895, 0.5476409820515076, 0.5986308252146176, 0.5, 0.583602372324286, 0.5616322970040356, 0.600257003621805, 0.544975878543732, 0.6012498613186603, 0.5, 0.572062580786079, 0.5557450113240638, 0.5892756376757421, 0.49975417895771884, 0.5911925163935071, 0.5770851537235718, 0.5900235041467595, 0.5817571117937457]}, {\"categories\": [\"0\", \"1\", \"2\", \"3\", \"4\", \"5\", \"6\", \"7\", \"8\", \"9\", \"10\", \"11\", \"12\", \"13\", \"14\", \"15\", \"16\", \"17\", \"18\", \"19\", \"20\", \"21\", \"22\", \"23\", \"24\", \"25\", \"26\", \"27\", \"28\", \"29\", \"30\", \"31\", \"32\", \"33\", \"34\", \"35\", \"36\", \"37\", \"38\", \"39\", \"40\", \"41\", \"42\", \"43\", \"44\", \"45\", \"46\", \"47\", \"48\", \"49\", \"50\", \"51\", \"52\", \"53\", \"54\", \"55\", \"56\", \"57\", \"58\", \"59\", \"60\", \"61\", \"62\", \"63\", \"64\", \"65\", \"66\", \"67\", \"68\", \"69\", \"70\", \"71\", \"72\", \"73\", \"74\", \"75\", \"76\", \"80\", \"81\"], \"mode\": \"lines\", \"name\": \"balanced_accuracy_max\", \"stepped\": true, \"type\": \"scatter\", \"data\": [0.6101507021832128, 0.6101507021832128, 0.6101507021832128, 0.6101507021832128, 0.6101507021832128, 0.6101507021832128, 0.6101507021832128, 0.6101507021832128, 0.6101507021832128, 0.6101507021832128, 0.6101507021832128, 0.6101507021832128, 0.6101507021832128, 0.6101507021832128, 0.6101507021832128, 0.6101507021832128, 0.6101507021832128, 0.6101507021832128, 0.6101507021832128, 0.6101507021832128, 0.6101507021832128, 0.6101507021832128, 0.6101507021832128, 0.6101507021832128, 0.6101507021832128, 0.6101507021832128, 0.6101507021832128, 0.6101507021832128, 0.6101507021832128, 0.6101507021832128, 0.6101507021832128, 0.6101507021832128, 0.6101507021832128, 0.6101507021832128, 0.6101507021832128, 0.6101507021832128, 0.6101507021832128, 0.6101507021832128, 0.6101507021832128, 0.6101507021832128, 0.6101507021832128, 0.6101507021832128, 0.6101507021832128, 0.6101507021832128, 0.6101507021832128, 0.6101507021832128, 0.6101507021832128, 0.6101507021832128, 0.6101507021832128, 0.6101507021832128, 0.6101507021832128, 0.6101507021832128, 0.6104183815250996, 0.6104183815250996, 0.6104183815250996, 0.6104183815250996, 0.6104183815250996, 0.6104183815250996, 0.6104183815250996, 0.6104183815250996, 0.6104183815250996, 0.6104183815250996, 0.6104183815250996, 0.6104183815250996, 0.6104183815250996, 0.6104183815250996, 0.6104183815250996, 0.6104183815250996, 0.6104183815250996, 0.6104183815250996, 0.6104183815250996, 0.6104183815250996, 0.6104183815250996, 0.6104183815250996, 0.6104183815250996, 0.6104183815250996, 0.6104183815250996, 0.6104183815250996, 0.6104183815250996]}], \"precision_score_micro\": [{\"categories\": [\"0\", \"1\", \"2\", \"3\", \"4\", \"5\", \"6\", \"7\", \"8\", \"9\", \"10\", \"11\", \"12\", \"13\", \"14\", \"15\", \"16\", \"17\", \"18\", \"19\", \"20\", \"21\", \"22\", \"23\", \"24\", \"25\", \"26\", \"27\", \"28\", \"29\", \"30\", \"31\", \"32\", \"33\", \"34\", \"35\", \"36\", \"37\", \"38\", \"39\", \"40\", \"41\", \"42\", \"43\", \"44\", \"45\", \"46\", \"47\", \"48\", \"49\", \"50\", \"51\", \"52\", \"53\", \"54\", \"55\", \"56\", \"57\", \"58\", \"59\", \"60\", \"61\", \"62\", \"63\", \"64\", \"65\", \"66\", \"67\", \"68\", \"69\", \"70\", \"71\", \"72\", \"73\", \"74\", \"75\", \"76\", \"80\", \"81\"], \"mode\": \"markers\", \"name\": \"precision_score_micro\", \"stepped\": false, \"type\": \"scatter\", \"data\": [0.6550671550671551, 0.6367521367521367, 0.6123321123321124, 0.6285103785103785, 0.6163003663003663, 0.597985347985348, 0.6282051282051282, 0.5781440781440782, 0.6535409035409036, 0.6266788766788767, 0.6105006105006106, 0.6388888888888888, 0.6132478632478633, 0.5772283272283273, 0.5802808302808303, 0.6123321123321124, 0.6333943833943834, 0.6132478632478633, 0.6163003663003663, 0.5802808302808303, 0.6459096459096458, 0.6611721611721612, 0.6398046398046399, 0.4908424908424909, 0.608974358974359, 0.6556776556776557, 0.6105006105006106, 0.6538461538461539, 0.6452991452991453, 0.5711233211233212, 0.6098901098901099, 0.6434676434676435, 0.648962148962149, 0.6474358974358975, 0.6553724053724054, 0.6098901098901099, 0.6105006105006106, 0.4911477411477412, 0.652014652014652, 0.645909645909646, 0.6098901098901099, 0.6413308913308914, 0.6343101343101343, 0.6098901098901099, 0.6388888888888888, 0.6416361416361416, 0.6575091575091575, 0.6465201465201466, 0.6321733821733821, 0.6608669108669109, 0.6098901098901099, 0.6578144078144078, 0.6642246642246642, 0.6541514041514042, 0.6416361416361417, 0.6098901098901099, 0.6150793650793651, 0.6355311355311355, 0.6578144078144078, 0.6098901098901099, 0.6483516483516484, 0.6272893772893773, 0.6336996336996337, 0.6486568986568987, 0.6098901098901099, 0.644078144078144, 0.6398046398046399, 0.655982905982906, 0.6361416361416361, 0.6648351648351648, 0.6098901098901099, 0.6428571428571428, 0.6282051282051282, 0.6544566544566545, 0.6095848595848596, 0.6544566544566545, 0.6428571428571429, 0.6648351648351648, 0.6526251526251526]}, {\"categories\": [\"0\", \"1\", \"2\", \"3\", \"4\", \"5\", \"6\", \"7\", \"8\", \"9\", \"10\", \"11\", \"12\", \"13\", \"14\", \"15\", \"16\", \"17\", \"18\", \"19\", \"20\", \"21\", \"22\", \"23\", \"24\", \"25\", \"26\", \"27\", \"28\", \"29\", \"30\", \"31\", \"32\", \"33\", \"34\", \"35\", \"36\", \"37\", \"38\", \"39\", \"40\", \"41\", \"42\", \"43\", \"44\", \"45\", \"46\", \"47\", \"48\", \"49\", \"50\", \"51\", \"52\", \"53\", \"54\", \"55\", \"56\", \"57\", \"58\", \"59\", \"60\", \"61\", \"62\", \"63\", \"64\", \"65\", \"66\", \"67\", \"68\", \"69\", \"70\", \"71\", \"72\", \"73\", \"74\", \"75\", \"76\", \"80\", \"81\"], \"mode\": \"lines\", \"name\": \"precision_score_micro_max\", \"stepped\": true, \"type\": \"scatter\", \"data\": [0.6550671550671551, 0.6550671550671551, 0.6550671550671551, 0.6550671550671551, 0.6550671550671551, 0.6550671550671551, 0.6550671550671551, 0.6550671550671551, 0.6550671550671551, 0.6550671550671551, 0.6550671550671551, 0.6550671550671551, 0.6550671550671551, 0.6550671550671551, 0.6550671550671551, 0.6550671550671551, 0.6550671550671551, 0.6550671550671551, 0.6550671550671551, 0.6550671550671551, 0.6550671550671551, 0.6611721611721612, 0.6611721611721612, 0.6611721611721612, 0.6611721611721612, 0.6611721611721612, 0.6611721611721612, 0.6611721611721612, 0.6611721611721612, 0.6611721611721612, 0.6611721611721612, 0.6611721611721612, 0.6611721611721612, 0.6611721611721612, 0.6611721611721612, 0.6611721611721612, 0.6611721611721612, 0.6611721611721612, 0.6611721611721612, 0.6611721611721612, 0.6611721611721612, 0.6611721611721612, 0.6611721611721612, 0.6611721611721612, 0.6611721611721612, 0.6611721611721612, 0.6611721611721612, 0.6611721611721612, 0.6611721611721612, 0.6611721611721612, 0.6611721611721612, 0.6611721611721612, 0.6642246642246642, 0.6642246642246642, 0.6642246642246642, 0.6642246642246642, 0.6642246642246642, 0.6642246642246642, 0.6642246642246642, 0.6642246642246642, 0.6642246642246642, 0.6642246642246642, 0.6642246642246642, 0.6642246642246642, 0.6642246642246642, 0.6642246642246642, 0.6642246642246642, 0.6642246642246642, 0.6642246642246642, 0.6648351648351648, 0.6648351648351648, 0.6648351648351648, 0.6648351648351648, 0.6648351648351648, 0.6648351648351648, 0.6648351648351648, 0.6648351648351648, 0.6648351648351648, 0.6648351648351648]}], \"precision_score_macro\": [{\"categories\": [\"0\", \"1\", \"2\", \"3\", \"4\", \"5\", \"6\", \"7\", \"8\", \"9\", \"10\", \"11\", \"12\", \"13\", \"14\", \"15\", \"16\", \"17\", \"18\", \"19\", \"20\", \"21\", \"22\", \"23\", \"24\", \"25\", \"26\", \"27\", \"28\", \"29\", \"30\", \"31\", \"32\", \"33\", \"34\", \"35\", \"36\", \"37\", \"38\", \"39\", \"40\", \"41\", \"42\", \"43\", \"44\", \"45\", \"46\", \"47\", \"48\", \"49\", \"50\", \"51\", \"52\", \"53\", \"54\", \"55\", \"56\", \"57\", \"58\", \"59\", \"60\", \"61\", \"62\", \"63\", \"64\", \"65\", \"66\", \"67\", \"68\", \"69\", \"70\", \"71\", \"72\", \"73\", \"74\", \"75\", \"76\", \"80\", \"81\"], \"mode\": \"markers\", \"name\": \"precision_score_macro\", \"stepped\": false, \"type\": \"scatter\", \"data\": [0.6336691424205486, 0.6204883851404922, 0.6087977527752416, 0.6085521330571865, 0.5865143495773609, 0.5378251420107653, 0.6037246881247972, 0.555923178887253, 0.644712678390237, 0.6085502573618767, 0.6456561336927172, 0.6391550414359107, 0.5712570010830572, 0.5279003334976503, 0.5631060839381351, 0.573705864430626, 0.7082908800550457, 0.5967425856391865, 0.5968016731930258, 0.5648283909166408, 0.6307039939923248, 0.6519676187997182, 0.6234745332764368, 0.49110781182149754, 0.5909977654251956, 0.6456474270263314, 0.6456561336927172, 0.640916490806312, 0.6228739528414399, 0.5602730015878215, 0.30494505494505497, 0.6771651045199434, 0.6552279886693826, 0.6545975486984604, 0.6549189819589529, 0.30494505494505497, 0.5136107770420819, 0.49134591778637415, 0.6494667379698423, 0.6243542801839513, 0.30494505494505497, 0.6249970697671574, 0.6065033325733834, 0.30494505494505497, 0.6218509247242879, 0.6158555534777951, 0.6503119627243948, 0.6412587396924725, 0.6275535765763742, 0.6631132032870376, 0.30494505494505497, 0.6669656644273091, 0.6492916897406905, 0.633214809545709, 0.615894809796464, 0.30494505494505497, 0.6348380036437619, 0.6349103077780148, 0.6541224659844247, 0.30494505494505497, 0.6698963686847215, 0.7309194930786616, 0.6393838051845404, 0.625334562503589, 0.30494505494505497, 0.6228241179657247, 0.6338009477284477, 0.637117077333757, 0.6755533735464159, 0.6596663550147185, 0.30494505494505497, 0.6284839609409061, 0.6033231162498204, 0.6435742449723859, 0.30488713852600197, 0.6423305598737001, 0.6244503690954717, 0.6854666946061787, 0.6984795942675287]}, {\"categories\": [\"0\", \"1\", \"2\", \"3\", \"4\", \"5\", \"6\", \"7\", \"8\", \"9\", \"10\", \"11\", \"12\", \"13\", \"14\", \"15\", \"16\", \"17\", \"18\", \"19\", \"20\", \"21\", \"22\", \"23\", \"24\", \"25\", \"26\", \"27\", \"28\", \"29\", \"30\", \"31\", \"32\", \"33\", \"34\", \"35\", \"36\", \"37\", \"38\", \"39\", \"40\", \"41\", \"42\", \"43\", \"44\", \"45\", \"46\", \"47\", \"48\", \"49\", \"50\", \"51\", \"52\", \"53\", \"54\", \"55\", \"56\", \"57\", \"58\", \"59\", \"60\", \"61\", \"62\", \"63\", \"64\", \"65\", \"66\", \"67\", \"68\", \"69\", \"70\", \"71\", \"72\", \"73\", \"74\", \"75\", \"76\", \"80\", \"81\"], \"mode\": \"lines\", \"name\": \"precision_score_macro_max\", \"stepped\": true, \"type\": \"scatter\", \"data\": [0.6336691424205486, 0.6336691424205486, 0.6336691424205486, 0.6336691424205486, 0.6336691424205486, 0.6336691424205486, 0.6336691424205486, 0.6336691424205486, 0.644712678390237, 0.644712678390237, 0.6456561336927172, 0.6456561336927172, 0.6456561336927172, 0.6456561336927172, 0.6456561336927172, 0.6456561336927172, 0.7082908800550457, 0.7082908800550457, 0.7082908800550457, 0.7082908800550457, 0.7082908800550457, 0.7082908800550457, 0.7082908800550457, 0.7082908800550457, 0.7082908800550457, 0.7082908800550457, 0.7082908800550457, 0.7082908800550457, 0.7082908800550457, 0.7082908800550457, 0.7082908800550457, 0.7082908800550457, 0.7082908800550457, 0.7082908800550457, 0.7082908800550457, 0.7082908800550457, 0.7082908800550457, 0.7082908800550457, 0.7082908800550457, 0.7082908800550457, 0.7082908800550457, 0.7082908800550457, 0.7082908800550457, 0.7082908800550457, 0.7082908800550457, 0.7082908800550457, 0.7082908800550457, 0.7082908800550457, 0.7082908800550457, 0.7082908800550457, 0.7082908800550457, 0.7082908800550457, 0.7082908800550457, 0.7082908800550457, 0.7082908800550457, 0.7082908800550457, 0.7082908800550457, 0.7082908800550457, 0.7082908800550457, 0.7082908800550457, 0.7082908800550457, 0.7309194930786616, 0.7309194930786616, 0.7309194930786616, 0.7309194930786616, 0.7309194930786616, 0.7309194930786616, 0.7309194930786616, 0.7309194930786616, 0.7309194930786616, 0.7309194930786616, 0.7309194930786616, 0.7309194930786616, 0.7309194930786616, 0.7309194930786616, 0.7309194930786616, 0.7309194930786616, 0.7309194930786616, 0.7309194930786616]}], \"matthews_correlation\": [{\"categories\": [\"0\", \"1\", \"2\", \"3\", \"4\", \"5\", \"6\", \"7\", \"8\", \"9\", \"10\", \"11\", \"12\", \"13\", \"14\", \"15\", \"16\", \"17\", \"18\", \"19\", \"20\", \"21\", \"22\", \"23\", \"24\", \"25\", \"26\", \"27\", \"28\", \"29\", \"30\", \"31\", \"32\", \"33\", \"34\", \"35\", \"36\", \"37\", \"38\", \"39\", \"40\", \"41\", \"42\", \"43\", \"44\", \"45\", \"46\", \"47\", \"48\", \"49\", \"50\", \"51\", \"52\", \"53\", \"54\", \"55\", \"56\", \"57\", \"58\", \"59\", \"60\", \"61\", \"62\", \"63\", \"64\", \"65\", \"66\", \"67\", \"68\", \"69\", \"70\", \"71\", \"72\", \"73\", \"74\", \"75\", \"76\", \"80\", \"81\"], \"mode\": \"markers\", \"name\": \"matthews_correlation\", \"stepped\": false, \"type\": \"scatter\", \"data\": [0.24260894758567053, 0.17572196547409746, 0.04249965317122529, 0.15125562381954052, 0.08875652028290637, 0.050714815259210455, 0.1412820119300778, 0.11143404291456305, 0.2224850216516747, 0.13554148917831807, 0.03127120944451564, 0.17585350693383972, 0.11147274484540699, 0.04902227026339412, 0.12709719712538017, 0.11959094940436554, 0.16882367922034747, 0.19477387554507505, 0.09631140360904555, 0.1310715008944512, 0.2052008947419195, 0.24397603140082025, 0.18201868948241692, -0.01817238381823651, 0.1831703936203529, 0.2290120759753591, 0.03127120944451564, 0.2283307976063468, 0.21092068074154802, 0.12272767227178331, 0.0, 0.19648584082905654, 0.209970098021149, 0.20616971160458597, 0.2293880967442045, 0.0, 0.02112963852272315, -0.017684544644464836, 0.2191386572674083, 0.21245352829700623, 0.0, 0.18735499437212869, 0.1919383717442368, 0.0, 0.182411157762574, 0.21161000025635934, 0.23389722044892103, 0.20203067233681996, 0.1528870837185215, 0.2441800725044058, 0.0, 0.23742752815659804, 0.25664717643152984, 0.23743549764041907, 0.2132049136269809, 0.0, 0.06933804938413525, 0.16836700115341532, 0.23417766015094857, 0.0, 0.2086443458548919, 0.14891686821184474, 0.16117943873806953, 0.22231068023462885, 0.0, 0.20253100654873235, 0.18099380441913795, 0.2344620522342005, 0.17416870866157763, 0.2540986972822568, 0.0, 0.19206105493031664, 0.15159664076656174, 0.22619185152281562, -0.007885907772858596, 0.22763914018757622, 0.19561610833118492, 0.25760761606977234, 0.23672322058641437]}, {\"categories\": [\"0\", \"1\", \"2\", \"3\", \"4\", \"5\", \"6\", \"7\", \"8\", \"9\", \"10\", \"11\", \"12\", \"13\", \"14\", \"15\", \"16\", \"17\", \"18\", \"19\", \"20\", \"21\", \"22\", \"23\", \"24\", \"25\", \"26\", \"27\", \"28\", \"29\", \"30\", \"31\", \"32\", \"33\", \"34\", \"35\", \"36\", \"37\", \"38\", \"39\", \"40\", \"41\", \"42\", \"43\", \"44\", \"45\", \"46\", \"47\", \"48\", \"49\", \"50\", \"51\", \"52\", \"53\", \"54\", \"55\", \"56\", \"57\", \"58\", \"59\", \"60\", \"61\", \"62\", \"63\", \"64\", \"65\", \"66\", \"67\", \"68\", \"69\", \"70\", \"71\", \"72\", \"73\", \"74\", \"75\", \"76\", \"80\", \"81\"], \"mode\": \"lines\", \"name\": \"matthews_correlation_max\", \"stepped\": true, \"type\": \"scatter\", \"data\": [0.24260894758567053, 0.24260894758567053, 0.24260894758567053, 0.24260894758567053, 0.24260894758567053, 0.24260894758567053, 0.24260894758567053, 0.24260894758567053, 0.24260894758567053, 0.24260894758567053, 0.24260894758567053, 0.24260894758567053, 0.24260894758567053, 0.24260894758567053, 0.24260894758567053, 0.24260894758567053, 0.24260894758567053, 0.24260894758567053, 0.24260894758567053, 0.24260894758567053, 0.24260894758567053, 0.24397603140082025, 0.24397603140082025, 0.24397603140082025, 0.24397603140082025, 0.24397603140082025, 0.24397603140082025, 0.24397603140082025, 0.24397603140082025, 0.24397603140082025, 0.24397603140082025, 0.24397603140082025, 0.24397603140082025, 0.24397603140082025, 0.24397603140082025, 0.24397603140082025, 0.24397603140082025, 0.24397603140082025, 0.24397603140082025, 0.24397603140082025, 0.24397603140082025, 0.24397603140082025, 0.24397603140082025, 0.24397603140082025, 0.24397603140082025, 0.24397603140082025, 0.24397603140082025, 0.24397603140082025, 0.24397603140082025, 0.2441800725044058, 0.2441800725044058, 0.2441800725044058, 0.25664717643152984, 0.25664717643152984, 0.25664717643152984, 0.25664717643152984, 0.25664717643152984, 0.25664717643152984, 0.25664717643152984, 0.25664717643152984, 0.25664717643152984, 0.25664717643152984, 0.25664717643152984, 0.25664717643152984, 0.25664717643152984, 0.25664717643152984, 0.25664717643152984, 0.25664717643152984, 0.25664717643152984, 0.25664717643152984, 0.25664717643152984, 0.25664717643152984, 0.25664717643152984, 0.25664717643152984, 0.25664717643152984, 0.25664717643152984, 0.25664717643152984, 0.25760761606977234, 0.25760761606977234]}], \"recall_score_macro\": [{\"categories\": [\"0\", \"1\", \"2\", \"3\", \"4\", \"5\", \"6\", \"7\", \"8\", \"9\", \"10\", \"11\", \"12\", \"13\", \"14\", \"15\", \"16\", \"17\", \"18\", \"19\", \"20\", \"21\", \"22\", \"23\", \"24\", \"25\", \"26\", \"27\", \"28\", \"29\", \"30\", \"31\", \"32\", \"33\", \"34\", \"35\", \"36\", \"37\", \"38\", \"39\", \"40\", \"41\", \"42\", \"43\", \"44\", \"45\", \"46\", \"47\", \"48\", \"49\", \"50\", \"51\", \"52\", \"53\", \"54\", \"55\", \"56\", \"57\", \"58\", \"59\", \"60\", \"61\", \"62\", \"63\", \"64\", \"65\", \"66\", \"67\", \"68\", \"69\", \"70\", \"71\", \"72\", \"73\", \"74\", \"75\", \"76\", \"80\", \"81\"], \"mode\": \"markers\", \"name\": \"recall_score_macro\", \"stepped\": false, \"type\": \"scatter\", \"data\": [0.6101507021832128, 0.5645060433530804, 0.5034322381293014, 0.5534301332795539, 0.5234479618692717, 0.51710738888821, 0.548112074141788, 0.5555169509053053, 0.585638675541848, 0.543010442826099, 0.5018068030259085, 0.5560533524204313, 0.5436400478753306, 0.5215412807380813, 0.5639968722586807, 0.54859912711925, 0.535204045992366, 0.5980392221324928, 0.5244969944779441, 0.5662546575380287, 0.580849167176051, 0.5980522510863829, 0.567280300267548, 0.49071531204547125, 0.5921767434625272, 0.5901110608151291, 0.5018068030259085, 0.5927631093599758, 0.590643105179797, 0.5624756432889294, 0.5, 0.5548703596193953, 0.5718719961695216, 0.569356634221292, 0.5852947012372596, 0.5, 0.5013968618675219, 0.49096518710794007, 0.580539678489619, 0.5908874277063852, 0.5, 0.5705101709589014, 0.5864935752683947, 0.5, 0.5684933829004906, 0.5966522757466186, 0.5911310205331075, 0.5725326939572066, 0.5460135381779129, 0.5916714030378142, 0.5, 0.584907931195591, 0.6104183815250996, 0.6058878708724914, 0.5980682296727559, 0.5, 0.5096838172757637, 0.5535232685893535, 0.5891988465082518, 0.5, 0.5643792111680093, 0.5247917032346895, 0.5476409820515076, 0.5986308252146176, 0.5, 0.583602372324286, 0.5616322970040356, 0.600257003621805, 0.544975878543732, 0.6012498613186603, 0.5, 0.572062580786079, 0.5557450113240638, 0.5892756376757421, 0.49975417895771884, 0.5911925163935071, 0.5770851537235718, 0.5900235041467595, 0.5817571117937457]}, {\"categories\": [\"0\", \"1\", \"2\", \"3\", \"4\", \"5\", \"6\", \"7\", \"8\", \"9\", \"10\", \"11\", \"12\", \"13\", \"14\", \"15\", \"16\", \"17\", \"18\", \"19\", \"20\", \"21\", \"22\", \"23\", \"24\", \"25\", \"26\", \"27\", \"28\", \"29\", \"30\", \"31\", \"32\", \"33\", \"34\", \"35\", \"36\", \"37\", \"38\", \"39\", \"40\", \"41\", \"42\", \"43\", \"44\", \"45\", \"46\", \"47\", \"48\", \"49\", \"50\", \"51\", \"52\", \"53\", \"54\", \"55\", \"56\", \"57\", \"58\", \"59\", \"60\", \"61\", \"62\", \"63\", \"64\", \"65\", \"66\", \"67\", \"68\", \"69\", \"70\", \"71\", \"72\", \"73\", \"74\", \"75\", \"76\", \"80\", \"81\"], \"mode\": \"lines\", \"name\": \"recall_score_macro_max\", \"stepped\": true, \"type\": \"scatter\", \"data\": [0.6101507021832128, 0.6101507021832128, 0.6101507021832128, 0.6101507021832128, 0.6101507021832128, 0.6101507021832128, 0.6101507021832128, 0.6101507021832128, 0.6101507021832128, 0.6101507021832128, 0.6101507021832128, 0.6101507021832128, 0.6101507021832128, 0.6101507021832128, 0.6101507021832128, 0.6101507021832128, 0.6101507021832128, 0.6101507021832128, 0.6101507021832128, 0.6101507021832128, 0.6101507021832128, 0.6101507021832128, 0.6101507021832128, 0.6101507021832128, 0.6101507021832128, 0.6101507021832128, 0.6101507021832128, 0.6101507021832128, 0.6101507021832128, 0.6101507021832128, 0.6101507021832128, 0.6101507021832128, 0.6101507021832128, 0.6101507021832128, 0.6101507021832128, 0.6101507021832128, 0.6101507021832128, 0.6101507021832128, 0.6101507021832128, 0.6101507021832128, 0.6101507021832128, 0.6101507021832128, 0.6101507021832128, 0.6101507021832128, 0.6101507021832128, 0.6101507021832128, 0.6101507021832128, 0.6101507021832128, 0.6101507021832128, 0.6101507021832128, 0.6101507021832128, 0.6101507021832128, 0.6104183815250996, 0.6104183815250996, 0.6104183815250996, 0.6104183815250996, 0.6104183815250996, 0.6104183815250996, 0.6104183815250996, 0.6104183815250996, 0.6104183815250996, 0.6104183815250996, 0.6104183815250996, 0.6104183815250996, 0.6104183815250996, 0.6104183815250996, 0.6104183815250996, 0.6104183815250996, 0.6104183815250996, 0.6104183815250996, 0.6104183815250996, 0.6104183815250996, 0.6104183815250996, 0.6104183815250996, 0.6104183815250996, 0.6104183815250996, 0.6104183815250996, 0.6104183815250996, 0.6104183815250996]}], \"average_precision_score_macro\": [{\"categories\": [\"0\", \"1\", \"2\", \"3\", \"4\", \"5\", \"6\", \"7\", \"8\", \"9\", \"10\", \"11\", \"12\", \"13\", \"14\", \"15\", \"16\", \"17\", \"18\", \"19\", \"20\", \"21\", \"22\", \"23\", \"24\", \"25\", \"26\", \"27\", \"28\", \"29\", \"30\", \"31\", \"32\", \"33\", \"34\", \"35\", \"36\", \"37\", \"38\", \"39\", \"40\", \"41\", \"42\", \"43\", \"44\", \"45\", \"46\", \"47\", \"48\", \"49\", \"50\", \"51\", \"52\", \"53\", \"54\", \"55\", \"56\", \"57\", \"58\", \"59\", \"60\", \"61\", \"62\", \"63\", \"64\", \"65\", \"66\", \"67\", \"68\", \"69\", \"70\", \"71\", \"72\", \"73\", \"74\", \"75\", \"76\", \"80\", \"81\"], \"mode\": \"markers\", \"name\": \"average_precision_score_macro\", \"stepped\": false, \"type\": \"scatter\", \"data\": [0.656082191053424, 0.6321020275280067, 0.5917131376791479, 0.5996403557964004, 0.5803702122426805, 0.510323212494671, 0.5778640816400245, 0.5775368692676506, 0.6499519277477555, 0.5992503878086507, 0.5123549746445658, 0.6149107129650987, 0.5682964797915905, 0.5383857974331508, 0.5803224353083047, 0.5813765492052048, 0.6180324394887954, 0.6441590026243355, 0.5623910284741038, 0.6065139862401062, 0.6338378647693409, 0.6495900436637688, 0.6342286964368101, 0.511198752532214, 0.6470692573880957, 0.6498690328922975, 0.5123513887791462, 0.6461797338778158, 0.649070990488232, 0.5721028763173998, 0.5071256319687221, 0.6109954077900173, 0.6573902844786698, 0.6347366172147435, 0.6589275791175605, 0.4966710132737404, 0.5112347363694697, 0.511208075784729, 0.6553982659404005, 0.6496163842519914, 0.5035490734706375, 0.6301292735591558, 0.6376251834703422, 0.4988205382395649, 0.6307817165787882, 0.6429509015495093, 0.6551343336152023, 0.6459320822661482, 0.5970257573699912, 0.6651770951735435, 0.5062171979973881, 0.6750228356940117, 0.6608981896275717, 0.6621201252155874, 0.6443507886808951, 0.5156510702669478, 0.5834706040719917, 0.6253608220215893, 0.6545282876510711, 0.4889668051706462, 0.6489278655949834, 0.5957831358767608, 0.6186231618624168, 0.6559308066895961, 0.5162245097956274, 0.6388682130725042, 0.6385156901810137, 0.653228828611728, 0.6255845629895441, 0.658379744223568, 0.5146079257166533, 0.6352537627388498, 0.6101227694509973, 0.6520922006502964, 0.48799039533810884, 0.6527502633267575, 0.6292633315925645, 0.6868230587694045, 0.6840791724443321]}, {\"categories\": [\"0\", \"1\", \"2\", \"3\", \"4\", \"5\", \"6\", \"7\", \"8\", \"9\", \"10\", \"11\", \"12\", \"13\", \"14\", \"15\", \"16\", \"17\", \"18\", \"19\", \"20\", \"21\", \"22\", \"23\", \"24\", \"25\", \"26\", \"27\", \"28\", \"29\", \"30\", \"31\", \"32\", \"33\", \"34\", \"35\", \"36\", \"37\", \"38\", \"39\", \"40\", \"41\", \"42\", \"43\", \"44\", \"45\", \"46\", \"47\", \"48\", \"49\", \"50\", \"51\", \"52\", \"53\", \"54\", \"55\", \"56\", \"57\", \"58\", \"59\", \"60\", \"61\", \"62\", \"63\", \"64\", \"65\", \"66\", \"67\", \"68\", \"69\", \"70\", \"71\", \"72\", \"73\", \"74\", \"75\", \"76\", \"80\", \"81\"], \"mode\": \"lines\", \"name\": \"average_precision_score_macro_max\", \"stepped\": true, \"type\": \"scatter\", \"data\": [0.656082191053424, 0.656082191053424, 0.656082191053424, 0.656082191053424, 0.656082191053424, 0.656082191053424, 0.656082191053424, 0.656082191053424, 0.656082191053424, 0.656082191053424, 0.656082191053424, 0.656082191053424, 0.656082191053424, 0.656082191053424, 0.656082191053424, 0.656082191053424, 0.656082191053424, 0.656082191053424, 0.656082191053424, 0.656082191053424, 0.656082191053424, 0.656082191053424, 0.656082191053424, 0.656082191053424, 0.656082191053424, 0.656082191053424, 0.656082191053424, 0.656082191053424, 0.656082191053424, 0.656082191053424, 0.656082191053424, 0.656082191053424, 0.6573902844786698, 0.6573902844786698, 0.6589275791175605, 0.6589275791175605, 0.6589275791175605, 0.6589275791175605, 0.6589275791175605, 0.6589275791175605, 0.6589275791175605, 0.6589275791175605, 0.6589275791175605, 0.6589275791175605, 0.6589275791175605, 0.6589275791175605, 0.6589275791175605, 0.6589275791175605, 0.6589275791175605, 0.6651770951735435, 0.6651770951735435, 0.6750228356940117, 0.6750228356940117, 0.6750228356940117, 0.6750228356940117, 0.6750228356940117, 0.6750228356940117, 0.6750228356940117, 0.6750228356940117, 0.6750228356940117, 0.6750228356940117, 0.6750228356940117, 0.6750228356940117, 0.6750228356940117, 0.6750228356940117, 0.6750228356940117, 0.6750228356940117, 0.6750228356940117, 0.6750228356940117, 0.6750228356940117, 0.6750228356940117, 0.6750228356940117, 0.6750228356940117, 0.6750228356940117, 0.6750228356940117, 0.6750228356940117, 0.6750228356940117, 0.6868230587694045, 0.6868230587694045]}], \"f1_score_micro\": [{\"categories\": [\"0\", \"1\", \"2\", \"3\", \"4\", \"5\", \"6\", \"7\", \"8\", \"9\", \"10\", \"11\", \"12\", \"13\", \"14\", \"15\", \"16\", \"17\", \"18\", \"19\", \"20\", \"21\", \"22\", \"23\", \"24\", \"25\", \"26\", \"27\", \"28\", \"29\", \"30\", \"31\", \"32\", \"33\", \"34\", \"35\", \"36\", \"37\", \"38\", \"39\", \"40\", \"41\", \"42\", \"43\", \"44\", \"45\", \"46\", \"47\", \"48\", \"49\", \"50\", \"51\", \"52\", \"53\", \"54\", \"55\", \"56\", \"57\", \"58\", \"59\", \"60\", \"61\", \"62\", \"63\", \"64\", \"65\", \"66\", \"67\", \"68\", \"69\", \"70\", \"71\", \"72\", \"73\", \"74\", \"75\", \"76\", \"80\", \"81\"], \"mode\": \"markers\", \"name\": \"f1_score_micro\", \"stepped\": false, \"type\": \"scatter\", \"data\": [0.6550671550671551, 0.6367521367521367, 0.6123321123321124, 0.6285103785103785, 0.6163003663003663, 0.597985347985348, 0.6282051282051282, 0.5781440781440782, 0.6535409035409036, 0.6266788766788767, 0.6105006105006106, 0.6388888888888888, 0.6132478632478633, 0.5772283272283273, 0.5802808302808303, 0.6123321123321124, 0.6333943833943834, 0.6132478632478633, 0.6163003663003663, 0.5802808302808303, 0.6459096459096458, 0.6611721611721612, 0.6398046398046399, 0.4908424908424909, 0.608974358974359, 0.6556776556776557, 0.6105006105006106, 0.6538461538461539, 0.6452991452991453, 0.5711233211233212, 0.6098901098901099, 0.6434676434676435, 0.648962148962149, 0.6474358974358975, 0.6553724053724054, 0.6098901098901099, 0.6105006105006106, 0.4911477411477412, 0.652014652014652, 0.645909645909646, 0.6098901098901099, 0.6413308913308914, 0.6343101343101343, 0.6098901098901099, 0.6388888888888888, 0.6416361416361416, 0.6575091575091575, 0.6465201465201466, 0.6321733821733821, 0.6608669108669109, 0.6098901098901099, 0.6578144078144078, 0.6642246642246642, 0.6541514041514042, 0.6416361416361417, 0.6098901098901099, 0.6150793650793651, 0.6355311355311355, 0.6578144078144078, 0.6098901098901099, 0.6483516483516484, 0.6272893772893773, 0.6336996336996337, 0.6486568986568987, 0.6098901098901099, 0.644078144078144, 0.6398046398046399, 0.655982905982906, 0.6361416361416361, 0.6648351648351648, 0.6098901098901099, 0.6428571428571428, 0.6282051282051282, 0.6544566544566545, 0.6095848595848596, 0.6544566544566545, 0.6428571428571429, 0.6648351648351648, 0.6526251526251526]}, {\"categories\": [\"0\", \"1\", \"2\", \"3\", \"4\", \"5\", \"6\", \"7\", \"8\", \"9\", \"10\", \"11\", \"12\", \"13\", \"14\", \"15\", \"16\", \"17\", \"18\", \"19\", \"20\", \"21\", \"22\", \"23\", \"24\", \"25\", \"26\", \"27\", \"28\", \"29\", \"30\", \"31\", \"32\", \"33\", \"34\", \"35\", \"36\", \"37\", \"38\", \"39\", \"40\", \"41\", \"42\", \"43\", \"44\", \"45\", \"46\", \"47\", \"48\", \"49\", \"50\", \"51\", \"52\", \"53\", \"54\", \"55\", \"56\", \"57\", \"58\", \"59\", \"60\", \"61\", \"62\", \"63\", \"64\", \"65\", \"66\", \"67\", \"68\", \"69\", \"70\", \"71\", \"72\", \"73\", \"74\", \"75\", \"76\", \"80\", \"81\"], \"mode\": \"lines\", \"name\": \"f1_score_micro_max\", \"stepped\": true, \"type\": \"scatter\", \"data\": [0.6550671550671551, 0.6550671550671551, 0.6550671550671551, 0.6550671550671551, 0.6550671550671551, 0.6550671550671551, 0.6550671550671551, 0.6550671550671551, 0.6550671550671551, 0.6550671550671551, 0.6550671550671551, 0.6550671550671551, 0.6550671550671551, 0.6550671550671551, 0.6550671550671551, 0.6550671550671551, 0.6550671550671551, 0.6550671550671551, 0.6550671550671551, 0.6550671550671551, 0.6550671550671551, 0.6611721611721612, 0.6611721611721612, 0.6611721611721612, 0.6611721611721612, 0.6611721611721612, 0.6611721611721612, 0.6611721611721612, 0.6611721611721612, 0.6611721611721612, 0.6611721611721612, 0.6611721611721612, 0.6611721611721612, 0.6611721611721612, 0.6611721611721612, 0.6611721611721612, 0.6611721611721612, 0.6611721611721612, 0.6611721611721612, 0.6611721611721612, 0.6611721611721612, 0.6611721611721612, 0.6611721611721612, 0.6611721611721612, 0.6611721611721612, 0.6611721611721612, 0.6611721611721612, 0.6611721611721612, 0.6611721611721612, 0.6611721611721612, 0.6611721611721612, 0.6611721611721612, 0.6642246642246642, 0.6642246642246642, 0.6642246642246642, 0.6642246642246642, 0.6642246642246642, 0.6642246642246642, 0.6642246642246642, 0.6642246642246642, 0.6642246642246642, 0.6642246642246642, 0.6642246642246642, 0.6642246642246642, 0.6642246642246642, 0.6642246642246642, 0.6642246642246642, 0.6642246642246642, 0.6642246642246642, 0.6648351648351648, 0.6648351648351648, 0.6648351648351648, 0.6648351648351648, 0.6648351648351648, 0.6648351648351648, 0.6648351648351648, 0.6648351648351648, 0.6648351648351648, 0.6648351648351648]}], \"AUC_macro\": [{\"categories\": [\"0\", \"1\", \"2\", \"3\", \"4\", \"5\", \"6\", \"7\", \"8\", \"9\", \"10\", \"11\", \"12\", \"13\", \"14\", \"15\", \"16\", \"17\", \"18\", \"19\", \"20\", \"21\", \"22\", \"23\", \"24\", \"25\", \"26\", \"27\", \"28\", \"29\", \"30\", \"31\", \"32\", \"33\", \"34\", \"35\", \"36\", \"37\", \"38\", \"39\", \"40\", \"41\", \"42\", \"43\", \"44\", \"45\", \"46\", \"47\", \"48\", \"49\", \"50\", \"51\", \"52\", \"53\", \"54\", \"55\", \"56\", \"57\", \"58\", \"59\", \"60\", \"61\", \"62\", \"63\", \"64\", \"65\", \"66\", \"67\", \"68\", \"69\", \"70\", \"71\", \"72\", \"73\", \"74\", \"75\", \"76\", \"80\", \"81\"], \"mode\": \"markers\", \"name\": \"AUC_macro\", \"stepped\": false, \"type\": \"scatter\", \"data\": [0.6550392343162107, 0.633821923300241, 0.5927855831947315, 0.6043949665158574, 0.5939688385032801, 0.5077979738731011, 0.5758621281270836, 0.5794500149478354, 0.6500820676701683, 0.6064166741402327, 0.49879938982437233, 0.625154207243484, 0.5731741120120978, 0.5377533196815746, 0.5818340563755565, 0.5846632420664154, 0.6182916801966211, 0.6456794362475334, 0.5625271183563292, 0.6059444113009871, 0.6364197233713649, 0.6581952218369085, 0.6382327656915566, 0.4992709224187865, 0.6457158205118311, 0.6545748633207163, 0.4987828880062408, 0.6486275013419089, 0.6507616567399318, 0.5835303349456745, 0.5026584481458986, 0.6077454774339885, 0.6652623088929722, 0.631837451439643, 0.6651169779888993, 0.4949353579593399, 0.49727161925031443, 0.4992757220876977, 0.6558438035988248, 0.650209207800606, 0.5028906589461342, 0.6308481097887472, 0.6411520781051668, 0.49781256994390816, 0.6329539144575869, 0.6470915302611459, 0.6554159249294094, 0.6498641448764696, 0.59555775745539, 0.6701047968311723, 0.507295258634758, 0.6810325214415679, 0.6644745713877035, 0.6650721336558926, 0.651453851704238, 0.5189365588614958, 0.5916409363862061, 0.6278981843173828, 0.6537995263440768, 0.483799044194428, 0.6497199261775669, 0.5992793030480787, 0.6194583774942743, 0.6592856746911414, 0.5148917726115999, 0.6421417379138331, 0.6423830758254798, 0.6519924503371867, 0.6279802203242165, 0.6588329223063597, 0.515107955379081, 0.636868062063613, 0.6152132979280736, 0.6525343245006466, 0.48450397334974515, 0.6522293362475216, 0.6325705265680236, 0.6890581737969351, 0.684834900358685]}, {\"categories\": [\"0\", \"1\", \"2\", \"3\", \"4\", \"5\", \"6\", \"7\", \"8\", \"9\", \"10\", \"11\", \"12\", \"13\", \"14\", \"15\", \"16\", \"17\", \"18\", \"19\", \"20\", \"21\", \"22\", \"23\", \"24\", \"25\", \"26\", \"27\", \"28\", \"29\", \"30\", \"31\", \"32\", \"33\", \"34\", \"35\", \"36\", \"37\", \"38\", \"39\", \"40\", \"41\", \"42\", \"43\", \"44\", \"45\", \"46\", \"47\", \"48\", \"49\", \"50\", \"51\", \"52\", \"53\", \"54\", \"55\", \"56\", \"57\", \"58\", \"59\", \"60\", \"61\", \"62\", \"63\", \"64\", \"65\", \"66\", \"67\", \"68\", \"69\", \"70\", \"71\", \"72\", \"73\", \"74\", \"75\", \"76\", \"80\", \"81\"], \"mode\": \"lines\", \"name\": \"AUC_macro_max\", \"stepped\": true, \"type\": \"scatter\", \"data\": [0.6550392343162107, 0.6550392343162107, 0.6550392343162107, 0.6550392343162107, 0.6550392343162107, 0.6550392343162107, 0.6550392343162107, 0.6550392343162107, 0.6550392343162107, 0.6550392343162107, 0.6550392343162107, 0.6550392343162107, 0.6550392343162107, 0.6550392343162107, 0.6550392343162107, 0.6550392343162107, 0.6550392343162107, 0.6550392343162107, 0.6550392343162107, 0.6550392343162107, 0.6550392343162107, 0.6581952218369085, 0.6581952218369085, 0.6581952218369085, 0.6581952218369085, 0.6581952218369085, 0.6581952218369085, 0.6581952218369085, 0.6581952218369085, 0.6581952218369085, 0.6581952218369085, 0.6581952218369085, 0.6652623088929722, 0.6652623088929722, 0.6652623088929722, 0.6652623088929722, 0.6652623088929722, 0.6652623088929722, 0.6652623088929722, 0.6652623088929722, 0.6652623088929722, 0.6652623088929722, 0.6652623088929722, 0.6652623088929722, 0.6652623088929722, 0.6652623088929722, 0.6652623088929722, 0.6652623088929722, 0.6652623088929722, 0.6701047968311723, 0.6701047968311723, 0.6810325214415679, 0.6810325214415679, 0.6810325214415679, 0.6810325214415679, 0.6810325214415679, 0.6810325214415679, 0.6810325214415679, 0.6810325214415679, 0.6810325214415679, 0.6810325214415679, 0.6810325214415679, 0.6810325214415679, 0.6810325214415679, 0.6810325214415679, 0.6810325214415679, 0.6810325214415679, 0.6810325214415679, 0.6810325214415679, 0.6810325214415679, 0.6810325214415679, 0.6810325214415679, 0.6810325214415679, 0.6810325214415679, 0.6810325214415679, 0.6810325214415679, 0.6810325214415679, 0.6890581737969351, 0.6890581737969351]}]}, \"metricName\": null, \"primaryMetricName\": \"AUC_weighted\", \"showLegend\": false}, \"run_metrics\": [{\"name\": \"experiment_status\", \"run_id\": \"AutoML_8e6a87a0-c720-4cd8-9e8d-c9e0bd592376\", \"categories\": [0, 1, 2, 3, 4, 5, 6, 7, 8, 9, 10, 11, 12, 13], \"series\": [{\"data\": [\"DatasetEvaluation\", \"FeaturesGeneration\", \"DatasetFeaturization\", \"DatasetFeaturizationCompleted\", \"DatasetCrossValidationSplit\", \"ModelSelection\", \"BestRunExplainModel\", \"ModelExplanationDataSetSetup\", \"PickSurrogateModel\", \"EngineeredFeatureExplanations\", \"EngineeredFeatureExplanations\", \"RawFeaturesExplanations\", \"RawFeaturesExplanations\", \"BestRunExplainModel\"]}]}, {\"name\": \"experiment_status_description\", \"run_id\": \"AutoML_8e6a87a0-c720-4cd8-9e8d-c9e0bd592376\", \"categories\": [0, 1, 2, 3, 4, 5, 6, 7, 8, 9, 10, 11, 12, 13], \"series\": [{\"data\": [\"Gathering dataset statistics.\", \"Generating features for the dataset.\", \"Beginning to fit featurizers and featurize the dataset.\", \"Completed fit featurizers and featurizing the dataset.\", \"Generating individually featurized CV splits.\", \"Beginning model selection.\", \"Best run model explanations started\", \"Model explanations data setup completed\", \"Choosing LightGBM as the surrogate model for explanations\", \"Computation of engineered features started\", \"Computation of engineered features completed\", \"Computation of raw features started\", \"Computation of raw features completed\", \"Best run model explanations completed\"]}]}, {\"name\": \"average_precision_score_macro\", \"run_id\": \"AutoML_8e6a87a0-c720-4cd8-9e8d-c9e0bd592376\", \"categories\": [0], \"series\": [{\"data\": [0.6868230587694045]}]}, {\"name\": \"f1_score_macro\", \"run_id\": \"AutoML_8e6a87a0-c720-4cd8-9e8d-c9e0bd592376\", \"categories\": [0], \"series\": [{\"data\": [0.5682760728347397]}]}, {\"name\": \"norm_macro_recall\", \"run_id\": \"AutoML_8e6a87a0-c720-4cd8-9e8d-c9e0bd592376\", \"categories\": [0], \"series\": [{\"data\": [0.18004700829351913]}]}, {\"name\": \"f1_score_micro\", \"run_id\": \"AutoML_8e6a87a0-c720-4cd8-9e8d-c9e0bd592376\", \"categories\": [0], \"series\": [{\"data\": [0.6648351648351648]}]}, {\"name\": \"precision_score_weighted\", \"run_id\": \"AutoML_8e6a87a0-c720-4cd8-9e8d-c9e0bd592376\", \"categories\": [0], \"series\": [{\"data\": [0.6804527087761839]}]}, {\"name\": \"average_precision_score_micro\", \"run_id\": \"AutoML_8e6a87a0-c720-4cd8-9e8d-c9e0bd592376\", \"categories\": [0], \"series\": [{\"data\": [0.7186873315301526]}]}, {\"name\": \"f1_score_weighted\", \"run_id\": \"AutoML_8e6a87a0-c720-4cd8-9e8d-c9e0bd592376\", \"categories\": [0], \"series\": [{\"data\": [0.6129717691197106]}]}, {\"name\": \"precision_score_micro\", \"run_id\": \"AutoML_8e6a87a0-c720-4cd8-9e8d-c9e0bd592376\", \"categories\": [0], \"series\": [{\"data\": [0.6648351648351648]}]}, {\"name\": \"recall_score_micro\", \"run_id\": \"AutoML_8e6a87a0-c720-4cd8-9e8d-c9e0bd592376\", \"categories\": [0], \"series\": [{\"data\": [0.6648351648351648]}]}, {\"name\": \"recall_score_macro\", \"run_id\": \"AutoML_8e6a87a0-c720-4cd8-9e8d-c9e0bd592376\", \"categories\": [0], \"series\": [{\"data\": [0.5900235041467595]}]}, {\"name\": \"balanced_accuracy\", \"run_id\": \"AutoML_8e6a87a0-c720-4cd8-9e8d-c9e0bd592376\", \"categories\": [0], \"series\": [{\"data\": [0.5900235041467595]}]}, {\"name\": \"recall_score_weighted\", \"run_id\": \"AutoML_8e6a87a0-c720-4cd8-9e8d-c9e0bd592376\", \"categories\": [0], \"series\": [{\"data\": [0.6648351648351648]}]}, {\"name\": \"accuracy\", \"run_id\": \"AutoML_8e6a87a0-c720-4cd8-9e8d-c9e0bd592376\", \"categories\": [0], \"series\": [{\"data\": [0.6648351648351648]}]}, {\"name\": \"average_precision_score_weighted\", \"run_id\": \"AutoML_8e6a87a0-c720-4cd8-9e8d-c9e0bd592376\", \"categories\": [0], \"series\": [{\"data\": [0.7037247615894424]}]}, {\"name\": \"AUC_weighted\", \"run_id\": \"AutoML_8e6a87a0-c720-4cd8-9e8d-c9e0bd592376\", \"categories\": [0], \"series\": [{\"data\": [0.6890581737969352]}]}, {\"name\": \"AUC_micro\", \"run_id\": \"AutoML_8e6a87a0-c720-4cd8-9e8d-c9e0bd592376\", \"categories\": [0], \"series\": [{\"data\": [0.7258695720234182]}]}, {\"name\": \"AUC_macro\", \"run_id\": \"AutoML_8e6a87a0-c720-4cd8-9e8d-c9e0bd592376\", \"categories\": [0], \"series\": [{\"data\": [0.6890581737969351]}]}, {\"name\": \"precision_score_macro\", \"run_id\": \"AutoML_8e6a87a0-c720-4cd8-9e8d-c9e0bd592376\", \"categories\": [0], \"series\": [{\"data\": [0.6854666946061787]}]}, {\"name\": \"log_loss\", \"run_id\": \"AutoML_8e6a87a0-c720-4cd8-9e8d-c9e0bd592376\", \"categories\": [0], \"series\": [{\"data\": [0.6156478008762359]}]}, {\"name\": \"matthews_correlation\", \"run_id\": \"AutoML_8e6a87a0-c720-4cd8-9e8d-c9e0bd592376\", \"categories\": [0], \"series\": [{\"data\": [0.25760761606977234]}]}, {\"name\": \"weighted_accuracy\", \"run_id\": \"AutoML_8e6a87a0-c720-4cd8-9e8d-c9e0bd592376\", \"categories\": [0], \"series\": [{\"data\": [0.7326948279816136]}]}], \"run_logs\": \"\\nRun is completed.\", \"graph\": {}, \"widget_settings\": {\"childWidgetDisplay\": \"popup\", \"send_telemetry\": false, \"log_level\": \"INFO\", \"sdk_version\": \"1.33.0\"}, \"loading\": false}"
     },
     "metadata": {},
     "output_type": "display_data"
    }
   ],
   "source": [
    "from azureml.widgets import RunDetails\n",
    "RunDetails(remote_run).show()"
   ]
  },
  {
   "cell_type": "markdown",
   "metadata": {},
   "source": [
    "## Best Model\n",
    "\n"
   ]
  },
  {
   "cell_type": "code",
   "execution_count": 9,
   "metadata": {
    "gather": {
     "logged": 1598431425670
    },
    "jupyter": {
     "outputs_hidden": false,
     "source_hidden": false
    },
    "nteract": {
     "transient": {
      "deleting": false
     }
    }
   },
   "outputs": [],
   "source": [
    "best_model_output, fitted_model = remote_run.get_output()"
   ]
  },
  {
   "cell_type": "code",
   "execution_count": 10,
   "metadata": {},
   "outputs": [
    {
     "data": {
      "text/html": [
       "<table style=\"width:100%\"><tr><th>Experiment</th><th>Id</th><th>Type</th><th>Status</th><th>Details Page</th><th>Docs Page</th></tr><tr><td>automl_h2o_potability</td><td>AutoML_8e6a87a0-c720-4cd8-9e8d-c9e0bd592376_80</td><td>azureml.scriptrun</td><td>Completed</td><td><a href=\"https://ml.azure.com/runs/AutoML_8e6a87a0-c720-4cd8-9e8d-c9e0bd592376_80?wsid=/subscriptions/1b944a9b-fdae-4f97-aeb1-b7eea0beac53/resourcegroups/aml-quickstarts-155676/workspaces/quick-starts-ws-155676&amp;tid=660b3398-b80e-49d2-bc5b-ac1dc93b5254\" target=\"_blank\" rel=\"noopener\">Link to Azure Machine Learning studio</a></td><td><a href=\"https://docs.microsoft.com/en-us/python/api/azureml-core/azureml.core.run.Run?view=azure-ml-py\" target=\"_blank\" rel=\"noopener\">Link to Documentation</a></td></tr></table>"
      ],
      "text/plain": [
       "Run(Experiment: automl_h2o_potability,\n",
       "Id: AutoML_8e6a87a0-c720-4cd8-9e8d-c9e0bd592376_80,\n",
       "Type: azureml.scriptrun,\n",
       "Status: Completed)"
      ]
     },
     "execution_count": 10,
     "metadata": {},
     "output_type": "execute_result"
    }
   ],
   "source": [
    "best_model_output"
   ]
  },
  {
   "cell_type": "code",
   "execution_count": 11,
   "metadata": {
    "scrolled": false
   },
   "outputs": [
    {
     "data": {
      "text/plain": [
       "[('datatransformer',\n",
       "  DataTransformer(\n",
       "      task='classification',\n",
       "      is_onnx_compatible=False,\n",
       "      enable_feature_sweeping=True,\n",
       "      enable_dnn=False,\n",
       "      force_text_dnn=False,\n",
       "      feature_sweeping_timeout=86400,\n",
       "      featurization_config=None,\n",
       "      is_cross_validation=True,\n",
       "      feature_sweeping_config={}\n",
       "  )),\n",
       " ('prefittedsoftvotingclassifier',\n",
       "  PreFittedSoftVotingClassifier(\n",
       "      estimators=[('51', Pipeline(\n",
       "          memory=None,\n",
       "          steps=[('robustscaler', RobustScaler(\n",
       "              copy=True,\n",
       "              quantile_range=[25, 75],\n",
       "              with_centering=False,\n",
       "              with_scaling=True\n",
       "          )), ('svcwrapper', SVCWrapper(\n",
       "              random_state=None,\n",
       "              C=494.1713361323828,\n",
       "              break_ties=False,\n",
       "              cache_size=200,\n",
       "              class_weight=None,\n",
       "              coef0=0.0,\n",
       "              decision_function_shape='ovr',\n",
       "              degree=3,\n",
       "              gamma='scale',\n",
       "              kernel='rbf',\n",
       "              max_iter=-1,\n",
       "              probability=True,\n",
       "              shrinking=True,\n",
       "              tol=0.001,\n",
       "              verbose=False\n",
       "          ))],\n",
       "          verbose=False\n",
       "      )), ('49', Pipeline(\n",
       "          memory=None,\n",
       "          steps=[('robustscaler', RobustScaler(\n",
       "              copy=True,\n",
       "              quantile_range=[10, 90],\n",
       "              with_centering=False,\n",
       "              with_scaling=True\n",
       "          )), ('svcwrapper', SVCWrapper(\n",
       "              random_state=None,\n",
       "              C=75.43120063354607,\n",
       "              break_ties=False,\n",
       "              cache_size=200,\n",
       "              class_weight='balanced',\n",
       "              coef0=0.0,\n",
       "              decision_function_shape='ovr',\n",
       "              degree=3,\n",
       "              gamma='scale',\n",
       "              kernel='rbf',\n",
       "              max_iter=-1,\n",
       "              probability=True,\n",
       "              shrinking=True,\n",
       "              tol=0.001,\n",
       "              verbose=False\n",
       "          ))],\n",
       "          verbose=False\n",
       "      )), ('32', Pipeline(\n",
       "          memory=None,\n",
       "          steps=[('robustscaler', RobustScaler(\n",
       "              copy=True,\n",
       "              quantile_range=[10, 90],\n",
       "              with_centering=False,\n",
       "              with_scaling=True\n",
       "          )), ('svcwrapper', SVCWrapper(\n",
       "              random_state=None,\n",
       "              C=1048.1131341546852,\n",
       "              break_ties=False,\n",
       "              cache_size=200,\n",
       "              class_weight='balanced',\n",
       "              coef0=0.0,\n",
       "              decision_function_shape='ovr',\n",
       "              degree=3,\n",
       "              gamma='scale',\n",
       "              kernel='rbf',\n",
       "              max_iter=-1,\n",
       "              probability=True,\n",
       "              shrinking=True,\n",
       "              tol=0.001,\n",
       "              verbose=False\n",
       "          ))],\n",
       "          verbose=False\n",
       "      )), ('34', Pipeline(\n",
       "          memory=None,\n",
       "          steps=[('standardscalerwrapper', StandardScalerWrapper(\n",
       "              copy=True,\n",
       "              with_mean=False,\n",
       "              with_std=True\n",
       "          )), ('svcwrapper', SVCWrapper(\n",
       "              random_state=None,\n",
       "              C=339.3221771895323,\n",
       "              break_ties=False,\n",
       "              cache_size=200,\n",
       "              class_weight='balanced',\n",
       "              coef0=0.0,\n",
       "              decision_function_shape='ovr',\n",
       "              degree=3,\n",
       "              gamma='scale',\n",
       "              kernel='rbf',\n",
       "              max_iter=-1,\n",
       "              probability=True,\n",
       "              shrinking=True,\n",
       "              tol=0.001,\n",
       "              verbose=False\n",
       "          ))],\n",
       "          verbose=False\n",
       "      )), ('53', Pipeline(\n",
       "          memory=None,\n",
       "          steps=[('standardscalerwrapper', StandardScalerWrapper(\n",
       "              copy=True,\n",
       "              with_mean=False,\n",
       "              with_std=False\n",
       "          )), ('xgboostclassifier', XGBoostClassifier(\n",
       "              random_state=0,\n",
       "              n_jobs=1,\n",
       "              problem_info=ProblemInfo(\n",
       "                  gpu_training_param_dict={'processing_unit_type': 'cpu'}\n",
       "              ),\n",
       "              booster='gbtree',\n",
       "              colsample_bytree=1,\n",
       "              eta=0.1,\n",
       "              gamma=0,\n",
       "              grow_policy='lossguide',\n",
       "              max_bin=63,\n",
       "              max_depth=6,\n",
       "              max_leaves=0,\n",
       "              n_estimators=100,\n",
       "              objective='reg:logistic',\n",
       "              reg_alpha=0,\n",
       "              reg_lambda=2.3958333333333335,\n",
       "              subsample=0.8,\n",
       "              tree_method='hist'\n",
       "          ))],\n",
       "          verbose=False\n",
       "      )), ('69', Pipeline(\n",
       "          memory=None,\n",
       "          steps=[('standardscalerwrapper', StandardScalerWrapper(\n",
       "              copy=True,\n",
       "              with_mean=False,\n",
       "              with_std=False\n",
       "          )), ('xgboostclassifier', XGBoostClassifier(\n",
       "              random_state=0,\n",
       "              n_jobs=1,\n",
       "              problem_info=ProblemInfo(\n",
       "                  gpu_training_param_dict={'processing_unit_type': 'cpu'}\n",
       "              ),\n",
       "              booster='gbtree',\n",
       "              colsample_bytree=1,\n",
       "              eta=0.05,\n",
       "              gamma=0,\n",
       "              max_depth=6,\n",
       "              max_leaves=0,\n",
       "              n_estimators=25,\n",
       "              objective='reg:logistic',\n",
       "              reg_alpha=0.9375,\n",
       "              reg_lambda=1.875,\n",
       "              subsample=0.6,\n",
       "              tree_method='auto'\n",
       "          ))],\n",
       "          verbose=False\n",
       "      )), ('11', Pipeline(\n",
       "          memory=None,\n",
       "          steps=[('standardscalerwrapper', StandardScalerWrapper(\n",
       "              copy=True,\n",
       "              with_mean=True,\n",
       "              with_std=True\n",
       "          )), ('svcwrapper', SVCWrapper(\n",
       "              random_state=None,\n",
       "              C=2222.996482526191,\n",
       "              break_ties=False,\n",
       "              cache_size=200,\n",
       "              class_weight='balanced',\n",
       "              coef0=0.0,\n",
       "              decision_function_shape='ovr',\n",
       "              degree=3,\n",
       "              gamma='scale',\n",
       "              kernel='rbf',\n",
       "              max_iter=-1,\n",
       "              probability=True,\n",
       "              shrinking=True,\n",
       "              tol=0.001,\n",
       "              verbose=False\n",
       "          ))],\n",
       "          verbose=False\n",
       "      )), ('25', Pipeline(\n",
       "          memory=None,\n",
       "          steps=[('standardscalerwrapper', StandardScalerWrapper(\n",
       "              copy=True,\n",
       "              with_mean=False,\n",
       "              with_std=False\n",
       "          )), ('xgboostclassifier', XGBoostClassifier(\n",
       "              random_state=0,\n",
       "              n_jobs=1,\n",
       "              problem_info=ProblemInfo(\n",
       "                  gpu_training_param_dict={'processing_unit_type': 'cpu'}\n",
       "              ),\n",
       "              booster='gbtree',\n",
       "              colsample_bytree=1,\n",
       "              eta=0.3,\n",
       "              gamma=0,\n",
       "              max_depth=8,\n",
       "              max_leaves=255,\n",
       "              n_estimators=10,\n",
       "              objective='reg:logistic',\n",
       "              reg_alpha=0.8333333333333334,\n",
       "              reg_lambda=1.9791666666666667,\n",
       "              subsample=0.8,\n",
       "              tree_method='auto'\n",
       "          ))],\n",
       "          verbose=False\n",
       "      )), ('27', Pipeline(\n",
       "          memory=None,\n",
       "          steps=[('standardscalerwrapper', StandardScalerWrapper(\n",
       "              copy=True,\n",
       "              with_mean=False,\n",
       "              with_std=False\n",
       "          )), ('xgboostclassifier', XGBoostClassifier(\n",
       "              random_state=0,\n",
       "              n_jobs=1,\n",
       "              problem_info=ProblemInfo(\n",
       "                  gpu_training_param_dict={'processing_unit_type': 'cpu'}\n",
       "              ),\n",
       "              booster='gbtree',\n",
       "              colsample_bytree=1,\n",
       "              eta=0.2,\n",
       "              gamma=0,\n",
       "              max_depth=8,\n",
       "              max_leaves=127,\n",
       "              n_estimators=10,\n",
       "              objective='reg:logistic',\n",
       "              reg_alpha=0,\n",
       "              reg_lambda=1.5625,\n",
       "              subsample=0.6,\n",
       "              tree_method='auto'\n",
       "          ))],\n",
       "          verbose=False\n",
       "      ))],\n",
       "      weights=[0.3333333333333333, 0.06666666666666667, 0.06666666666666667, 0.06666666666666667, 0.06666666666666667, 0.06666666666666667, 0.13333333333333333, 0.13333333333333333, 0.06666666666666667],\n",
       "      flatten_transform=None,\n",
       "      classification_labels=array([0, 1])\n",
       "  ))]"
      ]
     },
     "execution_count": 11,
     "metadata": {},
     "output_type": "execute_result"
    }
   ],
   "source": [
    "fitted_model.steps"
   ]
  },
  {
   "cell_type": "code",
   "execution_count": 12,
   "metadata": {
    "gather": {
     "logged": 1598431426111
    },
    "jupyter": {
     "outputs_hidden": false,
     "source_hidden": false
    },
    "nteract": {
     "transient": {
      "deleting": false
     }
    }
   },
   "outputs": [
    {
     "data": {
      "text/plain": [
       "sklearn.pipeline.Pipeline"
      ]
     },
     "execution_count": 12,
     "metadata": {},
     "output_type": "execute_result"
    }
   ],
   "source": [
    "type(fitted_model)"
   ]
  },
  {
   "cell_type": "code",
   "execution_count": 13,
   "metadata": {},
   "outputs": [],
   "source": [
    "import pickle\n",
    "\n",
    "with open(\"automl_best_model.pkl\", \"wb\") as f:\n",
    "    pickle.dump(fitted_model, f)"
   ]
  },
  {
   "cell_type": "markdown",
   "metadata": {},
   "source": [
    "## Model Deployment\n",
    "\n",
    "Since the AutoML model had a higher AUC_weighted metric when compared to the HyperDrive model, I will deploy it as a web service."
   ]
  },
  {
   "cell_type": "markdown",
   "metadata": {},
   "source": [
    "#### This cell will register the model in the AzureML workspace"
   ]
  },
  {
   "cell_type": "code",
   "execution_count": 14,
   "metadata": {
    "gather": {
     "logged": 1598431435189
    },
    "jupyter": {
     "outputs_hidden": false,
     "source_hidden": false
    },
    "nteract": {
     "transient": {
      "deleting": false
     }
    }
   },
   "outputs": [
    {
     "name": "stdout",
     "output_type": "stream",
     "text": [
      "Registering model water_potability_prediction\n"
     ]
    }
   ],
   "source": [
    "from azureml.core.model import Model\n",
    "\n",
    "model = Model.register(model_path=\"automl_best_model.pkl\",\n",
    "                       model_name=\"water_potability_prediction\",\n",
    "                       tags={\"data\": \"water potatibility kaggle\", \"model\": \"classification\"},\n",
    "                       description=\"Classification AutoML model to predict water potability\",\n",
    "                       workspace=ws)"
   ]
  },
  {
   "cell_type": "markdown",
   "metadata": {},
   "source": [
    "#### The following cells will get a reference to the AutoML environment that was used to train the best performing model"
   ]
  },
  {
   "cell_type": "code",
   "execution_count": 15,
   "metadata": {},
   "outputs": [],
   "source": [
    "environment = remote_run.get_best_child().get_environment()"
   ]
  },
  {
   "cell_type": "code",
   "execution_count": 16,
   "metadata": {},
   "outputs": [
    {
     "data": {
      "text/plain": [
       "{\n",
       "    \"databricks\": {\n",
       "        \"eggLibraries\": [],\n",
       "        \"jarLibraries\": [],\n",
       "        \"mavenLibraries\": [],\n",
       "        \"pypiLibraries\": [],\n",
       "        \"rcranLibraries\": []\n",
       "    },\n",
       "    \"docker\": {\n",
       "        \"arguments\": [],\n",
       "        \"baseDockerfile\": null,\n",
       "        \"baseImage\": \"mcr.microsoft.com/azureml/openmpi3.1.2-ubuntu18.04:20210727.v1\",\n",
       "        \"baseImageRegistry\": {\n",
       "            \"address\": null,\n",
       "            \"password\": null,\n",
       "            \"registryIdentity\": null,\n",
       "            \"username\": null\n",
       "        },\n",
       "        \"enabled\": true,\n",
       "        \"platform\": {\n",
       "            \"architecture\": \"amd64\",\n",
       "            \"os\": \"Linux\"\n",
       "        },\n",
       "        \"sharedVolumes\": true,\n",
       "        \"shmSize\": null\n",
       "    },\n",
       "    \"environmentVariables\": {\n",
       "        \"EXAMPLE_ENV_VAR\": \"EXAMPLE_VALUE\"\n",
       "    },\n",
       "    \"inferencingStackVersion\": null,\n",
       "    \"name\": \"AzureML-AutoML\",\n",
       "    \"python\": {\n",
       "        \"baseCondaEnvironment\": null,\n",
       "        \"condaDependencies\": {\n",
       "            \"channels\": [\n",
       "                \"anaconda\",\n",
       "                \"conda-forge\",\n",
       "                \"pytorch\"\n",
       "            ],\n",
       "            \"dependencies\": [\n",
       "                \"python=3.6.2\",\n",
       "                \"pip=21.1.2\",\n",
       "                {\n",
       "                    \"pip\": [\n",
       "                        \"azureml-core==1.33.0\",\n",
       "                        \"azureml-pipeline-core==1.33.0\",\n",
       "                        \"azureml-telemetry==1.33.0\",\n",
       "                        \"azureml-defaults==1.33.0\",\n",
       "                        \"azureml-interpret==1.33.0\",\n",
       "                        \"azureml-responsibleai==1.33.0\",\n",
       "                        \"azureml-automl-core==1.33.0\",\n",
       "                        \"azureml-automl-runtime==1.33.0\",\n",
       "                        \"azureml-train-automl-client==1.33.0\",\n",
       "                        \"azureml-train-automl-runtime==1.33.0\",\n",
       "                        \"azureml-dataset-runtime==1.33.0\",\n",
       "                        \"azureml-mlflow==1.33.0\",\n",
       "                        \"inference-schema\",\n",
       "                        \"py-cpuinfo==5.0.0\",\n",
       "                        \"boto3==1.15.18\",\n",
       "                        \"botocore==1.18.18\"\n",
       "                    ]\n",
       "                },\n",
       "                \"numpy~=1.18.0\",\n",
       "                \"scikit-learn==0.22.1\",\n",
       "                \"pandas~=0.25.0\",\n",
       "                \"py-xgboost<=0.90\",\n",
       "                \"fbprophet==0.5\",\n",
       "                \"holidays==0.9.11\",\n",
       "                \"setuptools-git\",\n",
       "                \"psutil>5.0.0,<6.0.0\"\n",
       "            ],\n",
       "            \"name\": \"azureml_3489174eb648a475780c9959ff366072\"\n",
       "        },\n",
       "        \"condaDependenciesFile\": null,\n",
       "        \"interpreterPath\": \"python\",\n",
       "        \"userManagedDependencies\": false\n",
       "    },\n",
       "    \"r\": null,\n",
       "    \"spark\": {\n",
       "        \"packages\": [],\n",
       "        \"precachePackages\": true,\n",
       "        \"repositories\": []\n",
       "    },\n",
       "    \"version\": \"78\"\n",
       "}"
      ]
     },
     "execution_count": 16,
     "metadata": {},
     "output_type": "execute_result"
    }
   ],
   "source": [
    "environment"
   ]
  },
  {
   "cell_type": "code",
   "execution_count": 17,
   "metadata": {},
   "outputs": [],
   "source": [
    "environment.save_to_directory(\"automl_environment\", overwrite=True)"
   ]
  },
  {
   "cell_type": "markdown",
   "metadata": {},
   "source": [
    "#### The following cells will prepare the scoring script, the container instance and the inference configuration, which are then used to deploy the model as a web service"
   ]
  },
  {
   "cell_type": "code",
   "execution_count": 18,
   "metadata": {},
   "outputs": [
    {
     "name": "stdout",
     "output_type": "stream",
     "text": [
      "Writing score.py\n"
     ]
    }
   ],
   "source": [
    "%%writefile score.py\n",
    "import json\n",
    "import numpy as np\n",
    "import pandas as pd\n",
    "import os\n",
    "import pickle\n",
    "import joblib\n",
    "\n",
    "def init():\n",
    "    global model\n",
    "    model_path = os.path.join(os.getenv('AZUREML_MODEL_DIR'), 'automl_best_model.pkl')\n",
    "    model = joblib.load(model_path)\n",
    "\n",
    "def run(raw_data):\n",
    "    data = pd.DataFrame.from_dict(json.loads(raw_data)['data'])\n",
    "    # make prediction\n",
    "    y_hat = model.predict(data)\n",
    "    return y_hat.tolist()"
   ]
  },
  {
   "cell_type": "code",
   "execution_count": 19,
   "metadata": {},
   "outputs": [],
   "source": [
    "from azureml.core.webservice import AciWebservice\n",
    "\n",
    "aciconfig = AciWebservice.deploy_configuration(cpu_cores=1, \n",
    "                                               memory_gb=1, \n",
    "                                               tags={\"data\": \"water potatibility kaggle\",  \"method\" : \"sklearn\"}, \n",
    "                                               description='Predict water potability')"
   ]
  },
  {
   "cell_type": "code",
   "execution_count": 20,
   "metadata": {},
   "outputs": [
    {
     "name": "stdout",
     "output_type": "stream",
     "text": [
      "Tips: You can try get_logs(): https://aka.ms/debugimage#dockerlog or local deployment: https://aka.ms/debugimage#debug-locally to debug if deployment takes longer than 10 minutes.\n",
      "Running\n",
      "2021-08-24 22:38:00+00:00 Creating Container Registry if not exists..\n",
      "2021-08-24 22:48:01+00:00 Registering the environment.\n",
      "2021-08-24 22:48:01+00:00 Use the existing image.\n",
      "2021-08-24 22:48:01+00:00 Generating deployment configuration.\n",
      "2021-08-24 22:48:02+00:00 Submitting deployment to compute..\n",
      "2021-08-24 22:48:06+00:00 Checking the status of deployment water-potability-svc-6e38..\n",
      "2021-08-24 22:52:47+00:00 Checking the status of inference endpoint water-potability-svc-6e38.\n",
      "Succeeded\n",
      "ACI service creation operation finished, operation \"Succeeded\"\n",
      "CPU times: user 19.1 s, sys: 768 ms, total: 19.8 s\n",
      "Wall time: 14min 58s\n"
     ]
    }
   ],
   "source": [
    "%%time\n",
    "import uuid\n",
    "from azureml.core.webservice import Webservice\n",
    "from azureml.core.model import InferenceConfig\n",
    "from azureml.core.environment import Environment\n",
    "from azureml.core import Workspace\n",
    "from azureml.core.model import Model\n",
    "\n",
    "model = Model(ws, 'water_potability_prediction')\n",
    "\n",
    "inference_config = InferenceConfig(entry_script=\"score.py\", environment=environment)\n",
    "\n",
    "service_name = 'water-potability-svc-' + str(uuid.uuid4())[:4]\n",
    "service = Model.deploy(workspace=ws, \n",
    "                       name=service_name, \n",
    "                       models=[model], \n",
    "                       inference_config=inference_config, \n",
    "                       deployment_config=aciconfig)\n",
    "\n",
    "service.wait_for_deployment(show_output=True)"
   ]
  },
  {
   "cell_type": "markdown",
   "metadata": {},
   "source": [
    "#### The following cell will enable Azure Application Insights"
   ]
  },
  {
   "cell_type": "code",
   "execution_count": 21,
   "metadata": {},
   "outputs": [],
   "source": [
    "service.update(enable_app_insights=True)"
   ]
  },
  {
   "cell_type": "markdown",
   "metadata": {},
   "source": [
    "#### The following cells will call the web service passing 10 sample records from the dataframe loaded at the beginning of this notebook (which was also used to train the model)"
   ]
  },
  {
   "cell_type": "code",
   "execution_count": 22,
   "metadata": {},
   "outputs": [],
   "source": [
    "import json\n",
    "X_test = df.sample(10)\n",
    "y_test = X_test.pop(\"Potability\")\n",
    "data = json.dumps({\"data\": X_test.to_dict(orient=\"records\")})"
   ]
  },
  {
   "cell_type": "code",
   "execution_count": 23,
   "metadata": {},
   "outputs": [
    {
     "data": {
      "text/plain": [
       "[{'ph': 7.264069096752565,\n",
       "  'Hardness': 216.62239216240556,\n",
       "  'Solids': 19412.11272261369,\n",
       "  'Chloramines': 6.93245793887396,\n",
       "  'Sulfate': nan,\n",
       "  'Conductivity': 301.95355082979233,\n",
       "  'Organic_carbon': 19.210990803311574,\n",
       "  'Trihalomethanes': 67.71258467249298,\n",
       "  'Turbidity': 3.9602821137582938},\n",
       " {'ph': 5.5419790193089264,\n",
       "  'Hardness': 185.67187362857936,\n",
       "  'Solids': 20143.06526175514,\n",
       "  'Chloramines': 10.236175974570024,\n",
       "  'Sulfate': 209.47105843525284,\n",
       "  'Conductivity': 517.9357855247945,\n",
       "  'Organic_carbon': 18.46401541280278,\n",
       "  'Trihalomethanes': 49.37131866346893,\n",
       "  'Turbidity': 3.6729759831771327},\n",
       " {'ph': 6.511618075241813,\n",
       "  'Hardness': 181.87342172896433,\n",
       "  'Solids': 29136.814623869737,\n",
       "  'Chloramines': 7.685775096243834,\n",
       "  'Sulfate': 345.75163845059745,\n",
       "  'Conductivity': 475.3413506694927,\n",
       "  'Organic_carbon': 12.321232157466568,\n",
       "  'Trihalomethanes': 52.43761714005619,\n",
       "  'Turbidity': 4.850433707754168},\n",
       " {'ph': 8.35761299314161,\n",
       "  'Hardness': 163.09825445217052,\n",
       "  'Solids': 34989.04708052216,\n",
       "  'Chloramines': 7.696942683440743,\n",
       "  'Sulfate': 317.30168011128416,\n",
       "  'Conductivity': 404.4926142301905,\n",
       "  'Organic_carbon': 8.271881619595717,\n",
       "  'Trihalomethanes': 67.59815754327194,\n",
       "  'Turbidity': 4.366242227773332},\n",
       " {'ph': 5.76255224970805,\n",
       "  'Hardness': 184.84748729413263,\n",
       "  'Solids': 22159.018072587096,\n",
       "  'Chloramines': 6.302263824957409,\n",
       "  'Sulfate': 347.77515378334857,\n",
       "  'Conductivity': 449.4353758592738,\n",
       "  'Organic_carbon': 12.950544578400695,\n",
       "  'Trihalomethanes': 65.83974179326923,\n",
       "  'Turbidity': 2.9065892123963133},\n",
       " {'ph': 6.862936025532809,\n",
       "  'Hardness': 220.14788910657273,\n",
       "  'Solids': 23580.657290482413,\n",
       "  'Chloramines': 6.61154340305096,\n",
       "  'Sulfate': 285.19218096134716,\n",
       "  'Conductivity': 325.72174702513456,\n",
       "  'Organic_carbon': 13.472757758478451,\n",
       "  'Trihalomethanes': 89.41293484461882,\n",
       "  'Turbidity': 3.8060932559249823},\n",
       " {'ph': nan,\n",
       "  'Hardness': 196.4320066745759,\n",
       "  'Solids': 18128.90829119972,\n",
       "  'Chloramines': 8.008076903196557,\n",
       "  'Sulfate': 323.5521380288736,\n",
       "  'Conductivity': 313.3618702572539,\n",
       "  'Organic_carbon': 18.600727893564454,\n",
       "  'Trihalomethanes': 67.96437640800943,\n",
       "  'Turbidity': 3.5020815041262328},\n",
       " {'ph': 6.080992868571669,\n",
       "  'Hardness': 182.41399195845972,\n",
       "  'Solids': 31321.0824263096,\n",
       "  'Chloramines': 7.624238583045931,\n",
       "  'Sulfate': 318.72275070403447,\n",
       "  'Conductivity': 498.4540986722841,\n",
       "  'Organic_carbon': 11.39800689864876,\n",
       "  'Trihalomethanes': 81.28838220726162,\n",
       "  'Turbidity': 2.091786839914147},\n",
       " {'ph': 8.594217251084952,\n",
       "  'Hardness': 228.16090067796205,\n",
       "  'Solids': 29706.234224271426,\n",
       "  'Chloramines': 5.924459987446995,\n",
       "  'Sulfate': 257.14865038869357,\n",
       "  'Conductivity': 517.8446739686019,\n",
       "  'Organic_carbon': 15.963751897871418,\n",
       "  'Trihalomethanes': 52.950023271552226,\n",
       "  'Turbidity': 4.48954479397793},\n",
       " {'ph': 6.728004385653386,\n",
       "  'Hardness': 201.12689562562372,\n",
       "  'Solids': 22888.788064695444,\n",
       "  'Chloramines': 7.663987986322337,\n",
       "  'Sulfate': 319.46349086183164,\n",
       "  'Conductivity': 325.5375394237454,\n",
       "  'Organic_carbon': 16.788306066307086,\n",
       "  'Trihalomethanes': 58.96122018291547,\n",
       "  'Turbidity': 4.410697353226663}]"
      ]
     },
     "execution_count": 23,
     "metadata": {},
     "output_type": "execute_result"
    }
   ],
   "source": [
    "json.loads(data)['data']"
   ]
  },
  {
   "cell_type": "code",
   "execution_count": 24,
   "metadata": {},
   "outputs": [
    {
     "data": {
      "text/plain": [
       "'http://7f27e047-79eb-428d-8697-2ab6ccb36ec6.southcentralus.azurecontainer.io/score'"
      ]
     },
     "execution_count": 24,
     "metadata": {},
     "output_type": "execute_result"
    }
   ],
   "source": [
    "rest_endpoint = service.scoring_uri\n",
    "rest_endpoint"
   ]
  },
  {
   "cell_type": "code",
   "execution_count": 25,
   "metadata": {},
   "outputs": [],
   "source": [
    "import requests\n",
    "\n",
    "response = requests.post(rest_endpoint, \n",
    "                         data=data\n",
    "                        )"
   ]
  },
  {
   "cell_type": "code",
   "execution_count": 26,
   "metadata": {},
   "outputs": [],
   "source": [
    "try:\n",
    "    response.raise_for_status()\n",
    "except Exception:    \n",
    "    raise Exception(\"Received bad response from the endpoint: {}\\n\"\n",
    "                    \"Response Code: {}\\n\"\n",
    "                    \"Headers: {}\\n\"\n",
    "                    \"Content: {}\".format(rest_endpoint, response.status_code, response.headers, response.content))"
   ]
  },
  {
   "cell_type": "code",
   "execution_count": 27,
   "metadata": {},
   "outputs": [
    {
     "data": {
      "text/plain": [
       "[0, 1, 0, 1, 0, 0, 0, 0, 1, 0]"
      ]
     },
     "execution_count": 27,
     "metadata": {},
     "output_type": "execute_result"
    }
   ],
   "source": [
    "response.json()"
   ]
  },
  {
   "cell_type": "code",
   "execution_count": 28,
   "metadata": {},
   "outputs": [
    {
     "data": {
      "text/plain": [
       "1997    1\n",
       "385     1\n",
       "181     0\n",
       "3139    1\n",
       "1386    0\n",
       "2488    0\n",
       "1253    0\n",
       "2842    1\n",
       "2832    1\n",
       "445     0\n",
       "Name: Potability, dtype: int64"
      ]
     },
     "execution_count": 28,
     "metadata": {},
     "output_type": "execute_result"
    }
   ],
   "source": [
    "y_test"
   ]
  },
  {
   "cell_type": "markdown",
   "metadata": {},
   "source": [
    "#### The following cell will retrieve and display the logs from the web service"
   ]
  },
  {
   "cell_type": "code",
   "execution_count": 29,
   "metadata": {},
   "outputs": [
    {
     "name": "stdout",
     "output_type": "stream",
     "text": [
      "2021-08-24T23:07:15,489184700+00:00 - iot-server/run \n",
      "2021-08-24T23:07:15,495402500+00:00 - gunicorn/run \n",
      "Dynamic Python package installation is disabled.\n",
      "Starting HTTP server\n",
      "2021-08-24T23:07:15,499393300+00:00 - rsyslog/run \n",
      "2021-08-24T23:07:15,535897200+00:00 - nginx/run \n",
      "rsyslogd: /azureml-envs/azureml_3489174eb648a475780c9959ff366072/lib/libuuid.so.1: no version information available (required by rsyslogd)\n",
      "EdgeHubConnectionString and IOTEDGE_IOTHUBHOSTNAME are not set. Exiting...\n",
      "2021-08-24T23:07:15,955117200+00:00 - iot-server/finish 1 0\n",
      "2021-08-24T23:07:15,966838400+00:00 - Exit code 1 is normal. Not restarting iot-server.\n",
      "Starting gunicorn 20.1.0\n",
      "Listening at: http://127.0.0.1:31311 (64)\n",
      "Using worker: sync\n",
      "worker timeout is set to 300\n",
      "Booting worker with pid: 91\n",
      "SPARK_HOME not set. Skipping PySpark Initialization.\n",
      "Generating new fontManager, this may take some time...\n",
      "Initializing logger\n",
      "2021-08-24 23:07:18,642 | root | INFO | Starting up app insights client\n",
      "logging socket was found. logging is available.\n",
      "logging socket was found. logging is available.\n",
      "2021-08-24 23:07:18,643 | root | INFO | Starting up request id generator\n",
      "2021-08-24 23:07:18,647 | root | INFO | Starting up app insight hooks\n",
      "2021-08-24 23:07:18,647 | root | INFO | Invoking user's init function\n",
      "2021-08-24 23:07:23,789 | azureml.core | WARNING | Failure while loading azureml_run_type_providers. Failed to load entrypoint automl = azureml.train.automl.run:AutoMLRun._from_run_dto with exception cannot import name 'RunType'.\n",
      "Failure while loading azureml_run_type_providers. Failed to load entrypoint automl = azureml.train.automl.run:AutoMLRun._from_run_dto with exception cannot import name 'RunType'.\n",
      "2021-08-24 23:07:25,191 | root | INFO | Users's init has completed successfully\n",
      "2021-08-24 23:07:25,198 | root | INFO | Skipping middleware: dbg_model_info as it's not enabled.\n",
      "2021-08-24 23:07:25,198 | root | INFO | Skipping middleware: dbg_resource_usage as it's not enabled.\n",
      "2021-08-24 23:07:25,200 | root | INFO | Scoring timeout is found from os.environ: 60000 ms\n",
      "2021-08-24 23:07:51,013 | root | INFO | Swagger file not present\n",
      "2021-08-24 23:07:51,013 | root | INFO | 404\n",
      "127.0.0.1 - - [24/Aug/2021:23:07:51 +0000] \"GET /swagger.json HTTP/1.0\" 404 19 \"-\" \"Go-http-client/1.1\"\n",
      "2021-08-24 23:21:45,391 | root | INFO | Swagger file not present\n",
      "2021-08-24 23:21:45,392 | root | INFO | 404\n",
      "127.0.0.1 - - [24/Aug/2021:23:21:45 +0000] \"GET /swagger.json HTTP/1.0\" 404 19 \"-\" \"Go-http-client/1.1\"\n",
      "2021-08-24 23:23:14,532 | root | INFO | Scoring Timer is set to 60.0 seconds\n",
      "2021-08-24 23:23:14,652 | root | INFO | 200\n",
      "127.0.0.1 - - [24/Aug/2021:23:23:14 +0000] \"POST /score HTTP/1.0\" 200 30 \"-\" \"python-requests/2.26.0\"\n",
      "\n"
     ]
    }
   ],
   "source": [
    "logs = service.get_logs()\n",
    "\n",
    "for line in logs.split('\\n'):\n",
    "    print(line)"
   ]
  },
  {
   "cell_type": "code",
   "execution_count": 30,
   "metadata": {
    "jupyter": {
     "outputs_hidden": false,
     "source_hidden": false
    },
    "nteract": {
     "transient": {
      "deleting": false
     }
    }
   },
   "outputs": [],
   "source": [
    "service.delete()"
   ]
  },
  {
   "cell_type": "code",
   "execution_count": null,
   "metadata": {},
   "outputs": [],
   "source": []
  }
 ],
 "metadata": {
  "kernel_info": {
   "name": "python3-azureml"
  },
  "kernelspec": {
   "display_name": "Python 3",
   "language": "python",
   "name": "python3"
  },
  "language_info": {
   "codemirror_mode": {
    "name": "ipython",
    "version": 3
   },
   "file_extension": ".py",
   "mimetype": "text/x-python",
   "name": "python",
   "nbconvert_exporter": "python",
   "pygments_lexer": "ipython3",
   "version": "3.6.9"
  },
  "nteract": {
   "version": "nteract-front-end@1.0.0"
  }
 },
 "nbformat": 4,
 "nbformat_minor": 2
}
